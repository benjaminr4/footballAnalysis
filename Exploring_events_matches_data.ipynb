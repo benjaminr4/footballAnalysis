{
 "cells": [
  {
   "cell_type": "code",
   "execution_count": 30,
   "id": "4259cfea-f41c-4d5f-a3d6-3d0d0780c484",
   "metadata": {},
   "outputs": [],
   "source": [
    "import numpy as np\n",
    "import pandas as pd\n",
    "import matplotlib.pyplot as plt\n",
    "import seaborn as sns\n",
    "import plotly.express as px\n",
    "from scipy.stats import linregress\n",
    "import ast\n"
   ]
  },
  {
   "cell_type": "code",
   "execution_count": 31,
   "id": "13fb2444-161f-4db4-b58c-7180509c2aa6",
   "metadata": {},
   "outputs": [],
   "source": [
    "#eventid2name.csv\n",
    "#events_England.csv\n",
    "#matches_England.csv \n",
    "#tags2name.csv"
   ]
  },
  {
   "cell_type": "code",
   "execution_count": 32,
   "id": "bea81b4d-a7b4-4195-994c-700fb773e4f5",
   "metadata": {},
   "outputs": [],
   "source": [
    "events = pd.read_csv('data/events_England.csv')"
   ]
  },
  {
   "cell_type": "markdown",
   "id": "f7ae1315-cdfa-48b1-8252-b89319fe57f4",
   "metadata": {},
   "source": [
    "## About this file\n",
    "\n",
    "This dataset describes all the events that occur during each match. Each event refers to a ball touch and contains the following information:\n",
    "\n",
    "- **eventId**: the identifier of the event's type. Each eventId is associated with an event name.\n",
    "- **eventName**: the name of the event's type (pass, foul, shot, duel, free kick, offside, or touch).\n",
    "- **subEventId**: the identifier of the subevent's type.\n",
    "- **subEventName**: the name of the subevent's type, associated with different event types.\n",
    "- **tags**: a list of event tags providing additional information about the event (e.g., accurate).\n",
    "- **eventSec**: the time the event occurs (in seconds since the beginning of the current half).\n",
    "- **id**: a unique identifier of the event.\n",
    "- **matchId**: the identifier of the match, linked to \"wyId\" in the match dataset.\n",
    "- **matchPeriod**: the period of the match (\"1H\", \"2H\", \"E1\", \"E2\", or \"P\").\n",
    "- **playerId**: the identifier of the player who generated the event, linked to \"wyId\" in a player dataset.\n",
    "- **positions**: the origin and destination positions associated with the event as (x, y) coordinates.\n",
    "- **teamId**: the identifier of the player's team, linked to \"wyId\" in the team dataset.\n",
    "- **tagsList**: same information as the tags column, except in list format.\n",
    "- **pos_orig_x**: from the positions column, origin in x-axis.\n",
    "- **pos_orig_y**: from the positions column, origin in y-axis.\n",
    "- **pos_dest_x**: from the positions column, destination in x-axis.\n",
    "- **pos_dest_y**: from the positions column, destination in y-axis.\n"
   ]
  },
  {
   "cell_type": "code",
   "execution_count": 33,
   "id": "21e5b2b9-ace5-4547-b3ff-ab298bddc516",
   "metadata": {},
   "outputs": [
    {
     "data": {
      "text/plain": [
       "643090"
      ]
     },
     "execution_count": 33,
     "metadata": {},
     "output_type": "execute_result"
    }
   ],
   "source": [
    "len(events)"
   ]
  },
  {
   "cell_type": "code",
   "execution_count": 34,
   "id": "6cfbfc9b-8b09-41b8-9f99-e92ae49fdbe1",
   "metadata": {},
   "outputs": [
    {
     "data": {
      "text/html": [
       "<div>\n",
       "<style scoped>\n",
       "    .dataframe tbody tr th:only-of-type {\n",
       "        vertical-align: middle;\n",
       "    }\n",
       "\n",
       "    .dataframe tbody tr th {\n",
       "        vertical-align: top;\n",
       "    }\n",
       "\n",
       "    .dataframe thead th {\n",
       "        text-align: right;\n",
       "    }\n",
       "</style>\n",
       "<table border=\"1\" class=\"dataframe\">\n",
       "  <thead>\n",
       "    <tr style=\"text-align: right;\">\n",
       "      <th></th>\n",
       "      <th>eventId</th>\n",
       "      <th>subEventName</th>\n",
       "      <th>tags</th>\n",
       "      <th>playerId</th>\n",
       "      <th>positions</th>\n",
       "      <th>matchId</th>\n",
       "      <th>eventName</th>\n",
       "      <th>teamId</th>\n",
       "      <th>matchPeriod</th>\n",
       "      <th>eventSec</th>\n",
       "      <th>subEventId</th>\n",
       "      <th>id</th>\n",
       "      <th>tagsList</th>\n",
       "      <th>pos_orig_y</th>\n",
       "      <th>pos_orig_x</th>\n",
       "      <th>pos_dest_y</th>\n",
       "      <th>pos_dest_x</th>\n",
       "    </tr>\n",
       "  </thead>\n",
       "  <tbody>\n",
       "    <tr>\n",
       "      <th>0</th>\n",
       "      <td>8</td>\n",
       "      <td>Simple pass</td>\n",
       "      <td>[{'id': 1801}]</td>\n",
       "      <td>25413</td>\n",
       "      <td>[{'y': 49, 'x': 49}, {'y': 78, 'x': 31}]</td>\n",
       "      <td>2499719</td>\n",
       "      <td>Pass</td>\n",
       "      <td>1609</td>\n",
       "      <td>1H</td>\n",
       "      <td>2.758649</td>\n",
       "      <td>85.0</td>\n",
       "      <td>177959171</td>\n",
       "      <td>[1801]</td>\n",
       "      <td>49</td>\n",
       "      <td>49</td>\n",
       "      <td>78</td>\n",
       "      <td>31</td>\n",
       "    </tr>\n",
       "    <tr>\n",
       "      <th>1</th>\n",
       "      <td>8</td>\n",
       "      <td>High pass</td>\n",
       "      <td>[{'id': 1801}]</td>\n",
       "      <td>370224</td>\n",
       "      <td>[{'y': 78, 'x': 31}, {'y': 75, 'x': 51}]</td>\n",
       "      <td>2499719</td>\n",
       "      <td>Pass</td>\n",
       "      <td>1609</td>\n",
       "      <td>1H</td>\n",
       "      <td>4.946850</td>\n",
       "      <td>83.0</td>\n",
       "      <td>177959172</td>\n",
       "      <td>[1801]</td>\n",
       "      <td>78</td>\n",
       "      <td>31</td>\n",
       "      <td>75</td>\n",
       "      <td>51</td>\n",
       "    </tr>\n",
       "    <tr>\n",
       "      <th>2</th>\n",
       "      <td>8</td>\n",
       "      <td>Head pass</td>\n",
       "      <td>[{'id': 1801}]</td>\n",
       "      <td>3319</td>\n",
       "      <td>[{'y': 75, 'x': 51}, {'y': 71, 'x': 35}]</td>\n",
       "      <td>2499719</td>\n",
       "      <td>Pass</td>\n",
       "      <td>1609</td>\n",
       "      <td>1H</td>\n",
       "      <td>6.542188</td>\n",
       "      <td>82.0</td>\n",
       "      <td>177959173</td>\n",
       "      <td>[1801]</td>\n",
       "      <td>75</td>\n",
       "      <td>51</td>\n",
       "      <td>71</td>\n",
       "      <td>35</td>\n",
       "    </tr>\n",
       "    <tr>\n",
       "      <th>3</th>\n",
       "      <td>8</td>\n",
       "      <td>Head pass</td>\n",
       "      <td>[{'id': 1801}]</td>\n",
       "      <td>120339</td>\n",
       "      <td>[{'y': 71, 'x': 35}, {'y': 95, 'x': 41}]</td>\n",
       "      <td>2499719</td>\n",
       "      <td>Pass</td>\n",
       "      <td>1609</td>\n",
       "      <td>1H</td>\n",
       "      <td>8.143395</td>\n",
       "      <td>82.0</td>\n",
       "      <td>177959174</td>\n",
       "      <td>[1801]</td>\n",
       "      <td>71</td>\n",
       "      <td>35</td>\n",
       "      <td>95</td>\n",
       "      <td>41</td>\n",
       "    </tr>\n",
       "    <tr>\n",
       "      <th>4</th>\n",
       "      <td>8</td>\n",
       "      <td>Simple pass</td>\n",
       "      <td>[{'id': 1801}]</td>\n",
       "      <td>167145</td>\n",
       "      <td>[{'y': 95, 'x': 41}, {'y': 88, 'x': 72}]</td>\n",
       "      <td>2499719</td>\n",
       "      <td>Pass</td>\n",
       "      <td>1609</td>\n",
       "      <td>1H</td>\n",
       "      <td>10.302366</td>\n",
       "      <td>85.0</td>\n",
       "      <td>177959175</td>\n",
       "      <td>[1801]</td>\n",
       "      <td>95</td>\n",
       "      <td>41</td>\n",
       "      <td>88</td>\n",
       "      <td>72</td>\n",
       "    </tr>\n",
       "  </tbody>\n",
       "</table>\n",
       "</div>"
      ],
      "text/plain": [
       "   eventId subEventName            tags  playerId  \\\n",
       "0        8  Simple pass  [{'id': 1801}]     25413   \n",
       "1        8    High pass  [{'id': 1801}]    370224   \n",
       "2        8    Head pass  [{'id': 1801}]      3319   \n",
       "3        8    Head pass  [{'id': 1801}]    120339   \n",
       "4        8  Simple pass  [{'id': 1801}]    167145   \n",
       "\n",
       "                                  positions  matchId eventName  teamId  \\\n",
       "0  [{'y': 49, 'x': 49}, {'y': 78, 'x': 31}]  2499719      Pass    1609   \n",
       "1  [{'y': 78, 'x': 31}, {'y': 75, 'x': 51}]  2499719      Pass    1609   \n",
       "2  [{'y': 75, 'x': 51}, {'y': 71, 'x': 35}]  2499719      Pass    1609   \n",
       "3  [{'y': 71, 'x': 35}, {'y': 95, 'x': 41}]  2499719      Pass    1609   \n",
       "4  [{'y': 95, 'x': 41}, {'y': 88, 'x': 72}]  2499719      Pass    1609   \n",
       "\n",
       "  matchPeriod   eventSec  subEventId         id tagsList  pos_orig_y  \\\n",
       "0          1H   2.758649        85.0  177959171   [1801]          49   \n",
       "1          1H   4.946850        83.0  177959172   [1801]          78   \n",
       "2          1H   6.542188        82.0  177959173   [1801]          75   \n",
       "3          1H   8.143395        82.0  177959174   [1801]          71   \n",
       "4          1H  10.302366        85.0  177959175   [1801]          95   \n",
       "\n",
       "   pos_orig_x  pos_dest_y  pos_dest_x  \n",
       "0          49          78          31  \n",
       "1          31          75          51  \n",
       "2          51          71          35  \n",
       "3          35          95          41  \n",
       "4          41          88          72  "
      ]
     },
     "execution_count": 34,
     "metadata": {},
     "output_type": "execute_result"
    }
   ],
   "source": [
    "events.head()"
   ]
  },
  {
   "cell_type": "markdown",
   "id": "dd07a8c8-c416-4278-98f9-c280a9eb0467",
   "metadata": {},
   "source": [
    "I am going to drop the positions and tags columns because that information is already parsed out in the table in other columns"
   ]
  },
  {
   "cell_type": "code",
   "execution_count": 35,
   "id": "25eba700-da9f-4212-9e88-1da29b3f0894",
   "metadata": {},
   "outputs": [],
   "source": [
    "events.drop(['tags'], axis=1, inplace=True)"
   ]
  },
  {
   "cell_type": "markdown",
   "id": "7e84aa60-7fe2-4736-a89e-88600ca5d8e6",
   "metadata": {},
   "source": [
    "### eventName"
   ]
  },
  {
   "cell_type": "code",
   "execution_count": 36,
   "id": "40bb36b1-a5bd-49a5-b68d-1c2a414f4a2e",
   "metadata": {},
   "outputs": [
    {
     "data": {
      "application/vnd.plotly.v1+json": {
       "config": {
        "plotlyServerURL": "https://plot.ly"
       },
       "data": [
        {
         "domain": {
          "x": [
           0,
           1
          ],
          "y": [
           0,
           1
          ]
         },
         "hovertemplate": "eventName=%{label}<br>count=%{value}<extra></extra>",
         "labels": [
          "Pass",
          "Duel",
          "Others on the ball",
          "Free Kick",
          "Interruption",
          "Shot",
          "Foul",
          "Save attempt",
          "Offside",
          "Goalkeeper leaving line"
         ],
         "legendgroup": "",
         "name": "",
         "showlegend": true,
         "type": "pie",
         "values": [
          328624,
          176674,
          51079,
          36420,
          27534,
          8450,
          8136,
          3349,
          1558,
          1266
         ]
        }
       ],
       "layout": {
        "autosize": true,
        "legend": {
         "tracegroupgap": 0
        },
        "template": {
         "data": {
          "bar": [
           {
            "error_x": {
             "color": "#2a3f5f"
            },
            "error_y": {
             "color": "#2a3f5f"
            },
            "marker": {
             "line": {
              "color": "#E5ECF6",
              "width": 0.5
             },
             "pattern": {
              "fillmode": "overlay",
              "size": 10,
              "solidity": 0.2
             }
            },
            "type": "bar"
           }
          ],
          "barpolar": [
           {
            "marker": {
             "line": {
              "color": "#E5ECF6",
              "width": 0.5
             },
             "pattern": {
              "fillmode": "overlay",
              "size": 10,
              "solidity": 0.2
             }
            },
            "type": "barpolar"
           }
          ],
          "carpet": [
           {
            "aaxis": {
             "endlinecolor": "#2a3f5f",
             "gridcolor": "white",
             "linecolor": "white",
             "minorgridcolor": "white",
             "startlinecolor": "#2a3f5f"
            },
            "baxis": {
             "endlinecolor": "#2a3f5f",
             "gridcolor": "white",
             "linecolor": "white",
             "minorgridcolor": "white",
             "startlinecolor": "#2a3f5f"
            },
            "type": "carpet"
           }
          ],
          "choropleth": [
           {
            "colorbar": {
             "outlinewidth": 0,
             "ticks": ""
            },
            "type": "choropleth"
           }
          ],
          "contour": [
           {
            "colorbar": {
             "outlinewidth": 0,
             "ticks": ""
            },
            "colorscale": [
             [
              0,
              "#0d0887"
             ],
             [
              0.1111111111111111,
              "#46039f"
             ],
             [
              0.2222222222222222,
              "#7201a8"
             ],
             [
              0.3333333333333333,
              "#9c179e"
             ],
             [
              0.4444444444444444,
              "#bd3786"
             ],
             [
              0.5555555555555556,
              "#d8576b"
             ],
             [
              0.6666666666666666,
              "#ed7953"
             ],
             [
              0.7777777777777778,
              "#fb9f3a"
             ],
             [
              0.8888888888888888,
              "#fdca26"
             ],
             [
              1,
              "#f0f921"
             ]
            ],
            "type": "contour"
           }
          ],
          "contourcarpet": [
           {
            "colorbar": {
             "outlinewidth": 0,
             "ticks": ""
            },
            "type": "contourcarpet"
           }
          ],
          "heatmap": [
           {
            "colorbar": {
             "outlinewidth": 0,
             "ticks": ""
            },
            "colorscale": [
             [
              0,
              "#0d0887"
             ],
             [
              0.1111111111111111,
              "#46039f"
             ],
             [
              0.2222222222222222,
              "#7201a8"
             ],
             [
              0.3333333333333333,
              "#9c179e"
             ],
             [
              0.4444444444444444,
              "#bd3786"
             ],
             [
              0.5555555555555556,
              "#d8576b"
             ],
             [
              0.6666666666666666,
              "#ed7953"
             ],
             [
              0.7777777777777778,
              "#fb9f3a"
             ],
             [
              0.8888888888888888,
              "#fdca26"
             ],
             [
              1,
              "#f0f921"
             ]
            ],
            "type": "heatmap"
           }
          ],
          "heatmapgl": [
           {
            "colorbar": {
             "outlinewidth": 0,
             "ticks": ""
            },
            "colorscale": [
             [
              0,
              "#0d0887"
             ],
             [
              0.1111111111111111,
              "#46039f"
             ],
             [
              0.2222222222222222,
              "#7201a8"
             ],
             [
              0.3333333333333333,
              "#9c179e"
             ],
             [
              0.4444444444444444,
              "#bd3786"
             ],
             [
              0.5555555555555556,
              "#d8576b"
             ],
             [
              0.6666666666666666,
              "#ed7953"
             ],
             [
              0.7777777777777778,
              "#fb9f3a"
             ],
             [
              0.8888888888888888,
              "#fdca26"
             ],
             [
              1,
              "#f0f921"
             ]
            ],
            "type": "heatmapgl"
           }
          ],
          "histogram": [
           {
            "marker": {
             "pattern": {
              "fillmode": "overlay",
              "size": 10,
              "solidity": 0.2
             }
            },
            "type": "histogram"
           }
          ],
          "histogram2d": [
           {
            "colorbar": {
             "outlinewidth": 0,
             "ticks": ""
            },
            "colorscale": [
             [
              0,
              "#0d0887"
             ],
             [
              0.1111111111111111,
              "#46039f"
             ],
             [
              0.2222222222222222,
              "#7201a8"
             ],
             [
              0.3333333333333333,
              "#9c179e"
             ],
             [
              0.4444444444444444,
              "#bd3786"
             ],
             [
              0.5555555555555556,
              "#d8576b"
             ],
             [
              0.6666666666666666,
              "#ed7953"
             ],
             [
              0.7777777777777778,
              "#fb9f3a"
             ],
             [
              0.8888888888888888,
              "#fdca26"
             ],
             [
              1,
              "#f0f921"
             ]
            ],
            "type": "histogram2d"
           }
          ],
          "histogram2dcontour": [
           {
            "colorbar": {
             "outlinewidth": 0,
             "ticks": ""
            },
            "colorscale": [
             [
              0,
              "#0d0887"
             ],
             [
              0.1111111111111111,
              "#46039f"
             ],
             [
              0.2222222222222222,
              "#7201a8"
             ],
             [
              0.3333333333333333,
              "#9c179e"
             ],
             [
              0.4444444444444444,
              "#bd3786"
             ],
             [
              0.5555555555555556,
              "#d8576b"
             ],
             [
              0.6666666666666666,
              "#ed7953"
             ],
             [
              0.7777777777777778,
              "#fb9f3a"
             ],
             [
              0.8888888888888888,
              "#fdca26"
             ],
             [
              1,
              "#f0f921"
             ]
            ],
            "type": "histogram2dcontour"
           }
          ],
          "mesh3d": [
           {
            "colorbar": {
             "outlinewidth": 0,
             "ticks": ""
            },
            "type": "mesh3d"
           }
          ],
          "parcoords": [
           {
            "line": {
             "colorbar": {
              "outlinewidth": 0,
              "ticks": ""
             }
            },
            "type": "parcoords"
           }
          ],
          "pie": [
           {
            "automargin": true,
            "type": "pie"
           }
          ],
          "scatter": [
           {
            "fillpattern": {
             "fillmode": "overlay",
             "size": 10,
             "solidity": 0.2
            },
            "type": "scatter"
           }
          ],
          "scatter3d": [
           {
            "line": {
             "colorbar": {
              "outlinewidth": 0,
              "ticks": ""
             }
            },
            "marker": {
             "colorbar": {
              "outlinewidth": 0,
              "ticks": ""
             }
            },
            "type": "scatter3d"
           }
          ],
          "scattercarpet": [
           {
            "marker": {
             "colorbar": {
              "outlinewidth": 0,
              "ticks": ""
             }
            },
            "type": "scattercarpet"
           }
          ],
          "scattergeo": [
           {
            "marker": {
             "colorbar": {
              "outlinewidth": 0,
              "ticks": ""
             }
            },
            "type": "scattergeo"
           }
          ],
          "scattergl": [
           {
            "marker": {
             "colorbar": {
              "outlinewidth": 0,
              "ticks": ""
             }
            },
            "type": "scattergl"
           }
          ],
          "scattermapbox": [
           {
            "marker": {
             "colorbar": {
              "outlinewidth": 0,
              "ticks": ""
             }
            },
            "type": "scattermapbox"
           }
          ],
          "scatterpolar": [
           {
            "marker": {
             "colorbar": {
              "outlinewidth": 0,
              "ticks": ""
             }
            },
            "type": "scatterpolar"
           }
          ],
          "scatterpolargl": [
           {
            "marker": {
             "colorbar": {
              "outlinewidth": 0,
              "ticks": ""
             }
            },
            "type": "scatterpolargl"
           }
          ],
          "scatterternary": [
           {
            "marker": {
             "colorbar": {
              "outlinewidth": 0,
              "ticks": ""
             }
            },
            "type": "scatterternary"
           }
          ],
          "surface": [
           {
            "colorbar": {
             "outlinewidth": 0,
             "ticks": ""
            },
            "colorscale": [
             [
              0,
              "#0d0887"
             ],
             [
              0.1111111111111111,
              "#46039f"
             ],
             [
              0.2222222222222222,
              "#7201a8"
             ],
             [
              0.3333333333333333,
              "#9c179e"
             ],
             [
              0.4444444444444444,
              "#bd3786"
             ],
             [
              0.5555555555555556,
              "#d8576b"
             ],
             [
              0.6666666666666666,
              "#ed7953"
             ],
             [
              0.7777777777777778,
              "#fb9f3a"
             ],
             [
              0.8888888888888888,
              "#fdca26"
             ],
             [
              1,
              "#f0f921"
             ]
            ],
            "type": "surface"
           }
          ],
          "table": [
           {
            "cells": {
             "fill": {
              "color": "#EBF0F8"
             },
             "line": {
              "color": "white"
             }
            },
            "header": {
             "fill": {
              "color": "#C8D4E3"
             },
             "line": {
              "color": "white"
             }
            },
            "type": "table"
           }
          ]
         },
         "layout": {
          "annotationdefaults": {
           "arrowcolor": "#2a3f5f",
           "arrowhead": 0,
           "arrowwidth": 1
          },
          "autotypenumbers": "strict",
          "coloraxis": {
           "colorbar": {
            "outlinewidth": 0,
            "ticks": ""
           }
          },
          "colorscale": {
           "diverging": [
            [
             0,
             "#8e0152"
            ],
            [
             0.1,
             "#c51b7d"
            ],
            [
             0.2,
             "#de77ae"
            ],
            [
             0.3,
             "#f1b6da"
            ],
            [
             0.4,
             "#fde0ef"
            ],
            [
             0.5,
             "#f7f7f7"
            ],
            [
             0.6,
             "#e6f5d0"
            ],
            [
             0.7,
             "#b8e186"
            ],
            [
             0.8,
             "#7fbc41"
            ],
            [
             0.9,
             "#4d9221"
            ],
            [
             1,
             "#276419"
            ]
           ],
           "sequential": [
            [
             0,
             "#0d0887"
            ],
            [
             0.1111111111111111,
             "#46039f"
            ],
            [
             0.2222222222222222,
             "#7201a8"
            ],
            [
             0.3333333333333333,
             "#9c179e"
            ],
            [
             0.4444444444444444,
             "#bd3786"
            ],
            [
             0.5555555555555556,
             "#d8576b"
            ],
            [
             0.6666666666666666,
             "#ed7953"
            ],
            [
             0.7777777777777778,
             "#fb9f3a"
            ],
            [
             0.8888888888888888,
             "#fdca26"
            ],
            [
             1,
             "#f0f921"
            ]
           ],
           "sequentialminus": [
            [
             0,
             "#0d0887"
            ],
            [
             0.1111111111111111,
             "#46039f"
            ],
            [
             0.2222222222222222,
             "#7201a8"
            ],
            [
             0.3333333333333333,
             "#9c179e"
            ],
            [
             0.4444444444444444,
             "#bd3786"
            ],
            [
             0.5555555555555556,
             "#d8576b"
            ],
            [
             0.6666666666666666,
             "#ed7953"
            ],
            [
             0.7777777777777778,
             "#fb9f3a"
            ],
            [
             0.8888888888888888,
             "#fdca26"
            ],
            [
             1,
             "#f0f921"
            ]
           ]
          },
          "colorway": [
           "#636efa",
           "#EF553B",
           "#00cc96",
           "#ab63fa",
           "#FFA15A",
           "#19d3f3",
           "#FF6692",
           "#B6E880",
           "#FF97FF",
           "#FECB52"
          ],
          "font": {
           "color": "#2a3f5f"
          },
          "geo": {
           "bgcolor": "white",
           "lakecolor": "white",
           "landcolor": "#E5ECF6",
           "showlakes": true,
           "showland": true,
           "subunitcolor": "white"
          },
          "hoverlabel": {
           "align": "left"
          },
          "hovermode": "closest",
          "mapbox": {
           "style": "light"
          },
          "paper_bgcolor": "white",
          "plot_bgcolor": "#E5ECF6",
          "polar": {
           "angularaxis": {
            "gridcolor": "white",
            "linecolor": "white",
            "ticks": ""
           },
           "bgcolor": "#E5ECF6",
           "radialaxis": {
            "gridcolor": "white",
            "linecolor": "white",
            "ticks": ""
           }
          },
          "scene": {
           "xaxis": {
            "backgroundcolor": "#E5ECF6",
            "gridcolor": "white",
            "gridwidth": 2,
            "linecolor": "white",
            "showbackground": true,
            "ticks": "",
            "zerolinecolor": "white"
           },
           "yaxis": {
            "backgroundcolor": "#E5ECF6",
            "gridcolor": "white",
            "gridwidth": 2,
            "linecolor": "white",
            "showbackground": true,
            "ticks": "",
            "zerolinecolor": "white"
           },
           "zaxis": {
            "backgroundcolor": "#E5ECF6",
            "gridcolor": "white",
            "gridwidth": 2,
            "linecolor": "white",
            "showbackground": true,
            "ticks": "",
            "zerolinecolor": "white"
           }
          },
          "shapedefaults": {
           "line": {
            "color": "#2a3f5f"
           }
          },
          "ternary": {
           "aaxis": {
            "gridcolor": "white",
            "linecolor": "white",
            "ticks": ""
           },
           "baxis": {
            "gridcolor": "white",
            "linecolor": "white",
            "ticks": ""
           },
           "bgcolor": "#E5ECF6",
           "caxis": {
            "gridcolor": "white",
            "linecolor": "white",
            "ticks": ""
           }
          },
          "title": {
           "x": 0.05
          },
          "xaxis": {
           "automargin": true,
           "gridcolor": "white",
           "linecolor": "white",
           "ticks": "",
           "title": {
            "standoff": 15
           },
           "zerolinecolor": "white",
           "zerolinewidth": 2
          },
          "yaxis": {
           "automargin": true,
           "gridcolor": "white",
           "linecolor": "white",
           "ticks": "",
           "title": {
            "standoff": 15
           },
           "zerolinecolor": "white",
           "zerolinewidth": 2
          }
         }
        },
        "title": {
         "text": "Distribution of Event Types"
        }
       }
      },
      "image/png": "[encoded data removed]",
      "text/html": [
       "<div>                            <div id=\"ddd8efd2-68c4-4ba1-a56c-bad6e75e9f0c\" class=\"plotly-graph-div\" style=\"height:525px; width:100%;\"></div>            <script type=\"text/javascript\">                require([\"plotly\"], function(Plotly) {                    window.PLOTLYENV=window.PLOTLYENV || {};                                    if (document.getElementById(\"ddd8efd2-68c4-4ba1-a56c-bad6e75e9f0c\")) {                    Plotly.newPlot(                        \"ddd8efd2-68c4-4ba1-a56c-bad6e75e9f0c\",                        [{\"domain\":{\"x\":[0.0,1.0],\"y\":[0.0,1.0]},\"hovertemplate\":\"eventName=%{label}\\u003cbr\\u003ecount=%{value}\\u003cextra\\u003e\\u003c\\u002fextra\\u003e\",\"labels\":[\"Pass\",\"Duel\",\"Others on the ball\",\"Free Kick\",\"Interruption\",\"Shot\",\"Foul\",\"Save attempt\",\"Offside\",\"Goalkeeper leaving line\"],\"legendgroup\":\"\",\"name\":\"\",\"showlegend\":true,\"values\":[328624,176674,51079,36420,27534,8450,8136,3349,1558,1266],\"type\":\"pie\"}],                        {\"template\":{\"data\":{\"histogram2dcontour\":[{\"type\":\"histogram2dcontour\",\"colorbar\":{\"outlinewidth\":0,\"ticks\":\"\"},\"colorscale\":[[0.0,\"#0d0887\"],[0.1111111111111111,\"#46039f\"],[0.2222222222222222,\"#7201a8\"],[0.3333333333333333,\"#9c179e\"],[0.4444444444444444,\"#bd3786\"],[0.5555555555555556,\"#d8576b\"],[0.6666666666666666,\"#ed7953\"],[0.7777777777777778,\"#fb9f3a\"],[0.8888888888888888,\"#fdca26\"],[1.0,\"#f0f921\"]]}],\"choropleth\":[{\"type\":\"choropleth\",\"colorbar\":{\"outlinewidth\":0,\"ticks\":\"\"}}],\"histogram2d\":[{\"type\":\"histogram2d\",\"colorbar\":{\"outlinewidth\":0,\"ticks\":\"\"},\"colorscale\":[[0.0,\"#0d0887\"],[0.1111111111111111,\"#46039f\"],[0.2222222222222222,\"#7201a8\"],[0.3333333333333333,\"#9c179e\"],[0.4444444444444444,\"#bd3786\"],[0.5555555555555556,\"#d8576b\"],[0.6666666666666666,\"#ed7953\"],[0.7777777777777778,\"#fb9f3a\"],[0.8888888888888888,\"#fdca26\"],[1.0,\"#f0f921\"]]}],\"heatmap\":[{\"type\":\"heatmap\",\"colorbar\":{\"outlinewidth\":0,\"ticks\":\"\"},\"colorscale\":[[0.0,\"#0d0887\"],[0.1111111111111111,\"#46039f\"],[0.2222222222222222,\"#7201a8\"],[0.3333333333333333,\"#9c179e\"],[0.4444444444444444,\"#bd3786\"],[0.5555555555555556,\"#d8576b\"],[0.6666666666666666,\"#ed7953\"],[0.7777777777777778,\"#fb9f3a\"],[0.8888888888888888,\"#fdca26\"],[1.0,\"#f0f921\"]]}],\"heatmapgl\":[{\"type\":\"heatmapgl\",\"colorbar\":{\"outlinewidth\":0,\"ticks\":\"\"},\"colorscale\":[[0.0,\"#0d0887\"],[0.1111111111111111,\"#46039f\"],[0.2222222222222222,\"#7201a8\"],[0.3333333333333333,\"#9c179e\"],[0.4444444444444444,\"#bd3786\"],[0.5555555555555556,\"#d8576b\"],[0.6666666666666666,\"#ed7953\"],[0.7777777777777778,\"#fb9f3a\"],[0.8888888888888888,\"#fdca26\"],[1.0,\"#f0f921\"]]}],\"contourcarpet\":[{\"type\":\"contourcarpet\",\"colorbar\":{\"outlinewidth\":0,\"ticks\":\"\"}}],\"contour\":[{\"type\":\"contour\",\"colorbar\":{\"outlinewidth\":0,\"ticks\":\"\"},\"colorscale\":[[0.0,\"#0d0887\"],[0.1111111111111111,\"#46039f\"],[0.2222222222222222,\"#7201a8\"],[0.3333333333333333,\"#9c179e\"],[0.4444444444444444,\"#bd3786\"],[0.5555555555555556,\"#d8576b\"],[0.6666666666666666,\"#ed7953\"],[0.7777777777777778,\"#fb9f3a\"],[0.8888888888888888,\"#fdca26\"],[1.0,\"#f0f921\"]]}],\"surface\":[{\"type\":\"surface\",\"colorbar\":{\"outlinewidth\":0,\"ticks\":\"\"},\"colorscale\":[[0.0,\"#0d0887\"],[0.1111111111111111,\"#46039f\"],[0.2222222222222222,\"#7201a8\"],[0.3333333333333333,\"#9c179e\"],[0.4444444444444444,\"#bd3786\"],[0.5555555555555556,\"#d8576b\"],[0.6666666666666666,\"#ed7953\"],[0.7777777777777778,\"#fb9f3a\"],[0.8888888888888888,\"#fdca26\"],[1.0,\"#f0f921\"]]}],\"mesh3d\":[{\"type\":\"mesh3d\",\"colorbar\":{\"outlinewidth\":0,\"ticks\":\"\"}}],\"scatter\":[{\"fillpattern\":{\"fillmode\":\"overlay\",\"size\":10,\"solidity\":0.2},\"type\":\"scatter\"}],\"parcoords\":[{\"type\":\"parcoords\",\"line\":{\"colorbar\":{\"outlinewidth\":0,\"ticks\":\"\"}}}],\"scatterpolargl\":[{\"type\":\"scatterpolargl\",\"marker\":{\"colorbar\":{\"outlinewidth\":0,\"ticks\":\"\"}}}],\"bar\":[{\"error_x\":{\"color\":\"#2a3f5f\"},\"error_y\":{\"color\":\"#2a3f5f\"},\"marker\":{\"line\":{\"color\":\"#E5ECF6\",\"width\":0.5},\"pattern\":{\"fillmode\":\"overlay\",\"size\":10,\"solidity\":0.2}},\"type\":\"bar\"}],\"scattergeo\":[{\"type\":\"scattergeo\",\"marker\":{\"colorbar\":{\"outlinewidth\":0,\"ticks\":\"\"}}}],\"scatterpolar\":[{\"type\":\"scatterpolar\",\"marker\":{\"colorbar\":{\"outlinewidth\":0,\"ticks\":\"\"}}}],\"histogram\":[{\"marker\":{\"pattern\":{\"fillmode\":\"overlay\",\"size\":10,\"solidity\":0.2}},\"type\":\"histogram\"}],\"scattergl\":[{\"type\":\"scattergl\",\"marker\":{\"colorbar\":{\"outlinewidth\":0,\"ticks\":\"\"}}}],\"scatter3d\":[{\"type\":\"scatter3d\",\"line\":{\"colorbar\":{\"outlinewidth\":0,\"ticks\":\"\"}},\"marker\":{\"colorbar\":{\"outlinewidth\":0,\"ticks\":\"\"}}}],\"scattermapbox\":[{\"type\":\"scattermapbox\",\"marker\":{\"colorbar\":{\"outlinewidth\":0,\"ticks\":\"\"}}}],\"scatterternary\":[{\"type\":\"scatterternary\",\"marker\":{\"colorbar\":{\"outlinewidth\":0,\"ticks\":\"\"}}}],\"scattercarpet\":[{\"type\":\"scattercarpet\",\"marker\":{\"colorbar\":{\"outlinewidth\":0,\"ticks\":\"\"}}}],\"carpet\":[{\"aaxis\":{\"endlinecolor\":\"#2a3f5f\",\"gridcolor\":\"white\",\"linecolor\":\"white\",\"minorgridcolor\":\"white\",\"startlinecolor\":\"#2a3f5f\"},\"baxis\":{\"endlinecolor\":\"#2a3f5f\",\"gridcolor\":\"white\",\"linecolor\":\"white\",\"minorgridcolor\":\"white\",\"startlinecolor\":\"#2a3f5f\"},\"type\":\"carpet\"}],\"table\":[{\"cells\":{\"fill\":{\"color\":\"#EBF0F8\"},\"line\":{\"color\":\"white\"}},\"header\":{\"fill\":{\"color\":\"#C8D4E3\"},\"line\":{\"color\":\"white\"}},\"type\":\"table\"}],\"barpolar\":[{\"marker\":{\"line\":{\"color\":\"#E5ECF6\",\"width\":0.5},\"pattern\":{\"fillmode\":\"overlay\",\"size\":10,\"solidity\":0.2}},\"type\":\"barpolar\"}],\"pie\":[{\"automargin\":true,\"type\":\"pie\"}]},\"layout\":{\"autotypenumbers\":\"strict\",\"colorway\":[\"#636efa\",\"#EF553B\",\"#00cc96\",\"#ab63fa\",\"#FFA15A\",\"#19d3f3\",\"#FF6692\",\"#B6E880\",\"#FF97FF\",\"#FECB52\"],\"font\":{\"color\":\"#2a3f5f\"},\"hovermode\":\"closest\",\"hoverlabel\":{\"align\":\"left\"},\"paper_bgcolor\":\"white\",\"plot_bgcolor\":\"#E5ECF6\",\"polar\":{\"bgcolor\":\"#E5ECF6\",\"angularaxis\":{\"gridcolor\":\"white\",\"linecolor\":\"white\",\"ticks\":\"\"},\"radialaxis\":{\"gridcolor\":\"white\",\"linecolor\":\"white\",\"ticks\":\"\"}},\"ternary\":{\"bgcolor\":\"#E5ECF6\",\"aaxis\":{\"gridcolor\":\"white\",\"linecolor\":\"white\",\"ticks\":\"\"},\"baxis\":{\"gridcolor\":\"white\",\"linecolor\":\"white\",\"ticks\":\"\"},\"caxis\":{\"gridcolor\":\"white\",\"linecolor\":\"white\",\"ticks\":\"\"}},\"coloraxis\":{\"colorbar\":{\"outlinewidth\":0,\"ticks\":\"\"}},\"colorscale\":{\"sequential\":[[0.0,\"#0d0887\"],[0.1111111111111111,\"#46039f\"],[0.2222222222222222,\"#7201a8\"],[0.3333333333333333,\"#9c179e\"],[0.4444444444444444,\"#bd3786\"],[0.5555555555555556,\"#d8576b\"],[0.6666666666666666,\"#ed7953\"],[0.7777777777777778,\"#fb9f3a\"],[0.8888888888888888,\"#fdca26\"],[1.0,\"#f0f921\"]],\"sequentialminus\":[[0.0,\"#0d0887\"],[0.1111111111111111,\"#46039f\"],[0.2222222222222222,\"#7201a8\"],[0.3333333333333333,\"#9c179e\"],[0.4444444444444444,\"#bd3786\"],[0.5555555555555556,\"#d8576b\"],[0.6666666666666666,\"#ed7953\"],[0.7777777777777778,\"#fb9f3a\"],[0.8888888888888888,\"#fdca26\"],[1.0,\"#f0f921\"]],\"diverging\":[[0,\"#8e0152\"],[0.1,\"#c51b7d\"],[0.2,\"#de77ae\"],[0.3,\"#f1b6da\"],[0.4,\"#fde0ef\"],[0.5,\"#f7f7f7\"],[0.6,\"#e6f5d0\"],[0.7,\"#b8e186\"],[0.8,\"#7fbc41\"],[0.9,\"#4d9221\"],[1,\"#276419\"]]},\"xaxis\":{\"gridcolor\":\"white\",\"linecolor\":\"white\",\"ticks\":\"\",\"title\":{\"standoff\":15},\"zerolinecolor\":\"white\",\"automargin\":true,\"zerolinewidth\":2},\"yaxis\":{\"gridcolor\":\"white\",\"linecolor\":\"white\",\"ticks\":\"\",\"title\":{\"standoff\":15},\"zerolinecolor\":\"white\",\"automargin\":true,\"zerolinewidth\":2},\"scene\":{\"xaxis\":{\"backgroundcolor\":\"#E5ECF6\",\"gridcolor\":\"white\",\"linecolor\":\"white\",\"showbackground\":true,\"ticks\":\"\",\"zerolinecolor\":\"white\",\"gridwidth\":2},\"yaxis\":{\"backgroundcolor\":\"#E5ECF6\",\"gridcolor\":\"white\",\"linecolor\":\"white\",\"showbackground\":true,\"ticks\":\"\",\"zerolinecolor\":\"white\",\"gridwidth\":2},\"zaxis\":{\"backgroundcolor\":\"#E5ECF6\",\"gridcolor\":\"white\",\"linecolor\":\"white\",\"showbackground\":true,\"ticks\":\"\",\"zerolinecolor\":\"white\",\"gridwidth\":2}},\"shapedefaults\":{\"line\":{\"color\":\"#2a3f5f\"}},\"annotationdefaults\":{\"arrowcolor\":\"#2a3f5f\",\"arrowhead\":0,\"arrowwidth\":1},\"geo\":{\"bgcolor\":\"white\",\"landcolor\":\"#E5ECF6\",\"subunitcolor\":\"white\",\"showland\":true,\"showlakes\":true,\"lakecolor\":\"white\"},\"title\":{\"x\":0.05},\"mapbox\":{\"style\":\"light\"}}},\"legend\":{\"tracegroupgap\":0},\"title\":{\"text\":\"Distribution of Event Types\"}},                        {\"responsive\": true}                    ).then(function(){\n",
       "                            \n",
       "var gd = document.getElementById('ddd8efd2-68c4-4ba1-a56c-bad6e75e9f0c');\n",
       "var x = new MutationObserver(function (mutations, observer) {{\n",
       "        var display = window.getComputedStyle(gd).display;\n",
       "        if (!display || display === 'none') {{\n",
       "            console.log([gd, 'removed!']);\n",
       "            Plotly.purge(gd);\n",
       "            observer.disconnect();\n",
       "        }}\n",
       "}});\n",
       "\n",
       "// Listen for the removal of the full notebook cells\n",
       "var notebookContainer = gd.closest('#notebook-container');\n",
       "if (notebookContainer) {{\n",
       "    x.observe(notebookContainer, {childList: true});\n",
       "}}\n",
       "\n",
       "// Listen for the clearing of the current output cell\n",
       "var outputEl = gd.closest('.output');\n",
       "if (outputEl) {{\n",
       "    x.observe(outputEl, {childList: true});\n",
       "}}\n",
       "\n",
       "                        })                };                });            </script>        </div>"
      ]
     },
     "metadata": {},
     "output_type": "display_data"
    }
   ],
   "source": [
    "# Count occurrences of each event name\n",
    "event_counts = events['eventName'].value_counts().reset_index()\n",
    "event_counts.columns = ['eventName', 'count']\n",
    "\n",
    "# Plot the pie chart\n",
    "fig = px.pie(event_counts, names='eventName', values='count', title='Distribution of Event Types')\n",
    "fig.show()"
   ]
  },
  {
   "cell_type": "markdown",
   "id": "13fbab2e-c0ac-4331-a451-3c39c13b68c2",
   "metadata": {},
   "source": [
    "Interestingly, the vast majority of events are passes or duels. Shots and fouls make up a tiny portion. I am not sure why there are so many more free kicks than there are fouls and offsides though. I will investigate."
   ]
  },
  {
   "cell_type": "code",
   "execution_count": 37,
   "id": "13b6237e-9f19-4213-9215-ddc31b6bad2b",
   "metadata": {},
   "outputs": [
    {
     "data": {
      "text/plain": [
       "subEventName\n",
       "Throw in           17050\n",
       "Free Kick           7277\n",
       "Goal kick           6061\n",
       "Corner              3909\n",
       "Free kick cross     1693\n",
       "Free kick shot       350\n",
       "Penalty               80\n",
       "Name: count, dtype: int64"
      ]
     },
     "execution_count": 37,
     "metadata": {},
     "output_type": "execute_result"
    }
   ],
   "source": [
    "events[events['eventName']=='Free Kick']['subEventName'].value_counts()"
   ]
  },
  {
   "cell_type": "markdown",
   "id": "f8ae9cdd-fbdd-47b9-af8c-588526bfaa47",
   "metadata": {},
   "source": [
    "Oh, makes sense. Most of them are throw Ins. and the sub-event \"Free Kick\" within the Free Kick's events matches up much closer with foul count.\n",
    "\n",
    "So the sub-events in this field are not exactly what I would expect. I will check all the event's sub-events. "
   ]
  },
  {
   "cell_type": "markdown",
   "id": "5551cd44-59ef-4750-aeae-1bc5702a48fa",
   "metadata": {},
   "source": [
    "but, I will need to map in the tags2name.csv data. "
   ]
  },
  {
   "cell_type": "code",
   "execution_count": 38,
   "id": "8f06b29b-81d2-4458-8cdd-4cfe4704bddd",
   "metadata": {},
   "outputs": [
    {
     "data": {
      "text/plain": [
       "subEventName\n",
       "Simple pass    251377\n",
       "High pass       25064\n",
       "Head pass       21332\n",
       "Cross           12249\n",
       "Launch          10247\n",
       "Smart pass       5881\n",
       "Hand pass        2474\n",
       "Name: count, dtype: int64"
      ]
     },
     "execution_count": 38,
     "metadata": {},
     "output_type": "execute_result"
    }
   ],
   "source": [
    "#this looks as expected\n",
    "events[events['eventName']=='Pass']['subEventName'].value_counts()"
   ]
  },
  {
   "cell_type": "code",
   "execution_count": null,
   "id": "3ff4b0b6-8a1e-4ade-acb2-74a9328d3def",
   "metadata": {},
   "outputs": [],
   "source": []
  },
  {
   "cell_type": "code",
   "execution_count": 39,
   "id": "e99ec3fd-3209-4a80-b4ba-fbad87ccf205",
   "metadata": {},
   "outputs": [
    {
     "data": {
      "text/plain": [
       "subEventName\n",
       "Ground attacking duel     53854\n",
       "Ground defending duel     53732\n",
       "Air duel                  37758\n",
       "Ground loose ball duel    31330\n",
       "Name: count, dtype: int64"
      ]
     },
     "execution_count": 39,
     "metadata": {},
     "output_type": "execute_result"
    }
   ],
   "source": [
    "events[events['eventName']=='Duel']['subEventName'].value_counts()"
   ]
  },
  {
   "cell_type": "code",
   "execution_count": 40,
   "id": "808c8b7d-1f96-47c6-bcab-041d8e72146e",
   "metadata": {},
   "outputs": [
    {
     "data": {
      "text/plain": [
       "subEventName\n",
       "Touch           34405\n",
       "Clearance       11784\n",
       "Acceleration     4890\n",
       "Name: count, dtype: int64"
      ]
     },
     "execution_count": 40,
     "metadata": {},
     "output_type": "execute_result"
    }
   ],
   "source": [
    "events[events['eventName']=='Others on the ball']['subEventName'].value_counts()"
   ]
  },
  {
   "cell_type": "code",
   "execution_count": 41,
   "id": "fcaafcc4-50da-4c02-bb2b-8c6d382cd5c9",
   "metadata": {},
   "outputs": [
    {
     "data": {
      "text/plain": [
       "subEventName\n",
       "Ball out of the field    27330\n",
       "Whistle                    204\n",
       "Name: count, dtype: int64"
      ]
     },
     "execution_count": 41,
     "metadata": {},
     "output_type": "execute_result"
    }
   ],
   "source": [
    "events[events['eventName']=='Interruption']['subEventName'].value_counts()"
   ]
  },
  {
   "cell_type": "code",
   "execution_count": 42,
   "id": "65dbb345-adba-407e-906e-6465c366b385",
   "metadata": {},
   "outputs": [
    {
     "data": {
      "text/plain": [
       "subEventName\n",
       "Shot    8450\n",
       "Name: count, dtype: int64"
      ]
     },
     "execution_count": 42,
     "metadata": {},
     "output_type": "execute_result"
    }
   ],
   "source": [
    "events[events['eventName']=='Shot']['subEventName'].value_counts()"
   ]
  },
  {
   "cell_type": "code",
   "execution_count": 43,
   "id": "07a26fab-94a1-420e-8686-27514a4d427e",
   "metadata": {},
   "outputs": [
    {
     "data": {
      "text/plain": [
       "subEventName\n",
       "Foul                7520\n",
       "Hand foul            275\n",
       "Out of game foul      97\n",
       "Protest               84\n",
       "Late card foul        70\n",
       "Time lost foul        48\n",
       "Simulation            28\n",
       "Violent Foul          14\n",
       "Name: count, dtype: int64"
      ]
     },
     "execution_count": 43,
     "metadata": {},
     "output_type": "execute_result"
    }
   ],
   "source": [
    "events[events['eventName']=='Foul']['subEventName'].value_counts()"
   ]
  },
  {
   "cell_type": "code",
   "execution_count": 44,
   "id": "45234fb5-a703-409e-b776-2aa1c0e2281d",
   "metadata": {},
   "outputs": [
    {
     "data": {
      "text/plain": [
       "subEventName\n",
       "Reflexes        2124\n",
       "Save attempt    1225\n",
       "Name: count, dtype: int64"
      ]
     },
     "execution_count": 44,
     "metadata": {},
     "output_type": "execute_result"
    }
   ],
   "source": [
    "events[events['eventName']=='Save attempt']['subEventName'].value_counts()"
   ]
  },
  {
   "cell_type": "code",
   "execution_count": 45,
   "id": "bbdbc0e5-81a6-4fb6-ad17-634940176dd3",
   "metadata": {},
   "outputs": [
    {
     "data": {
      "text/html": [
       "<div>\n",
       "<style scoped>\n",
       "    .dataframe tbody tr th:only-of-type {\n",
       "        vertical-align: middle;\n",
       "    }\n",
       "\n",
       "    .dataframe tbody tr th {\n",
       "        vertical-align: top;\n",
       "    }\n",
       "\n",
       "    .dataframe thead th {\n",
       "        text-align: right;\n",
       "    }\n",
       "</style>\n",
       "<table border=\"1\" class=\"dataframe\">\n",
       "  <thead>\n",
       "    <tr style=\"text-align: right;\">\n",
       "      <th></th>\n",
       "      <th>eventId</th>\n",
       "      <th>subEventName</th>\n",
       "      <th>playerId</th>\n",
       "      <th>positions</th>\n",
       "      <th>matchId</th>\n",
       "      <th>eventName</th>\n",
       "      <th>teamId</th>\n",
       "      <th>matchPeriod</th>\n",
       "      <th>eventSec</th>\n",
       "      <th>subEventId</th>\n",
       "      <th>id</th>\n",
       "      <th>tagsList</th>\n",
       "      <th>pos_orig_y</th>\n",
       "      <th>pos_orig_x</th>\n",
       "      <th>pos_dest_y</th>\n",
       "      <th>pos_dest_x</th>\n",
       "    </tr>\n",
       "  </thead>\n",
       "  <tbody>\n",
       "    <tr>\n",
       "      <th>267</th>\n",
       "      <td>6</td>\n",
       "      <td>NaN</td>\n",
       "      <td>3319</td>\n",
       "      <td>[{'y': 34, 'x': 87}, {'y': 0, 'x': 0}]</td>\n",
       "      <td>2499719</td>\n",
       "      <td>Offside</td>\n",
       "      <td>1609</td>\n",
       "      <td>1H</td>\n",
       "      <td>851.290742</td>\n",
       "      <td>NaN</td>\n",
       "      <td>177959447</td>\n",
       "      <td>NaN</td>\n",
       "      <td>34</td>\n",
       "      <td>87</td>\n",
       "      <td>0</td>\n",
       "      <td>0</td>\n",
       "    </tr>\n",
       "    <tr>\n",
       "      <th>303</th>\n",
       "      <td>6</td>\n",
       "      <td>NaN</td>\n",
       "      <td>12829</td>\n",
       "      <td>[{'y': 15, 'x': 81}, {'y': 100, 'x': 100}]</td>\n",
       "      <td>2499719</td>\n",
       "      <td>Offside</td>\n",
       "      <td>1631</td>\n",
       "      <td>1H</td>\n",
       "      <td>996.305819</td>\n",
       "      <td>NaN</td>\n",
       "      <td>177959514</td>\n",
       "      <td>NaN</td>\n",
       "      <td>15</td>\n",
       "      <td>81</td>\n",
       "      <td>100</td>\n",
       "      <td>100</td>\n",
       "    </tr>\n",
       "    <tr>\n",
       "      <th>431</th>\n",
       "      <td>6</td>\n",
       "      <td>NaN</td>\n",
       "      <td>25413</td>\n",
       "      <td>[{'y': 43, 'x': 75}, {'y': 0, 'x': 0}]</td>\n",
       "      <td>2499719</td>\n",
       "      <td>Offside</td>\n",
       "      <td>1609</td>\n",
       "      <td>1H</td>\n",
       "      <td>1358.933267</td>\n",
       "      <td>NaN</td>\n",
       "      <td>177959644</td>\n",
       "      <td>NaN</td>\n",
       "      <td>43</td>\n",
       "      <td>75</td>\n",
       "      <td>0</td>\n",
       "      <td>0</td>\n",
       "    </tr>\n",
       "    <tr>\n",
       "      <th>660</th>\n",
       "      <td>6</td>\n",
       "      <td>NaN</td>\n",
       "      <td>7945</td>\n",
       "      <td>[{'y': 15, 'x': 89}, {'y': 0, 'x': 0}]</td>\n",
       "      <td>2499719</td>\n",
       "      <td>Offside</td>\n",
       "      <td>1609</td>\n",
       "      <td>1H</td>\n",
       "      <td>2023.671828</td>\n",
       "      <td>NaN</td>\n",
       "      <td>177959883</td>\n",
       "      <td>NaN</td>\n",
       "      <td>15</td>\n",
       "      <td>89</td>\n",
       "      <td>0</td>\n",
       "      <td>0</td>\n",
       "    </tr>\n",
       "    <tr>\n",
       "      <th>870</th>\n",
       "      <td>6</td>\n",
       "      <td>NaN</td>\n",
       "      <td>26150</td>\n",
       "      <td>[{'y': 94, 'x': 56}, {'y': 100, 'x': 100}]</td>\n",
       "      <td>2499719</td>\n",
       "      <td>Offside</td>\n",
       "      <td>1631</td>\n",
       "      <td>1H</td>\n",
       "      <td>2752.836986</td>\n",
       "      <td>NaN</td>\n",
       "      <td>177960104</td>\n",
       "      <td>NaN</td>\n",
       "      <td>94</td>\n",
       "      <td>56</td>\n",
       "      <td>100</td>\n",
       "      <td>100</td>\n",
       "    </tr>\n",
       "    <tr>\n",
       "      <th>...</th>\n",
       "      <td>...</td>\n",
       "      <td>...</td>\n",
       "      <td>...</td>\n",
       "      <td>...</td>\n",
       "      <td>...</td>\n",
       "      <td>...</td>\n",
       "      <td>...</td>\n",
       "      <td>...</td>\n",
       "      <td>...</td>\n",
       "      <td>...</td>\n",
       "      <td>...</td>\n",
       "      <td>...</td>\n",
       "      <td>...</td>\n",
       "      <td>...</td>\n",
       "      <td>...</td>\n",
       "      <td>...</td>\n",
       "    </tr>\n",
       "    <tr>\n",
       "      <th>641960</th>\n",
       "      <td>6</td>\n",
       "      <td>NaN</td>\n",
       "      <td>14703</td>\n",
       "      <td>[{'y': 34, 'x': 76}, {'y': 0, 'x': 0}]</td>\n",
       "      <td>2500098</td>\n",
       "      <td>Offside</td>\n",
       "      <td>1633</td>\n",
       "      <td>1H</td>\n",
       "      <td>853.798965</td>\n",
       "      <td>NaN</td>\n",
       "      <td>251595083</td>\n",
       "      <td>NaN</td>\n",
       "      <td>15</td>\n",
       "      <td>85</td>\n",
       "      <td>13</td>\n",
       "      <td>55</td>\n",
       "    </tr>\n",
       "    <tr>\n",
       "      <th>642090</th>\n",
       "      <td>6</td>\n",
       "      <td>NaN</td>\n",
       "      <td>14703</td>\n",
       "      <td>[{'y': 27, 'x': 61}, {'y': 0, 'x': 0}]</td>\n",
       "      <td>2500098</td>\n",
       "      <td>Offside</td>\n",
       "      <td>1633</td>\n",
       "      <td>1H</td>\n",
       "      <td>1577.553216</td>\n",
       "      <td>NaN</td>\n",
       "      <td>251595216</td>\n",
       "      <td>NaN</td>\n",
       "      <td>81</td>\n",
       "      <td>57</td>\n",
       "      <td>84</td>\n",
       "      <td>41</td>\n",
       "    </tr>\n",
       "    <tr>\n",
       "      <th>642768</th>\n",
       "      <td>6</td>\n",
       "      <td>NaN</td>\n",
       "      <td>14703</td>\n",
       "      <td>[{'y': 31, 'x': 94}, {'y': 0, 'x': 0}]</td>\n",
       "      <td>2500098</td>\n",
       "      <td>Offside</td>\n",
       "      <td>1633</td>\n",
       "      <td>2H</td>\n",
       "      <td>1198.739889</td>\n",
       "      <td>NaN</td>\n",
       "      <td>251595871</td>\n",
       "      <td>NaN</td>\n",
       "      <td>65</td>\n",
       "      <td>72</td>\n",
       "      <td>27</td>\n",
       "      <td>71</td>\n",
       "    </tr>\n",
       "    <tr>\n",
       "      <th>642814</th>\n",
       "      <td>6</td>\n",
       "      <td>NaN</td>\n",
       "      <td>14703</td>\n",
       "      <td>[{'y': 48, 'x': 92}, {'y': 0, 'x': 0}]</td>\n",
       "      <td>2500098</td>\n",
       "      <td>Offside</td>\n",
       "      <td>1633</td>\n",
       "      <td>2H</td>\n",
       "      <td>1430.887828</td>\n",
       "      <td>NaN</td>\n",
       "      <td>251595929</td>\n",
       "      <td>NaN</td>\n",
       "      <td>68</td>\n",
       "      <td>97</td>\n",
       "      <td>100</td>\n",
       "      <td>100</td>\n",
       "    </tr>\n",
       "    <tr>\n",
       "      <th>643035</th>\n",
       "      <td>6</td>\n",
       "      <td>NaN</td>\n",
       "      <td>7879</td>\n",
       "      <td>[{'y': 18, 'x': 82}, {'y': 100, 'x': 100}]</td>\n",
       "      <td>2500098</td>\n",
       "      <td>Offside</td>\n",
       "      <td>1623</td>\n",
       "      <td>2H</td>\n",
       "      <td>2308.274162</td>\n",
       "      <td>NaN</td>\n",
       "      <td>251596342</td>\n",
       "      <td>NaN</td>\n",
       "      <td>91</td>\n",
       "      <td>78</td>\n",
       "      <td>94</td>\n",
       "      <td>86</td>\n",
       "    </tr>\n",
       "  </tbody>\n",
       "</table>\n",
       "<p>1558 rows × 16 columns</p>\n",
       "</div>"
      ],
      "text/plain": [
       "        eventId subEventName  playerId  \\\n",
       "267           6          NaN      3319   \n",
       "303           6          NaN     12829   \n",
       "431           6          NaN     25413   \n",
       "660           6          NaN      7945   \n",
       "870           6          NaN     26150   \n",
       "...         ...          ...       ...   \n",
       "641960        6          NaN     14703   \n",
       "642090        6          NaN     14703   \n",
       "642768        6          NaN     14703   \n",
       "642814        6          NaN     14703   \n",
       "643035        6          NaN      7879   \n",
       "\n",
       "                                         positions  matchId eventName  teamId  \\\n",
       "267         [{'y': 34, 'x': 87}, {'y': 0, 'x': 0}]  2499719   Offside    1609   \n",
       "303     [{'y': 15, 'x': 81}, {'y': 100, 'x': 100}]  2499719   Offside    1631   \n",
       "431         [{'y': 43, 'x': 75}, {'y': 0, 'x': 0}]  2499719   Offside    1609   \n",
       "660         [{'y': 15, 'x': 89}, {'y': 0, 'x': 0}]  2499719   Offside    1609   \n",
       "870     [{'y': 94, 'x': 56}, {'y': 100, 'x': 100}]  2499719   Offside    1631   \n",
       "...                                            ...      ...       ...     ...   \n",
       "641960      [{'y': 34, 'x': 76}, {'y': 0, 'x': 0}]  2500098   Offside    1633   \n",
       "642090      [{'y': 27, 'x': 61}, {'y': 0, 'x': 0}]  2500098   Offside    1633   \n",
       "642768      [{'y': 31, 'x': 94}, {'y': 0, 'x': 0}]  2500098   Offside    1633   \n",
       "642814      [{'y': 48, 'x': 92}, {'y': 0, 'x': 0}]  2500098   Offside    1633   \n",
       "643035  [{'y': 18, 'x': 82}, {'y': 100, 'x': 100}]  2500098   Offside    1623   \n",
       "\n",
       "       matchPeriod     eventSec  subEventId         id tagsList  pos_orig_y  \\\n",
       "267             1H   851.290742         NaN  177959447      NaN          34   \n",
       "303             1H   996.305819         NaN  177959514      NaN          15   \n",
       "431             1H  1358.933267         NaN  177959644      NaN          43   \n",
       "660             1H  2023.671828         NaN  177959883      NaN          15   \n",
       "870             1H  2752.836986         NaN  177960104      NaN          94   \n",
       "...            ...          ...         ...        ...      ...         ...   \n",
       "641960          1H   853.798965         NaN  251595083      NaN          15   \n",
       "642090          1H  1577.553216         NaN  251595216      NaN          81   \n",
       "642768          2H  1198.739889         NaN  251595871      NaN          65   \n",
       "642814          2H  1430.887828         NaN  251595929      NaN          68   \n",
       "643035          2H  2308.274162         NaN  251596342      NaN          91   \n",
       "\n",
       "        pos_orig_x  pos_dest_y  pos_dest_x  \n",
       "267             87           0           0  \n",
       "303             81         100         100  \n",
       "431             75           0           0  \n",
       "660             89           0           0  \n",
       "870             56         100         100  \n",
       "...            ...         ...         ...  \n",
       "641960          85          13          55  \n",
       "642090          57          84          41  \n",
       "642768          72          27          71  \n",
       "642814          97         100         100  \n",
       "643035          78          94          86  \n",
       "\n",
       "[1558 rows x 16 columns]"
      ]
     },
     "execution_count": 45,
     "metadata": {},
     "output_type": "execute_result"
    }
   ],
   "source": [
    "#subEventName doesnt exist for Offside. So maybe i should just populate this with offside.\n",
    "events[events['eventName']=='Offside']"
   ]
  },
  {
   "cell_type": "code",
   "execution_count": 46,
   "id": "daedf1ff-72cd-40a1-af84-f8e87bb97cb1",
   "metadata": {},
   "outputs": [
    {
     "data": {
      "text/plain": [
       "True"
      ]
     },
     "execution_count": 46,
     "metadata": {},
     "output_type": "execute_result"
    }
   ],
   "source": [
    "#Amazing, the nulls in subEventName are all simple offsides. I will fill those nulls in with that value.\n",
    "events[events['eventName']=='Offside'].equals(events[events['subEventName'].isna()])"
   ]
  },
  {
   "cell_type": "markdown",
   "id": "e2015824-7ebb-4d6c-8eac-5097d626e28e",
   "metadata": {},
   "source": [
    "### Investigating the tagList field"
   ]
  },
  {
   "cell_type": "code",
   "execution_count": 47,
   "id": "c4bd0333-cfde-463d-9774-6011a383cd33",
   "metadata": {},
   "outputs": [
    {
     "data": {
      "text/plain": [
       "tagsList\n",
       "[1801]                          278015\n",
       "[1802]                           47568\n",
       "[701, 1802]                      44964\n",
       "[703, 1801]                      44575\n",
       "[702, 1801]                      32342\n",
       "                                 ...  \n",
       "[301, 401, 1210, 1802]               1\n",
       "[402, 1401, 201, 1204, 1801]         1\n",
       "[201, 1301]                          1\n",
       "[1901, 504, 602, 701, 1802]          1\n",
       "[402, 1206, 1802]                    1\n",
       "Name: count, Length: 713, dtype: int64"
      ]
     },
     "execution_count": 47,
     "metadata": {},
     "output_type": "execute_result"
    }
   ],
   "source": [
    "events['tagsList'].value_counts()"
   ]
  },
  {
   "cell_type": "markdown",
   "id": "bd1b0208-5b40-431f-a99a-6e242495da50",
   "metadata": {},
   "source": [
    "I am going to need to replace these with the label information in the tags2Name table"
   ]
  },
  {
   "cell_type": "markdown",
   "id": "bd765061-c25d-4de3-afbd-70011a0b0b04",
   "metadata": {},
   "source": [
    "I will need to explode the taglist field, then do the join, and then regroup by index"
   ]
  },
  {
   "cell_type": "markdown",
   "id": "2de0a69e-697a-4877-bebe-89684ba394be",
   "metadata": {},
   "source": [
    "### tags2name"
   ]
  },
  {
   "cell_type": "code",
   "execution_count": 48,
   "id": "bb1e1ab0-cd9e-4468-a549-7518abb8e34c",
   "metadata": {},
   "outputs": [],
   "source": [
    "tags2name = pd.read_csv('data/tags2name.csv')"
   ]
  },
  {
   "cell_type": "code",
   "execution_count": 49,
   "id": "ec028519-f00f-4d5f-b5d0-1b722d63229f",
   "metadata": {},
   "outputs": [
    {
     "data": {
      "text/html": [
       "<div>\n",
       "<style scoped>\n",
       "    .dataframe tbody tr th:only-of-type {\n",
       "        vertical-align: middle;\n",
       "    }\n",
       "\n",
       "    .dataframe tbody tr th {\n",
       "        vertical-align: top;\n",
       "    }\n",
       "\n",
       "    .dataframe thead th {\n",
       "        text-align: right;\n",
       "    }\n",
       "</style>\n",
       "<table border=\"1\" class=\"dataframe\">\n",
       "  <thead>\n",
       "    <tr style=\"text-align: right;\">\n",
       "      <th></th>\n",
       "      <th>Tag</th>\n",
       "      <th>Label</th>\n",
       "      <th>Description</th>\n",
       "    </tr>\n",
       "  </thead>\n",
       "  <tbody>\n",
       "    <tr>\n",
       "      <th>0</th>\n",
       "      <td>101</td>\n",
       "      <td>Goal</td>\n",
       "      <td>Goal</td>\n",
       "    </tr>\n",
       "    <tr>\n",
       "      <th>1</th>\n",
       "      <td>102</td>\n",
       "      <td>own_goal</td>\n",
       "      <td>Own goal</td>\n",
       "    </tr>\n",
       "    <tr>\n",
       "      <th>2</th>\n",
       "      <td>301</td>\n",
       "      <td>assist</td>\n",
       "      <td>Assist</td>\n",
       "    </tr>\n",
       "    <tr>\n",
       "      <th>3</th>\n",
       "      <td>302</td>\n",
       "      <td>keyPass</td>\n",
       "      <td>Key pass</td>\n",
       "    </tr>\n",
       "    <tr>\n",
       "      <th>4</th>\n",
       "      <td>1901</td>\n",
       "      <td>counter_attack</td>\n",
       "      <td>Counter attack</td>\n",
       "    </tr>\n",
       "  </tbody>\n",
       "</table>\n",
       "</div>"
      ],
      "text/plain": [
       "    Tag           Label     Description\n",
       "0   101            Goal            Goal\n",
       "1   102        own_goal        Own goal\n",
       "2   301          assist          Assist\n",
       "3   302         keyPass        Key pass\n",
       "4  1901  counter_attack  Counter attack"
      ]
     },
     "execution_count": 49,
     "metadata": {},
     "output_type": "execute_result"
    }
   ],
   "source": [
    "tags2name.head()"
   ]
  },
  {
   "cell_type": "code",
   "execution_count": 50,
   "id": "048199ac-74ed-4527-9d0d-ab25d9f5c328",
   "metadata": {},
   "outputs": [
    {
     "name": "stdout",
     "output_type": "stream",
     "text": [
      "CPU times: user 24.3 s, sys: 6.31 s, total: 30.6 s\n",
      "Wall time: 44.2 s\n"
     ]
    }
   ],
   "source": [
    "%%time\n",
    "##takes about 42 seconds to run\n",
    "\n",
    "#getting the list values out of the string values in the tagList column\n",
    "events['tagsList'] = events['tagsList'].apply(lambda x: ast.literal_eval(x) if isinstance(x, str) else x)\n",
    "\n",
    "#explode the tagsList column because we will get the labels\n",
    "exploded_events = events.explode('tagsList')\n",
    "\n",
    "#cast to int because the column in the tags table is int\n",
    "exploded_events['tagsList']=exploded_events['tagsList'].astype('Int64')\n",
    "\n",
    "#keep the original index because I was losing this information in the merge \n",
    "exploded_events['origIndex']=exploded_events.index\n",
    "\n",
    "#get the tag labels\n",
    "exploded_merged_events=exploded_events.merge(tags2name[['Tag','Label']], left_on='tagsList', right_on='Tag', how='left')\n",
    "\n",
    "#grouping by original index to prepare for the join back to events table\n",
    "exploded_merged_events=exploded_merged_events.groupby('origIndex').agg({\n",
    "   # 'tagsList': list, \n",
    "   # 'Tag': list,\n",
    "    'Label': list\n",
    "}).reset_index()\n",
    "\n",
    "#joining back onto original events table\n",
    "events=pd.concat([events, exploded_merged_events['Label']], axis=1)"
   ]
  },
  {
   "cell_type": "code",
   "execution_count": null,
   "id": "71268271-ce47-43b6-b641-03f30d0345d8",
   "metadata": {},
   "outputs": [],
   "source": []
  },
  {
   "cell_type": "code",
   "execution_count": 51,
   "id": "3a362b6d-6d53-4969-8e04-86bc0742bc57",
   "metadata": {},
   "outputs": [
    {
     "data": {
      "text/html": [
       "<div>\n",
       "<style scoped>\n",
       "    .dataframe tbody tr th:only-of-type {\n",
       "        vertical-align: middle;\n",
       "    }\n",
       "\n",
       "    .dataframe tbody tr th {\n",
       "        vertical-align: top;\n",
       "    }\n",
       "\n",
       "    .dataframe thead th {\n",
       "        text-align: right;\n",
       "    }\n",
       "</style>\n",
       "<table border=\"1\" class=\"dataframe\">\n",
       "  <thead>\n",
       "    <tr style=\"text-align: right;\">\n",
       "      <th></th>\n",
       "      <th>Tag</th>\n",
       "      <th>Label</th>\n",
       "      <th>Description</th>\n",
       "    </tr>\n",
       "  </thead>\n",
       "  <tbody>\n",
       "    <tr>\n",
       "      <th>0</th>\n",
       "      <td>101</td>\n",
       "      <td>Goal</td>\n",
       "      <td>Goal</td>\n",
       "    </tr>\n",
       "    <tr>\n",
       "      <th>1</th>\n",
       "      <td>102</td>\n",
       "      <td>own_goal</td>\n",
       "      <td>Own goal</td>\n",
       "    </tr>\n",
       "    <tr>\n",
       "      <th>2</th>\n",
       "      <td>301</td>\n",
       "      <td>assist</td>\n",
       "      <td>Assist</td>\n",
       "    </tr>\n",
       "    <tr>\n",
       "      <th>3</th>\n",
       "      <td>302</td>\n",
       "      <td>keyPass</td>\n",
       "      <td>Key pass</td>\n",
       "    </tr>\n",
       "    <tr>\n",
       "      <th>4</th>\n",
       "      <td>1901</td>\n",
       "      <td>counter_attack</td>\n",
       "      <td>Counter attack</td>\n",
       "    </tr>\n",
       "    <tr>\n",
       "      <th>5</th>\n",
       "      <td>401</td>\n",
       "      <td>Left</td>\n",
       "      <td>Left foot</td>\n",
       "    </tr>\n",
       "    <tr>\n",
       "      <th>6</th>\n",
       "      <td>402</td>\n",
       "      <td>Right</td>\n",
       "      <td>Right foot</td>\n",
       "    </tr>\n",
       "    <tr>\n",
       "      <th>7</th>\n",
       "      <td>403</td>\n",
       "      <td>head/body</td>\n",
       "      <td>Head/body</td>\n",
       "    </tr>\n",
       "    <tr>\n",
       "      <th>8</th>\n",
       "      <td>1101</td>\n",
       "      <td>direct</td>\n",
       "      <td>Direct</td>\n",
       "    </tr>\n",
       "    <tr>\n",
       "      <th>9</th>\n",
       "      <td>1102</td>\n",
       "      <td>indirect</td>\n",
       "      <td>Indirect</td>\n",
       "    </tr>\n",
       "    <tr>\n",
       "      <th>10</th>\n",
       "      <td>2001</td>\n",
       "      <td>dangerous_ball_lost</td>\n",
       "      <td>Dangerous ball lost</td>\n",
       "    </tr>\n",
       "    <tr>\n",
       "      <th>11</th>\n",
       "      <td>2101</td>\n",
       "      <td>blocked</td>\n",
       "      <td>Blocked</td>\n",
       "    </tr>\n",
       "    <tr>\n",
       "      <th>12</th>\n",
       "      <td>801</td>\n",
       "      <td>high</td>\n",
       "      <td>High</td>\n",
       "    </tr>\n",
       "    <tr>\n",
       "      <th>13</th>\n",
       "      <td>802</td>\n",
       "      <td>low</td>\n",
       "      <td>Low</td>\n",
       "    </tr>\n",
       "    <tr>\n",
       "      <th>14</th>\n",
       "      <td>1401</td>\n",
       "      <td>interception</td>\n",
       "      <td>Interception</td>\n",
       "    </tr>\n",
       "    <tr>\n",
       "      <th>15</th>\n",
       "      <td>1501</td>\n",
       "      <td>clearance</td>\n",
       "      <td>Clearance</td>\n",
       "    </tr>\n",
       "    <tr>\n",
       "      <th>16</th>\n",
       "      <td>201</td>\n",
       "      <td>opportunity</td>\n",
       "      <td>Opportunity</td>\n",
       "    </tr>\n",
       "    <tr>\n",
       "      <th>17</th>\n",
       "      <td>1301</td>\n",
       "      <td>Feint</td>\n",
       "      <td>Feint</td>\n",
       "    </tr>\n",
       "    <tr>\n",
       "      <th>18</th>\n",
       "      <td>1302</td>\n",
       "      <td>missed ball</td>\n",
       "      <td>Missed ball</td>\n",
       "    </tr>\n",
       "    <tr>\n",
       "      <th>19</th>\n",
       "      <td>501</td>\n",
       "      <td>free_space_r</td>\n",
       "      <td>Free space right</td>\n",
       "    </tr>\n",
       "    <tr>\n",
       "      <th>20</th>\n",
       "      <td>502</td>\n",
       "      <td>free_space_l</td>\n",
       "      <td>Free space left</td>\n",
       "    </tr>\n",
       "    <tr>\n",
       "      <th>21</th>\n",
       "      <td>503</td>\n",
       "      <td>take_on_l</td>\n",
       "      <td>Take on left</td>\n",
       "    </tr>\n",
       "    <tr>\n",
       "      <th>22</th>\n",
       "      <td>504</td>\n",
       "      <td>take_on_r</td>\n",
       "      <td>Take on right</td>\n",
       "    </tr>\n",
       "    <tr>\n",
       "      <th>23</th>\n",
       "      <td>1601</td>\n",
       "      <td>sliding_tackle</td>\n",
       "      <td>Sliding tackle</td>\n",
       "    </tr>\n",
       "    <tr>\n",
       "      <th>24</th>\n",
       "      <td>601</td>\n",
       "      <td>anticipated</td>\n",
       "      <td>Anticipated</td>\n",
       "    </tr>\n",
       "    <tr>\n",
       "      <th>25</th>\n",
       "      <td>602</td>\n",
       "      <td>anticipation</td>\n",
       "      <td>Anticipation</td>\n",
       "    </tr>\n",
       "    <tr>\n",
       "      <th>26</th>\n",
       "      <td>1701</td>\n",
       "      <td>red_card</td>\n",
       "      <td>Red card</td>\n",
       "    </tr>\n",
       "    <tr>\n",
       "      <th>27</th>\n",
       "      <td>1702</td>\n",
       "      <td>yellow_card</td>\n",
       "      <td>Yellow card</td>\n",
       "    </tr>\n",
       "    <tr>\n",
       "      <th>28</th>\n",
       "      <td>1703</td>\n",
       "      <td>second_yellow_card</td>\n",
       "      <td>Second yellow card</td>\n",
       "    </tr>\n",
       "    <tr>\n",
       "      <th>29</th>\n",
       "      <td>1201</td>\n",
       "      <td>gb</td>\n",
       "      <td>Position: Goal low center</td>\n",
       "    </tr>\n",
       "    <tr>\n",
       "      <th>30</th>\n",
       "      <td>1202</td>\n",
       "      <td>gbr</td>\n",
       "      <td>Position: Goal low right</td>\n",
       "    </tr>\n",
       "    <tr>\n",
       "      <th>31</th>\n",
       "      <td>1203</td>\n",
       "      <td>gc</td>\n",
       "      <td>Position: Goal center</td>\n",
       "    </tr>\n",
       "    <tr>\n",
       "      <th>32</th>\n",
       "      <td>1204</td>\n",
       "      <td>gl</td>\n",
       "      <td>Position: Goal center left</td>\n",
       "    </tr>\n",
       "    <tr>\n",
       "      <th>33</th>\n",
       "      <td>1205</td>\n",
       "      <td>glb</td>\n",
       "      <td>Position: Goal low left</td>\n",
       "    </tr>\n",
       "    <tr>\n",
       "      <th>34</th>\n",
       "      <td>1206</td>\n",
       "      <td>gr</td>\n",
       "      <td>Position: Goal center right</td>\n",
       "    </tr>\n",
       "    <tr>\n",
       "      <th>35</th>\n",
       "      <td>1207</td>\n",
       "      <td>gt</td>\n",
       "      <td>Position: Goal high center</td>\n",
       "    </tr>\n",
       "    <tr>\n",
       "      <th>36</th>\n",
       "      <td>1208</td>\n",
       "      <td>gtl</td>\n",
       "      <td>Position: Goal high left</td>\n",
       "    </tr>\n",
       "    <tr>\n",
       "      <th>37</th>\n",
       "      <td>1209</td>\n",
       "      <td>gtr</td>\n",
       "      <td>Position: Goal high right</td>\n",
       "    </tr>\n",
       "    <tr>\n",
       "      <th>38</th>\n",
       "      <td>1210</td>\n",
       "      <td>obr</td>\n",
       "      <td>Position: Out low right</td>\n",
       "    </tr>\n",
       "    <tr>\n",
       "      <th>39</th>\n",
       "      <td>1211</td>\n",
       "      <td>ol</td>\n",
       "      <td>Position: Out center left</td>\n",
       "    </tr>\n",
       "    <tr>\n",
       "      <th>40</th>\n",
       "      <td>1212</td>\n",
       "      <td>olb</td>\n",
       "      <td>Position: Out low left</td>\n",
       "    </tr>\n",
       "    <tr>\n",
       "      <th>41</th>\n",
       "      <td>1213</td>\n",
       "      <td>or</td>\n",
       "      <td>Position: Out center right</td>\n",
       "    </tr>\n",
       "    <tr>\n",
       "      <th>42</th>\n",
       "      <td>1214</td>\n",
       "      <td>ot</td>\n",
       "      <td>Position: Out high center</td>\n",
       "    </tr>\n",
       "    <tr>\n",
       "      <th>43</th>\n",
       "      <td>1215</td>\n",
       "      <td>otl</td>\n",
       "      <td>Position: Out high left</td>\n",
       "    </tr>\n",
       "    <tr>\n",
       "      <th>44</th>\n",
       "      <td>1216</td>\n",
       "      <td>otr</td>\n",
       "      <td>Position: Out high right</td>\n",
       "    </tr>\n",
       "    <tr>\n",
       "      <th>45</th>\n",
       "      <td>1217</td>\n",
       "      <td>pbr</td>\n",
       "      <td>Position: Post low right</td>\n",
       "    </tr>\n",
       "    <tr>\n",
       "      <th>46</th>\n",
       "      <td>1218</td>\n",
       "      <td>pl</td>\n",
       "      <td>Position: Post center left</td>\n",
       "    </tr>\n",
       "    <tr>\n",
       "      <th>47</th>\n",
       "      <td>1219</td>\n",
       "      <td>plb</td>\n",
       "      <td>Position: Post low left</td>\n",
       "    </tr>\n",
       "    <tr>\n",
       "      <th>48</th>\n",
       "      <td>1220</td>\n",
       "      <td>pr</td>\n",
       "      <td>Position: Post center right</td>\n",
       "    </tr>\n",
       "    <tr>\n",
       "      <th>49</th>\n",
       "      <td>1221</td>\n",
       "      <td>pt</td>\n",
       "      <td>Position: Post high center</td>\n",
       "    </tr>\n",
       "    <tr>\n",
       "      <th>50</th>\n",
       "      <td>1222</td>\n",
       "      <td>ptl</td>\n",
       "      <td>Position: Post high left</td>\n",
       "    </tr>\n",
       "    <tr>\n",
       "      <th>51</th>\n",
       "      <td>1223</td>\n",
       "      <td>ptr</td>\n",
       "      <td>Position: Post high right</td>\n",
       "    </tr>\n",
       "    <tr>\n",
       "      <th>52</th>\n",
       "      <td>901</td>\n",
       "      <td>through</td>\n",
       "      <td>Through</td>\n",
       "    </tr>\n",
       "    <tr>\n",
       "      <th>53</th>\n",
       "      <td>1001</td>\n",
       "      <td>fairplay</td>\n",
       "      <td>Fairplay</td>\n",
       "    </tr>\n",
       "    <tr>\n",
       "      <th>54</th>\n",
       "      <td>701</td>\n",
       "      <td>lost</td>\n",
       "      <td>Lost</td>\n",
       "    </tr>\n",
       "    <tr>\n",
       "      <th>55</th>\n",
       "      <td>702</td>\n",
       "      <td>neutral</td>\n",
       "      <td>Neutral</td>\n",
       "    </tr>\n",
       "    <tr>\n",
       "      <th>56</th>\n",
       "      <td>703</td>\n",
       "      <td>won</td>\n",
       "      <td>Won</td>\n",
       "    </tr>\n",
       "    <tr>\n",
       "      <th>57</th>\n",
       "      <td>1801</td>\n",
       "      <td>accurate</td>\n",
       "      <td>Accurate</td>\n",
       "    </tr>\n",
       "    <tr>\n",
       "      <th>58</th>\n",
       "      <td>1802</td>\n",
       "      <td>not accurate</td>\n",
       "      <td>Not accurate</td>\n",
       "    </tr>\n",
       "  </tbody>\n",
       "</table>\n",
       "</div>"
      ],
      "text/plain": [
       "     Tag                Label                  Description\n",
       "0    101                 Goal                         Goal\n",
       "1    102             own_goal                     Own goal\n",
       "2    301               assist                       Assist\n",
       "3    302              keyPass                     Key pass\n",
       "4   1901       counter_attack               Counter attack\n",
       "5    401                 Left                    Left foot\n",
       "6    402                Right                   Right foot\n",
       "7    403            head/body                    Head/body\n",
       "8   1101               direct                       Direct\n",
       "9   1102             indirect                     Indirect\n",
       "10  2001  dangerous_ball_lost          Dangerous ball lost\n",
       "11  2101              blocked                      Blocked\n",
       "12   801                 high                         High\n",
       "13   802                  low                          Low\n",
       "14  1401         interception                 Interception\n",
       "15  1501            clearance                    Clearance\n",
       "16   201          opportunity                  Opportunity\n",
       "17  1301                Feint                        Feint\n",
       "18  1302          missed ball                  Missed ball\n",
       "19   501         free_space_r             Free space right\n",
       "20   502         free_space_l              Free space left\n",
       "21   503            take_on_l                 Take on left\n",
       "22   504            take_on_r                Take on right\n",
       "23  1601       sliding_tackle               Sliding tackle\n",
       "24   601          anticipated                  Anticipated\n",
       "25   602         anticipation                 Anticipation\n",
       "26  1701             red_card                     Red card\n",
       "27  1702          yellow_card                  Yellow card\n",
       "28  1703   second_yellow_card           Second yellow card\n",
       "29  1201                   gb    Position: Goal low center\n",
       "30  1202                  gbr     Position: Goal low right\n",
       "31  1203                   gc        Position: Goal center\n",
       "32  1204                   gl   Position: Goal center left\n",
       "33  1205                  glb      Position: Goal low left\n",
       "34  1206                   gr  Position: Goal center right\n",
       "35  1207                   gt   Position: Goal high center\n",
       "36  1208                  gtl     Position: Goal high left\n",
       "37  1209                  gtr    Position: Goal high right\n",
       "38  1210                  obr      Position: Out low right\n",
       "39  1211                   ol    Position: Out center left\n",
       "40  1212                  olb       Position: Out low left\n",
       "41  1213                   or   Position: Out center right\n",
       "42  1214                   ot    Position: Out high center\n",
       "43  1215                  otl      Position: Out high left\n",
       "44  1216                  otr     Position: Out high right\n",
       "45  1217                  pbr     Position: Post low right\n",
       "46  1218                   pl   Position: Post center left\n",
       "47  1219                  plb      Position: Post low left\n",
       "48  1220                   pr  Position: Post center right\n",
       "49  1221                   pt   Position: Post high center\n",
       "50  1222                  ptl     Position: Post high left\n",
       "51  1223                  ptr    Position: Post high right\n",
       "52   901              through                      Through\n",
       "53  1001             fairplay                     Fairplay\n",
       "54   701                 lost                         Lost\n",
       "55   702              neutral                      Neutral\n",
       "56   703                  won                          Won\n",
       "57  1801             accurate                     Accurate\n",
       "58  1802         not accurate                 Not accurate"
      ]
     },
     "execution_count": 51,
     "metadata": {},
     "output_type": "execute_result"
    }
   ],
   "source": [
    "tags2name"
   ]
  },
  {
   "cell_type": "markdown",
   "id": "fd58f93c-224c-4283-a01e-7e35aa230685",
   "metadata": {},
   "source": [
    "#### counting tags by event type where event type is pass"
   ]
  },
  {
   "cell_type": "code",
   "execution_count": 52,
   "id": "eb49e44b-5ccc-4bc1-b077-3cab86af8667",
   "metadata": {},
   "outputs": [
    {
     "data": {
      "text/plain": [
       "0         [accurate]\n",
       "1         [accurate]\n",
       "2         [accurate]\n",
       "3         [accurate]\n",
       "4         [accurate]\n",
       "             ...    \n",
       "643085    [accurate]\n",
       "643086    [accurate]\n",
       "643087    [accurate]\n",
       "643088    [accurate]\n",
       "643089    [accurate]\n",
       "Name: Label, Length: 643090, dtype: object"
      ]
     },
     "execution_count": 52,
     "metadata": {},
     "output_type": "execute_result"
    }
   ],
   "source": [
    "events['Label']"
   ]
  },
  {
   "cell_type": "code",
   "execution_count": 53,
   "id": "c1df44a8-ea07-4e1a-ba8a-e1e467d23fee",
   "metadata": {},
   "outputs": [
    {
     "data": {
      "text/html": [
       "<div>\n",
       "<style scoped>\n",
       "    .dataframe tbody tr th:only-of-type {\n",
       "        vertical-align: middle;\n",
       "    }\n",
       "\n",
       "    .dataframe tbody tr th {\n",
       "        vertical-align: top;\n",
       "    }\n",
       "\n",
       "    .dataframe thead th {\n",
       "        text-align: right;\n",
       "    }\n",
       "</style>\n",
       "<table border=\"1\" class=\"dataframe\">\n",
       "  <thead>\n",
       "    <tr style=\"text-align: right;\">\n",
       "      <th></th>\n",
       "      <th>Label</th>\n",
       "      <th>0</th>\n",
       "    </tr>\n",
       "  </thead>\n",
       "  <tbody>\n",
       "    <tr>\n",
       "      <th>18</th>\n",
       "      <td>['accurate']</td>\n",
       "      <td>251683</td>\n",
       "    </tr>\n",
       "    <tr>\n",
       "      <th>105</th>\n",
       "      <td>['not accurate']</td>\n",
       "      <td>39560</td>\n",
       "    </tr>\n",
       "    <tr>\n",
       "      <th>73</th>\n",
       "      <td>['interception', 'accurate']</td>\n",
       "      <td>9629</td>\n",
       "    </tr>\n",
       "    <tr>\n",
       "      <th>109</th>\n",
       "      <td>['through', 'not accurate']</td>\n",
       "      <td>3959</td>\n",
       "    </tr>\n",
       "    <tr>\n",
       "      <th>74</th>\n",
       "      <td>['interception', 'not accurate']</td>\n",
       "      <td>3932</td>\n",
       "    </tr>\n",
       "  </tbody>\n",
       "</table>\n",
       "</div>"
      ],
      "text/plain": [
       "                                Label       0\n",
       "18                       ['accurate']  251683\n",
       "105                  ['not accurate']   39560\n",
       "73       ['interception', 'accurate']    9629\n",
       "109       ['through', 'not accurate']    3959\n",
       "74   ['interception', 'not accurate']    3932"
      ]
     },
     "execution_count": 53,
     "metadata": {},
     "output_type": "execute_result"
    }
   ],
   "source": [
    "#events['tagLabels_str'] = events['tagLabels'].astype(str)\n",
    "\n",
    "# Filter for 'Pass' events and group by the modified 'tagLabels' column\n",
    "events[events['eventName'] == 'Pass'].groupby( events['Label'].astype(str)).size().reset_index().sort_values(by=0, ascending=False).head()"
   ]
  },
  {
   "cell_type": "code",
   "execution_count": 54,
   "id": "eee17c3f-d11b-465d-ba05-bd42cb1a71be",
   "metadata": {},
   "outputs": [
    {
     "data": {
      "text/html": [
       "<div>\n",
       "<style scoped>\n",
       "    .dataframe tbody tr th:only-of-type {\n",
       "        vertical-align: middle;\n",
       "    }\n",
       "\n",
       "    .dataframe tbody tr th {\n",
       "        vertical-align: top;\n",
       "    }\n",
       "\n",
       "    .dataframe thead th {\n",
       "        text-align: right;\n",
       "    }\n",
       "</style>\n",
       "<table border=\"1\" class=\"dataframe\">\n",
       "  <thead>\n",
       "    <tr style=\"text-align: right;\">\n",
       "      <th></th>\n",
       "      <th>Label</th>\n",
       "      <th>0</th>\n",
       "    </tr>\n",
       "  </thead>\n",
       "  <tbody>\n",
       "    <tr>\n",
       "      <th>38</th>\n",
       "      <td>[nan]</td>\n",
       "      <td>18244</td>\n",
       "    </tr>\n",
       "    <tr>\n",
       "      <th>26</th>\n",
       "      <td>['interception']</td>\n",
       "      <td>12960</td>\n",
       "    </tr>\n",
       "    <tr>\n",
       "      <th>25</th>\n",
       "      <td>['interception', 'not accurate']</td>\n",
       "      <td>4808</td>\n",
       "    </tr>\n",
       "    <tr>\n",
       "      <th>30</th>\n",
       "      <td>['not accurate']</td>\n",
       "      <td>4724</td>\n",
       "    </tr>\n",
       "    <tr>\n",
       "      <th>1</th>\n",
       "      <td>['accurate']</td>\n",
       "      <td>4215</td>\n",
       "    </tr>\n",
       "  </tbody>\n",
       "</table>\n",
       "</div>"
      ],
      "text/plain": [
       "                               Label      0\n",
       "38                             [nan]  18244\n",
       "26                  ['interception']  12960\n",
       "25  ['interception', 'not accurate']   4808\n",
       "30                  ['not accurate']   4724\n",
       "1                       ['accurate']   4215"
      ]
     },
     "execution_count": 54,
     "metadata": {},
     "output_type": "execute_result"
    }
   ],
   "source": [
    "#events['tagLabels_str'] = events['tagLabels'].astype(str)\n",
    "\n",
    "# Filter for 'Pass' events and group by the modified 'tagLabels' column\n",
    "events[events['eventName'] == 'Others on the ball'].groupby(events['Label'].astype(str)).size().reset_index().sort_values(by=0, ascending=False).head()"
   ]
  },
  {
   "cell_type": "markdown",
   "id": "faeb9d96-f059-4fdb-8fca-db746ea1b301",
   "metadata": {},
   "source": [
    "#### Rows that contain counter_attack in the tagLabels column"
   ]
  },
  {
   "cell_type": "code",
   "execution_count": 55,
   "id": "acb21a04-3cc6-4e95-9165-b9751ad1aa05",
   "metadata": {},
   "outputs": [
    {
     "data": {
      "text/html": [
       "<div>\n",
       "<style scoped>\n",
       "    .dataframe tbody tr th:only-of-type {\n",
       "        vertical-align: middle;\n",
       "    }\n",
       "\n",
       "    .dataframe tbody tr th {\n",
       "        vertical-align: top;\n",
       "    }\n",
       "\n",
       "    .dataframe thead th {\n",
       "        text-align: right;\n",
       "    }\n",
       "</style>\n",
       "<table border=\"1\" class=\"dataframe\">\n",
       "  <thead>\n",
       "    <tr style=\"text-align: right;\">\n",
       "      <th></th>\n",
       "      <th>eventId</th>\n",
       "      <th>subEventName</th>\n",
       "      <th>playerId</th>\n",
       "      <th>positions</th>\n",
       "      <th>matchId</th>\n",
       "      <th>eventName</th>\n",
       "      <th>teamId</th>\n",
       "      <th>matchPeriod</th>\n",
       "      <th>eventSec</th>\n",
       "      <th>subEventId</th>\n",
       "      <th>id</th>\n",
       "      <th>tagsList</th>\n",
       "      <th>pos_orig_y</th>\n",
       "      <th>pos_orig_x</th>\n",
       "      <th>pos_dest_y</th>\n",
       "      <th>pos_dest_x</th>\n",
       "      <th>Label</th>\n",
       "    </tr>\n",
       "  </thead>\n",
       "  <tbody>\n",
       "    <tr>\n",
       "      <th>72</th>\n",
       "      <td>8</td>\n",
       "      <td>Simple pass</td>\n",
       "      <td>8013</td>\n",
       "      <td>[{'y': 14, 'x': 53}, {'y': 7, 'x': 85}]</td>\n",
       "      <td>2499719</td>\n",
       "      <td>Pass</td>\n",
       "      <td>1631</td>\n",
       "      <td>1H</td>\n",
       "      <td>220.782446</td>\n",
       "      <td>85.0</td>\n",
       "      <td>177959254</td>\n",
       "      <td>[1901, 1401, 1801]</td>\n",
       "      <td>14</td>\n",
       "      <td>53</td>\n",
       "      <td>7</td>\n",
       "      <td>85</td>\n",
       "      <td>[counter_attack, interception, accurate]</td>\n",
       "    </tr>\n",
       "    <tr>\n",
       "      <th>74</th>\n",
       "      <td>1</td>\n",
       "      <td>Ground attacking duel</td>\n",
       "      <td>12829</td>\n",
       "      <td>[{'y': 7, 'x': 85}, {'y': 10, 'x': 96}]</td>\n",
       "      <td>2499719</td>\n",
       "      <td>Duel</td>\n",
       "      <td>1631</td>\n",
       "      <td>1H</td>\n",
       "      <td>227.006908</td>\n",
       "      <td>11.0</td>\n",
       "      <td>177959257</td>\n",
       "      <td>[1901, 502, 703, 1801]</td>\n",
       "      <td>7</td>\n",
       "      <td>85</td>\n",
       "      <td>10</td>\n",
       "      <td>96</td>\n",
       "      <td>[counter_attack, free_space_l, won, accurate]</td>\n",
       "    </tr>\n",
       "    <tr>\n",
       "      <th>75</th>\n",
       "      <td>8</td>\n",
       "      <td>Cross</td>\n",
       "      <td>12829</td>\n",
       "      <td>[{'y': 10, 'x': 96}, {'y': 100, 'x': 100}]</td>\n",
       "      <td>2499719</td>\n",
       "      <td>Pass</td>\n",
       "      <td>1631</td>\n",
       "      <td>1H</td>\n",
       "      <td>228.764258</td>\n",
       "      <td>80.0</td>\n",
       "      <td>177959258</td>\n",
       "      <td>[1901, 401, 2101, 1802]</td>\n",
       "      <td>10</td>\n",
       "      <td>96</td>\n",
       "      <td>100</td>\n",
       "      <td>100</td>\n",
       "      <td>[counter_attack, Left, blocked, not accurate]</td>\n",
       "    </tr>\n",
       "    <tr>\n",
       "      <th>338</th>\n",
       "      <td>1</td>\n",
       "      <td>Ground attacking duel</td>\n",
       "      <td>25413</td>\n",
       "      <td>[{'y': 30, 'x': 62}, {'y': 28, 'x': 62}]</td>\n",
       "      <td>2499719</td>\n",
       "      <td>Duel</td>\n",
       "      <td>1609</td>\n",
       "      <td>1H</td>\n",
       "      <td>1118.937573</td>\n",
       "      <td>11.0</td>\n",
       "      <td>177959537</td>\n",
       "      <td>[1901, 503, 703, 1801]</td>\n",
       "      <td>30</td>\n",
       "      <td>62</td>\n",
       "      <td>28</td>\n",
       "      <td>62</td>\n",
       "      <td>[counter_attack, take_on_l, won, accurate]</td>\n",
       "    </tr>\n",
       "    <tr>\n",
       "      <th>585</th>\n",
       "      <td>1</td>\n",
       "      <td>Ground defending duel</td>\n",
       "      <td>8653</td>\n",
       "      <td>[{'y': 46, 'x': 22}, {'y': 37, 'x': 23}]</td>\n",
       "      <td>2499719</td>\n",
       "      <td>Duel</td>\n",
       "      <td>1631</td>\n",
       "      <td>1H</td>\n",
       "      <td>1839.697675</td>\n",
       "      <td>12.0</td>\n",
       "      <td>177959776</td>\n",
       "      <td>[1901, 703, 1801]</td>\n",
       "      <td>46</td>\n",
       "      <td>22</td>\n",
       "      <td>37</td>\n",
       "      <td>23</td>\n",
       "      <td>[counter_attack, won, accurate]</td>\n",
       "    </tr>\n",
       "    <tr>\n",
       "      <th>...</th>\n",
       "      <td>...</td>\n",
       "      <td>...</td>\n",
       "      <td>...</td>\n",
       "      <td>...</td>\n",
       "      <td>...</td>\n",
       "      <td>...</td>\n",
       "      <td>...</td>\n",
       "      <td>...</td>\n",
       "      <td>...</td>\n",
       "      <td>...</td>\n",
       "      <td>...</td>\n",
       "      <td>...</td>\n",
       "      <td>...</td>\n",
       "      <td>...</td>\n",
       "      <td>...</td>\n",
       "      <td>...</td>\n",
       "      <td>...</td>\n",
       "    </tr>\n",
       "    <tr>\n",
       "      <th>642926</th>\n",
       "      <td>8</td>\n",
       "      <td>Simple pass</td>\n",
       "      <td>41174</td>\n",
       "      <td>[{'y': 33, 'x': 62}, {'y': 27, 'x': 73}]</td>\n",
       "      <td>2500098</td>\n",
       "      <td>Pass</td>\n",
       "      <td>1633</td>\n",
       "      <td>2H</td>\n",
       "      <td>1886.598773</td>\n",
       "      <td>85.0</td>\n",
       "      <td>251596034</td>\n",
       "      <td>[1901, 1801]</td>\n",
       "      <td>44</td>\n",
       "      <td>19</td>\n",
       "      <td>43</td>\n",
       "      <td>20</td>\n",
       "      <td>[counter_attack, accurate]</td>\n",
       "    </tr>\n",
       "    <tr>\n",
       "      <th>642927</th>\n",
       "      <td>7</td>\n",
       "      <td>Acceleration</td>\n",
       "      <td>14703</td>\n",
       "      <td>[{'y': 27, 'x': 73}, {'y': 39, 'x': 91}]</td>\n",
       "      <td>2500098</td>\n",
       "      <td>Others on the ball</td>\n",
       "      <td>1633</td>\n",
       "      <td>2H</td>\n",
       "      <td>1888.150308</td>\n",
       "      <td>70.0</td>\n",
       "      <td>251596037</td>\n",
       "      <td>[1901, 1801]</td>\n",
       "      <td>43</td>\n",
       "      <td>20</td>\n",
       "      <td>43</td>\n",
       "      <td>24</td>\n",
       "      <td>[counter_attack, accurate]</td>\n",
       "    </tr>\n",
       "    <tr>\n",
       "      <th>642928</th>\n",
       "      <td>1</td>\n",
       "      <td>Ground attacking duel</td>\n",
       "      <td>14703</td>\n",
       "      <td>[{'y': 39, 'x': 91}, {'y': 34, 'x': 88}]</td>\n",
       "      <td>2500098</td>\n",
       "      <td>Duel</td>\n",
       "      <td>1633</td>\n",
       "      <td>2H</td>\n",
       "      <td>1891.236739</td>\n",
       "      <td>11.0</td>\n",
       "      <td>251596040</td>\n",
       "      <td>[1901, 502, 602, 703, 1801]</td>\n",
       "      <td>57</td>\n",
       "      <td>80</td>\n",
       "      <td>57</td>\n",
       "      <td>76</td>\n",
       "      <td>[counter_attack, free_space_l, anticipation, w...</td>\n",
       "    </tr>\n",
       "    <tr>\n",
       "      <th>642929</th>\n",
       "      <td>8</td>\n",
       "      <td>Simple pass</td>\n",
       "      <td>14703</td>\n",
       "      <td>[{'y': 34, 'x': 88}, {'y': 57, 'x': 91}]</td>\n",
       "      <td>2500098</td>\n",
       "      <td>Pass</td>\n",
       "      <td>1633</td>\n",
       "      <td>2H</td>\n",
       "      <td>1893.514543</td>\n",
       "      <td>85.0</td>\n",
       "      <td>251596038</td>\n",
       "      <td>[1901, 1801]</td>\n",
       "      <td>57</td>\n",
       "      <td>76</td>\n",
       "      <td>75</td>\n",
       "      <td>90</td>\n",
       "      <td>[counter_attack, accurate]</td>\n",
       "    </tr>\n",
       "    <tr>\n",
       "      <th>642931</th>\n",
       "      <td>1</td>\n",
       "      <td>Ground loose ball duel</td>\n",
       "      <td>70965</td>\n",
       "      <td>[{'y': 57, 'x': 91}, {'y': 0, 'x': 100}]</td>\n",
       "      <td>2500098</td>\n",
       "      <td>Duel</td>\n",
       "      <td>1633</td>\n",
       "      <td>2H</td>\n",
       "      <td>1895.695400</td>\n",
       "      <td>13.0</td>\n",
       "      <td>251596043</td>\n",
       "      <td>[1901, 702, 1801]</td>\n",
       "      <td>8</td>\n",
       "      <td>91</td>\n",
       "      <td>10</td>\n",
       "      <td>76</td>\n",
       "      <td>[counter_attack, neutral, accurate]</td>\n",
       "    </tr>\n",
       "  </tbody>\n",
       "</table>\n",
       "<p>9401 rows × 17 columns</p>\n",
       "</div>"
      ],
      "text/plain": [
       "        eventId            subEventName  playerId  \\\n",
       "72            8             Simple pass      8013   \n",
       "74            1   Ground attacking duel     12829   \n",
       "75            8                   Cross     12829   \n",
       "338           1   Ground attacking duel     25413   \n",
       "585           1   Ground defending duel      8653   \n",
       "...         ...                     ...       ...   \n",
       "642926        8             Simple pass     41174   \n",
       "642927        7            Acceleration     14703   \n",
       "642928        1   Ground attacking duel     14703   \n",
       "642929        8             Simple pass     14703   \n",
       "642931        1  Ground loose ball duel     70965   \n",
       "\n",
       "                                         positions  matchId  \\\n",
       "72         [{'y': 14, 'x': 53}, {'y': 7, 'x': 85}]  2499719   \n",
       "74         [{'y': 7, 'x': 85}, {'y': 10, 'x': 96}]  2499719   \n",
       "75      [{'y': 10, 'x': 96}, {'y': 100, 'x': 100}]  2499719   \n",
       "338       [{'y': 30, 'x': 62}, {'y': 28, 'x': 62}]  2499719   \n",
       "585       [{'y': 46, 'x': 22}, {'y': 37, 'x': 23}]  2499719   \n",
       "...                                            ...      ...   \n",
       "642926    [{'y': 33, 'x': 62}, {'y': 27, 'x': 73}]  2500098   \n",
       "642927    [{'y': 27, 'x': 73}, {'y': 39, 'x': 91}]  2500098   \n",
       "642928    [{'y': 39, 'x': 91}, {'y': 34, 'x': 88}]  2500098   \n",
       "642929    [{'y': 34, 'x': 88}, {'y': 57, 'x': 91}]  2500098   \n",
       "642931    [{'y': 57, 'x': 91}, {'y': 0, 'x': 100}]  2500098   \n",
       "\n",
       "                 eventName  teamId matchPeriod     eventSec  subEventId  \\\n",
       "72                    Pass    1631          1H   220.782446        85.0   \n",
       "74                    Duel    1631          1H   227.006908        11.0   \n",
       "75                    Pass    1631          1H   228.764258        80.0   \n",
       "338                   Duel    1609          1H  1118.937573        11.0   \n",
       "585                   Duel    1631          1H  1839.697675        12.0   \n",
       "...                    ...     ...         ...          ...         ...   \n",
       "642926                Pass    1633          2H  1886.598773        85.0   \n",
       "642927  Others on the ball    1633          2H  1888.150308        70.0   \n",
       "642928                Duel    1633          2H  1891.236739        11.0   \n",
       "642929                Pass    1633          2H  1893.514543        85.0   \n",
       "642931                Duel    1633          2H  1895.695400        13.0   \n",
       "\n",
       "               id                     tagsList  pos_orig_y  pos_orig_x  \\\n",
       "72      177959254           [1901, 1401, 1801]          14          53   \n",
       "74      177959257       [1901, 502, 703, 1801]           7          85   \n",
       "75      177959258      [1901, 401, 2101, 1802]          10          96   \n",
       "338     177959537       [1901, 503, 703, 1801]          30          62   \n",
       "585     177959776            [1901, 703, 1801]          46          22   \n",
       "...           ...                          ...         ...         ...   \n",
       "642926  251596034                 [1901, 1801]          44          19   \n",
       "642927  251596037                 [1901, 1801]          43          20   \n",
       "642928  251596040  [1901, 502, 602, 703, 1801]          57          80   \n",
       "642929  251596038                 [1901, 1801]          57          76   \n",
       "642931  251596043            [1901, 702, 1801]           8          91   \n",
       "\n",
       "        pos_dest_y  pos_dest_x  \\\n",
       "72               7          85   \n",
       "74              10          96   \n",
       "75             100         100   \n",
       "338             28          62   \n",
       "585             37          23   \n",
       "...            ...         ...   \n",
       "642926          43          20   \n",
       "642927          43          24   \n",
       "642928          57          76   \n",
       "642929          75          90   \n",
       "642931          10          76   \n",
       "\n",
       "                                                    Label  \n",
       "72               [counter_attack, interception, accurate]  \n",
       "74          [counter_attack, free_space_l, won, accurate]  \n",
       "75          [counter_attack, Left, blocked, not accurate]  \n",
       "338            [counter_attack, take_on_l, won, accurate]  \n",
       "585                       [counter_attack, won, accurate]  \n",
       "...                                                   ...  \n",
       "642926                         [counter_attack, accurate]  \n",
       "642927                         [counter_attack, accurate]  \n",
       "642928  [counter_attack, free_space_l, anticipation, w...  \n",
       "642929                         [counter_attack, accurate]  \n",
       "642931                [counter_attack, neutral, accurate]  \n",
       "\n",
       "[9401 rows x 17 columns]"
      ]
     },
     "execution_count": 55,
     "metadata": {},
     "output_type": "execute_result"
    }
   ],
   "source": [
    "temp=events[events['Label'].apply(lambda x: 'counter_attack' in x)]\n",
    "temp"
   ]
  },
  {
   "cell_type": "code",
   "execution_count": 56,
   "id": "33a59991-91ec-4b08-ba79-a7bf1cc20d47",
   "metadata": {},
   "outputs": [
    {
     "data": {
      "text/plain": [
       "eventName                subEventName           \n",
       "Pass                     Simple pass                3447\n",
       "Duel                     Ground attacking duel      1241\n",
       "Others on the ball       Acceleration                915\n",
       "Duel                     Ground defending duel       541\n",
       "Others on the ball       Touch                       530\n",
       "Shot                     Shot                        425\n",
       "Pass                     High pass                   407\n",
       "                         Smart pass                  397\n",
       "                         Cross                       366\n",
       "Duel                     Ground loose ball duel      280\n",
       "                         Air duel                    234\n",
       "Pass                     Head pass                   208\n",
       "Others on the ball       Clearance                   139\n",
       "Pass                     Hand pass                    86\n",
       "Goalkeeper leaving line  Goalkeeper leaving line      66\n",
       "Pass                     Launch                       57\n",
       "Save attempt             Save attempt                 14\n",
       "                         Reflexes                     11\n",
       "Foul                     Foul                          4\n",
       "Interruption             Whistle                       2\n",
       "Name: count, dtype: int64"
      ]
     },
     "execution_count": 56,
     "metadata": {},
     "output_type": "execute_result"
    }
   ],
   "source": [
    "temp[['eventName','subEventName']].value_counts()"
   ]
  },
  {
   "cell_type": "markdown",
   "id": "2de40905-8000-49f8-be48-f6ab31a561c1",
   "metadata": {},
   "source": [
    "### positional data looks very weird"
   ]
  },
  {
   "cell_type": "markdown",
   "id": "e1962037-2e27-4c8b-8f6c-6949282e9597",
   "metadata": {},
   "source": [
    "the pos_orig_y\tpos_orig_x\tpos_dest_y\tpos_dest_x\tdata seems junk to me. Because i researched some actual goals from some of the matches and they dont match up the pos columns at all.\n",
    "\n",
    "But the first X value in the positions column seems to actually have some correct data.\n",
    "\n",
    "I filtered for all goals where x<70 and indeed they equate to long shot goals. Noteably Wayne Rooney's goal from his own half is also there.\n",
    "\n",
    "I think I will just use this one positional coordinate for now."
   ]
  },
  {
   "cell_type": "markdown",
   "id": "a0e7d1c0-fc1d-4a0c-949a-70ad3febb7ec",
   "metadata": {},
   "source": [
    "I actually since found this project:\n",
    "https://www.kaggle.com/code/mikolajhojda/what-is-expected-goals-xg\n",
    "\n",
    "It looks like the author also used the first X value to judge distance. "
   ]
  },
  {
   "cell_type": "code",
   "execution_count": 57,
   "id": "e7c8e4da-3212-469f-aaa2-45a8a75b021c",
   "metadata": {},
   "outputs": [
    {
     "data": {
      "text/html": [
       "<div>\n",
       "<style scoped>\n",
       "    .dataframe tbody tr th:only-of-type {\n",
       "        vertical-align: middle;\n",
       "    }\n",
       "\n",
       "    .dataframe tbody tr th {\n",
       "        vertical-align: top;\n",
       "    }\n",
       "\n",
       "    .dataframe thead th {\n",
       "        text-align: right;\n",
       "    }\n",
       "</style>\n",
       "<table border=\"1\" class=\"dataframe\">\n",
       "  <thead>\n",
       "    <tr style=\"text-align: right;\">\n",
       "      <th></th>\n",
       "      <th>eventId</th>\n",
       "      <th>subEventName</th>\n",
       "      <th>playerId</th>\n",
       "      <th>positions</th>\n",
       "      <th>matchId</th>\n",
       "      <th>eventName</th>\n",
       "      <th>teamId</th>\n",
       "      <th>matchPeriod</th>\n",
       "      <th>eventSec</th>\n",
       "      <th>subEventId</th>\n",
       "      <th>id</th>\n",
       "      <th>tagsList</th>\n",
       "      <th>pos_orig_y</th>\n",
       "      <th>pos_orig_x</th>\n",
       "      <th>pos_dest_y</th>\n",
       "      <th>pos_dest_x</th>\n",
       "      <th>Label</th>\n",
       "    </tr>\n",
       "  </thead>\n",
       "  <tbody>\n",
       "    <tr>\n",
       "      <th>51952</th>\n",
       "      <td>10</td>\n",
       "      <td>Shot</td>\n",
       "      <td>9206</td>\n",
       "      <td>[{'y': 67, 'x': 67}, {'y': 0, 'x': 0}]</td>\n",
       "      <td>2499751</td>\n",
       "      <td>Shot</td>\n",
       "      <td>1646</td>\n",
       "      <td>1H</td>\n",
       "      <td>170.935625</td>\n",
       "      <td>100.0</td>\n",
       "      <td>186144087</td>\n",
       "      <td>[101, 402, 201, 1201, 1801]</td>\n",
       "      <td>72</td>\n",
       "      <td>28</td>\n",
       "      <td>64</td>\n",
       "      <td>34</td>\n",
       "      <td>[Goal, Right, opportunity, gb, accurate]</td>\n",
       "    </tr>\n",
       "    <tr>\n",
       "      <th>230690</th>\n",
       "      <td>10</td>\n",
       "      <td>Shot</td>\n",
       "      <td>7944</td>\n",
       "      <td>[{'y': 40, 'x': 44}, {'y': 0, 'x': 0}]</td>\n",
       "      <td>2499856</td>\n",
       "      <td>Shot</td>\n",
       "      <td>1623</td>\n",
       "      <td>2H</td>\n",
       "      <td>1254.782389</td>\n",
       "      <td>100.0</td>\n",
       "      <td>210484394</td>\n",
       "      <td>[101, 402, 201, 1203, 1801]</td>\n",
       "      <td>46</td>\n",
       "      <td>22</td>\n",
       "      <td>51</td>\n",
       "      <td>31</td>\n",
       "      <td>[Goal, Right, opportunity, gc, accurate]</td>\n",
       "    </tr>\n",
       "    <tr>\n",
       "      <th>351100</th>\n",
       "      <td>10</td>\n",
       "      <td>Shot</td>\n",
       "      <td>14911</td>\n",
       "      <td>[{'y': 50, 'x': 69}, {'y': 0, 'x': 0}]</td>\n",
       "      <td>2499926</td>\n",
       "      <td>Shot</td>\n",
       "      <td>1624</td>\n",
       "      <td>2H</td>\n",
       "      <td>2292.068408</td>\n",
       "      <td>100.0</td>\n",
       "      <td>218870556</td>\n",
       "      <td>[101, 402, 201, 1209, 1801]</td>\n",
       "      <td>64</td>\n",
       "      <td>3</td>\n",
       "      <td>58</td>\n",
       "      <td>100</td>\n",
       "      <td>[Goal, Right, opportunity, gtr, accurate]</td>\n",
       "    </tr>\n",
       "    <tr>\n",
       "      <th>380034</th>\n",
       "      <td>10</td>\n",
       "      <td>Shot</td>\n",
       "      <td>120353</td>\n",
       "      <td>[{'y': 34, 'x': 67}, {'y': 0, 'x': 0}]</td>\n",
       "      <td>2499943</td>\n",
       "      <td>Shot</td>\n",
       "      <td>1612</td>\n",
       "      <td>2H</td>\n",
       "      <td>1323.837327</td>\n",
       "      <td>100.0</td>\n",
       "      <td>220934410</td>\n",
       "      <td>[101, 401, 1401, 201, 1201, 1801]</td>\n",
       "      <td>30</td>\n",
       "      <td>30</td>\n",
       "      <td>30</td>\n",
       "      <td>30</td>\n",
       "      <td>[Goal, Left, interception, opportunity, gb, ac...</td>\n",
       "    </tr>\n",
       "    <tr>\n",
       "      <th>479006</th>\n",
       "      <td>10</td>\n",
       "      <td>Shot</td>\n",
       "      <td>70122</td>\n",
       "      <td>[{'y': 67, 'x': 67}, {'y': 100, 'x': 100}]</td>\n",
       "      <td>2500001</td>\n",
       "      <td>Shot</td>\n",
       "      <td>1611</td>\n",
       "      <td>2H</td>\n",
       "      <td>2748.607624</td>\n",
       "      <td>100.0</td>\n",
       "      <td>232587707</td>\n",
       "      <td>[101, 401, 201, 1204, 1801]</td>\n",
       "      <td>4</td>\n",
       "      <td>81</td>\n",
       "      <td>4</td>\n",
       "      <td>81</td>\n",
       "      <td>[Goal, Left, opportunity, gl, accurate]</td>\n",
       "    </tr>\n",
       "    <tr>\n",
       "      <th>528901</th>\n",
       "      <td>10</td>\n",
       "      <td>Shot</td>\n",
       "      <td>54</td>\n",
       "      <td>[{'y': 38, 'x': 69}, {'y': 100, 'x': 100}]</td>\n",
       "      <td>2500031</td>\n",
       "      <td>Shot</td>\n",
       "      <td>1624</td>\n",
       "      <td>1H</td>\n",
       "      <td>2714.685061</td>\n",
       "      <td>100.0</td>\n",
       "      <td>239137327</td>\n",
       "      <td>[101, 402, 201, 1207, 1801]</td>\n",
       "      <td>77</td>\n",
       "      <td>69</td>\n",
       "      <td>21</td>\n",
       "      <td>32</td>\n",
       "      <td>[Goal, Right, opportunity, gt, accurate]</td>\n",
       "    </tr>\n",
       "  </tbody>\n",
       "</table>\n",
       "</div>"
      ],
      "text/plain": [
       "        eventId subEventName  playerId  \\\n",
       "51952        10         Shot      9206   \n",
       "230690       10         Shot      7944   \n",
       "351100       10         Shot     14911   \n",
       "380034       10         Shot    120353   \n",
       "479006       10         Shot     70122   \n",
       "528901       10         Shot        54   \n",
       "\n",
       "                                         positions  matchId eventName  teamId  \\\n",
       "51952       [{'y': 67, 'x': 67}, {'y': 0, 'x': 0}]  2499751      Shot    1646   \n",
       "230690      [{'y': 40, 'x': 44}, {'y': 0, 'x': 0}]  2499856      Shot    1623   \n",
       "351100      [{'y': 50, 'x': 69}, {'y': 0, 'x': 0}]  2499926      Shot    1624   \n",
       "380034      [{'y': 34, 'x': 67}, {'y': 0, 'x': 0}]  2499943      Shot    1612   \n",
       "479006  [{'y': 67, 'x': 67}, {'y': 100, 'x': 100}]  2500001      Shot    1611   \n",
       "528901  [{'y': 38, 'x': 69}, {'y': 100, 'x': 100}]  2500031      Shot    1624   \n",
       "\n",
       "       matchPeriod     eventSec  subEventId         id  \\\n",
       "51952           1H   170.935625       100.0  186144087   \n",
       "230690          2H  1254.782389       100.0  210484394   \n",
       "351100          2H  2292.068408       100.0  218870556   \n",
       "380034          2H  1323.837327       100.0  220934410   \n",
       "479006          2H  2748.607624       100.0  232587707   \n",
       "528901          1H  2714.685061       100.0  239137327   \n",
       "\n",
       "                                 tagsList  pos_orig_y  pos_orig_x  pos_dest_y  \\\n",
       "51952         [101, 402, 201, 1201, 1801]          72          28          64   \n",
       "230690        [101, 402, 201, 1203, 1801]          46          22          51   \n",
       "351100        [101, 402, 201, 1209, 1801]          64           3          58   \n",
       "380034  [101, 401, 1401, 201, 1201, 1801]          30          30          30   \n",
       "479006        [101, 401, 201, 1204, 1801]           4          81           4   \n",
       "528901        [101, 402, 201, 1207, 1801]          77          69          21   \n",
       "\n",
       "        pos_dest_x                                              Label  \n",
       "51952           34           [Goal, Right, opportunity, gb, accurate]  \n",
       "230690          31           [Goal, Right, opportunity, gc, accurate]  \n",
       "351100         100          [Goal, Right, opportunity, gtr, accurate]  \n",
       "380034          30  [Goal, Left, interception, opportunity, gb, ac...  \n",
       "479006          81            [Goal, Left, opportunity, gl, accurate]  \n",
       "528901          32           [Goal, Right, opportunity, gt, accurate]  "
      ]
     },
     "execution_count": 57,
     "metadata": {},
     "output_type": "execute_result"
    }
   ],
   "source": [
    "events['positions'] = events['positions'].apply(ast.literal_eval)\n",
    "\n",
    "events[(events['eventName']=='Shot') &\n",
    "        (events['Label'].apply(lambda x: 'Goal' in x)) &\n",
    "        (events['positions'].apply(lambda x: x[0]['x'] < 70))\n",
    "]\n"
   ]
  },
  {
   "cell_type": "markdown",
   "id": "2203c672-acd5-4756-b3e4-c7452b597b1f",
   "metadata": {},
   "source": [
    "The positional data for goal kicks make no sense. I dont think the positonal data is that reliable."
   ]
  },
  {
   "cell_type": "code",
   "execution_count": 108,
   "id": "dae44551-4481-4bb4-b8b9-1f86c16e7363",
   "metadata": {},
   "outputs": [
    {
     "data": {
      "text/html": [
       "<div>\n",
       "<style scoped>\n",
       "    .dataframe tbody tr th:only-of-type {\n",
       "        vertical-align: middle;\n",
       "    }\n",
       "\n",
       "    .dataframe tbody tr th {\n",
       "        vertical-align: top;\n",
       "    }\n",
       "\n",
       "    .dataframe thead th {\n",
       "        text-align: right;\n",
       "    }\n",
       "</style>\n",
       "<table border=\"1\" class=\"dataframe\">\n",
       "  <thead>\n",
       "    <tr style=\"text-align: right;\">\n",
       "      <th></th>\n",
       "      <th>subEventName</th>\n",
       "      <th>playerId</th>\n",
       "      <th>positions</th>\n",
       "      <th>matchId</th>\n",
       "      <th>eventName</th>\n",
       "      <th>teamId</th>\n",
       "      <th>matchPeriod</th>\n",
       "      <th>eventSec</th>\n",
       "      <th>id</th>\n",
       "      <th>pos_orig_y</th>\n",
       "      <th>pos_orig_x</th>\n",
       "      <th>pos_dest_y</th>\n",
       "      <th>pos_dest_x</th>\n",
       "      <th>Label</th>\n",
       "      <th>eventMinutes</th>\n",
       "    </tr>\n",
       "  </thead>\n",
       "  <tbody>\n",
       "    <tr>\n",
       "      <th>64</th>\n",
       "      <td>Goal kick</td>\n",
       "      <td>7882</td>\n",
       "      <td>[{'y': 0, 'x': 0}, {'y': 44, 'x': 28}]</td>\n",
       "      <td>2499719</td>\n",
       "      <td>Free Kick</td>\n",
       "      <td>1609</td>\n",
       "      <td>1H</td>\n",
       "      <td>196.066859</td>\n",
       "      <td>177959227</td>\n",
       "      <td>0</td>\n",
       "      <td>0</td>\n",
       "      <td>44</td>\n",
       "      <td>28</td>\n",
       "      <td>[nan]</td>\n",
       "      <td>3.267781</td>\n",
       "    </tr>\n",
       "    <tr>\n",
       "      <th>130</th>\n",
       "      <td>Goal kick</td>\n",
       "      <td>8480</td>\n",
       "      <td>[{'y': 100, 'x': 100}, {'y': 47, 'x': 65}]</td>\n",
       "      <td>2499719</td>\n",
       "      <td>Free Kick</td>\n",
       "      <td>1631</td>\n",
       "      <td>1H</td>\n",
       "      <td>458.974297</td>\n",
       "      <td>177959339</td>\n",
       "      <td>100</td>\n",
       "      <td>100</td>\n",
       "      <td>47</td>\n",
       "      <td>65</td>\n",
       "      <td>[nan]</td>\n",
       "      <td>7.649572</td>\n",
       "    </tr>\n",
       "    <tr>\n",
       "      <th>145</th>\n",
       "      <td>Goal kick</td>\n",
       "      <td>7882</td>\n",
       "      <td>[{'y': 0, 'x': 0}, {'y': 47, 'x': 24}]</td>\n",
       "      <td>2499719</td>\n",
       "      <td>Free Kick</td>\n",
       "      <td>1609</td>\n",
       "      <td>1H</td>\n",
       "      <td>517.797223</td>\n",
       "      <td>177959306</td>\n",
       "      <td>0</td>\n",
       "      <td>0</td>\n",
       "      <td>47</td>\n",
       "      <td>24</td>\n",
       "      <td>[nan]</td>\n",
       "      <td>8.629954</td>\n",
       "    </tr>\n",
       "    <tr>\n",
       "      <th>191</th>\n",
       "      <td>Goal kick</td>\n",
       "      <td>8480</td>\n",
       "      <td>[{'y': 100, 'x': 100}, {'y': 28, 'x': 67}]</td>\n",
       "      <td>2499719</td>\n",
       "      <td>Free Kick</td>\n",
       "      <td>1631</td>\n",
       "      <td>1H</td>\n",
       "      <td>683.236107</td>\n",
       "      <td>177959384</td>\n",
       "      <td>100</td>\n",
       "      <td>100</td>\n",
       "      <td>28</td>\n",
       "      <td>67</td>\n",
       "      <td>[nan]</td>\n",
       "      <td>11.387268</td>\n",
       "    </tr>\n",
       "    <tr>\n",
       "      <th>298</th>\n",
       "      <td>Goal kick</td>\n",
       "      <td>8480</td>\n",
       "      <td>[{'y': 100, 'x': 100}, {'y': 21, 'x': 58}]</td>\n",
       "      <td>2499719</td>\n",
       "      <td>Free Kick</td>\n",
       "      <td>1631</td>\n",
       "      <td>1H</td>\n",
       "      <td>984.274294</td>\n",
       "      <td>177959505</td>\n",
       "      <td>100</td>\n",
       "      <td>100</td>\n",
       "      <td>21</td>\n",
       "      <td>58</td>\n",
       "      <td>[nan]</td>\n",
       "      <td>16.404572</td>\n",
       "    </tr>\n",
       "  </tbody>\n",
       "</table>\n",
       "</div>"
      ],
      "text/plain": [
       "    subEventName  playerId                                   positions  \\\n",
       "64     Goal kick      7882      [{'y': 0, 'x': 0}, {'y': 44, 'x': 28}]   \n",
       "130    Goal kick      8480  [{'y': 100, 'x': 100}, {'y': 47, 'x': 65}]   \n",
       "145    Goal kick      7882      [{'y': 0, 'x': 0}, {'y': 47, 'x': 24}]   \n",
       "191    Goal kick      8480  [{'y': 100, 'x': 100}, {'y': 28, 'x': 67}]   \n",
       "298    Goal kick      8480  [{'y': 100, 'x': 100}, {'y': 21, 'x': 58}]   \n",
       "\n",
       "     matchId  eventName  teamId matchPeriod    eventSec         id  \\\n",
       "64   2499719  Free Kick    1609          1H  196.066859  177959227   \n",
       "130  2499719  Free Kick    1631          1H  458.974297  177959339   \n",
       "145  2499719  Free Kick    1609          1H  517.797223  177959306   \n",
       "191  2499719  Free Kick    1631          1H  683.236107  177959384   \n",
       "298  2499719  Free Kick    1631          1H  984.274294  177959505   \n",
       "\n",
       "     pos_orig_y  pos_orig_x  pos_dest_y  pos_dest_x  Label  eventMinutes  \n",
       "64            0           0          44          28  [nan]      3.267781  \n",
       "130         100         100          47          65  [nan]      7.649572  \n",
       "145           0           0          47          24  [nan]      8.629954  \n",
       "191         100         100          28          67  [nan]     11.387268  \n",
       "298         100         100          21          58  [nan]     16.404572  "
      ]
     },
     "execution_count": 108,
     "metadata": {},
     "output_type": "execute_result"
    }
   ],
   "source": [
    "events[events['subEventName']=='Goal kick'].head()"
   ]
  },
  {
   "cell_type": "markdown",
   "id": "3edc2263-02e3-4dfb-b8cd-5985864b485e",
   "metadata": {},
   "source": [
    "### eventid2name"
   ]
  },
  {
   "cell_type": "code",
   "execution_count": 58,
   "id": "2bf079a9-a607-459e-a197-795d33002158",
   "metadata": {},
   "outputs": [
    {
     "data": {
      "text/plain": [
       "eventId  eventName              \n",
       "8        Pass                       328624\n",
       "1        Duel                       176674\n",
       "7        Others on the ball          51079\n",
       "3        Free Kick                   36420\n",
       "5        Interruption                27534\n",
       "10       Shot                         8450\n",
       "2        Foul                         8136\n",
       "9        Save attempt                 3349\n",
       "6        Offside                      1558\n",
       "4        Goalkeeper leaving line      1266\n",
       "Name: count, dtype: int64"
      ]
     },
     "execution_count": 58,
     "metadata": {},
     "output_type": "execute_result"
    }
   ],
   "source": [
    "#eventId refers to the eventName\n",
    "events[['eventId','eventName']].value_counts()"
   ]
  },
  {
   "cell_type": "markdown",
   "id": "1b19e685-1fc2-48fa-9c1f-ab27cafac0dc",
   "metadata": {},
   "source": [
    "The eventid2name is not needed as all that information is already in the event table"
   ]
  },
  {
   "cell_type": "code",
   "execution_count": 59,
   "id": "be584dc2-36f0-4de1-89e8-5cc1b721861d",
   "metadata": {},
   "outputs": [],
   "source": [
    "\n",
    "eventid2name = pd.read_csv('data/eventid2name.csv')"
   ]
  },
  {
   "cell_type": "code",
   "execution_count": 60,
   "id": "d9a3afc5-8434-45ab-be22-60df46d6f126",
   "metadata": {},
   "outputs": [
    {
     "data": {
      "text/html": [
       "<div>\n",
       "<style scoped>\n",
       "    .dataframe tbody tr th:only-of-type {\n",
       "        vertical-align: middle;\n",
       "    }\n",
       "\n",
       "    .dataframe tbody tr th {\n",
       "        vertical-align: top;\n",
       "    }\n",
       "\n",
       "    .dataframe thead th {\n",
       "        text-align: right;\n",
       "    }\n",
       "</style>\n",
       "<table border=\"1\" class=\"dataframe\">\n",
       "  <thead>\n",
       "    <tr style=\"text-align: right;\">\n",
       "      <th></th>\n",
       "      <th>event</th>\n",
       "      <th>subevent</th>\n",
       "      <th>event_label</th>\n",
       "      <th>subevent_label</th>\n",
       "    </tr>\n",
       "  </thead>\n",
       "  <tbody>\n",
       "    <tr>\n",
       "      <th>0</th>\n",
       "      <td>1</td>\n",
       "      <td>10</td>\n",
       "      <td>Duel</td>\n",
       "      <td>Air duel</td>\n",
       "    </tr>\n",
       "    <tr>\n",
       "      <th>1</th>\n",
       "      <td>1</td>\n",
       "      <td>11</td>\n",
       "      <td>Duel</td>\n",
       "      <td>Ground attacking duel</td>\n",
       "    </tr>\n",
       "    <tr>\n",
       "      <th>2</th>\n",
       "      <td>1</td>\n",
       "      <td>12</td>\n",
       "      <td>Duel</td>\n",
       "      <td>Ground defending duel</td>\n",
       "    </tr>\n",
       "    <tr>\n",
       "      <th>3</th>\n",
       "      <td>1</td>\n",
       "      <td>13</td>\n",
       "      <td>Duel</td>\n",
       "      <td>Ground loose ball duel</td>\n",
       "    </tr>\n",
       "    <tr>\n",
       "      <th>4</th>\n",
       "      <td>2</td>\n",
       "      <td>20</td>\n",
       "      <td>Foul</td>\n",
       "      <td>Foul</td>\n",
       "    </tr>\n",
       "  </tbody>\n",
       "</table>\n",
       "</div>"
      ],
      "text/plain": [
       "   event  subevent event_label          subevent_label\n",
       "0      1        10        Duel                Air duel\n",
       "1      1        11        Duel   Ground attacking duel\n",
       "2      1        12        Duel   Ground defending duel\n",
       "3      1        13        Duel  Ground loose ball duel\n",
       "4      2        20        Foul                    Foul"
      ]
     },
     "execution_count": 60,
     "metadata": {},
     "output_type": "execute_result"
    }
   ],
   "source": [
    "eventid2name.head()"
   ]
  },
  {
   "cell_type": "code",
   "execution_count": 61,
   "id": "c97ece86-3e22-41d0-ab72-a01e16542aa9",
   "metadata": {},
   "outputs": [
    {
     "data": {
      "text/html": [
       "<div>\n",
       "<style scoped>\n",
       "    .dataframe tbody tr th:only-of-type {\n",
       "        vertical-align: middle;\n",
       "    }\n",
       "\n",
       "    .dataframe tbody tr th {\n",
       "        vertical-align: top;\n",
       "    }\n",
       "\n",
       "    .dataframe thead th {\n",
       "        text-align: right;\n",
       "    }\n",
       "</style>\n",
       "<table border=\"1\" class=\"dataframe\">\n",
       "  <thead>\n",
       "    <tr style=\"text-align: right;\">\n",
       "      <th></th>\n",
       "      <th>eventId</th>\n",
       "      <th>subEventName</th>\n",
       "      <th>playerId</th>\n",
       "      <th>positions</th>\n",
       "      <th>matchId</th>\n",
       "      <th>eventName</th>\n",
       "      <th>teamId</th>\n",
       "      <th>matchPeriod</th>\n",
       "      <th>eventSec</th>\n",
       "      <th>subEventId</th>\n",
       "      <th>id</th>\n",
       "      <th>tagsList</th>\n",
       "      <th>pos_orig_y</th>\n",
       "      <th>pos_orig_x</th>\n",
       "      <th>pos_dest_y</th>\n",
       "      <th>pos_dest_x</th>\n",
       "      <th>Label</th>\n",
       "    </tr>\n",
       "  </thead>\n",
       "  <tbody>\n",
       "    <tr>\n",
       "      <th>0</th>\n",
       "      <td>8</td>\n",
       "      <td>Simple pass</td>\n",
       "      <td>25413</td>\n",
       "      <td>[{'y': 49, 'x': 49}, {'y': 78, 'x': 31}]</td>\n",
       "      <td>2499719</td>\n",
       "      <td>Pass</td>\n",
       "      <td>1609</td>\n",
       "      <td>1H</td>\n",
       "      <td>2.758649</td>\n",
       "      <td>85.0</td>\n",
       "      <td>177959171</td>\n",
       "      <td>[1801]</td>\n",
       "      <td>49</td>\n",
       "      <td>49</td>\n",
       "      <td>78</td>\n",
       "      <td>31</td>\n",
       "      <td>[accurate]</td>\n",
       "    </tr>\n",
       "    <tr>\n",
       "      <th>1</th>\n",
       "      <td>8</td>\n",
       "      <td>High pass</td>\n",
       "      <td>370224</td>\n",
       "      <td>[{'y': 78, 'x': 31}, {'y': 75, 'x': 51}]</td>\n",
       "      <td>2499719</td>\n",
       "      <td>Pass</td>\n",
       "      <td>1609</td>\n",
       "      <td>1H</td>\n",
       "      <td>4.946850</td>\n",
       "      <td>83.0</td>\n",
       "      <td>177959172</td>\n",
       "      <td>[1801]</td>\n",
       "      <td>78</td>\n",
       "      <td>31</td>\n",
       "      <td>75</td>\n",
       "      <td>51</td>\n",
       "      <td>[accurate]</td>\n",
       "    </tr>\n",
       "    <tr>\n",
       "      <th>2</th>\n",
       "      <td>8</td>\n",
       "      <td>Head pass</td>\n",
       "      <td>3319</td>\n",
       "      <td>[{'y': 75, 'x': 51}, {'y': 71, 'x': 35}]</td>\n",
       "      <td>2499719</td>\n",
       "      <td>Pass</td>\n",
       "      <td>1609</td>\n",
       "      <td>1H</td>\n",
       "      <td>6.542188</td>\n",
       "      <td>82.0</td>\n",
       "      <td>177959173</td>\n",
       "      <td>[1801]</td>\n",
       "      <td>75</td>\n",
       "      <td>51</td>\n",
       "      <td>71</td>\n",
       "      <td>35</td>\n",
       "      <td>[accurate]</td>\n",
       "    </tr>\n",
       "    <tr>\n",
       "      <th>3</th>\n",
       "      <td>8</td>\n",
       "      <td>Head pass</td>\n",
       "      <td>120339</td>\n",
       "      <td>[{'y': 71, 'x': 35}, {'y': 95, 'x': 41}]</td>\n",
       "      <td>2499719</td>\n",
       "      <td>Pass</td>\n",
       "      <td>1609</td>\n",
       "      <td>1H</td>\n",
       "      <td>8.143395</td>\n",
       "      <td>82.0</td>\n",
       "      <td>177959174</td>\n",
       "      <td>[1801]</td>\n",
       "      <td>71</td>\n",
       "      <td>35</td>\n",
       "      <td>95</td>\n",
       "      <td>41</td>\n",
       "      <td>[accurate]</td>\n",
       "    </tr>\n",
       "    <tr>\n",
       "      <th>4</th>\n",
       "      <td>8</td>\n",
       "      <td>Simple pass</td>\n",
       "      <td>167145</td>\n",
       "      <td>[{'y': 95, 'x': 41}, {'y': 88, 'x': 72}]</td>\n",
       "      <td>2499719</td>\n",
       "      <td>Pass</td>\n",
       "      <td>1609</td>\n",
       "      <td>1H</td>\n",
       "      <td>10.302366</td>\n",
       "      <td>85.0</td>\n",
       "      <td>177959175</td>\n",
       "      <td>[1801]</td>\n",
       "      <td>95</td>\n",
       "      <td>41</td>\n",
       "      <td>88</td>\n",
       "      <td>72</td>\n",
       "      <td>[accurate]</td>\n",
       "    </tr>\n",
       "  </tbody>\n",
       "</table>\n",
       "</div>"
      ],
      "text/plain": [
       "   eventId subEventName  playerId                                 positions  \\\n",
       "0        8  Simple pass     25413  [{'y': 49, 'x': 49}, {'y': 78, 'x': 31}]   \n",
       "1        8    High pass    370224  [{'y': 78, 'x': 31}, {'y': 75, 'x': 51}]   \n",
       "2        8    Head pass      3319  [{'y': 75, 'x': 51}, {'y': 71, 'x': 35}]   \n",
       "3        8    Head pass    120339  [{'y': 71, 'x': 35}, {'y': 95, 'x': 41}]   \n",
       "4        8  Simple pass    167145  [{'y': 95, 'x': 41}, {'y': 88, 'x': 72}]   \n",
       "\n",
       "   matchId eventName  teamId matchPeriod   eventSec  subEventId         id  \\\n",
       "0  2499719      Pass    1609          1H   2.758649        85.0  177959171   \n",
       "1  2499719      Pass    1609          1H   4.946850        83.0  177959172   \n",
       "2  2499719      Pass    1609          1H   6.542188        82.0  177959173   \n",
       "3  2499719      Pass    1609          1H   8.143395        82.0  177959174   \n",
       "4  2499719      Pass    1609          1H  10.302366        85.0  177959175   \n",
       "\n",
       "  tagsList  pos_orig_y  pos_orig_x  pos_dest_y  pos_dest_x       Label  \n",
       "0   [1801]          49          49          78          31  [accurate]  \n",
       "1   [1801]          78          31          75          51  [accurate]  \n",
       "2   [1801]          75          51          71          35  [accurate]  \n",
       "3   [1801]          71          35          95          41  [accurate]  \n",
       "4   [1801]          95          41          88          72  [accurate]  "
      ]
     },
     "execution_count": 61,
     "metadata": {},
     "output_type": "execute_result"
    }
   ],
   "source": [
    "events.head()"
   ]
  },
  {
   "cell_type": "markdown",
   "id": "0c1df3a2-70a5-4804-abc7-085a8c98366b",
   "metadata": {},
   "source": [
    "I got all the information from the tags2name table and the eventid2name tables. So I dont need the keys for those joins anymore. I will remove them now"
   ]
  },
  {
   "cell_type": "code",
   "execution_count": 62,
   "id": "2906cf2c-17bb-4454-8367-caf3683ba7ab",
   "metadata": {},
   "outputs": [],
   "source": [
    "events.drop(['eventId','subEventId','tagsList'], axis=1, inplace=True)"
   ]
  },
  {
   "cell_type": "code",
   "execution_count": 63,
   "id": "4e22dfa9-b786-4bab-81e5-ff13394e4579",
   "metadata": {},
   "outputs": [
    {
     "data": {
      "text/html": [
       "<div>\n",
       "<style scoped>\n",
       "    .dataframe tbody tr th:only-of-type {\n",
       "        vertical-align: middle;\n",
       "    }\n",
       "\n",
       "    .dataframe tbody tr th {\n",
       "        vertical-align: top;\n",
       "    }\n",
       "\n",
       "    .dataframe thead th {\n",
       "        text-align: right;\n",
       "    }\n",
       "</style>\n",
       "<table border=\"1\" class=\"dataframe\">\n",
       "  <thead>\n",
       "    <tr style=\"text-align: right;\">\n",
       "      <th></th>\n",
       "      <th>subEventName</th>\n",
       "      <th>playerId</th>\n",
       "      <th>positions</th>\n",
       "      <th>matchId</th>\n",
       "      <th>eventName</th>\n",
       "      <th>teamId</th>\n",
       "      <th>matchPeriod</th>\n",
       "      <th>eventSec</th>\n",
       "      <th>id</th>\n",
       "      <th>pos_orig_y</th>\n",
       "      <th>pos_orig_x</th>\n",
       "      <th>pos_dest_y</th>\n",
       "      <th>pos_dest_x</th>\n",
       "      <th>Label</th>\n",
       "    </tr>\n",
       "  </thead>\n",
       "  <tbody>\n",
       "    <tr>\n",
       "      <th>0</th>\n",
       "      <td>Simple pass</td>\n",
       "      <td>25413</td>\n",
       "      <td>[{'y': 49, 'x': 49}, {'y': 78, 'x': 31}]</td>\n",
       "      <td>2499719</td>\n",
       "      <td>Pass</td>\n",
       "      <td>1609</td>\n",
       "      <td>1H</td>\n",
       "      <td>2.758649</td>\n",
       "      <td>177959171</td>\n",
       "      <td>49</td>\n",
       "      <td>49</td>\n",
       "      <td>78</td>\n",
       "      <td>31</td>\n",
       "      <td>[accurate]</td>\n",
       "    </tr>\n",
       "    <tr>\n",
       "      <th>1</th>\n",
       "      <td>High pass</td>\n",
       "      <td>370224</td>\n",
       "      <td>[{'y': 78, 'x': 31}, {'y': 75, 'x': 51}]</td>\n",
       "      <td>2499719</td>\n",
       "      <td>Pass</td>\n",
       "      <td>1609</td>\n",
       "      <td>1H</td>\n",
       "      <td>4.946850</td>\n",
       "      <td>177959172</td>\n",
       "      <td>78</td>\n",
       "      <td>31</td>\n",
       "      <td>75</td>\n",
       "      <td>51</td>\n",
       "      <td>[accurate]</td>\n",
       "    </tr>\n",
       "    <tr>\n",
       "      <th>2</th>\n",
       "      <td>Head pass</td>\n",
       "      <td>3319</td>\n",
       "      <td>[{'y': 75, 'x': 51}, {'y': 71, 'x': 35}]</td>\n",
       "      <td>2499719</td>\n",
       "      <td>Pass</td>\n",
       "      <td>1609</td>\n",
       "      <td>1H</td>\n",
       "      <td>6.542188</td>\n",
       "      <td>177959173</td>\n",
       "      <td>75</td>\n",
       "      <td>51</td>\n",
       "      <td>71</td>\n",
       "      <td>35</td>\n",
       "      <td>[accurate]</td>\n",
       "    </tr>\n",
       "    <tr>\n",
       "      <th>3</th>\n",
       "      <td>Head pass</td>\n",
       "      <td>120339</td>\n",
       "      <td>[{'y': 71, 'x': 35}, {'y': 95, 'x': 41}]</td>\n",
       "      <td>2499719</td>\n",
       "      <td>Pass</td>\n",
       "      <td>1609</td>\n",
       "      <td>1H</td>\n",
       "      <td>8.143395</td>\n",
       "      <td>177959174</td>\n",
       "      <td>71</td>\n",
       "      <td>35</td>\n",
       "      <td>95</td>\n",
       "      <td>41</td>\n",
       "      <td>[accurate]</td>\n",
       "    </tr>\n",
       "    <tr>\n",
       "      <th>4</th>\n",
       "      <td>Simple pass</td>\n",
       "      <td>167145</td>\n",
       "      <td>[{'y': 95, 'x': 41}, {'y': 88, 'x': 72}]</td>\n",
       "      <td>2499719</td>\n",
       "      <td>Pass</td>\n",
       "      <td>1609</td>\n",
       "      <td>1H</td>\n",
       "      <td>10.302366</td>\n",
       "      <td>177959175</td>\n",
       "      <td>95</td>\n",
       "      <td>41</td>\n",
       "      <td>88</td>\n",
       "      <td>72</td>\n",
       "      <td>[accurate]</td>\n",
       "    </tr>\n",
       "  </tbody>\n",
       "</table>\n",
       "</div>"
      ],
      "text/plain": [
       "  subEventName  playerId                                 positions  matchId  \\\n",
       "0  Simple pass     25413  [{'y': 49, 'x': 49}, {'y': 78, 'x': 31}]  2499719   \n",
       "1    High pass    370224  [{'y': 78, 'x': 31}, {'y': 75, 'x': 51}]  2499719   \n",
       "2    Head pass      3319  [{'y': 75, 'x': 51}, {'y': 71, 'x': 35}]  2499719   \n",
       "3    Head pass    120339  [{'y': 71, 'x': 35}, {'y': 95, 'x': 41}]  2499719   \n",
       "4  Simple pass    167145  [{'y': 95, 'x': 41}, {'y': 88, 'x': 72}]  2499719   \n",
       "\n",
       "  eventName  teamId matchPeriod   eventSec         id  pos_orig_y  pos_orig_x  \\\n",
       "0      Pass    1609          1H   2.758649  177959171          49          49   \n",
       "1      Pass    1609          1H   4.946850  177959172          78          31   \n",
       "2      Pass    1609          1H   6.542188  177959173          75          51   \n",
       "3      Pass    1609          1H   8.143395  177959174          71          35   \n",
       "4      Pass    1609          1H  10.302366  177959175          95          41   \n",
       "\n",
       "   pos_dest_y  pos_dest_x       Label  \n",
       "0          78          31  [accurate]  \n",
       "1          75          51  [accurate]  \n",
       "2          71          35  [accurate]  \n",
       "3          95          41  [accurate]  \n",
       "4          88          72  [accurate]  "
      ]
     },
     "execution_count": 63,
     "metadata": {},
     "output_type": "execute_result"
    }
   ],
   "source": [
    "events.head()"
   ]
  },
  {
   "cell_type": "markdown",
   "id": "d5cf82ff-02d4-48b1-ab1e-fdfc9d8d8b5a",
   "metadata": {},
   "source": [
    "I still have playerId, matchId and teamId so i will be using that for joins later. And I will trust these ids more than the ids from the teams data set because that is outdated (or the opposite...indated/futuredated)"
   ]
  },
  {
   "cell_type": "markdown",
   "id": "c781be12-0408-4ada-8d1a-b6f8d5ac3441",
   "metadata": {},
   "source": [
    "before i continue with more joins, let me just investigate the events table itself and make sure things look as expected (I already looked at the event and subevent columns)"
   ]
  },
  {
   "cell_type": "markdown",
   "id": "6ccd462f-8c4f-42b1-9118-312f3218c25d",
   "metadata": {},
   "source": [
    "### matchPeriod"
   ]
  },
  {
   "cell_type": "code",
   "execution_count": 64,
   "id": "c3b48d43-14d7-4804-b8fc-212adc163d31",
   "metadata": {},
   "outputs": [
    {
     "data": {
      "application/vnd.plotly.v1+json": {
       "config": {
        "plotlyServerURL": "https://plot.ly"
       },
       "data": [
        {
         "domain": {
          "x": [
           0,
           1
          ],
          "y": [
           0,
           1
          ]
         },
         "hovertemplate": "matchPeriod=%{label}<br>count=%{value}<extra></extra>",
         "labels": [
          "1H",
          "2H"
         ],
         "legendgroup": "",
         "name": "",
         "showlegend": true,
         "type": "pie",
         "values": [
          323574,
          319516
         ]
        }
       ],
       "layout": {
        "autosize": true,
        "legend": {
         "tracegroupgap": 0
        },
        "template": {
         "data": {
          "bar": [
           {
            "error_x": {
             "color": "#2a3f5f"
            },
            "error_y": {
             "color": "#2a3f5f"
            },
            "marker": {
             "line": {
              "color": "#E5ECF6",
              "width": 0.5
             },
             "pattern": {
              "fillmode": "overlay",
              "size": 10,
              "solidity": 0.2
             }
            },
            "type": "bar"
           }
          ],
          "barpolar": [
           {
            "marker": {
             "line": {
              "color": "#E5ECF6",
              "width": 0.5
             },
             "pattern": {
              "fillmode": "overlay",
              "size": 10,
              "solidity": 0.2
             }
            },
            "type": "barpolar"
           }
          ],
          "carpet": [
           {
            "aaxis": {
             "endlinecolor": "#2a3f5f",
             "gridcolor": "white",
             "linecolor": "white",
             "minorgridcolor": "white",
             "startlinecolor": "#2a3f5f"
            },
            "baxis": {
             "endlinecolor": "#2a3f5f",
             "gridcolor": "white",
             "linecolor": "white",
             "minorgridcolor": "white",
             "startlinecolor": "#2a3f5f"
            },
            "type": "carpet"
           }
          ],
          "choropleth": [
           {
            "colorbar": {
             "outlinewidth": 0,
             "ticks": ""
            },
            "type": "choropleth"
           }
          ],
          "contour": [
           {
            "colorbar": {
             "outlinewidth": 0,
             "ticks": ""
            },
            "colorscale": [
             [
              0,
              "#0d0887"
             ],
             [
              0.1111111111111111,
              "#46039f"
             ],
             [
              0.2222222222222222,
              "#7201a8"
             ],
             [
              0.3333333333333333,
              "#9c179e"
             ],
             [
              0.4444444444444444,
              "#bd3786"
             ],
             [
              0.5555555555555556,
              "#d8576b"
             ],
             [
              0.6666666666666666,
              "#ed7953"
             ],
             [
              0.7777777777777778,
              "#fb9f3a"
             ],
             [
              0.8888888888888888,
              "#fdca26"
             ],
             [
              1,
              "#f0f921"
             ]
            ],
            "type": "contour"
           }
          ],
          "contourcarpet": [
           {
            "colorbar": {
             "outlinewidth": 0,
             "ticks": ""
            },
            "type": "contourcarpet"
           }
          ],
          "heatmap": [
           {
            "colorbar": {
             "outlinewidth": 0,
             "ticks": ""
            },
            "colorscale": [
             [
              0,
              "#0d0887"
             ],
             [
              0.1111111111111111,
              "#46039f"
             ],
             [
              0.2222222222222222,
              "#7201a8"
             ],
             [
              0.3333333333333333,
              "#9c179e"
             ],
             [
              0.4444444444444444,
              "#bd3786"
             ],
             [
              0.5555555555555556,
              "#d8576b"
             ],
             [
              0.6666666666666666,
              "#ed7953"
             ],
             [
              0.7777777777777778,
              "#fb9f3a"
             ],
             [
              0.8888888888888888,
              "#fdca26"
             ],
             [
              1,
              "#f0f921"
             ]
            ],
            "type": "heatmap"
           }
          ],
          "heatmapgl": [
           {
            "colorbar": {
             "outlinewidth": 0,
             "ticks": ""
            },
            "colorscale": [
             [
              0,
              "#0d0887"
             ],
             [
              0.1111111111111111,
              "#46039f"
             ],
             [
              0.2222222222222222,
              "#7201a8"
             ],
             [
              0.3333333333333333,
              "#9c179e"
             ],
             [
              0.4444444444444444,
              "#bd3786"
             ],
             [
              0.5555555555555556,
              "#d8576b"
             ],
             [
              0.6666666666666666,
              "#ed7953"
             ],
             [
              0.7777777777777778,
              "#fb9f3a"
             ],
             [
              0.8888888888888888,
              "#fdca26"
             ],
             [
              1,
              "#f0f921"
             ]
            ],
            "type": "heatmapgl"
           }
          ],
          "histogram": [
           {
            "marker": {
             "pattern": {
              "fillmode": "overlay",
              "size": 10,
              "solidity": 0.2
             }
            },
            "type": "histogram"
           }
          ],
          "histogram2d": [
           {
            "colorbar": {
             "outlinewidth": 0,
             "ticks": ""
            },
            "colorscale": [
             [
              0,
              "#0d0887"
             ],
             [
              0.1111111111111111,
              "#46039f"
             ],
             [
              0.2222222222222222,
              "#7201a8"
             ],
             [
              0.3333333333333333,
              "#9c179e"
             ],
             [
              0.4444444444444444,
              "#bd3786"
             ],
             [
              0.5555555555555556,
              "#d8576b"
             ],
             [
              0.6666666666666666,
              "#ed7953"
             ],
             [
              0.7777777777777778,
              "#fb9f3a"
             ],
             [
              0.8888888888888888,
              "#fdca26"
             ],
             [
              1,
              "#f0f921"
             ]
            ],
            "type": "histogram2d"
           }
          ],
          "histogram2dcontour": [
           {
            "colorbar": {
             "outlinewidth": 0,
             "ticks": ""
            },
            "colorscale": [
             [
              0,
              "#0d0887"
             ],
             [
              0.1111111111111111,
              "#46039f"
             ],
             [
              0.2222222222222222,
              "#7201a8"
             ],
             [
              0.3333333333333333,
              "#9c179e"
             ],
             [
              0.4444444444444444,
              "#bd3786"
             ],
             [
              0.5555555555555556,
              "#d8576b"
             ],
             [
              0.6666666666666666,
              "#ed7953"
             ],
             [
              0.7777777777777778,
              "#fb9f3a"
             ],
             [
              0.8888888888888888,
              "#fdca26"
             ],
             [
              1,
              "#f0f921"
             ]
            ],
            "type": "histogram2dcontour"
           }
          ],
          "mesh3d": [
           {
            "colorbar": {
             "outlinewidth": 0,
             "ticks": ""
            },
            "type": "mesh3d"
           }
          ],
          "parcoords": [
           {
            "line": {
             "colorbar": {
              "outlinewidth": 0,
              "ticks": ""
             }
            },
            "type": "parcoords"
           }
          ],
          "pie": [
           {
            "automargin": true,
            "type": "pie"
           }
          ],
          "scatter": [
           {
            "fillpattern": {
             "fillmode": "overlay",
             "size": 10,
             "solidity": 0.2
            },
            "type": "scatter"
           }
          ],
          "scatter3d": [
           {
            "line": {
             "colorbar": {
              "outlinewidth": 0,
              "ticks": ""
             }
            },
            "marker": {
             "colorbar": {
              "outlinewidth": 0,
              "ticks": ""
             }
            },
            "type": "scatter3d"
           }
          ],
          "scattercarpet": [
           {
            "marker": {
             "colorbar": {
              "outlinewidth": 0,
              "ticks": ""
             }
            },
            "type": "scattercarpet"
           }
          ],
          "scattergeo": [
           {
            "marker": {
             "colorbar": {
              "outlinewidth": 0,
              "ticks": ""
             }
            },
            "type": "scattergeo"
           }
          ],
          "scattergl": [
           {
            "marker": {
             "colorbar": {
              "outlinewidth": 0,
              "ticks": ""
             }
            },
            "type": "scattergl"
           }
          ],
          "scattermapbox": [
           {
            "marker": {
             "colorbar": {
              "outlinewidth": 0,
              "ticks": ""
             }
            },
            "type": "scattermapbox"
           }
          ],
          "scatterpolar": [
           {
            "marker": {
             "colorbar": {
              "outlinewidth": 0,
              "ticks": ""
             }
            },
            "type": "scatterpolar"
           }
          ],
          "scatterpolargl": [
           {
            "marker": {
             "colorbar": {
              "outlinewidth": 0,
              "ticks": ""
             }
            },
            "type": "scatterpolargl"
           }
          ],
          "scatterternary": [
           {
            "marker": {
             "colorbar": {
              "outlinewidth": 0,
              "ticks": ""
             }
            },
            "type": "scatterternary"
           }
          ],
          "surface": [
           {
            "colorbar": {
             "outlinewidth": 0,
             "ticks": ""
            },
            "colorscale": [
             [
              0,
              "#0d0887"
             ],
             [
              0.1111111111111111,
              "#46039f"
             ],
             [
              0.2222222222222222,
              "#7201a8"
             ],
             [
              0.3333333333333333,
              "#9c179e"
             ],
             [
              0.4444444444444444,
              "#bd3786"
             ],
             [
              0.5555555555555556,
              "#d8576b"
             ],
             [
              0.6666666666666666,
              "#ed7953"
             ],
             [
              0.7777777777777778,
              "#fb9f3a"
             ],
             [
              0.8888888888888888,
              "#fdca26"
             ],
             [
              1,
              "#f0f921"
             ]
            ],
            "type": "surface"
           }
          ],
          "table": [
           {
            "cells": {
             "fill": {
              "color": "#EBF0F8"
             },
             "line": {
              "color": "white"
             }
            },
            "header": {
             "fill": {
              "color": "#C8D4E3"
             },
             "line": {
              "color": "white"
             }
            },
            "type": "table"
           }
          ]
         },
         "layout": {
          "annotationdefaults": {
           "arrowcolor": "#2a3f5f",
           "arrowhead": 0,
           "arrowwidth": 1
          },
          "autotypenumbers": "strict",
          "coloraxis": {
           "colorbar": {
            "outlinewidth": 0,
            "ticks": ""
           }
          },
          "colorscale": {
           "diverging": [
            [
             0,
             "#8e0152"
            ],
            [
             0.1,
             "#c51b7d"
            ],
            [
             0.2,
             "#de77ae"
            ],
            [
             0.3,
             "#f1b6da"
            ],
            [
             0.4,
             "#fde0ef"
            ],
            [
             0.5,
             "#f7f7f7"
            ],
            [
             0.6,
             "#e6f5d0"
            ],
            [
             0.7,
             "#b8e186"
            ],
            [
             0.8,
             "#7fbc41"
            ],
            [
             0.9,
             "#4d9221"
            ],
            [
             1,
             "#276419"
            ]
           ],
           "sequential": [
            [
             0,
             "#0d0887"
            ],
            [
             0.1111111111111111,
             "#46039f"
            ],
            [
             0.2222222222222222,
             "#7201a8"
            ],
            [
             0.3333333333333333,
             "#9c179e"
            ],
            [
             0.4444444444444444,
             "#bd3786"
            ],
            [
             0.5555555555555556,
             "#d8576b"
            ],
            [
             0.6666666666666666,
             "#ed7953"
            ],
            [
             0.7777777777777778,
             "#fb9f3a"
            ],
            [
             0.8888888888888888,
             "#fdca26"
            ],
            [
             1,
             "#f0f921"
            ]
           ],
           "sequentialminus": [
            [
             0,
             "#0d0887"
            ],
            [
             0.1111111111111111,
             "#46039f"
            ],
            [
             0.2222222222222222,
             "#7201a8"
            ],
            [
             0.3333333333333333,
             "#9c179e"
            ],
            [
             0.4444444444444444,
             "#bd3786"
            ],
            [
             0.5555555555555556,
             "#d8576b"
            ],
            [
             0.6666666666666666,
             "#ed7953"
            ],
            [
             0.7777777777777778,
             "#fb9f3a"
            ],
            [
             0.8888888888888888,
             "#fdca26"
            ],
            [
             1,
             "#f0f921"
            ]
           ]
          },
          "colorway": [
           "#636efa",
           "#EF553B",
           "#00cc96",
           "#ab63fa",
           "#FFA15A",
           "#19d3f3",
           "#FF6692",
           "#B6E880",
           "#FF97FF",
           "#FECB52"
          ],
          "font": {
           "color": "#2a3f5f"
          },
          "geo": {
           "bgcolor": "white",
           "lakecolor": "white",
           "landcolor": "#E5ECF6",
           "showlakes": true,
           "showland": true,
           "subunitcolor": "white"
          },
          "hoverlabel": {
           "align": "left"
          },
          "hovermode": "closest",
          "mapbox": {
           "style": "light"
          },
          "paper_bgcolor": "white",
          "plot_bgcolor": "#E5ECF6",
          "polar": {
           "angularaxis": {
            "gridcolor": "white",
            "linecolor": "white",
            "ticks": ""
           },
           "bgcolor": "#E5ECF6",
           "radialaxis": {
            "gridcolor": "white",
            "linecolor": "white",
            "ticks": ""
           }
          },
          "scene": {
           "xaxis": {
            "backgroundcolor": "#E5ECF6",
            "gridcolor": "white",
            "gridwidth": 2,
            "linecolor": "white",
            "showbackground": true,
            "ticks": "",
            "zerolinecolor": "white"
           },
           "yaxis": {
            "backgroundcolor": "#E5ECF6",
            "gridcolor": "white",
            "gridwidth": 2,
            "linecolor": "white",
            "showbackground": true,
            "ticks": "",
            "zerolinecolor": "white"
           },
           "zaxis": {
            "backgroundcolor": "#E5ECF6",
            "gridcolor": "white",
            "gridwidth": 2,
            "linecolor": "white",
            "showbackground": true,
            "ticks": "",
            "zerolinecolor": "white"
           }
          },
          "shapedefaults": {
           "line": {
            "color": "#2a3f5f"
           }
          },
          "ternary": {
           "aaxis": {
            "gridcolor": "white",
            "linecolor": "white",
            "ticks": ""
           },
           "baxis": {
            "gridcolor": "white",
            "linecolor": "white",
            "ticks": ""
           },
           "bgcolor": "#E5ECF6",
           "caxis": {
            "gridcolor": "white",
            "linecolor": "white",
            "ticks": ""
           }
          },
          "title": {
           "x": 0.05
          },
          "xaxis": {
           "automargin": true,
           "gridcolor": "white",
           "linecolor": "white",
           "ticks": "",
           "title": {
            "standoff": 15
           },
           "zerolinecolor": "white",
           "zerolinewidth": 2
          },
          "yaxis": {
           "automargin": true,
           "gridcolor": "white",
           "linecolor": "white",
           "ticks": "",
           "title": {
            "standoff": 15
           },
           "zerolinecolor": "white",
           "zerolinewidth": 2
          }
         }
        },
        "title": {
         "text": "Distribution of Event Types"
        }
       }
      },
      "image/png": "[encoded data removed]",
      "text/html": [
       "<div>                            <div id=\"404b81d5-b05b-4c5d-b37f-1f39b6ba5d42\" class=\"plotly-graph-div\" style=\"height:525px; width:100%;\"></div>            <script type=\"text/javascript\">                require([\"plotly\"], function(Plotly) {                    window.PLOTLYENV=window.PLOTLYENV || {};                                    if (document.getElementById(\"404b81d5-b05b-4c5d-b37f-1f39b6ba5d42\")) {                    Plotly.newPlot(                        \"404b81d5-b05b-4c5d-b37f-1f39b6ba5d42\",                        [{\"domain\":{\"x\":[0.0,1.0],\"y\":[0.0,1.0]},\"hovertemplate\":\"matchPeriod=%{label}\\u003cbr\\u003ecount=%{value}\\u003cextra\\u003e\\u003c\\u002fextra\\u003e\",\"labels\":[\"1H\",\"2H\"],\"legendgroup\":\"\",\"name\":\"\",\"showlegend\":true,\"values\":[323574,319516],\"type\":\"pie\"}],                        {\"template\":{\"data\":{\"histogram2dcontour\":[{\"type\":\"histogram2dcontour\",\"colorbar\":{\"outlinewidth\":0,\"ticks\":\"\"},\"colorscale\":[[0.0,\"#0d0887\"],[0.1111111111111111,\"#46039f\"],[0.2222222222222222,\"#7201a8\"],[0.3333333333333333,\"#9c179e\"],[0.4444444444444444,\"#bd3786\"],[0.5555555555555556,\"#d8576b\"],[0.6666666666666666,\"#ed7953\"],[0.7777777777777778,\"#fb9f3a\"],[0.8888888888888888,\"#fdca26\"],[1.0,\"#f0f921\"]]}],\"choropleth\":[{\"type\":\"choropleth\",\"colorbar\":{\"outlinewidth\":0,\"ticks\":\"\"}}],\"histogram2d\":[{\"type\":\"histogram2d\",\"colorbar\":{\"outlinewidth\":0,\"ticks\":\"\"},\"colorscale\":[[0.0,\"#0d0887\"],[0.1111111111111111,\"#46039f\"],[0.2222222222222222,\"#7201a8\"],[0.3333333333333333,\"#9c179e\"],[0.4444444444444444,\"#bd3786\"],[0.5555555555555556,\"#d8576b\"],[0.6666666666666666,\"#ed7953\"],[0.7777777777777778,\"#fb9f3a\"],[0.8888888888888888,\"#fdca26\"],[1.0,\"#f0f921\"]]}],\"heatmap\":[{\"type\":\"heatmap\",\"colorbar\":{\"outlinewidth\":0,\"ticks\":\"\"},\"colorscale\":[[0.0,\"#0d0887\"],[0.1111111111111111,\"#46039f\"],[0.2222222222222222,\"#7201a8\"],[0.3333333333333333,\"#9c179e\"],[0.4444444444444444,\"#bd3786\"],[0.5555555555555556,\"#d8576b\"],[0.6666666666666666,\"#ed7953\"],[0.7777777777777778,\"#fb9f3a\"],[0.8888888888888888,\"#fdca26\"],[1.0,\"#f0f921\"]]}],\"heatmapgl\":[{\"type\":\"heatmapgl\",\"colorbar\":{\"outlinewidth\":0,\"ticks\":\"\"},\"colorscale\":[[0.0,\"#0d0887\"],[0.1111111111111111,\"#46039f\"],[0.2222222222222222,\"#7201a8\"],[0.3333333333333333,\"#9c179e\"],[0.4444444444444444,\"#bd3786\"],[0.5555555555555556,\"#d8576b\"],[0.6666666666666666,\"#ed7953\"],[0.7777777777777778,\"#fb9f3a\"],[0.8888888888888888,\"#fdca26\"],[1.0,\"#f0f921\"]]}],\"contourcarpet\":[{\"type\":\"contourcarpet\",\"colorbar\":{\"outlinewidth\":0,\"ticks\":\"\"}}],\"contour\":[{\"type\":\"contour\",\"colorbar\":{\"outlinewidth\":0,\"ticks\":\"\"},\"colorscale\":[[0.0,\"#0d0887\"],[0.1111111111111111,\"#46039f\"],[0.2222222222222222,\"#7201a8\"],[0.3333333333333333,\"#9c179e\"],[0.4444444444444444,\"#bd3786\"],[0.5555555555555556,\"#d8576b\"],[0.6666666666666666,\"#ed7953\"],[0.7777777777777778,\"#fb9f3a\"],[0.8888888888888888,\"#fdca26\"],[1.0,\"#f0f921\"]]}],\"surface\":[{\"type\":\"surface\",\"colorbar\":{\"outlinewidth\":0,\"ticks\":\"\"},\"colorscale\":[[0.0,\"#0d0887\"],[0.1111111111111111,\"#46039f\"],[0.2222222222222222,\"#7201a8\"],[0.3333333333333333,\"#9c179e\"],[0.4444444444444444,\"#bd3786\"],[0.5555555555555556,\"#d8576b\"],[0.6666666666666666,\"#ed7953\"],[0.7777777777777778,\"#fb9f3a\"],[0.8888888888888888,\"#fdca26\"],[1.0,\"#f0f921\"]]}],\"mesh3d\":[{\"type\":\"mesh3d\",\"colorbar\":{\"outlinewidth\":0,\"ticks\":\"\"}}],\"scatter\":[{\"fillpattern\":{\"fillmode\":\"overlay\",\"size\":10,\"solidity\":0.2},\"type\":\"scatter\"}],\"parcoords\":[{\"type\":\"parcoords\",\"line\":{\"colorbar\":{\"outlinewidth\":0,\"ticks\":\"\"}}}],\"scatterpolargl\":[{\"type\":\"scatterpolargl\",\"marker\":{\"colorbar\":{\"outlinewidth\":0,\"ticks\":\"\"}}}],\"bar\":[{\"error_x\":{\"color\":\"#2a3f5f\"},\"error_y\":{\"color\":\"#2a3f5f\"},\"marker\":{\"line\":{\"color\":\"#E5ECF6\",\"width\":0.5},\"pattern\":{\"fillmode\":\"overlay\",\"size\":10,\"solidity\":0.2}},\"type\":\"bar\"}],\"scattergeo\":[{\"type\":\"scattergeo\",\"marker\":{\"colorbar\":{\"outlinewidth\":0,\"ticks\":\"\"}}}],\"scatterpolar\":[{\"type\":\"scatterpolar\",\"marker\":{\"colorbar\":{\"outlinewidth\":0,\"ticks\":\"\"}}}],\"histogram\":[{\"marker\":{\"pattern\":{\"fillmode\":\"overlay\",\"size\":10,\"solidity\":0.2}},\"type\":\"histogram\"}],\"scattergl\":[{\"type\":\"scattergl\",\"marker\":{\"colorbar\":{\"outlinewidth\":0,\"ticks\":\"\"}}}],\"scatter3d\":[{\"type\":\"scatter3d\",\"line\":{\"colorbar\":{\"outlinewidth\":0,\"ticks\":\"\"}},\"marker\":{\"colorbar\":{\"outlinewidth\":0,\"ticks\":\"\"}}}],\"scattermapbox\":[{\"type\":\"scattermapbox\",\"marker\":{\"colorbar\":{\"outlinewidth\":0,\"ticks\":\"\"}}}],\"scatterternary\":[{\"type\":\"scatterternary\",\"marker\":{\"colorbar\":{\"outlinewidth\":0,\"ticks\":\"\"}}}],\"scattercarpet\":[{\"type\":\"scattercarpet\",\"marker\":{\"colorbar\":{\"outlinewidth\":0,\"ticks\":\"\"}}}],\"carpet\":[{\"aaxis\":{\"endlinecolor\":\"#2a3f5f\",\"gridcolor\":\"white\",\"linecolor\":\"white\",\"minorgridcolor\":\"white\",\"startlinecolor\":\"#2a3f5f\"},\"baxis\":{\"endlinecolor\":\"#2a3f5f\",\"gridcolor\":\"white\",\"linecolor\":\"white\",\"minorgridcolor\":\"white\",\"startlinecolor\":\"#2a3f5f\"},\"type\":\"carpet\"}],\"table\":[{\"cells\":{\"fill\":{\"color\":\"#EBF0F8\"},\"line\":{\"color\":\"white\"}},\"header\":{\"fill\":{\"color\":\"#C8D4E3\"},\"line\":{\"color\":\"white\"}},\"type\":\"table\"}],\"barpolar\":[{\"marker\":{\"line\":{\"color\":\"#E5ECF6\",\"width\":0.5},\"pattern\":{\"fillmode\":\"overlay\",\"size\":10,\"solidity\":0.2}},\"type\":\"barpolar\"}],\"pie\":[{\"automargin\":true,\"type\":\"pie\"}]},\"layout\":{\"autotypenumbers\":\"strict\",\"colorway\":[\"#636efa\",\"#EF553B\",\"#00cc96\",\"#ab63fa\",\"#FFA15A\",\"#19d3f3\",\"#FF6692\",\"#B6E880\",\"#FF97FF\",\"#FECB52\"],\"font\":{\"color\":\"#2a3f5f\"},\"hovermode\":\"closest\",\"hoverlabel\":{\"align\":\"left\"},\"paper_bgcolor\":\"white\",\"plot_bgcolor\":\"#E5ECF6\",\"polar\":{\"bgcolor\":\"#E5ECF6\",\"angularaxis\":{\"gridcolor\":\"white\",\"linecolor\":\"white\",\"ticks\":\"\"},\"radialaxis\":{\"gridcolor\":\"white\",\"linecolor\":\"white\",\"ticks\":\"\"}},\"ternary\":{\"bgcolor\":\"#E5ECF6\",\"aaxis\":{\"gridcolor\":\"white\",\"linecolor\":\"white\",\"ticks\":\"\"},\"baxis\":{\"gridcolor\":\"white\",\"linecolor\":\"white\",\"ticks\":\"\"},\"caxis\":{\"gridcolor\":\"white\",\"linecolor\":\"white\",\"ticks\":\"\"}},\"coloraxis\":{\"colorbar\":{\"outlinewidth\":0,\"ticks\":\"\"}},\"colorscale\":{\"sequential\":[[0.0,\"#0d0887\"],[0.1111111111111111,\"#46039f\"],[0.2222222222222222,\"#7201a8\"],[0.3333333333333333,\"#9c179e\"],[0.4444444444444444,\"#bd3786\"],[0.5555555555555556,\"#d8576b\"],[0.6666666666666666,\"#ed7953\"],[0.7777777777777778,\"#fb9f3a\"],[0.8888888888888888,\"#fdca26\"],[1.0,\"#f0f921\"]],\"sequentialminus\":[[0.0,\"#0d0887\"],[0.1111111111111111,\"#46039f\"],[0.2222222222222222,\"#7201a8\"],[0.3333333333333333,\"#9c179e\"],[0.4444444444444444,\"#bd3786\"],[0.5555555555555556,\"#d8576b\"],[0.6666666666666666,\"#ed7953\"],[0.7777777777777778,\"#fb9f3a\"],[0.8888888888888888,\"#fdca26\"],[1.0,\"#f0f921\"]],\"diverging\":[[0,\"#8e0152\"],[0.1,\"#c51b7d\"],[0.2,\"#de77ae\"],[0.3,\"#f1b6da\"],[0.4,\"#fde0ef\"],[0.5,\"#f7f7f7\"],[0.6,\"#e6f5d0\"],[0.7,\"#b8e186\"],[0.8,\"#7fbc41\"],[0.9,\"#4d9221\"],[1,\"#276419\"]]},\"xaxis\":{\"gridcolor\":\"white\",\"linecolor\":\"white\",\"ticks\":\"\",\"title\":{\"standoff\":15},\"zerolinecolor\":\"white\",\"automargin\":true,\"zerolinewidth\":2},\"yaxis\":{\"gridcolor\":\"white\",\"linecolor\":\"white\",\"ticks\":\"\",\"title\":{\"standoff\":15},\"zerolinecolor\":\"white\",\"automargin\":true,\"zerolinewidth\":2},\"scene\":{\"xaxis\":{\"backgroundcolor\":\"#E5ECF6\",\"gridcolor\":\"white\",\"linecolor\":\"white\",\"showbackground\":true,\"ticks\":\"\",\"zerolinecolor\":\"white\",\"gridwidth\":2},\"yaxis\":{\"backgroundcolor\":\"#E5ECF6\",\"gridcolor\":\"white\",\"linecolor\":\"white\",\"showbackground\":true,\"ticks\":\"\",\"zerolinecolor\":\"white\",\"gridwidth\":2},\"zaxis\":{\"backgroundcolor\":\"#E5ECF6\",\"gridcolor\":\"white\",\"linecolor\":\"white\",\"showbackground\":true,\"ticks\":\"\",\"zerolinecolor\":\"white\",\"gridwidth\":2}},\"shapedefaults\":{\"line\":{\"color\":\"#2a3f5f\"}},\"annotationdefaults\":{\"arrowcolor\":\"#2a3f5f\",\"arrowhead\":0,\"arrowwidth\":1},\"geo\":{\"bgcolor\":\"white\",\"landcolor\":\"#E5ECF6\",\"subunitcolor\":\"white\",\"showland\":true,\"showlakes\":true,\"lakecolor\":\"white\"},\"title\":{\"x\":0.05},\"mapbox\":{\"style\":\"light\"}}},\"legend\":{\"tracegroupgap\":0},\"title\":{\"text\":\"Distribution of Event Types\"}},                        {\"responsive\": true}                    ).then(function(){\n",
       "                            \n",
       "var gd = document.getElementById('404b81d5-b05b-4c5d-b37f-1f39b6ba5d42');\n",
       "var x = new MutationObserver(function (mutations, observer) {{\n",
       "        var display = window.getComputedStyle(gd).display;\n",
       "        if (!display || display === 'none') {{\n",
       "            console.log([gd, 'removed!']);\n",
       "            Plotly.purge(gd);\n",
       "            observer.disconnect();\n",
       "        }}\n",
       "}});\n",
       "\n",
       "// Listen for the removal of the full notebook cells\n",
       "var notebookContainer = gd.closest('#notebook-container');\n",
       "if (notebookContainer) {{\n",
       "    x.observe(notebookContainer, {childList: true});\n",
       "}}\n",
       "\n",
       "// Listen for the clearing of the current output cell\n",
       "var outputEl = gd.closest('.output');\n",
       "if (outputEl) {{\n",
       "    x.observe(outputEl, {childList: true});\n",
       "}}\n",
       "\n",
       "                        })                };                });            </script>        </div>"
      ]
     },
     "metadata": {},
     "output_type": "display_data"
    }
   ],
   "source": [
    "matchPeriod_counts=events['matchPeriod'].value_counts().reset_index()\n",
    "# Plot the pie chart\n",
    "fig = px.pie(matchPeriod_counts, names='matchPeriod', values='count', title='Distribution of Event Types')\n",
    "fig.show()"
   ]
  },
  {
   "cell_type": "markdown",
   "id": "4ad51847-c9c6-4cec-a8fd-f8211c71d463",
   "metadata": {},
   "source": [
    "fractionally more events happen in the first half of games."
   ]
  },
  {
   "cell_type": "code",
   "execution_count": 65,
   "id": "41e061a9-69a7-40d9-b6e2-731974f6ff36",
   "metadata": {},
   "outputs": [
    {
     "data": {
      "image/png": "[encoded data removed]",
      "text/plain": [
       "<Figure size 1000x600 with 1 Axes>"
      ]
     },
     "metadata": {},
     "output_type": "display_data"
    }
   ],
   "source": [
    "# Convert eventSec to minutes\n",
    "events['eventMinutes'] = events['eventSec'] / 60\n",
    "\n",
    "# Plotting the smoothed distribution\n",
    "plt.figure(figsize=(10, 6))\n",
    "sns.kdeplot(events['eventMinutes'], fill=True, color='blue', alpha=0.6)\n",
    "plt.title('Smoothed Distribution of Event Timing (in minutes)')\n",
    "plt.xlabel('Event Time (minutes)')\n",
    "plt.ylabel('Density')\n",
    "plt.grid(True)\n",
    "plt.show()"
   ]
  },
  {
   "cell_type": "markdown",
   "id": "248b00ac-15cc-4467-adfe-978db7bd40fe",
   "metadata": {},
   "source": [
    "This was unexpected. How is a 90 minute game all happening between 0 and 55 minutes? Good thing I converted the seconds to minutes or else I might not have caught this so early. I decided to dig into it and filter by first half events only. Then it became apparent that the time count restarts in the 2nd half. \n",
    "\n"
   ]
  },
  {
   "cell_type": "code",
   "execution_count": 66,
   "id": "66aebcc3-2d1f-4885-a31f-437c650e9ab9",
   "metadata": {},
   "outputs": [
    {
     "data": {
      "image/png": "[encoded data removed]",
      "text/plain": [
       "<Figure size 1000x600 with 1 Axes>"
      ]
     },
     "metadata": {},
     "output_type": "display_data"
    }
   ],
   "source": [
    "\n",
    "# Plotting the smoothed distribution\n",
    "plt.figure(figsize=(10, 6))\n",
    "sns.kdeplot(events[events['matchPeriod']=='1H']['eventMinutes'], fill=True, color='blue', alpha=0.6)\n",
    "plt.title('Smoothed Distribution of 1st Half Events')\n",
    "plt.xlabel('Event Time (minutes)')\n",
    "plt.ylabel('Density')\n",
    "plt.grid(True)\n",
    "plt.show()"
   ]
  },
  {
   "cell_type": "code",
   "execution_count": 67,
   "id": "00e58a18-4d54-4c34-a987-b51e4211bab8",
   "metadata": {},
   "outputs": [
    {
     "data": {
      "image/png": "[encoded data removed]",
      "text/plain": [
       "<Figure size 1000x600 with 1 Axes>"
      ]
     },
     "metadata": {},
     "output_type": "display_data"
    }
   ],
   "source": [
    "\n",
    "\n",
    "# Plotting the smoothed distribution\n",
    "plt.figure(figsize=(10, 6))\n",
    "sns.kdeplot(events[events['matchPeriod']=='2H']['eventMinutes'], fill=True, color='blue', alpha=0.6)\n",
    "plt.title('Smoothed Distribution of 2nd Half Events')\n",
    "plt.xlabel('Event Time (minutes)')\n",
    "plt.ylabel('Density')\n",
    "plt.grid(True)\n",
    "plt.show()"
   ]
  },
  {
   "cell_type": "markdown",
   "id": "d5abfaeb-6972-4d43-b8e6-5a770082e06a",
   "metadata": {},
   "source": [
    "I can see a bigger tail in the 2nd half density plot. This makes sense as there usually is more injury time added on in the 2nd half of games.\n",
    "\n",
    "I need to consider how to deal with this time column.\n",
    "- Should I just leave it as it is? \n",
    "- Should I add 45 minutes to all the 2nd half values?\n",
    "- Should I add up each game's individual halves separately? Because the first half could end on something like 47 minutes, and this would be indistinguishable from the 2nd half's 2nd minute if i just did a simple add.\n",
    "\n",
    "I will consider this later, but for now I dont see the need to change anything."
   ]
  },
  {
   "cell_type": "markdown",
   "id": "4583da06-18c8-48d2-a657-131cd82b7cf2",
   "metadata": {},
   "source": [
    "### Positional Data\n",
    "\n",
    "I have since decided this is pretty much garbage"
   ]
  },
  {
   "cell_type": "code",
   "execution_count": 68,
   "id": "18467292-afa9-41bc-a6e1-c88370903a38",
   "metadata": {},
   "outputs": [
    {
     "data": {
      "text/html": [
       "<div>\n",
       "<style scoped>\n",
       "    .dataframe tbody tr th:only-of-type {\n",
       "        vertical-align: middle;\n",
       "    }\n",
       "\n",
       "    .dataframe tbody tr th {\n",
       "        vertical-align: top;\n",
       "    }\n",
       "\n",
       "    .dataframe thead th {\n",
       "        text-align: right;\n",
       "    }\n",
       "</style>\n",
       "<table border=\"1\" class=\"dataframe\">\n",
       "  <thead>\n",
       "    <tr style=\"text-align: right;\">\n",
       "      <th></th>\n",
       "      <th>pos_orig_y</th>\n",
       "      <th>pos_orig_x</th>\n",
       "      <th>pos_dest_y</th>\n",
       "      <th>pos_dest_x</th>\n",
       "    </tr>\n",
       "  </thead>\n",
       "  <tbody>\n",
       "    <tr>\n",
       "      <th>0</th>\n",
       "      <td>49</td>\n",
       "      <td>49</td>\n",
       "      <td>78</td>\n",
       "      <td>31</td>\n",
       "    </tr>\n",
       "    <tr>\n",
       "      <th>1</th>\n",
       "      <td>78</td>\n",
       "      <td>31</td>\n",
       "      <td>75</td>\n",
       "      <td>51</td>\n",
       "    </tr>\n",
       "    <tr>\n",
       "      <th>2</th>\n",
       "      <td>75</td>\n",
       "      <td>51</td>\n",
       "      <td>71</td>\n",
       "      <td>35</td>\n",
       "    </tr>\n",
       "    <tr>\n",
       "      <th>3</th>\n",
       "      <td>71</td>\n",
       "      <td>35</td>\n",
       "      <td>95</td>\n",
       "      <td>41</td>\n",
       "    </tr>\n",
       "    <tr>\n",
       "      <th>4</th>\n",
       "      <td>95</td>\n",
       "      <td>41</td>\n",
       "      <td>88</td>\n",
       "      <td>72</td>\n",
       "    </tr>\n",
       "    <tr>\n",
       "      <th>...</th>\n",
       "      <td>...</td>\n",
       "      <td>...</td>\n",
       "      <td>...</td>\n",
       "      <td>...</td>\n",
       "    </tr>\n",
       "    <tr>\n",
       "      <th>643085</th>\n",
       "      <td>31</td>\n",
       "      <td>2</td>\n",
       "      <td>32</td>\n",
       "      <td>0</td>\n",
       "    </tr>\n",
       "    <tr>\n",
       "      <th>643086</th>\n",
       "      <td>32</td>\n",
       "      <td>0</td>\n",
       "      <td>100</td>\n",
       "      <td>100</td>\n",
       "    </tr>\n",
       "    <tr>\n",
       "      <th>643087</th>\n",
       "      <td>100</td>\n",
       "      <td>100</td>\n",
       "      <td>47</td>\n",
       "      <td>88</td>\n",
       "    </tr>\n",
       "    <tr>\n",
       "      <th>643088</th>\n",
       "      <td>53</td>\n",
       "      <td>12</td>\n",
       "      <td>50</td>\n",
       "      <td>14</td>\n",
       "    </tr>\n",
       "    <tr>\n",
       "      <th>643089</th>\n",
       "      <td>47</td>\n",
       "      <td>88</td>\n",
       "      <td>50</td>\n",
       "      <td>86</td>\n",
       "    </tr>\n",
       "  </tbody>\n",
       "</table>\n",
       "<p>643090 rows × 4 columns</p>\n",
       "</div>"
      ],
      "text/plain": [
       "        pos_orig_y  pos_orig_x  pos_dest_y  pos_dest_x\n",
       "0               49          49          78          31\n",
       "1               78          31          75          51\n",
       "2               75          51          71          35\n",
       "3               71          35          95          41\n",
       "4               95          41          88          72\n",
       "...            ...         ...         ...         ...\n",
       "643085          31           2          32           0\n",
       "643086          32           0         100         100\n",
       "643087         100         100          47          88\n",
       "643088          53          12          50          14\n",
       "643089          47          88          50          86\n",
       "\n",
       "[643090 rows x 4 columns]"
      ]
     },
     "execution_count": 68,
     "metadata": {},
     "output_type": "execute_result"
    }
   ],
   "source": [
    "events[['pos_orig_y','pos_orig_x','pos_dest_y','pos_dest_x']]"
   ]
  },
  {
   "cell_type": "code",
   "execution_count": 69,
   "id": "cda4b7e4-6e59-4e48-b7f6-068b0d92cd22",
   "metadata": {},
   "outputs": [
    {
     "data": {
      "text/html": [
       "<div>\n",
       "<style scoped>\n",
       "    .dataframe tbody tr th:only-of-type {\n",
       "        vertical-align: middle;\n",
       "    }\n",
       "\n",
       "    .dataframe tbody tr th {\n",
       "        vertical-align: top;\n",
       "    }\n",
       "\n",
       "    .dataframe thead th {\n",
       "        text-align: right;\n",
       "    }\n",
       "</style>\n",
       "<table border=\"1\" class=\"dataframe\">\n",
       "  <thead>\n",
       "    <tr style=\"text-align: right;\">\n",
       "      <th></th>\n",
       "      <th>pos_orig_y</th>\n",
       "      <th>pos_orig_x</th>\n",
       "      <th>pos_dest_y</th>\n",
       "      <th>pos_dest_x</th>\n",
       "    </tr>\n",
       "  </thead>\n",
       "  <tbody>\n",
       "    <tr>\n",
       "      <th>count</th>\n",
       "      <td>643090.000000</td>\n",
       "      <td>643090.000000</td>\n",
       "      <td>643090.000000</td>\n",
       "      <td>643090.000000</td>\n",
       "    </tr>\n",
       "    <tr>\n",
       "      <th>mean</th>\n",
       "      <td>49.921115</td>\n",
       "      <td>50.830798</td>\n",
       "      <td>50.046706</td>\n",
       "      <td>51.069248</td>\n",
       "    </tr>\n",
       "    <tr>\n",
       "      <th>std</th>\n",
       "      <td>31.247601</td>\n",
       "      <td>26.209796</td>\n",
       "      <td>31.268270</td>\n",
       "      <td>26.237095</td>\n",
       "    </tr>\n",
       "    <tr>\n",
       "      <th>min</th>\n",
       "      <td>0.000000</td>\n",
       "      <td>0.000000</td>\n",
       "      <td>0.000000</td>\n",
       "      <td>0.000000</td>\n",
       "    </tr>\n",
       "    <tr>\n",
       "      <th>25%</th>\n",
       "      <td>22.000000</td>\n",
       "      <td>31.000000</td>\n",
       "      <td>22.000000</td>\n",
       "      <td>31.000000</td>\n",
       "    </tr>\n",
       "    <tr>\n",
       "      <th>50%</th>\n",
       "      <td>50.000000</td>\n",
       "      <td>52.000000</td>\n",
       "      <td>50.000000</td>\n",
       "      <td>53.000000</td>\n",
       "    </tr>\n",
       "    <tr>\n",
       "      <th>75%</th>\n",
       "      <td>78.000000</td>\n",
       "      <td>71.000000</td>\n",
       "      <td>78.000000</td>\n",
       "      <td>71.000000</td>\n",
       "    </tr>\n",
       "    <tr>\n",
       "      <th>max</th>\n",
       "      <td>100.000000</td>\n",
       "      <td>100.000000</td>\n",
       "      <td>100.000000</td>\n",
       "      <td>100.000000</td>\n",
       "    </tr>\n",
       "  </tbody>\n",
       "</table>\n",
       "</div>"
      ],
      "text/plain": [
       "          pos_orig_y     pos_orig_x     pos_dest_y     pos_dest_x\n",
       "count  643090.000000  643090.000000  643090.000000  643090.000000\n",
       "mean       49.921115      50.830798      50.046706      51.069248\n",
       "std        31.247601      26.209796      31.268270      26.237095\n",
       "min         0.000000       0.000000       0.000000       0.000000\n",
       "25%        22.000000      31.000000      22.000000      31.000000\n",
       "50%        50.000000      52.000000      50.000000      53.000000\n",
       "75%        78.000000      71.000000      78.000000      71.000000\n",
       "max       100.000000     100.000000     100.000000     100.000000"
      ]
     },
     "execution_count": 69,
     "metadata": {},
     "output_type": "execute_result"
    }
   ],
   "source": [
    "events[['pos_orig_y','pos_orig_x','pos_dest_y','pos_dest_x']].describe()"
   ]
  },
  {
   "cell_type": "markdown",
   "id": "cd7128e3-8137-433a-bf75-0197c14d90cc",
   "metadata": {},
   "source": [
    "The coordinates are just a ratio of where they occur on the pitch. They are no particular unit. That is useful because pitches can be different sizes. So it is easier to determine how close they are to their own goal, the opposition's goal or the sidelines."
   ]
  },
  {
   "cell_type": "code",
   "execution_count": 70,
   "id": "b0260dd8-b74f-47cf-bc64-d4d64ef19289",
   "metadata": {},
   "outputs": [],
   "source": [
    "matchExample=events[(events['matchId']==2499719) & (events['matchPeriod']=='2H') & (events['eventMinutes']>=45)].reset_index()\n",
    "#& (events['eventSec']<100)]"
   ]
  },
  {
   "cell_type": "code",
   "execution_count": 71,
   "id": "ea9aa906-de12-451a-98cc-3de9acaa1fb3",
   "metadata": {},
   "outputs": [
    {
     "data": {
      "text/html": [
       "<div>\n",
       "<style scoped>\n",
       "    .dataframe tbody tr th:only-of-type {\n",
       "        vertical-align: middle;\n",
       "    }\n",
       "\n",
       "    .dataframe tbody tr th {\n",
       "        vertical-align: top;\n",
       "    }\n",
       "\n",
       "    .dataframe thead th {\n",
       "        text-align: right;\n",
       "    }\n",
       "</style>\n",
       "<table border=\"1\" class=\"dataframe\">\n",
       "  <thead>\n",
       "    <tr style=\"text-align: right;\">\n",
       "      <th></th>\n",
       "      <th>index</th>\n",
       "      <th>subEventName</th>\n",
       "      <th>playerId</th>\n",
       "      <th>positions</th>\n",
       "      <th>matchId</th>\n",
       "      <th>eventName</th>\n",
       "      <th>teamId</th>\n",
       "      <th>matchPeriod</th>\n",
       "      <th>eventSec</th>\n",
       "      <th>id</th>\n",
       "      <th>pos_orig_y</th>\n",
       "      <th>pos_orig_x</th>\n",
       "      <th>pos_dest_y</th>\n",
       "      <th>pos_dest_x</th>\n",
       "      <th>Label</th>\n",
       "      <th>eventMinutes</th>\n",
       "    </tr>\n",
       "  </thead>\n",
       "  <tbody>\n",
       "    <tr>\n",
       "      <th>0</th>\n",
       "      <td>1690</td>\n",
       "      <td>Free kick cross</td>\n",
       "      <td>8480</td>\n",
       "      <td>[{'y': 58, 'x': 30}, {'y': 27, 'x': 79}]</td>\n",
       "      <td>2499719</td>\n",
       "      <td>Free Kick</td>\n",
       "      <td>1631</td>\n",
       "      <td>2H</td>\n",
       "      <td>2703.157971</td>\n",
       "      <td>177960982</td>\n",
       "      <td>58</td>\n",
       "      <td>30</td>\n",
       "      <td>27</td>\n",
       "      <td>79</td>\n",
       "      <td>[high, accurate]</td>\n",
       "      <td>45.052633</td>\n",
       "    </tr>\n",
       "    <tr>\n",
       "      <th>1</th>\n",
       "      <td>1691</td>\n",
       "      <td>Air duel</td>\n",
       "      <td>8488</td>\n",
       "      <td>[{'y': 27, 'x': 79}, {'y': 34, 'x': 86}]</td>\n",
       "      <td>2499719</td>\n",
       "      <td>Duel</td>\n",
       "      <td>1631</td>\n",
       "      <td>2H</td>\n",
       "      <td>2705.131936</td>\n",
       "      <td>177960983</td>\n",
       "      <td>27</td>\n",
       "      <td>79</td>\n",
       "      <td>34</td>\n",
       "      <td>86</td>\n",
       "      <td>[won, accurate]</td>\n",
       "      <td>45.085532</td>\n",
       "    </tr>\n",
       "    <tr>\n",
       "      <th>2</th>\n",
       "      <td>1692</td>\n",
       "      <td>Air duel</td>\n",
       "      <td>0</td>\n",
       "      <td>[{'y': 73, 'x': 21}, {'y': 66, 'x': 14}]</td>\n",
       "      <td>2499719</td>\n",
       "      <td>Duel</td>\n",
       "      <td>1609</td>\n",
       "      <td>2H</td>\n",
       "      <td>2705.131936</td>\n",
       "      <td>177961295</td>\n",
       "      <td>73</td>\n",
       "      <td>21</td>\n",
       "      <td>66</td>\n",
       "      <td>14</td>\n",
       "      <td>[lost, not accurate]</td>\n",
       "      <td>45.085532</td>\n",
       "    </tr>\n",
       "    <tr>\n",
       "      <th>3</th>\n",
       "      <td>1693</td>\n",
       "      <td>Ground loose ball duel</td>\n",
       "      <td>8653</td>\n",
       "      <td>[{'y': 34, 'x': 86}, {'y': 33, 'x': 96}]</td>\n",
       "      <td>2499719</td>\n",
       "      <td>Duel</td>\n",
       "      <td>1631</td>\n",
       "      <td>2H</td>\n",
       "      <td>2705.291664</td>\n",
       "      <td>177960981</td>\n",
       "      <td>34</td>\n",
       "      <td>86</td>\n",
       "      <td>33</td>\n",
       "      <td>96</td>\n",
       "      <td>[neutral, accurate]</td>\n",
       "      <td>45.088194</td>\n",
       "    </tr>\n",
       "    <tr>\n",
       "      <th>4</th>\n",
       "      <td>1694</td>\n",
       "      <td>Ground loose ball duel</td>\n",
       "      <td>7882</td>\n",
       "      <td>[{'y': 66, 'x': 14}, {'y': 67, 'x': 4}]</td>\n",
       "      <td>2499719</td>\n",
       "      <td>Duel</td>\n",
       "      <td>1609</td>\n",
       "      <td>2H</td>\n",
       "      <td>2707.060030</td>\n",
       "      <td>177960962</td>\n",
       "      <td>66</td>\n",
       "      <td>14</td>\n",
       "      <td>67</td>\n",
       "      <td>4</td>\n",
       "      <td>[neutral, accurate]</td>\n",
       "      <td>45.117667</td>\n",
       "    </tr>\n",
       "    <tr>\n",
       "      <th>...</th>\n",
       "      <td>...</td>\n",
       "      <td>...</td>\n",
       "      <td>...</td>\n",
       "      <td>...</td>\n",
       "      <td>...</td>\n",
       "      <td>...</td>\n",
       "      <td>...</td>\n",
       "      <td>...</td>\n",
       "      <td>...</td>\n",
       "      <td>...</td>\n",
       "      <td>...</td>\n",
       "      <td>...</td>\n",
       "      <td>...</td>\n",
       "      <td>...</td>\n",
       "      <td>...</td>\n",
       "      <td>...</td>\n",
       "    </tr>\n",
       "    <tr>\n",
       "      <th>73</th>\n",
       "      <td>1763</td>\n",
       "      <td>Launch</td>\n",
       "      <td>8480</td>\n",
       "      <td>[{'y': 53, 'x': 7}, {'y': 49, 'x': 46}]</td>\n",
       "      <td>2499719</td>\n",
       "      <td>Pass</td>\n",
       "      <td>1631</td>\n",
       "      <td>2H</td>\n",
       "      <td>2992.491575</td>\n",
       "      <td>177961040</td>\n",
       "      <td>53</td>\n",
       "      <td>7</td>\n",
       "      <td>49</td>\n",
       "      <td>46</td>\n",
       "      <td>[not accurate]</td>\n",
       "      <td>49.874860</td>\n",
       "    </tr>\n",
       "    <tr>\n",
       "      <th>74</th>\n",
       "      <td>1764</td>\n",
       "      <td>Head pass</td>\n",
       "      <td>49876</td>\n",
       "      <td>[{'y': 51, 'x': 54}, {'y': 58, 'x': 73}]</td>\n",
       "      <td>2499719</td>\n",
       "      <td>Pass</td>\n",
       "      <td>1609</td>\n",
       "      <td>2H</td>\n",
       "      <td>2994.900590</td>\n",
       "      <td>177961035</td>\n",
       "      <td>51</td>\n",
       "      <td>54</td>\n",
       "      <td>58</td>\n",
       "      <td>73</td>\n",
       "      <td>[accurate]</td>\n",
       "      <td>49.915010</td>\n",
       "    </tr>\n",
       "    <tr>\n",
       "      <th>75</th>\n",
       "      <td>1765</td>\n",
       "      <td>Shot</td>\n",
       "      <td>7870</td>\n",
       "      <td>[{'y': 58, 'x': 73}, {'y': 0, 'x': 0}]</td>\n",
       "      <td>2499719</td>\n",
       "      <td>Shot</td>\n",
       "      <td>1609</td>\n",
       "      <td>2H</td>\n",
       "      <td>2997.086392</td>\n",
       "      <td>177961036</td>\n",
       "      <td>58</td>\n",
       "      <td>73</td>\n",
       "      <td>0</td>\n",
       "      <td>0</td>\n",
       "      <td>[Right, opportunity, otr, not accurate]</td>\n",
       "      <td>49.951440</td>\n",
       "    </tr>\n",
       "    <tr>\n",
       "      <th>76</th>\n",
       "      <td>1766</td>\n",
       "      <td>Ball out of the field</td>\n",
       "      <td>0</td>\n",
       "      <td>[{'y': 48, 'x': 3}, {'y': 100, 'x': 100}]</td>\n",
       "      <td>2499719</td>\n",
       "      <td>Interruption</td>\n",
       "      <td>1631</td>\n",
       "      <td>2H</td>\n",
       "      <td>2998.963701</td>\n",
       "      <td>177961041</td>\n",
       "      <td>48</td>\n",
       "      <td>3</td>\n",
       "      <td>100</td>\n",
       "      <td>100</td>\n",
       "      <td>[nan]</td>\n",
       "      <td>49.982728</td>\n",
       "    </tr>\n",
       "    <tr>\n",
       "      <th>77</th>\n",
       "      <td>1767</td>\n",
       "      <td>Goal kick</td>\n",
       "      <td>8480</td>\n",
       "      <td>[{'y': 100, 'x': 100}, {'y': 100, 'x': 100}]</td>\n",
       "      <td>2499719</td>\n",
       "      <td>Free Kick</td>\n",
       "      <td>1631</td>\n",
       "      <td>2H</td>\n",
       "      <td>3006.647279</td>\n",
       "      <td>177961042</td>\n",
       "      <td>100</td>\n",
       "      <td>100</td>\n",
       "      <td>100</td>\n",
       "      <td>100</td>\n",
       "      <td>[nan]</td>\n",
       "      <td>50.110788</td>\n",
       "    </tr>\n",
       "  </tbody>\n",
       "</table>\n",
       "<p>78 rows × 16 columns</p>\n",
       "</div>"
      ],
      "text/plain": [
       "    index            subEventName  playerId  \\\n",
       "0    1690         Free kick cross      8480   \n",
       "1    1691                Air duel      8488   \n",
       "2    1692                Air duel         0   \n",
       "3    1693  Ground loose ball duel      8653   \n",
       "4    1694  Ground loose ball duel      7882   \n",
       "..    ...                     ...       ...   \n",
       "73   1763                  Launch      8480   \n",
       "74   1764               Head pass     49876   \n",
       "75   1765                    Shot      7870   \n",
       "76   1766   Ball out of the field         0   \n",
       "77   1767               Goal kick      8480   \n",
       "\n",
       "                                       positions  matchId     eventName  \\\n",
       "0       [{'y': 58, 'x': 30}, {'y': 27, 'x': 79}]  2499719     Free Kick   \n",
       "1       [{'y': 27, 'x': 79}, {'y': 34, 'x': 86}]  2499719          Duel   \n",
       "2       [{'y': 73, 'x': 21}, {'y': 66, 'x': 14}]  2499719          Duel   \n",
       "3       [{'y': 34, 'x': 86}, {'y': 33, 'x': 96}]  2499719          Duel   \n",
       "4        [{'y': 66, 'x': 14}, {'y': 67, 'x': 4}]  2499719          Duel   \n",
       "..                                           ...      ...           ...   \n",
       "73       [{'y': 53, 'x': 7}, {'y': 49, 'x': 46}]  2499719          Pass   \n",
       "74      [{'y': 51, 'x': 54}, {'y': 58, 'x': 73}]  2499719          Pass   \n",
       "75        [{'y': 58, 'x': 73}, {'y': 0, 'x': 0}]  2499719          Shot   \n",
       "76     [{'y': 48, 'x': 3}, {'y': 100, 'x': 100}]  2499719  Interruption   \n",
       "77  [{'y': 100, 'x': 100}, {'y': 100, 'x': 100}]  2499719     Free Kick   \n",
       "\n",
       "    teamId matchPeriod     eventSec         id  pos_orig_y  pos_orig_x  \\\n",
       "0     1631          2H  2703.157971  177960982          58          30   \n",
       "1     1631          2H  2705.131936  177960983          27          79   \n",
       "2     1609          2H  2705.131936  177961295          73          21   \n",
       "3     1631          2H  2705.291664  177960981          34          86   \n",
       "4     1609          2H  2707.060030  177960962          66          14   \n",
       "..     ...         ...          ...        ...         ...         ...   \n",
       "73    1631          2H  2992.491575  177961040          53           7   \n",
       "74    1609          2H  2994.900590  177961035          51          54   \n",
       "75    1609          2H  2997.086392  177961036          58          73   \n",
       "76    1631          2H  2998.963701  177961041          48           3   \n",
       "77    1631          2H  3006.647279  177961042         100         100   \n",
       "\n",
       "    pos_dest_y  pos_dest_x                                    Label  \\\n",
       "0           27          79                         [high, accurate]   \n",
       "1           34          86                          [won, accurate]   \n",
       "2           66          14                     [lost, not accurate]   \n",
       "3           33          96                      [neutral, accurate]   \n",
       "4           67           4                      [neutral, accurate]   \n",
       "..         ...         ...                                      ...   \n",
       "73          49          46                           [not accurate]   \n",
       "74          58          73                               [accurate]   \n",
       "75           0           0  [Right, opportunity, otr, not accurate]   \n",
       "76         100         100                                    [nan]   \n",
       "77         100         100                                    [nan]   \n",
       "\n",
       "    eventMinutes  \n",
       "0      45.052633  \n",
       "1      45.085532  \n",
       "2      45.085532  \n",
       "3      45.088194  \n",
       "4      45.117667  \n",
       "..           ...  \n",
       "73     49.874860  \n",
       "74     49.915010  \n",
       "75     49.951440  \n",
       "76     49.982728  \n",
       "77     50.110788  \n",
       "\n",
       "[78 rows x 16 columns]"
      ]
     },
     "execution_count": 71,
     "metadata": {},
     "output_type": "execute_result"
    }
   ],
   "source": [
    "matchExample"
   ]
  },
  {
   "cell_type": "code",
   "execution_count": 72,
   "id": "01e586df-4863-41f1-83fe-a401d3c42d5d",
   "metadata": {},
   "outputs": [
    {
     "data": {
      "image/png": "[encoded data removed]",
      "text/plain": [
       "<Figure size 640x480 with 1 Axes>"
      ]
     },
     "metadata": {},
     "output_type": "display_data"
    }
   ],
   "source": [
    "# Create a figure and axis\n",
    "fig, ax = plt.subplots()\n",
    "\n",
    "# Plot arrows for movements\n",
    "for i in range(len(matchExample['pos_orig_x'])):\n",
    "    ax.arrow(matchExample['pos_orig_x'][i], matchExample['pos_orig_y'][i], \n",
    "             matchExample['pos_dest_x'][i] - matchExample['pos_orig_x'][i],\n",
    "             matchExample['pos_dest_y'][i] - matchExample['pos_orig_y'][i],\n",
    "             head_width=1, head_length=1, fc='blue', ec='blue')\n",
    "\n",
    "# Set limits and labels\n",
    "ax.set_xlim(0, 100)\n",
    "ax.set_ylim(0, 100)\n",
    "ax.set_xlabel('X Position')\n",
    "ax.set_ylabel('Y Position')\n",
    "ax.set_title('Movement from Origin to Destination of Events During Injury Time of the First Match')\n",
    "\n",
    "# Show the plot\n",
    "plt.show()"
   ]
  },
  {
   "cell_type": "markdown",
   "id": "d1f36968-1392-46a9-8544-95cb8d2185a7",
   "metadata": {},
   "source": [
    "# Matches"
   ]
  },
  {
   "cell_type": "code",
   "execution_count": 73,
   "id": "94f65587-cb16-4af5-b868-b556463c8970",
   "metadata": {},
   "outputs": [],
   "source": [
    "matches = pd.read_csv('data/matches_England.csv')"
   ]
  },
  {
   "cell_type": "code",
   "execution_count": 74,
   "id": "b1f37efb-dc85-4a52-a62c-dc8914c908ba",
   "metadata": {},
   "outputs": [
    {
     "data": {
      "text/html": [
       "<div>\n",
       "<style scoped>\n",
       "    .dataframe tbody tr th:only-of-type {\n",
       "        vertical-align: middle;\n",
       "    }\n",
       "\n",
       "    .dataframe tbody tr th {\n",
       "        vertical-align: top;\n",
       "    }\n",
       "\n",
       "    .dataframe thead th {\n",
       "        text-align: right;\n",
       "    }\n",
       "</style>\n",
       "<table border=\"1\" class=\"dataframe\">\n",
       "  <thead>\n",
       "    <tr style=\"text-align: right;\">\n",
       "      <th></th>\n",
       "      <th>status</th>\n",
       "      <th>roundId</th>\n",
       "      <th>gameweek</th>\n",
       "      <th>teamsData</th>\n",
       "      <th>seasonId</th>\n",
       "      <th>dateutc</th>\n",
       "      <th>winner</th>\n",
       "      <th>venue</th>\n",
       "      <th>wyId</th>\n",
       "      <th>label</th>\n",
       "      <th>...</th>\n",
       "      <th>team2.side</th>\n",
       "      <th>team2.teamId</th>\n",
       "      <th>team2.score</th>\n",
       "      <th>team2.scoreP</th>\n",
       "      <th>team2.hasFormation</th>\n",
       "      <th>team2.formation</th>\n",
       "      <th>team2.scoreHT</th>\n",
       "      <th>team2.formation.bench</th>\n",
       "      <th>team2.formation.lineup</th>\n",
       "      <th>team2.formation.substitutions</th>\n",
       "    </tr>\n",
       "  </thead>\n",
       "  <tbody>\n",
       "    <tr>\n",
       "      <th>0</th>\n",
       "      <td>Played</td>\n",
       "      <td>4405654</td>\n",
       "      <td>38</td>\n",
       "      <td>{'1646': {'scoreET': 0, 'coachId': 8880, 'side...</td>\n",
       "      <td>181150</td>\n",
       "      <td>2018-05-13 14:00:00</td>\n",
       "      <td>1659</td>\n",
       "      <td>Turf Moor</td>\n",
       "      <td>2500089</td>\n",
       "      <td>Burnley - AFC Bournemouth, 1 - 2</td>\n",
       "      <td>...</td>\n",
       "      <td>away</td>\n",
       "      <td>1659</td>\n",
       "      <td>2</td>\n",
       "      <td>0</td>\n",
       "      <td>1</td>\n",
       "      <td>{'bench': [{'playerId': 11061, 'ownGoals': '0'...</td>\n",
       "      <td>0</td>\n",
       "      <td>[{'playerId': 11061, 'ownGoals': '0', 'redCard...</td>\n",
       "      <td>[{'playerId': 259531, 'ownGoals': '0', 'redCar...</td>\n",
       "      <td>[{'playerIn': 7989, 'playerOut': 259531, 'minu...</td>\n",
       "    </tr>\n",
       "    <tr>\n",
       "      <th>1</th>\n",
       "      <td>Played</td>\n",
       "      <td>4405654</td>\n",
       "      <td>38</td>\n",
       "      <td>{'1628': {'scoreET': 0, 'coachId': 8357, 'side...</td>\n",
       "      <td>181150</td>\n",
       "      <td>2018-05-13 14:00:00</td>\n",
       "      <td>1628</td>\n",
       "      <td>Selhurst Park</td>\n",
       "      <td>2500090</td>\n",
       "      <td>Crystal Palace - West Bromwich Albion, 2 - 0</td>\n",
       "      <td>...</td>\n",
       "      <td>away</td>\n",
       "      <td>1627</td>\n",
       "      <td>0</td>\n",
       "      <td>0</td>\n",
       "      <td>1</td>\n",
       "      <td>{'bench': [{'playerId': 399517, 'ownGoals': '0...</td>\n",
       "      <td>0</td>\n",
       "      <td>[{'playerId': 399517, 'ownGoals': '0', 'redCar...</td>\n",
       "      <td>[{'playerId': 25537, 'ownGoals': '0', 'redCard...</td>\n",
       "      <td>[{'playerIn': 261, 'playerOut': 25537, 'minute...</td>\n",
       "    </tr>\n",
       "  </tbody>\n",
       "</table>\n",
       "<p>2 rows × 38 columns</p>\n",
       "</div>"
      ],
      "text/plain": [
       "   status  roundId  gameweek  \\\n",
       "0  Played  4405654        38   \n",
       "1  Played  4405654        38   \n",
       "\n",
       "                                           teamsData  seasonId  \\\n",
       "0  {'1646': {'scoreET': 0, 'coachId': 8880, 'side...    181150   \n",
       "1  {'1628': {'scoreET': 0, 'coachId': 8357, 'side...    181150   \n",
       "\n",
       "               dateutc  winner          venue     wyId  \\\n",
       "0  2018-05-13 14:00:00    1659      Turf Moor  2500089   \n",
       "1  2018-05-13 14:00:00    1628  Selhurst Park  2500090   \n",
       "\n",
       "                                          label  ... team2.side team2.teamId  \\\n",
       "0              Burnley - AFC Bournemouth, 1 - 2  ...       away         1659   \n",
       "1  Crystal Palace - West Bromwich Albion, 2 - 0  ...       away         1627   \n",
       "\n",
       "  team2.score  team2.scoreP  team2.hasFormation  \\\n",
       "0           2             0                   1   \n",
       "1           0             0                   1   \n",
       "\n",
       "                                     team2.formation team2.scoreHT  \\\n",
       "0  {'bench': [{'playerId': 11061, 'ownGoals': '0'...             0   \n",
       "1  {'bench': [{'playerId': 399517, 'ownGoals': '0...             0   \n",
       "\n",
       "                               team2.formation.bench  \\\n",
       "0  [{'playerId': 11061, 'ownGoals': '0', 'redCard...   \n",
       "1  [{'playerId': 399517, 'ownGoals': '0', 'redCar...   \n",
       "\n",
       "                              team2.formation.lineup  \\\n",
       "0  [{'playerId': 259531, 'ownGoals': '0', 'redCar...   \n",
       "1  [{'playerId': 25537, 'ownGoals': '0', 'redCard...   \n",
       "\n",
       "                       team2.formation.substitutions  \n",
       "0  [{'playerIn': 7989, 'playerOut': 259531, 'minu...  \n",
       "1  [{'playerIn': 261, 'playerOut': 25537, 'minute...  \n",
       "\n",
       "[2 rows x 38 columns]"
      ]
     },
     "execution_count": 74,
     "metadata": {},
     "output_type": "execute_result"
    }
   ],
   "source": [
    "matches.head(2)"
   ]
  },
  {
   "cell_type": "markdown",
   "id": "5a92ab16-c7d9-474c-898c-9615392b6b2c",
   "metadata": {},
   "source": [
    "from https://www.kaggle.com/datasets/aleespinosa/soccer-match-event-dataset?select=matches_England.csv\n",
    "\n",
    "- **competitionId**: The identifier of the competition to which the match belongs. It is an integer and refers to the field \"wyId\" of the competition document.\n",
    "- **date and dateutc**: \n",
    "  - *date*: Specifies the date and time when the match starts (e.g., May 20, 2018 at 8:45:00 PM GMT+2).\n",
    "  - *dateutc*: Contains the same information in compact format (YYYY-MM-DD hh:mm:ss).\n",
    "- **duration**: \n",
    "  - *Regular*: Matches of regular duration (90 minutes + stoppage time).\n",
    "  - *ExtraTime*: Matches with supplementary times.\n",
    "  - *Penalities*: Matches ending in penalty kicks.\n",
    "- **gameweek**: The week of the league, starting from the beginning of the league.\n",
    "- **label**: Contains the names of the two clubs and the result (e.g., \"Lazio - Internazionale, 2 - 3\").\n",
    "- **roundID**: Indicates the match-day of the competition. It specifies the stage of the competition for national teams.\n",
    "- **seasonId**: Indicates the season of the match.\n",
    "- **status**: \n",
    "  - *Played*: The match has officially finished.\n",
    "  - *Cancelled*: The match has been canceled.\n",
    "  - *Postponed*: The match has been postponed with no new date available.\n",
    "  - *Suspended*: The match has been suspended with no new date available.\n",
    "- **venue**: The stadium where the match was held (e.g., \"Stadio Olimpico\").\n",
    "- **winner**: The identifier of the team that won the game or 0 if the match ended in a draw.\n",
    "- **wyId**: The identifier of the match, assigned by Wyscout.\n",
    "- **teamsData**: Contains subfields with information about each team:\n",
    "  - **hasFormation**: 0 if no formation is present, 1 otherwise.\n",
    "  - **score**: Goals scored by the team (not counting penalties).\n",
    "  - **scoreET**: Goals scored during the match, including extra time (not counting penalties).\n",
    "  - **scoreHT**: Goals scored during the first half.\n",
    "  - **scoreP**: Total goals scored after penalties.\n",
    "  - **side**: Team side in the match (\"home\" or \"away\").\n",
    "  - **teamId**: The identifier of the team.\n",
    "  - **coachId**: The identifier of the team's coach.\n",
    "  - **bench**: Players who started on the bench and their performance statistics.\n",
    "  - **lineup**: Players in the starting lineup and their performance statistics.\n",
    "  - **substitutions**: The list of substitutions made during the match.\n"
   ]
  },
  {
   "cell_type": "code",
   "execution_count": 75,
   "id": "d9025385-51eb-4bd3-96cd-640208dca323",
   "metadata": {},
   "outputs": [
    {
     "name": "stdout",
     "output_type": "stream",
     "text": [
      "<class 'pandas.core.frame.DataFrame'>\n",
      "RangeIndex: 380 entries, 0 to 379\n",
      "Data columns (total 38 columns):\n",
      " #   Column                         Non-Null Count  Dtype \n",
      "---  ------                         --------------  ----- \n",
      " 0   status                         380 non-null    object\n",
      " 1   roundId                        380 non-null    int64 \n",
      " 2   gameweek                       380 non-null    int64 \n",
      " 3   teamsData                      380 non-null    object\n",
      " 4   seasonId                       380 non-null    int64 \n",
      " 5   dateutc                        380 non-null    object\n",
      " 6   winner                         380 non-null    int64 \n",
      " 7   venue                          380 non-null    object\n",
      " 8   wyId                           380 non-null    int64 \n",
      " 9   label                          380 non-null    object\n",
      " 10  date                           380 non-null    object\n",
      " 11  referees                       380 non-null    object\n",
      " 12  duration                       380 non-null    object\n",
      " 13  competitionId                  380 non-null    int64 \n",
      " 14  team1.scoreET                  380 non-null    int64 \n",
      " 15  team1.coachId                  380 non-null    int64 \n",
      " 16  team1.side                     380 non-null    object\n",
      " 17  team1.teamId                   380 non-null    int64 \n",
      " 18  team1.score                    380 non-null    int64 \n",
      " 19  team1.scoreP                   380 non-null    int64 \n",
      " 20  team1.hasFormation             380 non-null    int64 \n",
      " 21  team1.formation                380 non-null    object\n",
      " 22  team1.scoreHT                  380 non-null    int64 \n",
      " 23  team1.formation.bench          380 non-null    object\n",
      " 24  team1.formation.lineup         380 non-null    object\n",
      " 25  team1.formation.substitutions  377 non-null    object\n",
      " 26  team2.scoreET                  380 non-null    int64 \n",
      " 27  team2.coachId                  380 non-null    int64 \n",
      " 28  team2.side                     380 non-null    object\n",
      " 29  team2.teamId                   380 non-null    int64 \n",
      " 30  team2.score                    380 non-null    int64 \n",
      " 31  team2.scoreP                   380 non-null    int64 \n",
      " 32  team2.hasFormation             380 non-null    int64 \n",
      " 33  team2.formation                380 non-null    object\n",
      " 34  team2.scoreHT                  380 non-null    int64 \n",
      " 35  team2.formation.bench          380 non-null    object\n",
      " 36  team2.formation.lineup         380 non-null    object\n",
      " 37  team2.formation.substitutions  378 non-null    object\n",
      "dtypes: int64(20), object(18)\n",
      "memory usage: 112.9+ KB\n"
     ]
    }
   ],
   "source": [
    "matches.info()"
   ]
  },
  {
   "cell_type": "markdown",
   "id": "03ea6d7d-2848-4ed0-bd3f-79401520b2e2",
   "metadata": {},
   "source": [
    "data looks pretty complete (a couple of null values which I will investigate)\n",
    "\n",
    "Also there are 380 rows, which is exactly how many matches is played in league season. So all matches seem to be accounted for.\n"
   ]
  },
  {
   "cell_type": "code",
   "execution_count": 76,
   "id": "cebe4893-6e84-4655-bb57-e81a7cc54835",
   "metadata": {},
   "outputs": [
    {
     "data": {
      "text/html": [
       "<div>\n",
       "<style scoped>\n",
       "    .dataframe tbody tr th:only-of-type {\n",
       "        vertical-align: middle;\n",
       "    }\n",
       "\n",
       "    .dataframe tbody tr th {\n",
       "        vertical-align: top;\n",
       "    }\n",
       "\n",
       "    .dataframe thead th {\n",
       "        text-align: right;\n",
       "    }\n",
       "</style>\n",
       "<table border=\"1\" class=\"dataframe\">\n",
       "  <thead>\n",
       "    <tr style=\"text-align: right;\">\n",
       "      <th></th>\n",
       "      <th>roundId</th>\n",
       "      <th>gameweek</th>\n",
       "      <th>seasonId</th>\n",
       "      <th>winner</th>\n",
       "      <th>wyId</th>\n",
       "      <th>competitionId</th>\n",
       "      <th>team1.scoreET</th>\n",
       "      <th>team1.coachId</th>\n",
       "      <th>team1.teamId</th>\n",
       "      <th>team1.score</th>\n",
       "      <th>team1.scoreP</th>\n",
       "      <th>team1.hasFormation</th>\n",
       "      <th>team1.scoreHT</th>\n",
       "      <th>team2.scoreET</th>\n",
       "      <th>team2.coachId</th>\n",
       "      <th>team2.teamId</th>\n",
       "      <th>team2.score</th>\n",
       "      <th>team2.scoreP</th>\n",
       "      <th>team2.hasFormation</th>\n",
       "      <th>team2.scoreHT</th>\n",
       "    </tr>\n",
       "  </thead>\n",
       "  <tbody>\n",
       "    <tr>\n",
       "      <th>count</th>\n",
       "      <td>380.0</td>\n",
       "      <td>380.000000</td>\n",
       "      <td>380.0</td>\n",
       "      <td>380.000000</td>\n",
       "      <td>3.800000e+02</td>\n",
       "      <td>380.0</td>\n",
       "      <td>380.0</td>\n",
       "      <td>380.000000</td>\n",
       "      <td>380.000000</td>\n",
       "      <td>380.000000</td>\n",
       "      <td>380.0</td>\n",
       "      <td>380.0</td>\n",
       "      <td>380.000000</td>\n",
       "      <td>380.0</td>\n",
       "      <td>380.000000</td>\n",
       "      <td>380.000000</td>\n",
       "      <td>380.000000</td>\n",
       "      <td>380.0</td>\n",
       "      <td>380.0</td>\n",
       "      <td>380.000000</td>\n",
       "    </tr>\n",
       "    <tr>\n",
       "      <th>mean</th>\n",
       "      <td>4405654.0</td>\n",
       "      <td>19.500000</td>\n",
       "      <td>181150.0</td>\n",
       "      <td>1381.492105</td>\n",
       "      <td>2.499908e+06</td>\n",
       "      <td>364.0</td>\n",
       "      <td>0.0</td>\n",
       "      <td>63666.863158</td>\n",
       "      <td>1867.700000</td>\n",
       "      <td>1.323684</td>\n",
       "      <td>0.0</td>\n",
       "      <td>1.0</td>\n",
       "      <td>0.550000</td>\n",
       "      <td>0.0</td>\n",
       "      <td>133836.065789</td>\n",
       "      <td>2283.100000</td>\n",
       "      <td>1.355263</td>\n",
       "      <td>0.0</td>\n",
       "      <td>1.0</td>\n",
       "      <td>0.571053</td>\n",
       "    </tr>\n",
       "    <tr>\n",
       "      <th>std</th>\n",
       "      <td>0.0</td>\n",
       "      <td>10.980313</td>\n",
       "      <td>0.0</td>\n",
       "      <td>1522.719128</td>\n",
       "      <td>1.098408e+02</td>\n",
       "      <td>0.0</td>\n",
       "      <td>0.0</td>\n",
       "      <td>102887.617801</td>\n",
       "      <td>1426.250341</td>\n",
       "      <td>1.308776</td>\n",
       "      <td>0.0</td>\n",
       "      <td>0.0</td>\n",
       "      <td>0.765431</td>\n",
       "      <td>0.0</td>\n",
       "      <td>133249.059527</td>\n",
       "      <td>2329.324772</td>\n",
       "      <td>1.242433</td>\n",
       "      <td>0.0</td>\n",
       "      <td>0.0</td>\n",
       "      <td>0.787571</td>\n",
       "    </tr>\n",
       "    <tr>\n",
       "      <th>min</th>\n",
       "      <td>4405654.0</td>\n",
       "      <td>1.000000</td>\n",
       "      <td>181150.0</td>\n",
       "      <td>0.000000</td>\n",
       "      <td>2.499719e+06</td>\n",
       "      <td>364.0</td>\n",
       "      <td>0.0</td>\n",
       "      <td>0.000000</td>\n",
       "      <td>1609.000000</td>\n",
       "      <td>0.000000</td>\n",
       "      <td>0.0</td>\n",
       "      <td>1.0</td>\n",
       "      <td>0.000000</td>\n",
       "      <td>0.0</td>\n",
       "      <td>0.000000</td>\n",
       "      <td>1609.000000</td>\n",
       "      <td>0.000000</td>\n",
       "      <td>0.0</td>\n",
       "      <td>1.0</td>\n",
       "      <td>0.000000</td>\n",
       "    </tr>\n",
       "    <tr>\n",
       "      <th>25%</th>\n",
       "      <td>4405654.0</td>\n",
       "      <td>10.000000</td>\n",
       "      <td>181150.0</td>\n",
       "      <td>0.000000</td>\n",
       "      <td>2.499814e+06</td>\n",
       "      <td>364.0</td>\n",
       "      <td>0.0</td>\n",
       "      <td>8093.000000</td>\n",
       "      <td>1613.000000</td>\n",
       "      <td>0.000000</td>\n",
       "      <td>0.0</td>\n",
       "      <td>1.0</td>\n",
       "      <td>0.000000</td>\n",
       "      <td>0.0</td>\n",
       "      <td>8329.000000</td>\n",
       "      <td>1619.000000</td>\n",
       "      <td>0.000000</td>\n",
       "      <td>0.0</td>\n",
       "      <td>1.0</td>\n",
       "      <td>0.000000</td>\n",
       "    </tr>\n",
       "    <tr>\n",
       "      <th>50%</th>\n",
       "      <td>4405654.0</td>\n",
       "      <td>19.500000</td>\n",
       "      <td>181150.0</td>\n",
       "      <td>1613.000000</td>\n",
       "      <td>2.499908e+06</td>\n",
       "      <td>364.0</td>\n",
       "      <td>0.0</td>\n",
       "      <td>8934.000000</td>\n",
       "      <td>1628.000000</td>\n",
       "      <td>1.000000</td>\n",
       "      <td>0.0</td>\n",
       "      <td>1.0</td>\n",
       "      <td>0.000000</td>\n",
       "      <td>0.0</td>\n",
       "      <td>71037.000000</td>\n",
       "      <td>1625.000000</td>\n",
       "      <td>1.000000</td>\n",
       "      <td>0.0</td>\n",
       "      <td>1.0</td>\n",
       "      <td>0.000000</td>\n",
       "    </tr>\n",
       "    <tr>\n",
       "      <th>75%</th>\n",
       "      <td>4405654.0</td>\n",
       "      <td>29.000000</td>\n",
       "      <td>181150.0</td>\n",
       "      <td>1628.000000</td>\n",
       "      <td>2.500003e+06</td>\n",
       "      <td>364.0</td>\n",
       "      <td>0.0</td>\n",
       "      <td>71037.000000</td>\n",
       "      <td>1651.000000</td>\n",
       "      <td>2.000000</td>\n",
       "      <td>0.0</td>\n",
       "      <td>1.0</td>\n",
       "      <td>1.000000</td>\n",
       "      <td>0.0</td>\n",
       "      <td>267136.000000</td>\n",
       "      <td>1639.000000</td>\n",
       "      <td>2.000000</td>\n",
       "      <td>0.0</td>\n",
       "      <td>1.0</td>\n",
       "      <td>1.000000</td>\n",
       "    </tr>\n",
       "    <tr>\n",
       "      <th>max</th>\n",
       "      <td>4405654.0</td>\n",
       "      <td>38.000000</td>\n",
       "      <td>181150.0</td>\n",
       "      <td>10531.000000</td>\n",
       "      <td>2.500098e+06</td>\n",
       "      <td>364.0</td>\n",
       "      <td>0.0</td>\n",
       "      <td>531745.000000</td>\n",
       "      <td>10531.000000</td>\n",
       "      <td>7.000000</td>\n",
       "      <td>0.0</td>\n",
       "      <td>1.0</td>\n",
       "      <td>4.000000</td>\n",
       "      <td>0.0</td>\n",
       "      <td>434992.000000</td>\n",
       "      <td>10531.000000</td>\n",
       "      <td>6.000000</td>\n",
       "      <td>0.0</td>\n",
       "      <td>1.0</td>\n",
       "      <td>4.000000</td>\n",
       "    </tr>\n",
       "  </tbody>\n",
       "</table>\n",
       "</div>"
      ],
      "text/plain": [
       "         roundId    gameweek  seasonId        winner          wyId  \\\n",
       "count      380.0  380.000000     380.0    380.000000  3.800000e+02   \n",
       "mean   4405654.0   19.500000  181150.0   1381.492105  2.499908e+06   \n",
       "std          0.0   10.980313       0.0   1522.719128  1.098408e+02   \n",
       "min    4405654.0    1.000000  181150.0      0.000000  2.499719e+06   \n",
       "25%    4405654.0   10.000000  181150.0      0.000000  2.499814e+06   \n",
       "50%    4405654.0   19.500000  181150.0   1613.000000  2.499908e+06   \n",
       "75%    4405654.0   29.000000  181150.0   1628.000000  2.500003e+06   \n",
       "max    4405654.0   38.000000  181150.0  10531.000000  2.500098e+06   \n",
       "\n",
       "       competitionId  team1.scoreET  team1.coachId  team1.teamId  team1.score  \\\n",
       "count          380.0          380.0     380.000000    380.000000   380.000000   \n",
       "mean           364.0            0.0   63666.863158   1867.700000     1.323684   \n",
       "std              0.0            0.0  102887.617801   1426.250341     1.308776   \n",
       "min            364.0            0.0       0.000000   1609.000000     0.000000   \n",
       "25%            364.0            0.0    8093.000000   1613.000000     0.000000   \n",
       "50%            364.0            0.0    8934.000000   1628.000000     1.000000   \n",
       "75%            364.0            0.0   71037.000000   1651.000000     2.000000   \n",
       "max            364.0            0.0  531745.000000  10531.000000     7.000000   \n",
       "\n",
       "       team1.scoreP  team1.hasFormation  team1.scoreHT  team2.scoreET  \\\n",
       "count         380.0               380.0     380.000000          380.0   \n",
       "mean            0.0                 1.0       0.550000            0.0   \n",
       "std             0.0                 0.0       0.765431            0.0   \n",
       "min             0.0                 1.0       0.000000            0.0   \n",
       "25%             0.0                 1.0       0.000000            0.0   \n",
       "50%             0.0                 1.0       0.000000            0.0   \n",
       "75%             0.0                 1.0       1.000000            0.0   \n",
       "max             0.0                 1.0       4.000000            0.0   \n",
       "\n",
       "       team2.coachId  team2.teamId  team2.score  team2.scoreP  \\\n",
       "count     380.000000    380.000000   380.000000         380.0   \n",
       "mean   133836.065789   2283.100000     1.355263           0.0   \n",
       "std    133249.059527   2329.324772     1.242433           0.0   \n",
       "min         0.000000   1609.000000     0.000000           0.0   \n",
       "25%      8329.000000   1619.000000     0.000000           0.0   \n",
       "50%     71037.000000   1625.000000     1.000000           0.0   \n",
       "75%    267136.000000   1639.000000     2.000000           0.0   \n",
       "max    434992.000000  10531.000000     6.000000           0.0   \n",
       "\n",
       "       team2.hasFormation  team2.scoreHT  \n",
       "count               380.0     380.000000  \n",
       "mean                  1.0       0.571053  \n",
       "std                   0.0       0.787571  \n",
       "min                   1.0       0.000000  \n",
       "25%                   1.0       0.000000  \n",
       "50%                   1.0       0.000000  \n",
       "75%                   1.0       1.000000  \n",
       "max                   1.0       4.000000  "
      ]
     },
     "execution_count": 76,
     "metadata": {},
     "output_type": "execute_result"
    }
   ],
   "source": [
    "matches.describe()"
   ]
  },
  {
   "cell_type": "markdown",
   "id": "93ba052d-6880-474c-8710-d098f2cbccbb",
   "metadata": {},
   "source": [
    "I will tidy some of these columns up. I will remove what I can right now because its a lot of columns (38)"
   ]
  },
  {
   "cell_type": "code",
   "execution_count": 77,
   "id": "bf3c46a5-8f12-485c-972c-176dd41c17be",
   "metadata": {},
   "outputs": [
    {
     "data": {
      "text/plain": [
       "seasonId\n",
       "181150    380\n",
       "Name: count, dtype: int64"
      ]
     },
     "execution_count": 77,
     "metadata": {},
     "output_type": "execute_result"
    }
   ],
   "source": [
    "#all matches have the same seasonId so I can delete this.\n",
    "matches['seasonId'].value_counts()"
   ]
  },
  {
   "cell_type": "code",
   "execution_count": 78,
   "id": "ea9098e1-4876-4ab5-a38a-3f660df5a344",
   "metadata": {},
   "outputs": [
    {
     "data": {
      "text/plain": [
       "status                             1\n",
       "roundId                            1\n",
       "gameweek                          38\n",
       "teamsData                        380\n",
       "seasonId                           1\n",
       "dateutc                          212\n",
       "winner                            21\n",
       "venue                             20\n",
       "wyId                             380\n",
       "label                            380\n",
       "date                             212\n",
       "referees                         357\n",
       "duration                           1\n",
       "competitionId                      1\n",
       "team1.scoreET                      1\n",
       "team1.coachId                     28\n",
       "team1.side                         2\n",
       "team1.teamId                      19\n",
       "team1.score                        7\n",
       "team1.scoreP                       1\n",
       "team1.hasFormation                 1\n",
       "team1.formation                  380\n",
       "team1.scoreHT                      5\n",
       "team1.formation.bench            380\n",
       "team1.formation.lineup           380\n",
       "team1.formation.substitutions    377\n",
       "team2.scoreET                      1\n",
       "team2.coachId                     32\n",
       "team2.side                         2\n",
       "team2.teamId                      19\n",
       "team2.score                        7\n",
       "team2.scoreP                       1\n",
       "team2.hasFormation                 1\n",
       "team2.formation                  380\n",
       "team2.scoreHT                      5\n",
       "team2.formation.bench            380\n",
       "team2.formation.lineup           380\n",
       "team2.formation.substitutions    378\n",
       "dtype: int64"
      ]
     },
     "execution_count": 78,
     "metadata": {},
     "output_type": "execute_result"
    }
   ],
   "source": [
    "matches.nunique()"
   ]
  },
  {
   "cell_type": "code",
   "execution_count": 79,
   "id": "30c96cca-78f1-46a9-86db-917b9ed71814",
   "metadata": {},
   "outputs": [
    {
     "data": {
      "text/html": [
       "<div>\n",
       "<style scoped>\n",
       "    .dataframe tbody tr th:only-of-type {\n",
       "        vertical-align: middle;\n",
       "    }\n",
       "\n",
       "    .dataframe tbody tr th {\n",
       "        vertical-align: top;\n",
       "    }\n",
       "\n",
       "    .dataframe thead th {\n",
       "        text-align: right;\n",
       "    }\n",
       "</style>\n",
       "<table border=\"1\" class=\"dataframe\">\n",
       "  <thead>\n",
       "    <tr style=\"text-align: right;\">\n",
       "      <th></th>\n",
       "      <th>status</th>\n",
       "      <th>roundId</th>\n",
       "      <th>seasonId</th>\n",
       "      <th>duration</th>\n",
       "      <th>competitionId</th>\n",
       "      <th>team1.scoreET</th>\n",
       "      <th>team1.scoreP</th>\n",
       "      <th>team1.hasFormation</th>\n",
       "      <th>team2.scoreET</th>\n",
       "      <th>team2.scoreP</th>\n",
       "      <th>team2.hasFormation</th>\n",
       "    </tr>\n",
       "  </thead>\n",
       "  <tbody>\n",
       "    <tr>\n",
       "      <th>0</th>\n",
       "      <td>Played</td>\n",
       "      <td>4405654</td>\n",
       "      <td>181150</td>\n",
       "      <td>Regular</td>\n",
       "      <td>364</td>\n",
       "      <td>0</td>\n",
       "      <td>0</td>\n",
       "      <td>1</td>\n",
       "      <td>0</td>\n",
       "      <td>0</td>\n",
       "      <td>1</td>\n",
       "    </tr>\n",
       "  </tbody>\n",
       "</table>\n",
       "</div>"
      ],
      "text/plain": [
       "   status  roundId  seasonId duration  competitionId  team1.scoreET  \\\n",
       "0  Played  4405654    181150  Regular            364              0   \n",
       "\n",
       "   team1.scoreP  team1.hasFormation  team2.scoreET  team2.scoreP  \\\n",
       "0             0                   1              0             0   \n",
       "\n",
       "   team2.hasFormation  \n",
       "0                   1  "
      ]
     },
     "execution_count": 79,
     "metadata": {},
     "output_type": "execute_result"
    }
   ],
   "source": [
    "matches[['status','roundId','seasonId','duration','competitionId','team1.scoreET','team1.scoreP','team1.hasFormation','team2.scoreET','team2.scoreP','team2.hasFormation']].drop_duplicates()"
   ]
  },
  {
   "cell_type": "markdown",
   "id": "cae7a560-268f-4ade-8172-0ac6b4a3f131",
   "metadata": {},
   "source": [
    "status shows that all matches were played\n",
    "\n",
    "the roundId is not applicable to the league format\n",
    "\n",
    "the seasonId is the same for all \n",
    "\n",
    "duration is always regular (no extra time or penos)\n",
    "\n",
    "competitionId is always the same \n",
    "\n",
    "team1/2.scoreET it is never ET\n",
    "\n",
    "team1/2.scoreP it is never penos\n",
    "\n",
    "team1/2.hasFormation every team has a formation\n",
    "\n",
    "I can drop date also, because dateutc has the same information"
   ]
  },
  {
   "cell_type": "markdown",
   "id": "ce47f40a-c365-4657-8488-8ad75feb8237",
   "metadata": {},
   "source": [
    "so i can delete those 11 columns :)"
   ]
  },
  {
   "cell_type": "code",
   "execution_count": 80,
   "id": "04708849-a9e1-4122-8e3d-bddb63c1e368",
   "metadata": {},
   "outputs": [],
   "source": [
    "matches.drop(['status','roundId','seasonId','duration','competitionId','team1.scoreET','team1.scoreP','team1.hasFormation','team2.scoreET','team2.scoreP','team2.hasFormation','date'], axis=1, inplace=True)"
   ]
  },
  {
   "cell_type": "markdown",
   "id": "64f3d76b-17f3-459a-8f40-2340eff503dd",
   "metadata": {},
   "source": [
    "the teamsData columns is already parsed into the rest of the table in various columns. So I can remove that data.\n",
    "Likewise with team1.formation and team2.formation"
   ]
  },
  {
   "cell_type": "code",
   "execution_count": 81,
   "id": "a492fa33-b3f4-4663-8961-be577d6f2078",
   "metadata": {},
   "outputs": [
    {
     "data": {
      "text/plain": [
       "venue\n",
       "Turf Moor                                 19\n",
       "Selhurst Park                             19\n",
       "The John Smith's Stadium                  19\n",
       "Anfield                                   19\n",
       "Old Trafford                              19\n",
       "St. James' Park                           19\n",
       "St. Mary's Stadium                        19\n",
       "Liberty Stadium                           19\n",
       "Wembley Stadium                           19\n",
       "London Stadium                            19\n",
       "Etihad Stadium                            19\n",
       "King Power Stadium                        19\n",
       "Stamford Bridge                           19\n",
       "Emirates Stadium                          19\n",
       "Goodison Park                             19\n",
       "Vitality Stadium                          19\n",
       "Vicarage Road Stadium                     19\n",
       "The Hawthorns                             19\n",
       "Bet365 Stadium                            19\n",
       "The American Express Community Stadium    19\n",
       "Name: count, dtype: int64"
      ]
     },
     "execution_count": 81,
     "metadata": {},
     "output_type": "execute_result"
    }
   ],
   "source": [
    "matches['venue'].value_counts()"
   ]
  },
  {
   "cell_type": "markdown",
   "id": "88f29b60-6421-47c2-9674-db7c55dcf3fa",
   "metadata": {},
   "source": [
    "There is no need to keep venue either because that information is already effectively captured in the team1.side and team2.side columns "
   ]
  },
  {
   "cell_type": "code",
   "execution_count": 82,
   "id": "5a874c67-e85a-403c-af97-2a6eb9f86394",
   "metadata": {},
   "outputs": [],
   "source": [
    "matches.drop(['venue'], axis=1, inplace=True)"
   ]
  },
  {
   "cell_type": "markdown",
   "id": "5e9b7bd5-e394-4246-967a-03272e38f479",
   "metadata": {},
   "source": [
    "theres a lot of dictionary columns to investigate!"
   ]
  },
  {
   "cell_type": "code",
   "execution_count": 83,
   "id": "74b64b2a-6a2d-4e27-ba7e-321d317e59fc",
   "metadata": {},
   "outputs": [
    {
     "data": {
      "text/html": [
       "<div>\n",
       "<style scoped>\n",
       "    .dataframe tbody tr th:only-of-type {\n",
       "        vertical-align: middle;\n",
       "    }\n",
       "\n",
       "    .dataframe tbody tr th {\n",
       "        vertical-align: top;\n",
       "    }\n",
       "\n",
       "    .dataframe thead th {\n",
       "        text-align: right;\n",
       "    }\n",
       "</style>\n",
       "<table border=\"1\" class=\"dataframe\">\n",
       "  <thead>\n",
       "    <tr style=\"text-align: right;\">\n",
       "      <th></th>\n",
       "      <th>gameweek</th>\n",
       "      <th>teamsData</th>\n",
       "      <th>dateutc</th>\n",
       "      <th>winner</th>\n",
       "      <th>wyId</th>\n",
       "      <th>label</th>\n",
       "      <th>referees</th>\n",
       "      <th>team1.coachId</th>\n",
       "      <th>team1.side</th>\n",
       "      <th>team1.teamId</th>\n",
       "      <th>...</th>\n",
       "      <th>team1.formation.substitutions</th>\n",
       "      <th>team2.coachId</th>\n",
       "      <th>team2.side</th>\n",
       "      <th>team2.teamId</th>\n",
       "      <th>team2.score</th>\n",
       "      <th>team2.formation</th>\n",
       "      <th>team2.scoreHT</th>\n",
       "      <th>team2.formation.bench</th>\n",
       "      <th>team2.formation.lineup</th>\n",
       "      <th>team2.formation.substitutions</th>\n",
       "    </tr>\n",
       "  </thead>\n",
       "  <tbody>\n",
       "    <tr>\n",
       "      <th>0</th>\n",
       "      <td>38</td>\n",
       "      <td>{'1646': {'scoreET': 0, 'coachId': 8880, 'side...</td>\n",
       "      <td>2018-05-13 14:00:00</td>\n",
       "      <td>1659</td>\n",
       "      <td>2500089</td>\n",
       "      <td>Burnley - AFC Bournemouth, 1 - 2</td>\n",
       "      <td>[{'refereeId': 385705, 'role': 'referee'}, {'r...</td>\n",
       "      <td>8880</td>\n",
       "      <td>home</td>\n",
       "      <td>1646</td>\n",
       "      <td>...</td>\n",
       "      <td>[{'playerIn': 9127, 'playerOut': 9206, 'minute...</td>\n",
       "      <td>8934</td>\n",
       "      <td>away</td>\n",
       "      <td>1659</td>\n",
       "      <td>2</td>\n",
       "      <td>{'bench': [{'playerId': 11061, 'ownGoals': '0'...</td>\n",
       "      <td>0</td>\n",
       "      <td>[{'playerId': 11061, 'ownGoals': '0', 'redCard...</td>\n",
       "      <td>[{'playerId': 259531, 'ownGoals': '0', 'redCar...</td>\n",
       "      <td>[{'playerIn': 7989, 'playerOut': 259531, 'minu...</td>\n",
       "    </tr>\n",
       "    <tr>\n",
       "      <th>1</th>\n",
       "      <td>38</td>\n",
       "      <td>{'1628': {'scoreET': 0, 'coachId': 8357, 'side...</td>\n",
       "      <td>2018-05-13 14:00:00</td>\n",
       "      <td>1628</td>\n",
       "      <td>2500090</td>\n",
       "      <td>Crystal Palace - West Bromwich Albion, 2 - 0</td>\n",
       "      <td>[{'refereeId': 381851, 'role': 'referee'}, {'r...</td>\n",
       "      <td>8357</td>\n",
       "      <td>home</td>\n",
       "      <td>1628</td>\n",
       "      <td>...</td>\n",
       "      <td>[{'playerIn': 38031, 'playerOut': 8623, 'minut...</td>\n",
       "      <td>0</td>\n",
       "      <td>away</td>\n",
       "      <td>1627</td>\n",
       "      <td>0</td>\n",
       "      <td>{'bench': [{'playerId': 399517, 'ownGoals': '0...</td>\n",
       "      <td>0</td>\n",
       "      <td>[{'playerId': 399517, 'ownGoals': '0', 'redCar...</td>\n",
       "      <td>[{'playerId': 25537, 'ownGoals': '0', 'redCard...</td>\n",
       "      <td>[{'playerIn': 261, 'playerOut': 25537, 'minute...</td>\n",
       "    </tr>\n",
       "  </tbody>\n",
       "</table>\n",
       "<p>2 rows × 25 columns</p>\n",
       "</div>"
      ],
      "text/plain": [
       "   gameweek                                          teamsData  \\\n",
       "0        38  {'1646': {'scoreET': 0, 'coachId': 8880, 'side...   \n",
       "1        38  {'1628': {'scoreET': 0, 'coachId': 8357, 'side...   \n",
       "\n",
       "               dateutc  winner     wyId  \\\n",
       "0  2018-05-13 14:00:00    1659  2500089   \n",
       "1  2018-05-13 14:00:00    1628  2500090   \n",
       "\n",
       "                                          label  \\\n",
       "0              Burnley - AFC Bournemouth, 1 - 2   \n",
       "1  Crystal Palace - West Bromwich Albion, 2 - 0   \n",
       "\n",
       "                                            referees  team1.coachId  \\\n",
       "0  [{'refereeId': 385705, 'role': 'referee'}, {'r...           8880   \n",
       "1  [{'refereeId': 381851, 'role': 'referee'}, {'r...           8357   \n",
       "\n",
       "  team1.side  team1.teamId  ...  \\\n",
       "0       home          1646  ...   \n",
       "1       home          1628  ...   \n",
       "\n",
       "                       team1.formation.substitutions team2.coachId  \\\n",
       "0  [{'playerIn': 9127, 'playerOut': 9206, 'minute...          8934   \n",
       "1  [{'playerIn': 38031, 'playerOut': 8623, 'minut...             0   \n",
       "\n",
       "   team2.side team2.teamId team2.score  \\\n",
       "0        away         1659           2   \n",
       "1        away         1627           0   \n",
       "\n",
       "                                     team2.formation  team2.scoreHT  \\\n",
       "0  {'bench': [{'playerId': 11061, 'ownGoals': '0'...              0   \n",
       "1  {'bench': [{'playerId': 399517, 'ownGoals': '0...              0   \n",
       "\n",
       "                               team2.formation.bench  \\\n",
       "0  [{'playerId': 11061, 'ownGoals': '0', 'redCard...   \n",
       "1  [{'playerId': 399517, 'ownGoals': '0', 'redCar...   \n",
       "\n",
       "                              team2.formation.lineup  \\\n",
       "0  [{'playerId': 259531, 'ownGoals': '0', 'redCar...   \n",
       "1  [{'playerId': 25537, 'ownGoals': '0', 'redCard...   \n",
       "\n",
       "                       team2.formation.substitutions  \n",
       "0  [{'playerIn': 7989, 'playerOut': 259531, 'minu...  \n",
       "1  [{'playerIn': 261, 'playerOut': 25537, 'minute...  \n",
       "\n",
       "[2 rows x 25 columns]"
      ]
     },
     "execution_count": 83,
     "metadata": {},
     "output_type": "execute_result"
    }
   ],
   "source": [
    "matches.head(2)"
   ]
  },
  {
   "cell_type": "code",
   "execution_count": 84,
   "id": "4e17ca00-83ba-4ffb-8864-88535e730d0b",
   "metadata": {},
   "outputs": [
    {
     "data": {
      "text/plain": [
       "gameweek                                                                        38\n",
       "teamsData                        {'1646': {'scoreET': 0, 'coachId': 8880, 'side...\n",
       "dateutc                                                        2018-05-13 14:00:00\n",
       "winner                                                                        1659\n",
       "wyId                                                                       2500089\n",
       "label                                             Burnley - AFC Bournemouth, 1 - 2\n",
       "referees                         [{'refereeId': 385705, 'role': 'referee'}, {'r...\n",
       "team1.coachId                                                                 8880\n",
       "team1.side                                                                    home\n",
       "team1.teamId                                                                  1646\n",
       "team1.score                                                                      1\n",
       "team1.formation                  {'bench': [{'playerId': 77502, 'ownGoals': '0'...\n",
       "team1.scoreHT                                                                    1\n",
       "team1.formation.bench            [{'playerId': 77502, 'ownGoals': '0', 'redCard...\n",
       "team1.formation.lineup           [{'playerId': 9206, 'ownGoals': '0', 'redCards...\n",
       "team1.formation.substitutions    [{'playerIn': 9127, 'playerOut': 9206, 'minute...\n",
       "team2.coachId                                                                 8934\n",
       "team2.side                                                                    away\n",
       "team2.teamId                                                                  1659\n",
       "team2.score                                                                      2\n",
       "team2.formation                  {'bench': [{'playerId': 11061, 'ownGoals': '0'...\n",
       "team2.scoreHT                                                                    0\n",
       "team2.formation.bench            [{'playerId': 11061, 'ownGoals': '0', 'redCard...\n",
       "team2.formation.lineup           [{'playerId': 259531, 'ownGoals': '0', 'redCar...\n",
       "team2.formation.substitutions    [{'playerIn': 7989, 'playerOut': 259531, 'minu...\n",
       "Name: 0, dtype: object"
      ]
     },
     "execution_count": 84,
     "metadata": {},
     "output_type": "execute_result"
    }
   ],
   "source": [
    "matches.iloc[0]"
   ]
  },
  {
   "cell_type": "code",
   "execution_count": null,
   "id": "6a5fb7fc-3b55-4150-b349-6503f9558f95",
   "metadata": {},
   "outputs": [],
   "source": []
  },
  {
   "cell_type": "code",
   "execution_count": null,
   "id": "032dec2e-b57a-489e-afdb-efae1bc65b55",
   "metadata": {},
   "outputs": [],
   "source": []
  },
  {
   "cell_type": "markdown",
   "id": "a1418fa0-7f33-4393-a07f-8895e06e4c58",
   "metadata": {},
   "source": [
    "I will remove the 'team1/2.formation.bench' columns because I dont think that will have any effect on the match. And I already have so much data.\n",
    "\n",
    "The lineup and substitutions columns are obviously more important here."
   ]
  },
  {
   "cell_type": "code",
   "execution_count": 85,
   "id": "5de07809-1cbf-4926-888b-17f6027ce21a",
   "metadata": {},
   "outputs": [],
   "source": [
    "matches.drop(['team1.formation.bench','team2.formation.bench'], axis=1, inplace=True)"
   ]
  },
  {
   "cell_type": "code",
   "execution_count": 86,
   "id": "73c9538b-1156-4fd4-bdc4-9ec2c9d4e7e2",
   "metadata": {},
   "outputs": [
    {
     "data": {
      "text/plain": [
       "\"[{'refereeId': 385705, 'role': 'referee'}, {'refereeId': 385733, 'role': 'firstAssistant'}, {'refereeId': 385922, 'role': 'secondAssistant'}, {'refereeId': 388333, 'role': 'fourthOfficial'}]\""
      ]
     },
     "execution_count": 86,
     "metadata": {},
     "output_type": "execute_result"
    }
   ],
   "source": [
    "matches['referees'][0]"
   ]
  },
  {
   "cell_type": "markdown",
   "id": "c7734a93-1a70-421b-939e-fc05193ce45c",
   "metadata": {},
   "source": [
    "The referee column also has the complete information of all 4 referees. I am not expecting the referee to have much impact on the game. but for now, I will parse that data out and join on the name of referee, I will drop the data about the assistants and 4th official.\n",
    "\n",
    "...although i might do that in a later notebook because this is getting quite complicated"
   ]
  },
  {
   "cell_type": "markdown",
   "id": "29006d83-6b0c-48e4-ad8e-23e2a4820ede",
   "metadata": {},
   "source": [
    "I need to see how I will deal with the team1/2.formation.lineup, and team1/2.formation.substitutions columns"
   ]
  },
  {
   "cell_type": "code",
   "execution_count": 87,
   "id": "7d372006-1695-4fe6-8fa6-d54cd2e7c7dc",
   "metadata": {},
   "outputs": [
    {
     "data": {
      "text/plain": [
       "\"[{'playerId': 9206, 'ownGoals': '0', 'redCards': '0', 'goals': '1', 'yellowCards': '0'}, {'playerId': 93, 'ownGoals': '0', 'redCards': '0', 'goals': 'null', 'yellowCards': '0'}, {'playerId': 10108, 'ownGoals': '0', 'redCards': '0', 'goals': 'null', 'yellowCards': '0'}, {'playerId': 8433, 'ownGoals': '0', 'redCards': '0', 'goals': 'null', 'yellowCards': '0'}, {'playerId': 8125, 'ownGoals': '0', 'redCards': '0', 'goals': 'null', 'yellowCards': '0'}, {'playerId': 9433, 'ownGoals': '0', 'redCards': '0', 'goals': 'null', 'yellowCards': '0'}, {'playerId': 8980, 'ownGoals': '0', 'redCards': '0', 'goals': 'null', 'yellowCards': '0'}, {'playerId': 8643, 'ownGoals': '0', 'redCards': '0', 'goals': 'null', 'yellowCards': '0'}, {'playerId': 12242, 'ownGoals': '0', 'redCards': '0', 'goals': 'null', 'yellowCards': '0'}, {'playerId': 8925, 'ownGoals': '0', 'redCards': '0', 'goals': 'null', 'yellowCards': '0'}, {'playerId': 8284, 'ownGoals': '2', 'redCards': '0', 'goals': '0', 'yellowCards': '0'}]\""
      ]
     },
     "execution_count": 87,
     "metadata": {},
     "output_type": "execute_result"
    }
   ],
   "source": [
    "matches['team1.formation.lineup'][0]"
   ]
  },
  {
   "cell_type": "code",
   "execution_count": 88,
   "id": "49f11fdb-ebd2-4821-a3ce-ab6124d96de3",
   "metadata": {},
   "outputs": [
    {
     "data": {
      "text/plain": [
       "\"[{'playerIn': 9127, 'playerOut': 9206, 'minute': 61}, {'playerIn': 9179, 'playerOut': 93, 'minute': 80}, {'playerIn': 532949, 'playerOut': 8284, 'minute': 94}]\""
      ]
     },
     "execution_count": 88,
     "metadata": {},
     "output_type": "execute_result"
    }
   ],
   "source": [
    "matches['team1.formation.substitutions'][0]"
   ]
  },
  {
   "cell_type": "markdown",
   "id": "ef7450f8-642d-43bc-a248-c06d1e17103b",
   "metadata": {},
   "source": [
    "I think for now I will also just keep the players in their dictionary columns. I will see later how i plan on using them. I may not use the individual players, I may use some aggregated metrics from them (average team age, average team height, average team weight)"
   ]
  },
  {
   "cell_type": "code",
   "execution_count": 89,
   "id": "8feaf7bc-ffd8-4484-b8b3-b29eedaf2b8e",
   "metadata": {},
   "outputs": [
    {
     "data": {
      "text/html": [
       "<div>\n",
       "<style scoped>\n",
       "    .dataframe tbody tr th:only-of-type {\n",
       "        vertical-align: middle;\n",
       "    }\n",
       "\n",
       "    .dataframe tbody tr th {\n",
       "        vertical-align: top;\n",
       "    }\n",
       "\n",
       "    .dataframe thead th {\n",
       "        text-align: right;\n",
       "    }\n",
       "</style>\n",
       "<table border=\"1\" class=\"dataframe\">\n",
       "  <thead>\n",
       "    <tr style=\"text-align: right;\">\n",
       "      <th></th>\n",
       "      <th>gameweek</th>\n",
       "      <th>teamsData</th>\n",
       "      <th>dateutc</th>\n",
       "      <th>winner</th>\n",
       "      <th>wyId</th>\n",
       "      <th>label</th>\n",
       "      <th>referees</th>\n",
       "      <th>team1.coachId</th>\n",
       "      <th>team1.side</th>\n",
       "      <th>team1.teamId</th>\n",
       "      <th>...</th>\n",
       "      <th>team1.formation.lineup</th>\n",
       "      <th>team1.formation.substitutions</th>\n",
       "      <th>team2.coachId</th>\n",
       "      <th>team2.side</th>\n",
       "      <th>team2.teamId</th>\n",
       "      <th>team2.score</th>\n",
       "      <th>team2.formation</th>\n",
       "      <th>team2.scoreHT</th>\n",
       "      <th>team2.formation.lineup</th>\n",
       "      <th>team2.formation.substitutions</th>\n",
       "    </tr>\n",
       "  </thead>\n",
       "  <tbody>\n",
       "    <tr>\n",
       "      <th>0</th>\n",
       "      <td>38</td>\n",
       "      <td>{'1646': {'scoreET': 0, 'coachId': 8880, 'side...</td>\n",
       "      <td>2018-05-13 14:00:00</td>\n",
       "      <td>1659</td>\n",
       "      <td>2500089</td>\n",
       "      <td>Burnley - AFC Bournemouth, 1 - 2</td>\n",
       "      <td>[{'refereeId': 385705, 'role': 'referee'}, {'r...</td>\n",
       "      <td>8880</td>\n",
       "      <td>home</td>\n",
       "      <td>1646</td>\n",
       "      <td>...</td>\n",
       "      <td>[{'playerId': 9206, 'ownGoals': '0', 'redCards...</td>\n",
       "      <td>[{'playerIn': 9127, 'playerOut': 9206, 'minute...</td>\n",
       "      <td>8934</td>\n",
       "      <td>away</td>\n",
       "      <td>1659</td>\n",
       "      <td>2</td>\n",
       "      <td>{'bench': [{'playerId': 11061, 'ownGoals': '0'...</td>\n",
       "      <td>0</td>\n",
       "      <td>[{'playerId': 259531, 'ownGoals': '0', 'redCar...</td>\n",
       "      <td>[{'playerIn': 7989, 'playerOut': 259531, 'minu...</td>\n",
       "    </tr>\n",
       "    <tr>\n",
       "      <th>1</th>\n",
       "      <td>38</td>\n",
       "      <td>{'1628': {'scoreET': 0, 'coachId': 8357, 'side...</td>\n",
       "      <td>2018-05-13 14:00:00</td>\n",
       "      <td>1628</td>\n",
       "      <td>2500090</td>\n",
       "      <td>Crystal Palace - West Bromwich Albion, 2 - 0</td>\n",
       "      <td>[{'refereeId': 381851, 'role': 'referee'}, {'r...</td>\n",
       "      <td>8357</td>\n",
       "      <td>home</td>\n",
       "      <td>1628</td>\n",
       "      <td>...</td>\n",
       "      <td>[{'playerId': 8623, 'ownGoals': '0', 'redCards...</td>\n",
       "      <td>[{'playerIn': 38031, 'playerOut': 8623, 'minut...</td>\n",
       "      <td>0</td>\n",
       "      <td>away</td>\n",
       "      <td>1627</td>\n",
       "      <td>0</td>\n",
       "      <td>{'bench': [{'playerId': 399517, 'ownGoals': '0...</td>\n",
       "      <td>0</td>\n",
       "      <td>[{'playerId': 25537, 'ownGoals': '0', 'redCard...</td>\n",
       "      <td>[{'playerIn': 261, 'playerOut': 25537, 'minute...</td>\n",
       "    </tr>\n",
       "    <tr>\n",
       "      <th>2</th>\n",
       "      <td>38</td>\n",
       "      <td>{'1609': {'scoreET': 0, 'coachId': 7845, 'side...</td>\n",
       "      <td>2018-05-13 14:00:00</td>\n",
       "      <td>1609</td>\n",
       "      <td>2500091</td>\n",
       "      <td>Huddersfield Town - Arsenal, 0 - 1</td>\n",
       "      <td>[{'refereeId': 384965, 'role': 'referee'}, {'r...</td>\n",
       "      <td>7845</td>\n",
       "      <td>away</td>\n",
       "      <td>1609</td>\n",
       "      <td>...</td>\n",
       "      <td>[{'playerId': 25867, 'ownGoals': '0', 'redCard...</td>\n",
       "      <td>[{'playerIn': 7945, 'playerOut': 25867, 'minut...</td>\n",
       "      <td>18572</td>\n",
       "      <td>home</td>\n",
       "      <td>1673</td>\n",
       "      <td>0</td>\n",
       "      <td>{'bench': [{'playerId': 274482, 'ownGoals': '0...</td>\n",
       "      <td>0</td>\n",
       "      <td>[{'playerId': 9419, 'ownGoals': '0', 'redCards...</td>\n",
       "      <td>[{'playerIn': 38377, 'playerOut': 9419, 'minut...</td>\n",
       "    </tr>\n",
       "    <tr>\n",
       "      <th>3</th>\n",
       "      <td>38</td>\n",
       "      <td>{'1651': {'scoreET': 0, 'coachId': 8093, 'side...</td>\n",
       "      <td>2018-05-13 14:00:00</td>\n",
       "      <td>1612</td>\n",
       "      <td>2500092</td>\n",
       "      <td>Liverpool - Brighton &amp; Hove Albion, 4 - 0</td>\n",
       "      <td>[{'refereeId': 385704, 'role': 'referee'}, {'r...</td>\n",
       "      <td>8093</td>\n",
       "      <td>away</td>\n",
       "      <td>1651</td>\n",
       "      <td>...</td>\n",
       "      <td>[{'playerId': 120, 'ownGoals': '2', 'redCards'...</td>\n",
       "      <td>[{'playerIn': 15526, 'playerOut': 120, 'minute...</td>\n",
       "      <td>14791</td>\n",
       "      <td>home</td>\n",
       "      <td>1612</td>\n",
       "      <td>4</td>\n",
       "      <td>{'bench': [{'playerId': 74, 'ownGoals': '0', '...</td>\n",
       "      <td>2</td>\n",
       "      <td>[{'playerId': 25747, 'ownGoals': '2', 'redCard...</td>\n",
       "      <td>[{'playerIn': 8140, 'playerOut': 25747, 'minut...</td>\n",
       "    </tr>\n",
       "    <tr>\n",
       "      <th>4</th>\n",
       "      <td>38</td>\n",
       "      <td>{'1644': {'scoreET': 0, 'coachId': 93112, 'sid...</td>\n",
       "      <td>2018-05-13 14:00:00</td>\n",
       "      <td>1611</td>\n",
       "      <td>2500093</td>\n",
       "      <td>Manchester United - Watford, 1 - 0</td>\n",
       "      <td>[{'refereeId': 381853, 'role': 'referee'}, {'r...</td>\n",
       "      <td>93112</td>\n",
       "      <td>away</td>\n",
       "      <td>1644</td>\n",
       "      <td>...</td>\n",
       "      <td>[{'playerId': 68085, 'ownGoals': '0', 'redCard...</td>\n",
       "      <td>[{'playerIn': 8889, 'playerOut': 68085, 'minut...</td>\n",
       "      <td>3295</td>\n",
       "      <td>home</td>\n",
       "      <td>1611</td>\n",
       "      <td>1</td>\n",
       "      <td>{'bench': [{'playerId': 7918, 'ownGoals': '0',...</td>\n",
       "      <td>1</td>\n",
       "      <td>[{'playerId': 7939, 'ownGoals': '0', 'redCards...</td>\n",
       "      <td>[{'playerIn': 8135, 'playerOut': 7939, 'minute...</td>\n",
       "    </tr>\n",
       "  </tbody>\n",
       "</table>\n",
       "<p>5 rows × 23 columns</p>\n",
       "</div>"
      ],
      "text/plain": [
       "   gameweek                                          teamsData  \\\n",
       "0        38  {'1646': {'scoreET': 0, 'coachId': 8880, 'side...   \n",
       "1        38  {'1628': {'scoreET': 0, 'coachId': 8357, 'side...   \n",
       "2        38  {'1609': {'scoreET': 0, 'coachId': 7845, 'side...   \n",
       "3        38  {'1651': {'scoreET': 0, 'coachId': 8093, 'side...   \n",
       "4        38  {'1644': {'scoreET': 0, 'coachId': 93112, 'sid...   \n",
       "\n",
       "               dateutc  winner     wyId  \\\n",
       "0  2018-05-13 14:00:00    1659  2500089   \n",
       "1  2018-05-13 14:00:00    1628  2500090   \n",
       "2  2018-05-13 14:00:00    1609  2500091   \n",
       "3  2018-05-13 14:00:00    1612  2500092   \n",
       "4  2018-05-13 14:00:00    1611  2500093   \n",
       "\n",
       "                                          label  \\\n",
       "0              Burnley - AFC Bournemouth, 1 - 2   \n",
       "1  Crystal Palace - West Bromwich Albion, 2 - 0   \n",
       "2            Huddersfield Town - Arsenal, 0 - 1   \n",
       "3     Liverpool - Brighton & Hove Albion, 4 - 0   \n",
       "4            Manchester United - Watford, 1 - 0   \n",
       "\n",
       "                                            referees  team1.coachId  \\\n",
       "0  [{'refereeId': 385705, 'role': 'referee'}, {'r...           8880   \n",
       "1  [{'refereeId': 381851, 'role': 'referee'}, {'r...           8357   \n",
       "2  [{'refereeId': 384965, 'role': 'referee'}, {'r...           7845   \n",
       "3  [{'refereeId': 385704, 'role': 'referee'}, {'r...           8093   \n",
       "4  [{'refereeId': 381853, 'role': 'referee'}, {'r...          93112   \n",
       "\n",
       "  team1.side  team1.teamId  ...  \\\n",
       "0       home          1646  ...   \n",
       "1       home          1628  ...   \n",
       "2       away          1609  ...   \n",
       "3       away          1651  ...   \n",
       "4       away          1644  ...   \n",
       "\n",
       "                              team1.formation.lineup  \\\n",
       "0  [{'playerId': 9206, 'ownGoals': '0', 'redCards...   \n",
       "1  [{'playerId': 8623, 'ownGoals': '0', 'redCards...   \n",
       "2  [{'playerId': 25867, 'ownGoals': '0', 'redCard...   \n",
       "3  [{'playerId': 120, 'ownGoals': '2', 'redCards'...   \n",
       "4  [{'playerId': 68085, 'ownGoals': '0', 'redCard...   \n",
       "\n",
       "                       team1.formation.substitutions  team2.coachId  \\\n",
       "0  [{'playerIn': 9127, 'playerOut': 9206, 'minute...           8934   \n",
       "1  [{'playerIn': 38031, 'playerOut': 8623, 'minut...              0   \n",
       "2  [{'playerIn': 7945, 'playerOut': 25867, 'minut...          18572   \n",
       "3  [{'playerIn': 15526, 'playerOut': 120, 'minute...          14791   \n",
       "4  [{'playerIn': 8889, 'playerOut': 68085, 'minut...           3295   \n",
       "\n",
       "  team2.side team2.teamId  team2.score  \\\n",
       "0       away         1659            2   \n",
       "1       away         1627            0   \n",
       "2       home         1673            0   \n",
       "3       home         1612            4   \n",
       "4       home         1611            1   \n",
       "\n",
       "                                     team2.formation  team2.scoreHT  \\\n",
       "0  {'bench': [{'playerId': 11061, 'ownGoals': '0'...              0   \n",
       "1  {'bench': [{'playerId': 399517, 'ownGoals': '0...              0   \n",
       "2  {'bench': [{'playerId': 274482, 'ownGoals': '0...              0   \n",
       "3  {'bench': [{'playerId': 74, 'ownGoals': '0', '...              2   \n",
       "4  {'bench': [{'playerId': 7918, 'ownGoals': '0',...              1   \n",
       "\n",
       "                              team2.formation.lineup  \\\n",
       "0  [{'playerId': 259531, 'ownGoals': '0', 'redCar...   \n",
       "1  [{'playerId': 25537, 'ownGoals': '0', 'redCard...   \n",
       "2  [{'playerId': 9419, 'ownGoals': '0', 'redCards...   \n",
       "3  [{'playerId': 25747, 'ownGoals': '2', 'redCard...   \n",
       "4  [{'playerId': 7939, 'ownGoals': '0', 'redCards...   \n",
       "\n",
       "                       team2.formation.substitutions  \n",
       "0  [{'playerIn': 7989, 'playerOut': 259531, 'minu...  \n",
       "1  [{'playerIn': 261, 'playerOut': 25537, 'minute...  \n",
       "2  [{'playerIn': 38377, 'playerOut': 9419, 'minut...  \n",
       "3  [{'playerIn': 8140, 'playerOut': 25747, 'minut...  \n",
       "4  [{'playerIn': 8135, 'playerOut': 7939, 'minute...  \n",
       "\n",
       "[5 rows x 23 columns]"
      ]
     },
     "execution_count": 89,
     "metadata": {},
     "output_type": "execute_result"
    }
   ],
   "source": [
    "matches.head()"
   ]
  },
  {
   "cell_type": "markdown",
   "id": "1f73f84e-8032-4871-8f2e-77016b51ab28",
   "metadata": {},
   "source": [
    "### Referees"
   ]
  },
  {
   "cell_type": "code",
   "execution_count": 90,
   "id": "0a7c4c11-6781-4d24-a8d4-1815b7b31745",
   "metadata": {},
   "outputs": [],
   "source": [
    "def convert_to_dict(value):\n",
    "    if isinstance(value, str):\n",
    "        try:\n",
    "            return ast.literal_eval(value)  # Safely evaluate the string to a dict\n",
    "        except (ValueError, SyntaxError):\n",
    "            return {}  # Return an empty dict if conversion fails\n",
    "    elif isinstance(value, dict):\n",
    "        return value  # Already a dict\n",
    "    return {}  # Return an empty dict for any other type"
   ]
  },
  {
   "cell_type": "code",
   "execution_count": 91,
   "id": "75d6bacf-a3f7-43fc-8437-6659db9b0ded",
   "metadata": {},
   "outputs": [],
   "source": [
    "# Apply the conversion function to the referees column\n",
    "matches['referees'] = matches['referees'].apply(convert_to_dict)"
   ]
  },
  {
   "cell_type": "code",
   "execution_count": 92,
   "id": "7e16793b-38c5-4926-be80-2d71625523bc",
   "metadata": {},
   "outputs": [],
   "source": [
    "referees_expanded = pd.json_normalize(matches['referees'])"
   ]
  },
  {
   "cell_type": "code",
   "execution_count": 93,
   "id": "4c29c48f-1009-4de8-b950-3bf008f52610",
   "metadata": {},
   "outputs": [],
   "source": [
    "# Apply the conversion function to the now expanded referees columns because it was nested at a further level column\n",
    "referees_expanded[0] = referees_expanded[0].apply(convert_to_dict)"
   ]
  },
  {
   "cell_type": "code",
   "execution_count": 94,
   "id": "ab034753-cee3-4001-9051-927836ddb095",
   "metadata": {},
   "outputs": [],
   "source": [
    "ref_col=pd.json_normalize(referees_expanded[0])[['refereeId']]"
   ]
  },
  {
   "cell_type": "code",
   "execution_count": 95,
   "id": "112f4449-e210-4845-b691-cca0b08e2cd2",
   "metadata": {},
   "outputs": [],
   "source": [
    "#join the ref id column to the matches table\n",
    "matches = pd.concat([matches, ref_col], axis=1)"
   ]
  },
  {
   "cell_type": "code",
   "execution_count": 96,
   "id": "fe333288-20f9-44f5-a815-457131e2a825",
   "metadata": {},
   "outputs": [],
   "source": [
    "\n",
    "# Drop the original referees column\n",
    "matches = matches.drop(columns=['referees'])"
   ]
  },
  {
   "cell_type": "code",
   "execution_count": 97,
   "id": "33c36692-0d14-431c-9f10-81706e0c3af6",
   "metadata": {},
   "outputs": [],
   "source": [
    "referees = pd.read_csv('data/referees.csv')"
   ]
  },
  {
   "cell_type": "code",
   "execution_count": 98,
   "id": "2cf3b5fa-b08e-440c-8d57-c3e4564eae8b",
   "metadata": {},
   "outputs": [
    {
     "data": {
      "text/html": [
       "<div>\n",
       "<style scoped>\n",
       "    .dataframe tbody tr th:only-of-type {\n",
       "        vertical-align: middle;\n",
       "    }\n",
       "\n",
       "    .dataframe tbody tr th {\n",
       "        vertical-align: top;\n",
       "    }\n",
       "\n",
       "    .dataframe thead th {\n",
       "        text-align: right;\n",
       "    }\n",
       "</style>\n",
       "<table border=\"1\" class=\"dataframe\">\n",
       "  <thead>\n",
       "    <tr style=\"text-align: right;\">\n",
       "      <th></th>\n",
       "      <th>wyId</th>\n",
       "      <th>shortName</th>\n",
       "      <th>firstName</th>\n",
       "      <th>middleName</th>\n",
       "      <th>lastName</th>\n",
       "      <th>birthDate</th>\n",
       "      <th>birthArea.id</th>\n",
       "      <th>birthArea.alpha2code</th>\n",
       "      <th>birthArea.alpha3code</th>\n",
       "      <th>birthArea.name</th>\n",
       "      <th>passportArea.id</th>\n",
       "      <th>passportArea.alpha2code</th>\n",
       "      <th>passportArea.alpha3code</th>\n",
       "      <th>passportArea.name</th>\n",
       "    </tr>\n",
       "  </thead>\n",
       "  <tbody>\n",
       "    <tr>\n",
       "      <th>0</th>\n",
       "      <td>378217</td>\n",
       "      <td>A. Guzmán</td>\n",
       "      <td>Alexander</td>\n",
       "      <td>NaN</td>\n",
       "      <td>Guzmán Bonilla</td>\n",
       "      <td>NaN</td>\n",
       "      <td>170</td>\n",
       "      <td>CO</td>\n",
       "      <td>COL</td>\n",
       "      <td>Colombia</td>\n",
       "      <td>170</td>\n",
       "      <td>CO</td>\n",
       "      <td>COL</td>\n",
       "      <td>Colombia</td>\n",
       "    </tr>\n",
       "    <tr>\n",
       "      <th>1</th>\n",
       "      <td>385011</td>\n",
       "      <td>S. Bennett</td>\n",
       "      <td>Simon</td>\n",
       "      <td>NaN</td>\n",
       "      <td>Bennett</td>\n",
       "      <td>NaN</td>\n",
       "      <td>826</td>\n",
       "      <td>EN</td>\n",
       "      <td>XEN</td>\n",
       "      <td>England</td>\n",
       "      <td>826</td>\n",
       "      <td>EN</td>\n",
       "      <td>XEN</td>\n",
       "      <td>England</td>\n",
       "    </tr>\n",
       "    <tr>\n",
       "      <th>2</th>\n",
       "      <td>385544</td>\n",
       "      <td>H. Osmers</td>\n",
       "      <td>Harm</td>\n",
       "      <td>NaN</td>\n",
       "      <td>Osmers</td>\n",
       "      <td>1985-01-28</td>\n",
       "      <td>276</td>\n",
       "      <td>DE</td>\n",
       "      <td>DEU</td>\n",
       "      <td>Germany</td>\n",
       "      <td>276</td>\n",
       "      <td>DE</td>\n",
       "      <td>DEU</td>\n",
       "      <td>Germany</td>\n",
       "    </tr>\n",
       "    <tr>\n",
       "      <th>3</th>\n",
       "      <td>383894</td>\n",
       "      <td>F. Assmuth</td>\n",
       "      <td>Frederick</td>\n",
       "      <td>NaN</td>\n",
       "      <td>Assmuth</td>\n",
       "      <td>1977-12-20</td>\n",
       "      <td>276</td>\n",
       "      <td>DE</td>\n",
       "      <td>DEU</td>\n",
       "      <td>Germany</td>\n",
       "      <td>276</td>\n",
       "      <td>DE</td>\n",
       "      <td>DEU</td>\n",
       "      <td>Germany</td>\n",
       "    </tr>\n",
       "    <tr>\n",
       "      <th>4</th>\n",
       "      <td>385800</td>\n",
       "      <td>F. Hebrard</td>\n",
       "      <td>Frédéric</td>\n",
       "      <td>NaN</td>\n",
       "      <td>Hebrard</td>\n",
       "      <td>NaN</td>\n",
       "      <td>250</td>\n",
       "      <td>FR</td>\n",
       "      <td>FRA</td>\n",
       "      <td>France</td>\n",
       "      <td>250</td>\n",
       "      <td>FR</td>\n",
       "      <td>FRA</td>\n",
       "      <td>France</td>\n",
       "    </tr>\n",
       "    <tr>\n",
       "      <th>...</th>\n",
       "      <td>...</td>\n",
       "      <td>...</td>\n",
       "      <td>...</td>\n",
       "      <td>...</td>\n",
       "      <td>...</td>\n",
       "      <td>...</td>\n",
       "      <td>...</td>\n",
       "      <td>...</td>\n",
       "      <td>...</td>\n",
       "      <td>...</td>\n",
       "      <td>...</td>\n",
       "      <td>...</td>\n",
       "      <td>...</td>\n",
       "      <td>...</td>\n",
       "    </tr>\n",
       "    <tr>\n",
       "      <th>621</th>\n",
       "      <td>457938</td>\n",
       "      <td>L. Lanotte</td>\n",
       "      <td>Luigi</td>\n",
       "      <td>NaN</td>\n",
       "      <td>Lanotte</td>\n",
       "      <td>NaN</td>\n",
       "      <td>380</td>\n",
       "      <td>IT</td>\n",
       "      <td>ITA</td>\n",
       "      <td>Italy</td>\n",
       "      <td>380</td>\n",
       "      <td>IT</td>\n",
       "      <td>ITA</td>\n",
       "      <td>Italy</td>\n",
       "    </tr>\n",
       "    <tr>\n",
       "      <th>622</th>\n",
       "      <td>385918</td>\n",
       "      <td>A. Halliday</td>\n",
       "      <td>Andy</td>\n",
       "      <td>NaN</td>\n",
       "      <td>Halliday</td>\n",
       "      <td>NaN</td>\n",
       "      <td>826</td>\n",
       "      <td>EN</td>\n",
       "      <td>XEN</td>\n",
       "      <td>England</td>\n",
       "      <td>826</td>\n",
       "      <td>EN</td>\n",
       "      <td>XEN</td>\n",
       "      <td>England</td>\n",
       "    </tr>\n",
       "    <tr>\n",
       "      <th>623</th>\n",
       "      <td>379973</td>\n",
       "      <td>C. Ramos</td>\n",
       "      <td>César Arturo</td>\n",
       "      <td>NaN</td>\n",
       "      <td>Ramos Palazuelos</td>\n",
       "      <td>1983-12-15</td>\n",
       "      <td>484</td>\n",
       "      <td>MX</td>\n",
       "      <td>MEX</td>\n",
       "      <td>Mexico</td>\n",
       "      <td>484</td>\n",
       "      <td>MX</td>\n",
       "      <td>MEX</td>\n",
       "      <td>Mexico</td>\n",
       "    </tr>\n",
       "    <tr>\n",
       "      <th>624</th>\n",
       "      <td>385517</td>\n",
       "      <td>G. Pasqualotti</td>\n",
       "      <td>Gwenaël</td>\n",
       "      <td>NaN</td>\n",
       "      <td>Pasqualotti</td>\n",
       "      <td>NaN</td>\n",
       "      <td>250</td>\n",
       "      <td>FR</td>\n",
       "      <td>FRA</td>\n",
       "      <td>France</td>\n",
       "      <td>250</td>\n",
       "      <td>FR</td>\n",
       "      <td>FRA</td>\n",
       "      <td>France</td>\n",
       "    </tr>\n",
       "    <tr>\n",
       "      <th>625</th>\n",
       "      <td>381844</td>\n",
       "      <td>G. Debart</td>\n",
       "      <td>Guillaume</td>\n",
       "      <td>NaN</td>\n",
       "      <td>Debart</td>\n",
       "      <td>NaN</td>\n",
       "      <td>250</td>\n",
       "      <td>FR</td>\n",
       "      <td>FRA</td>\n",
       "      <td>France</td>\n",
       "      <td>250</td>\n",
       "      <td>FR</td>\n",
       "      <td>FRA</td>\n",
       "      <td>France</td>\n",
       "    </tr>\n",
       "  </tbody>\n",
       "</table>\n",
       "<p>626 rows × 14 columns</p>\n",
       "</div>"
      ],
      "text/plain": [
       "       wyId       shortName     firstName  middleName          lastName  \\\n",
       "0    378217       A. Guzmán     Alexander         NaN    Guzmán Bonilla   \n",
       "1    385011      S. Bennett         Simon         NaN           Bennett   \n",
       "2    385544       H. Osmers          Harm         NaN            Osmers   \n",
       "3    383894      F. Assmuth     Frederick         NaN           Assmuth   \n",
       "4    385800      F. Hebrard      Frédéric         NaN           Hebrard   \n",
       "..      ...             ...           ...         ...               ...   \n",
       "621  457938      L. Lanotte         Luigi         NaN           Lanotte   \n",
       "622  385918     A. Halliday          Andy         NaN          Halliday   \n",
       "623  379973        C. Ramos  César Arturo         NaN  Ramos Palazuelos   \n",
       "624  385517  G. Pasqualotti       Gwenaël         NaN       Pasqualotti   \n",
       "625  381844       G. Debart     Guillaume         NaN            Debart   \n",
       "\n",
       "      birthDate  birthArea.id birthArea.alpha2code birthArea.alpha3code  \\\n",
       "0           NaN           170                   CO                  COL   \n",
       "1           NaN           826                   EN                  XEN   \n",
       "2    1985-01-28           276                   DE                  DEU   \n",
       "3    1977-12-20           276                   DE                  DEU   \n",
       "4           NaN           250                   FR                  FRA   \n",
       "..          ...           ...                  ...                  ...   \n",
       "621         NaN           380                   IT                  ITA   \n",
       "622         NaN           826                   EN                  XEN   \n",
       "623  1983-12-15           484                   MX                  MEX   \n",
       "624         NaN           250                   FR                  FRA   \n",
       "625         NaN           250                   FR                  FRA   \n",
       "\n",
       "    birthArea.name  passportArea.id passportArea.alpha2code  \\\n",
       "0         Colombia              170                      CO   \n",
       "1          England              826                      EN   \n",
       "2          Germany              276                      DE   \n",
       "3          Germany              276                      DE   \n",
       "4           France              250                      FR   \n",
       "..             ...              ...                     ...   \n",
       "621          Italy              380                      IT   \n",
       "622        England              826                      EN   \n",
       "623         Mexico              484                      MX   \n",
       "624         France              250                      FR   \n",
       "625         France              250                      FR   \n",
       "\n",
       "    passportArea.alpha3code passportArea.name  \n",
       "0                       COL          Colombia  \n",
       "1                       XEN           England  \n",
       "2                       DEU           Germany  \n",
       "3                       DEU           Germany  \n",
       "4                       FRA            France  \n",
       "..                      ...               ...  \n",
       "621                     ITA             Italy  \n",
       "622                     XEN           England  \n",
       "623                     MEX            Mexico  \n",
       "624                     FRA            France  \n",
       "625                     FRA            France  \n",
       "\n",
       "[626 rows x 14 columns]"
      ]
     },
     "execution_count": 98,
     "metadata": {},
     "output_type": "execute_result"
    }
   ],
   "source": [
    "referees"
   ]
  },
  {
   "cell_type": "markdown",
   "id": "1981ff54-6b48-42f9-853a-a35e1fb517cb",
   "metadata": {},
   "source": [
    "I dont think I really need any of this information. But I will capture the referee's name in case I use it for some illustrations later"
   ]
  },
  {
   "cell_type": "code",
   "execution_count": 99,
   "id": "2f3fa179-a0a1-4f22-8b0f-621c20fa7d16",
   "metadata": {},
   "outputs": [],
   "source": [
    "matches=matches.merge(referees[['wyId','shortName']], how='left' , left_on='refereeId', right_on='wyId', suffixes=('', '_referee'))"
   ]
  },
  {
   "cell_type": "code",
   "execution_count": 100,
   "id": "73537ffc-bc5c-4465-ad7f-85cf292f06d7",
   "metadata": {},
   "outputs": [],
   "source": [
    "matches.drop(['refereeId','wyId_referee'], axis=1, inplace=True)"
   ]
  },
  {
   "cell_type": "code",
   "execution_count": 101,
   "id": "884f1746-c570-49f7-a53b-a8b3cd3f85ec",
   "metadata": {},
   "outputs": [],
   "source": [
    "matches=matches.rename(columns={'shortName':'refereeName'})"
   ]
  },
  {
   "cell_type": "code",
   "execution_count": 102,
   "id": "16e9b940-3497-4e8b-b747-e993d698f819",
   "metadata": {},
   "outputs": [
    {
     "data": {
      "text/html": [
       "<div>\n",
       "<style scoped>\n",
       "    .dataframe tbody tr th:only-of-type {\n",
       "        vertical-align: middle;\n",
       "    }\n",
       "\n",
       "    .dataframe tbody tr th {\n",
       "        vertical-align: top;\n",
       "    }\n",
       "\n",
       "    .dataframe thead th {\n",
       "        text-align: right;\n",
       "    }\n",
       "</style>\n",
       "<table border=\"1\" class=\"dataframe\">\n",
       "  <thead>\n",
       "    <tr style=\"text-align: right;\">\n",
       "      <th></th>\n",
       "      <th>gameweek</th>\n",
       "      <th>teamsData</th>\n",
       "      <th>dateutc</th>\n",
       "      <th>winner</th>\n",
       "      <th>wyId</th>\n",
       "      <th>label</th>\n",
       "      <th>team1.coachId</th>\n",
       "      <th>team1.side</th>\n",
       "      <th>team1.teamId</th>\n",
       "      <th>team1.score</th>\n",
       "      <th>...</th>\n",
       "      <th>team1.formation.substitutions</th>\n",
       "      <th>team2.coachId</th>\n",
       "      <th>team2.side</th>\n",
       "      <th>team2.teamId</th>\n",
       "      <th>team2.score</th>\n",
       "      <th>team2.formation</th>\n",
       "      <th>team2.scoreHT</th>\n",
       "      <th>team2.formation.lineup</th>\n",
       "      <th>team2.formation.substitutions</th>\n",
       "      <th>refereeName</th>\n",
       "    </tr>\n",
       "  </thead>\n",
       "  <tbody>\n",
       "    <tr>\n",
       "      <th>0</th>\n",
       "      <td>38</td>\n",
       "      <td>{'1646': {'scoreET': 0, 'coachId': 8880, 'side...</td>\n",
       "      <td>2018-05-13 14:00:00</td>\n",
       "      <td>1659</td>\n",
       "      <td>2500089</td>\n",
       "      <td>Burnley - AFC Bournemouth, 1 - 2</td>\n",
       "      <td>8880</td>\n",
       "      <td>home</td>\n",
       "      <td>1646</td>\n",
       "      <td>1</td>\n",
       "      <td>...</td>\n",
       "      <td>[{'playerIn': 9127, 'playerOut': 9206, 'minute...</td>\n",
       "      <td>8934</td>\n",
       "      <td>away</td>\n",
       "      <td>1659</td>\n",
       "      <td>2</td>\n",
       "      <td>{'bench': [{'playerId': 11061, 'ownGoals': '0'...</td>\n",
       "      <td>0</td>\n",
       "      <td>[{'playerId': 259531, 'ownGoals': '0', 'redCar...</td>\n",
       "      <td>[{'playerIn': 7989, 'playerOut': 259531, 'minu...</td>\n",
       "      <td>P. Tierney</td>\n",
       "    </tr>\n",
       "    <tr>\n",
       "      <th>1</th>\n",
       "      <td>38</td>\n",
       "      <td>{'1628': {'scoreET': 0, 'coachId': 8357, 'side...</td>\n",
       "      <td>2018-05-13 14:00:00</td>\n",
       "      <td>1628</td>\n",
       "      <td>2500090</td>\n",
       "      <td>Crystal Palace - West Bromwich Albion, 2 - 0</td>\n",
       "      <td>8357</td>\n",
       "      <td>home</td>\n",
       "      <td>1628</td>\n",
       "      <td>2</td>\n",
       "      <td>...</td>\n",
       "      <td>[{'playerIn': 38031, 'playerOut': 8623, 'minut...</td>\n",
       "      <td>0</td>\n",
       "      <td>away</td>\n",
       "      <td>1627</td>\n",
       "      <td>0</td>\n",
       "      <td>{'bench': [{'playerId': 399517, 'ownGoals': '0...</td>\n",
       "      <td>0</td>\n",
       "      <td>[{'playerId': 25537, 'ownGoals': '0', 'redCard...</td>\n",
       "      <td>[{'playerIn': 261, 'playerOut': 25537, 'minute...</td>\n",
       "      <td>J. Moss</td>\n",
       "    </tr>\n",
       "    <tr>\n",
       "      <th>2</th>\n",
       "      <td>38</td>\n",
       "      <td>{'1609': {'scoreET': 0, 'coachId': 7845, 'side...</td>\n",
       "      <td>2018-05-13 14:00:00</td>\n",
       "      <td>1609</td>\n",
       "      <td>2500091</td>\n",
       "      <td>Huddersfield Town - Arsenal, 0 - 1</td>\n",
       "      <td>7845</td>\n",
       "      <td>away</td>\n",
       "      <td>1609</td>\n",
       "      <td>1</td>\n",
       "      <td>...</td>\n",
       "      <td>[{'playerIn': 7945, 'playerOut': 25867, 'minut...</td>\n",
       "      <td>18572</td>\n",
       "      <td>home</td>\n",
       "      <td>1673</td>\n",
       "      <td>0</td>\n",
       "      <td>{'bench': [{'playerId': 274482, 'ownGoals': '0...</td>\n",
       "      <td>0</td>\n",
       "      <td>[{'playerId': 9419, 'ownGoals': '0', 'redCards...</td>\n",
       "      <td>[{'playerIn': 38377, 'playerOut': 9419, 'minut...</td>\n",
       "      <td>NaN</td>\n",
       "    </tr>\n",
       "    <tr>\n",
       "      <th>3</th>\n",
       "      <td>38</td>\n",
       "      <td>{'1651': {'scoreET': 0, 'coachId': 8093, 'side...</td>\n",
       "      <td>2018-05-13 14:00:00</td>\n",
       "      <td>1612</td>\n",
       "      <td>2500092</td>\n",
       "      <td>Liverpool - Brighton &amp; Hove Albion, 4 - 0</td>\n",
       "      <td>8093</td>\n",
       "      <td>away</td>\n",
       "      <td>1651</td>\n",
       "      <td>0</td>\n",
       "      <td>...</td>\n",
       "      <td>[{'playerIn': 15526, 'playerOut': 120, 'minute...</td>\n",
       "      <td>14791</td>\n",
       "      <td>home</td>\n",
       "      <td>1612</td>\n",
       "      <td>4</td>\n",
       "      <td>{'bench': [{'playerId': 74, 'ownGoals': '0', '...</td>\n",
       "      <td>2</td>\n",
       "      <td>[{'playerId': 25747, 'ownGoals': '2', 'redCard...</td>\n",
       "      <td>[{'playerIn': 8140, 'playerOut': 25747, 'minut...</td>\n",
       "      <td>K. Friend</td>\n",
       "    </tr>\n",
       "    <tr>\n",
       "      <th>4</th>\n",
       "      <td>38</td>\n",
       "      <td>{'1644': {'scoreET': 0, 'coachId': 93112, 'sid...</td>\n",
       "      <td>2018-05-13 14:00:00</td>\n",
       "      <td>1611</td>\n",
       "      <td>2500093</td>\n",
       "      <td>Manchester United - Watford, 1 - 0</td>\n",
       "      <td>93112</td>\n",
       "      <td>away</td>\n",
       "      <td>1644</td>\n",
       "      <td>0</td>\n",
       "      <td>...</td>\n",
       "      <td>[{'playerIn': 8889, 'playerOut': 68085, 'minut...</td>\n",
       "      <td>3295</td>\n",
       "      <td>home</td>\n",
       "      <td>1611</td>\n",
       "      <td>1</td>\n",
       "      <td>{'bench': [{'playerId': 7918, 'ownGoals': '0',...</td>\n",
       "      <td>1</td>\n",
       "      <td>[{'playerId': 7939, 'ownGoals': '0', 'redCards...</td>\n",
       "      <td>[{'playerIn': 8135, 'playerOut': 7939, 'minute...</td>\n",
       "      <td>L. Mason</td>\n",
       "    </tr>\n",
       "    <tr>\n",
       "      <th>...</th>\n",
       "      <td>...</td>\n",
       "      <td>...</td>\n",
       "      <td>...</td>\n",
       "      <td>...</td>\n",
       "      <td>...</td>\n",
       "      <td>...</td>\n",
       "      <td>...</td>\n",
       "      <td>...</td>\n",
       "      <td>...</td>\n",
       "      <td>...</td>\n",
       "      <td>...</td>\n",
       "      <td>...</td>\n",
       "      <td>...</td>\n",
       "      <td>...</td>\n",
       "      <td>...</td>\n",
       "      <td>...</td>\n",
       "      <td>...</td>\n",
       "      <td>...</td>\n",
       "      <td>...</td>\n",
       "      <td>...</td>\n",
       "      <td>...</td>\n",
       "    </tr>\n",
       "    <tr>\n",
       "      <th>375</th>\n",
       "      <td>1</td>\n",
       "      <td>{'1623': {'scoreET': 0, 'coachId': 268779, 'si...</td>\n",
       "      <td>2017-08-12 14:00:00</td>\n",
       "      <td>1623</td>\n",
       "      <td>2499723</td>\n",
       "      <td>Everton - Stoke City, 1 - 0</td>\n",
       "      <td>9054</td>\n",
       "      <td>away</td>\n",
       "      <td>1639</td>\n",
       "      <td>0</td>\n",
       "      <td>...</td>\n",
       "      <td>[{'playerIn': 15198, 'playerOut': 20450, 'minu...</td>\n",
       "      <td>268779</td>\n",
       "      <td>home</td>\n",
       "      <td>1623</td>\n",
       "      <td>1</td>\n",
       "      <td>{'bench': [{'playerId': 20428, 'ownGoals': '0'...</td>\n",
       "      <td>1</td>\n",
       "      <td>[{'playerId': 77546, 'ownGoals': '0', 'redCard...</td>\n",
       "      <td>[{'playerIn': 340, 'playerOut': 77546, 'minute...</td>\n",
       "      <td>N. Swarbrick</td>\n",
       "    </tr>\n",
       "    <tr>\n",
       "      <th>376</th>\n",
       "      <td>1</td>\n",
       "      <td>{'10531': {'scoreET': 0, 'coachId': 381291, 's...</td>\n",
       "      <td>2017-08-12 14:00:00</td>\n",
       "      <td>0</td>\n",
       "      <td>2499726</td>\n",
       "      <td>Southampton - Swansea City, 0 - 0</td>\n",
       "      <td>254174</td>\n",
       "      <td>home</td>\n",
       "      <td>1619</td>\n",
       "      <td>0</td>\n",
       "      <td>...</td>\n",
       "      <td>[{'playerIn': 8953, 'playerOut': 20857, 'minut...</td>\n",
       "      <td>381291</td>\n",
       "      <td>away</td>\n",
       "      <td>10531</td>\n",
       "      <td>0</td>\n",
       "      <td>{'bench': [{'playerId': 149151, 'ownGoals': '0...</td>\n",
       "      <td>0</td>\n",
       "      <td>[{'playerId': 77550, 'ownGoals': '0', 'redCard...</td>\n",
       "      <td>[{'playerIn': 62344, 'playerOut': 77550, 'minu...</td>\n",
       "      <td>M. Jones</td>\n",
       "    </tr>\n",
       "    <tr>\n",
       "      <th>377</th>\n",
       "      <td>1</td>\n",
       "      <td>{'1659': {'scoreET': 0, 'coachId': 8934, 'side...</td>\n",
       "      <td>2017-08-12 14:00:00</td>\n",
       "      <td>1627</td>\n",
       "      <td>2499728</td>\n",
       "      <td>West Bromwich Albion - AFC Bournemouth, 1 - 0</td>\n",
       "      <td>8934</td>\n",
       "      <td>away</td>\n",
       "      <td>1659</td>\n",
       "      <td>0</td>\n",
       "      <td>...</td>\n",
       "      <td>[{'playerIn': 9739, 'playerOut': 9293, 'minute...</td>\n",
       "      <td>149026</td>\n",
       "      <td>home</td>\n",
       "      <td>1627</td>\n",
       "      <td>1</td>\n",
       "      <td>{'bench': [{'playerId': 399517, 'ownGoals': '0...</td>\n",
       "      <td>1</td>\n",
       "      <td>[{'playerId': 434159, 'ownGoals': '0', 'redCar...</td>\n",
       "      <td>[{'playerIn': 447254, 'playerOut': 434159, 'mi...</td>\n",
       "      <td>R. Madley</td>\n",
       "    </tr>\n",
       "    <tr>\n",
       "      <th>378</th>\n",
       "      <td>1</td>\n",
       "      <td>{'1644': {'scoreET': 0, 'coachId': 71037, 'sid...</td>\n",
       "      <td>2017-08-12 11:30:00</td>\n",
       "      <td>0</td>\n",
       "      <td>2499727</td>\n",
       "      <td>Watford - Liverpool, 3 - 3</td>\n",
       "      <td>14791</td>\n",
       "      <td>away</td>\n",
       "      <td>1612</td>\n",
       "      <td>3</td>\n",
       "      <td>...</td>\n",
       "      <td>[{'playerIn': 134708, 'playerOut': 15808, 'min...</td>\n",
       "      <td>71037</td>\n",
       "      <td>home</td>\n",
       "      <td>1644</td>\n",
       "      <td>3</td>\n",
       "      <td>{'bench': [{'playerId': 25798, 'ownGoals': '0'...</td>\n",
       "      <td>2</td>\n",
       "      <td>[{'playerId': 160, 'ownGoals': '0', 'redCards'...</td>\n",
       "      <td>[{'playerIn': 3351, 'playerOut': 160, 'minute'...</td>\n",
       "      <td>A. Taylor</td>\n",
       "    </tr>\n",
       "    <tr>\n",
       "      <th>379</th>\n",
       "      <td>1</td>\n",
       "      <td>{'1609': {'scoreET': 0, 'coachId': 7845, 'side...</td>\n",
       "      <td>2017-08-11 18:45:00</td>\n",
       "      <td>1609</td>\n",
       "      <td>2499719</td>\n",
       "      <td>Arsenal - Leicester City, 4 - 3</td>\n",
       "      <td>7845</td>\n",
       "      <td>home</td>\n",
       "      <td>1609</td>\n",
       "      <td>4</td>\n",
       "      <td>...</td>\n",
       "      <td>[{'playerIn': 26010, 'playerOut': 370224, 'min...</td>\n",
       "      <td>333782</td>\n",
       "      <td>away</td>\n",
       "      <td>1631</td>\n",
       "      <td>3</td>\n",
       "      <td>{'bench': [{'playerId': 119630, 'ownGoals': '0...</td>\n",
       "      <td>2</td>\n",
       "      <td>[{'playerId': 14763, 'ownGoals': '0', 'redCard...</td>\n",
       "      <td>[{'playerIn': 217078, 'playerOut': 14763, 'min...</td>\n",
       "      <td>M. Dean</td>\n",
       "    </tr>\n",
       "  </tbody>\n",
       "</table>\n",
       "<p>380 rows × 23 columns</p>\n",
       "</div>"
      ],
      "text/plain": [
       "     gameweek                                          teamsData  \\\n",
       "0          38  {'1646': {'scoreET': 0, 'coachId': 8880, 'side...   \n",
       "1          38  {'1628': {'scoreET': 0, 'coachId': 8357, 'side...   \n",
       "2          38  {'1609': {'scoreET': 0, 'coachId': 7845, 'side...   \n",
       "3          38  {'1651': {'scoreET': 0, 'coachId': 8093, 'side...   \n",
       "4          38  {'1644': {'scoreET': 0, 'coachId': 93112, 'sid...   \n",
       "..        ...                                                ...   \n",
       "375         1  {'1623': {'scoreET': 0, 'coachId': 268779, 'si...   \n",
       "376         1  {'10531': {'scoreET': 0, 'coachId': 381291, 's...   \n",
       "377         1  {'1659': {'scoreET': 0, 'coachId': 8934, 'side...   \n",
       "378         1  {'1644': {'scoreET': 0, 'coachId': 71037, 'sid...   \n",
       "379         1  {'1609': {'scoreET': 0, 'coachId': 7845, 'side...   \n",
       "\n",
       "                 dateutc  winner     wyId  \\\n",
       "0    2018-05-13 14:00:00    1659  2500089   \n",
       "1    2018-05-13 14:00:00    1628  2500090   \n",
       "2    2018-05-13 14:00:00    1609  2500091   \n",
       "3    2018-05-13 14:00:00    1612  2500092   \n",
       "4    2018-05-13 14:00:00    1611  2500093   \n",
       "..                   ...     ...      ...   \n",
       "375  2017-08-12 14:00:00    1623  2499723   \n",
       "376  2017-08-12 14:00:00       0  2499726   \n",
       "377  2017-08-12 14:00:00    1627  2499728   \n",
       "378  2017-08-12 11:30:00       0  2499727   \n",
       "379  2017-08-11 18:45:00    1609  2499719   \n",
       "\n",
       "                                             label  team1.coachId team1.side  \\\n",
       "0                 Burnley - AFC Bournemouth, 1 - 2           8880       home   \n",
       "1     Crystal Palace - West Bromwich Albion, 2 - 0           8357       home   \n",
       "2               Huddersfield Town - Arsenal, 0 - 1           7845       away   \n",
       "3        Liverpool - Brighton & Hove Albion, 4 - 0           8093       away   \n",
       "4               Manchester United - Watford, 1 - 0          93112       away   \n",
       "..                                             ...            ...        ...   \n",
       "375                    Everton - Stoke City, 1 - 0           9054       away   \n",
       "376              Southampton - Swansea City, 0 - 0         254174       home   \n",
       "377  West Bromwich Albion - AFC Bournemouth, 1 - 0           8934       away   \n",
       "378                     Watford - Liverpool, 3 - 3          14791       away   \n",
       "379                Arsenal - Leicester City, 4 - 3           7845       home   \n",
       "\n",
       "     team1.teamId  team1.score  ...  \\\n",
       "0            1646            1  ...   \n",
       "1            1628            2  ...   \n",
       "2            1609            1  ...   \n",
       "3            1651            0  ...   \n",
       "4            1644            0  ...   \n",
       "..            ...          ...  ...   \n",
       "375          1639            0  ...   \n",
       "376          1619            0  ...   \n",
       "377          1659            0  ...   \n",
       "378          1612            3  ...   \n",
       "379          1609            4  ...   \n",
       "\n",
       "                         team1.formation.substitutions  team2.coachId  \\\n",
       "0    [{'playerIn': 9127, 'playerOut': 9206, 'minute...           8934   \n",
       "1    [{'playerIn': 38031, 'playerOut': 8623, 'minut...              0   \n",
       "2    [{'playerIn': 7945, 'playerOut': 25867, 'minut...          18572   \n",
       "3    [{'playerIn': 15526, 'playerOut': 120, 'minute...          14791   \n",
       "4    [{'playerIn': 8889, 'playerOut': 68085, 'minut...           3295   \n",
       "..                                                 ...            ...   \n",
       "375  [{'playerIn': 15198, 'playerOut': 20450, 'minu...         268779   \n",
       "376  [{'playerIn': 8953, 'playerOut': 20857, 'minut...         381291   \n",
       "377  [{'playerIn': 9739, 'playerOut': 9293, 'minute...         149026   \n",
       "378  [{'playerIn': 134708, 'playerOut': 15808, 'min...          71037   \n",
       "379  [{'playerIn': 26010, 'playerOut': 370224, 'min...         333782   \n",
       "\n",
       "    team2.side team2.teamId  team2.score  \\\n",
       "0         away         1659            2   \n",
       "1         away         1627            0   \n",
       "2         home         1673            0   \n",
       "3         home         1612            4   \n",
       "4         home         1611            1   \n",
       "..         ...          ...          ...   \n",
       "375       home         1623            1   \n",
       "376       away        10531            0   \n",
       "377       home         1627            1   \n",
       "378       home         1644            3   \n",
       "379       away         1631            3   \n",
       "\n",
       "                                       team2.formation  team2.scoreHT  \\\n",
       "0    {'bench': [{'playerId': 11061, 'ownGoals': '0'...              0   \n",
       "1    {'bench': [{'playerId': 399517, 'ownGoals': '0...              0   \n",
       "2    {'bench': [{'playerId': 274482, 'ownGoals': '0...              0   \n",
       "3    {'bench': [{'playerId': 74, 'ownGoals': '0', '...              2   \n",
       "4    {'bench': [{'playerId': 7918, 'ownGoals': '0',...              1   \n",
       "..                                                 ...            ...   \n",
       "375  {'bench': [{'playerId': 20428, 'ownGoals': '0'...              1   \n",
       "376  {'bench': [{'playerId': 149151, 'ownGoals': '0...              0   \n",
       "377  {'bench': [{'playerId': 399517, 'ownGoals': '0...              1   \n",
       "378  {'bench': [{'playerId': 25798, 'ownGoals': '0'...              2   \n",
       "379  {'bench': [{'playerId': 119630, 'ownGoals': '0...              2   \n",
       "\n",
       "                                team2.formation.lineup  \\\n",
       "0    [{'playerId': 259531, 'ownGoals': '0', 'redCar...   \n",
       "1    [{'playerId': 25537, 'ownGoals': '0', 'redCard...   \n",
       "2    [{'playerId': 9419, 'ownGoals': '0', 'redCards...   \n",
       "3    [{'playerId': 25747, 'ownGoals': '2', 'redCard...   \n",
       "4    [{'playerId': 7939, 'ownGoals': '0', 'redCards...   \n",
       "..                                                 ...   \n",
       "375  [{'playerId': 77546, 'ownGoals': '0', 'redCard...   \n",
       "376  [{'playerId': 77550, 'ownGoals': '0', 'redCard...   \n",
       "377  [{'playerId': 434159, 'ownGoals': '0', 'redCar...   \n",
       "378  [{'playerId': 160, 'ownGoals': '0', 'redCards'...   \n",
       "379  [{'playerId': 14763, 'ownGoals': '0', 'redCard...   \n",
       "\n",
       "                         team2.formation.substitutions   refereeName  \n",
       "0    [{'playerIn': 7989, 'playerOut': 259531, 'minu...    P. Tierney  \n",
       "1    [{'playerIn': 261, 'playerOut': 25537, 'minute...       J. Moss  \n",
       "2    [{'playerIn': 38377, 'playerOut': 9419, 'minut...           NaN  \n",
       "3    [{'playerIn': 8140, 'playerOut': 25747, 'minut...     K. Friend  \n",
       "4    [{'playerIn': 8135, 'playerOut': 7939, 'minute...      L. Mason  \n",
       "..                                                 ...           ...  \n",
       "375  [{'playerIn': 340, 'playerOut': 77546, 'minute...  N. Swarbrick  \n",
       "376  [{'playerIn': 62344, 'playerOut': 77550, 'minu...      M. Jones  \n",
       "377  [{'playerIn': 447254, 'playerOut': 434159, 'mi...     R. Madley  \n",
       "378  [{'playerIn': 3351, 'playerOut': 160, 'minute'...     A. Taylor  \n",
       "379  [{'playerIn': 217078, 'playerOut': 14763, 'min...       M. Dean  \n",
       "\n",
       "[380 rows x 23 columns]"
      ]
     },
     "execution_count": 102,
     "metadata": {},
     "output_type": "execute_result"
    }
   ],
   "source": [
    "matches"
   ]
  },
  {
   "cell_type": "markdown",
   "id": "a20dbb2b-0f4c-4aa4-a486-fb19f519f543",
   "metadata": {},
   "source": [
    "Later I will replace the winner, team1.coachId, team1.teamId, team2.coachId, team2.teamId with the relevant data from the coaches.csv data set and the teams data set."
   ]
  },
  {
   "cell_type": "code",
   "execution_count": null,
   "id": "8cba628b-b196-4c00-9a47-a60ac609ada3",
   "metadata": {},
   "outputs": [],
   "source": []
  },
  {
   "cell_type": "markdown",
   "id": "a709e441-b48d-4d72-8e7a-1e1794337c13",
   "metadata": {},
   "source": [
    "### competitions"
   ]
  },
  {
   "cell_type": "markdown",
   "id": "be522884-7d13-4eda-8210-de031169cf40",
   "metadata": {},
   "source": [
    "I can quickly see that this has no relevance to me at the moment. This will only be important if i ever decide to tie in other competitions apart from the english premier league."
   ]
  },
  {
   "cell_type": "code",
   "execution_count": 103,
   "id": "f28b52a5-ed48-4f94-aeca-3073e7ced5cc",
   "metadata": {},
   "outputs": [],
   "source": [
    "competitions= pd.read_csv('data/competitions.csv')"
   ]
  },
  {
   "cell_type": "code",
   "execution_count": 104,
   "id": "ff55f1e5-ed04-4217-a93e-0f04c1f2dcf5",
   "metadata": {},
   "outputs": [
    {
     "data": {
      "text/html": [
       "<div>\n",
       "<style scoped>\n",
       "    .dataframe tbody tr th:only-of-type {\n",
       "        vertical-align: middle;\n",
       "    }\n",
       "\n",
       "    .dataframe tbody tr th {\n",
       "        vertical-align: top;\n",
       "    }\n",
       "\n",
       "    .dataframe thead th {\n",
       "        text-align: right;\n",
       "    }\n",
       "</style>\n",
       "<table border=\"1\" class=\"dataframe\">\n",
       "  <thead>\n",
       "    <tr style=\"text-align: right;\">\n",
       "      <th></th>\n",
       "      <th>name</th>\n",
       "      <th>wyId</th>\n",
       "      <th>format</th>\n",
       "      <th>area</th>\n",
       "      <th>type</th>\n",
       "    </tr>\n",
       "  </thead>\n",
       "  <tbody>\n",
       "    <tr>\n",
       "      <th>0</th>\n",
       "      <td>Italian first division</td>\n",
       "      <td>524</td>\n",
       "      <td>Domestic league</td>\n",
       "      <td>{'name': 'Italy', 'id': '380', 'alpha3code': '...</td>\n",
       "      <td>club</td>\n",
       "    </tr>\n",
       "    <tr>\n",
       "      <th>1</th>\n",
       "      <td>English first division</td>\n",
       "      <td>364</td>\n",
       "      <td>Domestic league</td>\n",
       "      <td>{'name': 'England', 'id': '0', 'alpha3code': '...</td>\n",
       "      <td>club</td>\n",
       "    </tr>\n",
       "    <tr>\n",
       "      <th>2</th>\n",
       "      <td>Spanish first division</td>\n",
       "      <td>795</td>\n",
       "      <td>Domestic league</td>\n",
       "      <td>{'name': 'Spain', 'id': '724', 'alpha3code': '...</td>\n",
       "      <td>club</td>\n",
       "    </tr>\n",
       "    <tr>\n",
       "      <th>3</th>\n",
       "      <td>French first division</td>\n",
       "      <td>412</td>\n",
       "      <td>Domestic league</td>\n",
       "      <td>{'name': 'France', 'id': '250', 'alpha3code': ...</td>\n",
       "      <td>club</td>\n",
       "    </tr>\n",
       "    <tr>\n",
       "      <th>4</th>\n",
       "      <td>German first division</td>\n",
       "      <td>426</td>\n",
       "      <td>Domestic league</td>\n",
       "      <td>{'name': 'Germany', 'id': '276', 'alpha3code':...</td>\n",
       "      <td>club</td>\n",
       "    </tr>\n",
       "    <tr>\n",
       "      <th>5</th>\n",
       "      <td>European Championship</td>\n",
       "      <td>102</td>\n",
       "      <td>International cup</td>\n",
       "      <td>{'name': '', 'id': 0, 'alpha3code': 'XEU', 'al...</td>\n",
       "      <td>international</td>\n",
       "    </tr>\n",
       "    <tr>\n",
       "      <th>6</th>\n",
       "      <td>World Cup</td>\n",
       "      <td>28</td>\n",
       "      <td>International cup</td>\n",
       "      <td>{'name': '', 'id': 0, 'alpha3code': 'XWO', 'al...</td>\n",
       "      <td>international</td>\n",
       "    </tr>\n",
       "  </tbody>\n",
       "</table>\n",
       "</div>"
      ],
      "text/plain": [
       "                     name  wyId             format  \\\n",
       "0  Italian first division   524    Domestic league   \n",
       "1  English first division   364    Domestic league   \n",
       "2  Spanish first division   795    Domestic league   \n",
       "3   French first division   412    Domestic league   \n",
       "4   German first division   426    Domestic league   \n",
       "5   European Championship   102  International cup   \n",
       "6               World Cup    28  International cup   \n",
       "\n",
       "                                                area           type  \n",
       "0  {'name': 'Italy', 'id': '380', 'alpha3code': '...           club  \n",
       "1  {'name': 'England', 'id': '0', 'alpha3code': '...           club  \n",
       "2  {'name': 'Spain', 'id': '724', 'alpha3code': '...           club  \n",
       "3  {'name': 'France', 'id': '250', 'alpha3code': ...           club  \n",
       "4  {'name': 'Germany', 'id': '276', 'alpha3code':...           club  \n",
       "5  {'name': '', 'id': 0, 'alpha3code': 'XEU', 'al...  international  \n",
       "6  {'name': '', 'id': 0, 'alpha3code': 'XWO', 'al...  international  "
      ]
     },
     "execution_count": 104,
     "metadata": {},
     "output_type": "execute_result"
    }
   ],
   "source": [
    "competitions"
   ]
  },
  {
   "cell_type": "code",
   "execution_count": 105,
   "id": "5fc5c6e5-4d96-4f03-b035-d4f4751efda6",
   "metadata": {},
   "outputs": [
    {
     "data": {
      "text/plain": [
       "\"{'name': 'England', 'id': '0', 'alpha3code': 'XEN', 'alpha2code': ''}\""
      ]
     },
     "execution_count": 105,
     "metadata": {},
     "output_type": "execute_result"
    }
   ],
   "source": [
    "competitions['area'][1]"
   ]
  },
  {
   "cell_type": "markdown",
   "id": "3747162b-0513-437d-8b0d-0f5186f972c9",
   "metadata": {},
   "source": [
    "### coaches"
   ]
  },
  {
   "cell_type": "code",
   "execution_count": 106,
   "id": "f55d827a-d0e8-4732-b6f2-5b097de54772",
   "metadata": {},
   "outputs": [],
   "source": [
    "coaches= pd.read_csv('data/coaches.csv')"
   ]
  },
  {
   "cell_type": "code",
   "execution_count": 107,
   "id": "53699eb0-34a5-4b17-b244-eea8a6a44df8",
   "metadata": {},
   "outputs": [
    {
     "data": {
      "text/html": [
       "<div>\n",
       "<style scoped>\n",
       "    .dataframe tbody tr th:only-of-type {\n",
       "        vertical-align: middle;\n",
       "    }\n",
       "\n",
       "    .dataframe tbody tr th {\n",
       "        vertical-align: top;\n",
       "    }\n",
       "\n",
       "    .dataframe thead th {\n",
       "        text-align: right;\n",
       "    }\n",
       "</style>\n",
       "<table border=\"1\" class=\"dataframe\">\n",
       "  <thead>\n",
       "    <tr style=\"text-align: right;\">\n",
       "      <th></th>\n",
       "      <th>wyId</th>\n",
       "      <th>shortName</th>\n",
       "      <th>firstName</th>\n",
       "      <th>middleName</th>\n",
       "      <th>lastName</th>\n",
       "      <th>birthDate</th>\n",
       "      <th>birthArea</th>\n",
       "      <th>passportArea</th>\n",
       "      <th>currentTeamId</th>\n",
       "    </tr>\n",
       "  </thead>\n",
       "  <tbody>\n",
       "    <tr>\n",
       "      <th>0</th>\n",
       "      <td>275580</td>\n",
       "      <td>Cesar Domingo</td>\n",
       "      <td>César Domingo</td>\n",
       "      <td>NaN</td>\n",
       "      <td>Mendiondo López</td>\n",
       "      <td>NaN</td>\n",
       "      <td>{'id': 76, 'alpha2code': 'BR', 'alpha3code': '...</td>\n",
       "      <td>{'id': 76, 'alpha2code': 'BR', 'alpha3code': '...</td>\n",
       "      <td>0</td>\n",
       "    </tr>\n",
       "    <tr>\n",
       "      <th>1</th>\n",
       "      <td>14710</td>\n",
       "      <td>J. Heynckes</td>\n",
       "      <td>Josef</td>\n",
       "      <td>NaN</td>\n",
       "      <td>Heynckes</td>\n",
       "      <td>1945-05-09</td>\n",
       "      <td>{'id': 276, 'alpha2code': 'DE', 'alpha3code': ...</td>\n",
       "      <td>{'id': 276, 'alpha2code': 'DE', 'alpha3code': ...</td>\n",
       "      <td>0</td>\n",
       "    </tr>\n",
       "    <tr>\n",
       "      <th>2</th>\n",
       "      <td>135480</td>\n",
       "      <td>G. De Biasi</td>\n",
       "      <td>Giovanni</td>\n",
       "      <td>NaN</td>\n",
       "      <td>De Biasi</td>\n",
       "      <td>1956-06-16</td>\n",
       "      <td>{'id': 380, 'alpha2code': 'IT', 'alpha3code': ...</td>\n",
       "      <td>{'id': 380, 'alpha2code': 'IT', 'alpha3code': ...</td>\n",
       "      <td>0</td>\n",
       "    </tr>\n",
       "    <tr>\n",
       "      <th>3</th>\n",
       "      <td>210074</td>\n",
       "      <td>Marcelino</td>\n",
       "      <td>Marcelino</td>\n",
       "      <td>NaN</td>\n",
       "      <td>García Toral</td>\n",
       "      <td>1965-08-14</td>\n",
       "      <td>{'id': 724, 'alpha2code': 'ES', 'alpha3code': ...</td>\n",
       "      <td>{'id': 724, 'alpha2code': 'ES', 'alpha3code': ...</td>\n",
       "      <td>674</td>\n",
       "    </tr>\n",
       "    <tr>\n",
       "      <th>4</th>\n",
       "      <td>293398</td>\n",
       "      <td>T. Korkut</td>\n",
       "      <td>Tayfun</td>\n",
       "      <td>NaN</td>\n",
       "      <td>Korkut</td>\n",
       "      <td>1974-04-02</td>\n",
       "      <td>{'id': 276, 'alpha2code': 'DE', 'alpha3code': ...</td>\n",
       "      <td>{'id': 792, 'alpha2code': 'TR', 'alpha3code': ...</td>\n",
       "      <td>0</td>\n",
       "    </tr>\n",
       "    <tr>\n",
       "      <th>...</th>\n",
       "      <td>...</td>\n",
       "      <td>...</td>\n",
       "      <td>...</td>\n",
       "      <td>...</td>\n",
       "      <td>...</td>\n",
       "      <td>...</td>\n",
       "      <td>...</td>\n",
       "      <td>...</td>\n",
       "      <td>...</td>\n",
       "    </tr>\n",
       "    <tr>\n",
       "      <th>203</th>\n",
       "      <td>264939</td>\n",
       "      <td>José Miguel Campos</td>\n",
       "      <td>José Miguel</td>\n",
       "      <td>NaN</td>\n",
       "      <td>Campos Rodríguez</td>\n",
       "      <td>1966-08-12</td>\n",
       "      <td>{'id': 724, 'alpha2code': 'ES', 'alpha3code': ...</td>\n",
       "      <td>{'id': 724, 'alpha2code': 'ES', 'alpha3code': ...</td>\n",
       "      <td>0</td>\n",
       "    </tr>\n",
       "    <tr>\n",
       "      <th>204</th>\n",
       "      <td>26213</td>\n",
       "      <td>M. Der Zakarian</td>\n",
       "      <td>Michel</td>\n",
       "      <td>NaN</td>\n",
       "      <td>Der Zakarian</td>\n",
       "      <td>1963-02-18</td>\n",
       "      <td>{'id': 51, 'alpha2code': 'AM', 'alpha3code': '...</td>\n",
       "      <td>{'id': 51, 'alpha2code': 'AM', 'alpha3code': '...</td>\n",
       "      <td>3787</td>\n",
       "    </tr>\n",
       "    <tr>\n",
       "      <th>205</th>\n",
       "      <td>7845</td>\n",
       "      <td>A. Wenger</td>\n",
       "      <td>Arsène</td>\n",
       "      <td>NaN</td>\n",
       "      <td>Wenger</td>\n",
       "      <td>1949-10-22</td>\n",
       "      <td>{'id': 250, 'alpha2code': 'FR', 'alpha3code': ...</td>\n",
       "      <td>{'id': 250, 'alpha2code': 'FR', 'alpha3code': ...</td>\n",
       "      <td>0</td>\n",
       "    </tr>\n",
       "    <tr>\n",
       "      <th>206</th>\n",
       "      <td>3485</td>\n",
       "      <td>Mendilibar</td>\n",
       "      <td>José Luis</td>\n",
       "      <td>NaN</td>\n",
       "      <td>Mendilibar Etxebarria</td>\n",
       "      <td>1961-03-14</td>\n",
       "      <td>{'id': 724, 'alpha2code': 'ES', 'alpha3code': ...</td>\n",
       "      <td>{'id': 724, 'alpha2code': 'ES', 'alpha3code': ...</td>\n",
       "      <td>701</td>\n",
       "    </tr>\n",
       "    <tr>\n",
       "      <th>207</th>\n",
       "      <td>3454</td>\n",
       "      <td>Míchel</td>\n",
       "      <td>José Miguel</td>\n",
       "      <td>NaN</td>\n",
       "      <td>González Martín del Campo</td>\n",
       "      <td>1963-03-23</td>\n",
       "      <td>{'id': 724, 'alpha2code': 'ES', 'alpha3code': ...</td>\n",
       "      <td>{'id': 724, 'alpha2code': 'ES', 'alpha3code': ...</td>\n",
       "      <td>0</td>\n",
       "    </tr>\n",
       "  </tbody>\n",
       "</table>\n",
       "<p>208 rows × 9 columns</p>\n",
       "</div>"
      ],
      "text/plain": [
       "       wyId           shortName      firstName  middleName  \\\n",
       "0    275580       Cesar Domingo  César Domingo         NaN   \n",
       "1     14710         J. Heynckes          Josef         NaN   \n",
       "2    135480         G. De Biasi       Giovanni         NaN   \n",
       "3    210074           Marcelino      Marcelino         NaN   \n",
       "4    293398           T. Korkut         Tayfun         NaN   \n",
       "..      ...                 ...            ...         ...   \n",
       "203  264939  José Miguel Campos    José Miguel         NaN   \n",
       "204   26213     M. Der Zakarian        Michel          NaN   \n",
       "205    7845           A. Wenger         Arsène         NaN   \n",
       "206    3485          Mendilibar      José Luis         NaN   \n",
       "207    3454              Míchel   José Miguel          NaN   \n",
       "\n",
       "                      lastName   birthDate  \\\n",
       "0              Mendiondo López         NaN   \n",
       "1                     Heynckes  1945-05-09   \n",
       "2                     De Biasi  1956-06-16   \n",
       "3                 García Toral  1965-08-14   \n",
       "4                       Korkut  1974-04-02   \n",
       "..                         ...         ...   \n",
       "203           Campos Rodríguez  1966-08-12   \n",
       "204               Der Zakarian  1963-02-18   \n",
       "205                     Wenger  1949-10-22   \n",
       "206      Mendilibar Etxebarria  1961-03-14   \n",
       "207  González Martín del Campo  1963-03-23   \n",
       "\n",
       "                                             birthArea  \\\n",
       "0    {'id': 76, 'alpha2code': 'BR', 'alpha3code': '...   \n",
       "1    {'id': 276, 'alpha2code': 'DE', 'alpha3code': ...   \n",
       "2    {'id': 380, 'alpha2code': 'IT', 'alpha3code': ...   \n",
       "3    {'id': 724, 'alpha2code': 'ES', 'alpha3code': ...   \n",
       "4    {'id': 276, 'alpha2code': 'DE', 'alpha3code': ...   \n",
       "..                                                 ...   \n",
       "203  {'id': 724, 'alpha2code': 'ES', 'alpha3code': ...   \n",
       "204  {'id': 51, 'alpha2code': 'AM', 'alpha3code': '...   \n",
       "205  {'id': 250, 'alpha2code': 'FR', 'alpha3code': ...   \n",
       "206  {'id': 724, 'alpha2code': 'ES', 'alpha3code': ...   \n",
       "207  {'id': 724, 'alpha2code': 'ES', 'alpha3code': ...   \n",
       "\n",
       "                                          passportArea  currentTeamId  \n",
       "0    {'id': 76, 'alpha2code': 'BR', 'alpha3code': '...              0  \n",
       "1    {'id': 276, 'alpha2code': 'DE', 'alpha3code': ...              0  \n",
       "2    {'id': 380, 'alpha2code': 'IT', 'alpha3code': ...              0  \n",
       "3    {'id': 724, 'alpha2code': 'ES', 'alpha3code': ...            674  \n",
       "4    {'id': 792, 'alpha2code': 'TR', 'alpha3code': ...              0  \n",
       "..                                                 ...            ...  \n",
       "203  {'id': 724, 'alpha2code': 'ES', 'alpha3code': ...              0  \n",
       "204  {'id': 51, 'alpha2code': 'AM', 'alpha3code': '...           3787  \n",
       "205  {'id': 250, 'alpha2code': 'FR', 'alpha3code': ...              0  \n",
       "206  {'id': 724, 'alpha2code': 'ES', 'alpha3code': ...            701  \n",
       "207  {'id': 724, 'alpha2code': 'ES', 'alpha3code': ...              0  \n",
       "\n",
       "[208 rows x 9 columns]"
      ]
     },
     "execution_count": 107,
     "metadata": {},
     "output_type": "execute_result"
    }
   ],
   "source": [
    "coaches"
   ]
  },
  {
   "cell_type": "code",
   "execution_count": null,
   "id": "147809b1-3f91-46ee-9138-f7b1e934feca",
   "metadata": {},
   "outputs": [],
   "source": []
  }
 ],
 "metadata": {
  "kernelspec": {
   "display_name": "Python 3 (ipykernel)",
   "language": "python",
   "name": "python3"
  },
  "language_info": {
   "codemirror_mode": {
    "name": "ipython",
    "version": 3
   },
   "file_extension": ".py",
   "mimetype": "text/x-python",
   "name": "python",
   "nbconvert_exporter": "python",
   "pygments_lexer": "ipython3",
   "version": "3.10.12"
  }
 },
 "nbformat": 4,
 "nbformat_minor": 5
}
