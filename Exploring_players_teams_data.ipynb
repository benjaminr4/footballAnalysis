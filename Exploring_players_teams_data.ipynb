{
 "cells": [
  {
   "cell_type": "code",
   "execution_count": 108,
   "id": "41ba52cd-cda7-4a84-be34-e697ce81ff1d",
   "metadata": {},
   "outputs": [],
   "source": [
    "import numpy as np\n",
    "import pandas as pd\n",
    "import matplotlib.pyplot as plt\n",
    "import seaborn as sns\n",
    "import plotly.express as px\n",
    "from scipy.stats import linregress\n",
    "import ast\n",
    "\n"
   ]
  },
  {
   "cell_type": "code",
   "execution_count": 109,
   "id": "30a1e0a8-78c9-4a8a-99ee-bdc8421ee180",
   "metadata": {},
   "outputs": [
    {
     "data": {
      "text/html": [
       "<div>\n",
       "<style scoped>\n",
       "    .dataframe tbody tr th:only-of-type {\n",
       "        vertical-align: middle;\n",
       "    }\n",
       "\n",
       "    .dataframe tbody tr th {\n",
       "        vertical-align: top;\n",
       "    }\n",
       "\n",
       "    .dataframe thead th {\n",
       "        text-align: right;\n",
       "    }\n",
       "</style>\n",
       "<table border=\"1\" class=\"dataframe\">\n",
       "  <thead>\n",
       "    <tr style=\"text-align: right;\">\n",
       "      <th></th>\n",
       "      <th>passportArea</th>\n",
       "      <th>weight</th>\n",
       "      <th>firstName</th>\n",
       "      <th>middleName</th>\n",
       "      <th>lastName</th>\n",
       "      <th>currentTeamId</th>\n",
       "      <th>birthDate</th>\n",
       "      <th>height</th>\n",
       "      <th>role</th>\n",
       "      <th>birthArea</th>\n",
       "      <th>wyId</th>\n",
       "      <th>foot</th>\n",
       "      <th>shortName</th>\n",
       "      <th>currentNationalTeamId</th>\n",
       "    </tr>\n",
       "  </thead>\n",
       "  <tbody>\n",
       "    <tr>\n",
       "      <th>0</th>\n",
       "      <td>{'name': 'Turkey', 'id': '792', 'alpha3code': ...</td>\n",
       "      <td>78</td>\n",
       "      <td>Harun</td>\n",
       "      <td>NaN</td>\n",
       "      <td>Tekin</td>\n",
       "      <td>4502.0</td>\n",
       "      <td>1989-06-17</td>\n",
       "      <td>187</td>\n",
       "      <td>{'code2': 'GK', 'code3': 'GKP', 'name': 'Goalk...</td>\n",
       "      <td>{'name': 'Turkey', 'id': '792', 'alpha3code': ...</td>\n",
       "      <td>32777</td>\n",
       "      <td>right</td>\n",
       "      <td>H. Tekin</td>\n",
       "      <td>4687.0</td>\n",
       "    </tr>\n",
       "    <tr>\n",
       "      <th>1</th>\n",
       "      <td>{'name': 'Senegal', 'id': '686', 'alpha3code':...</td>\n",
       "      <td>73</td>\n",
       "      <td>Malang</td>\n",
       "      <td>NaN</td>\n",
       "      <td>Sarr</td>\n",
       "      <td>3775.0</td>\n",
       "      <td>1999-01-23</td>\n",
       "      <td>182</td>\n",
       "      <td>{'code2': 'DF', 'code3': 'DEF', 'name': 'Defen...</td>\n",
       "      <td>{'name': 'France', 'id': '250', 'alpha3code': ...</td>\n",
       "      <td>393228</td>\n",
       "      <td>left</td>\n",
       "      <td>M. Sarr</td>\n",
       "      <td>4423.0</td>\n",
       "    </tr>\n",
       "    <tr>\n",
       "      <th>2</th>\n",
       "      <td>{'name': 'France', 'id': '250', 'alpha3code': ...</td>\n",
       "      <td>72</td>\n",
       "      <td>Over</td>\n",
       "      <td>NaN</td>\n",
       "      <td>Mandanda</td>\n",
       "      <td>3772.0</td>\n",
       "      <td>1998-10-26</td>\n",
       "      <td>176</td>\n",
       "      <td>{'code2': 'GK', 'code3': 'GKP', 'name': 'Goalk...</td>\n",
       "      <td>{'name': 'France', 'id': '250', 'alpha3code': ...</td>\n",
       "      <td>393230</td>\n",
       "      <td>NaN</td>\n",
       "      <td>O. Mandanda</td>\n",
       "      <td>NaN</td>\n",
       "    </tr>\n",
       "  </tbody>\n",
       "</table>\n",
       "</div>"
      ],
      "text/plain": [
       "                                        passportArea  weight firstName  \\\n",
       "0  {'name': 'Turkey', 'id': '792', 'alpha3code': ...      78     Harun   \n",
       "1  {'name': 'Senegal', 'id': '686', 'alpha3code':...      73    Malang   \n",
       "2  {'name': 'France', 'id': '250', 'alpha3code': ...      72      Over   \n",
       "\n",
       "   middleName  lastName  currentTeamId   birthDate  height  \\\n",
       "0         NaN     Tekin         4502.0  1989-06-17     187   \n",
       "1         NaN      Sarr         3775.0  1999-01-23     182   \n",
       "2         NaN  Mandanda         3772.0  1998-10-26     176   \n",
       "\n",
       "                                                role  \\\n",
       "0  {'code2': 'GK', 'code3': 'GKP', 'name': 'Goalk...   \n",
       "1  {'code2': 'DF', 'code3': 'DEF', 'name': 'Defen...   \n",
       "2  {'code2': 'GK', 'code3': 'GKP', 'name': 'Goalk...   \n",
       "\n",
       "                                           birthArea    wyId   foot  \\\n",
       "0  {'name': 'Turkey', 'id': '792', 'alpha3code': ...   32777  right   \n",
       "1  {'name': 'France', 'id': '250', 'alpha3code': ...  393228   left   \n",
       "2  {'name': 'France', 'id': '250', 'alpha3code': ...  393230    NaN   \n",
       "\n",
       "     shortName  currentNationalTeamId  \n",
       "0     H. Tekin                 4687.0  \n",
       "1      M. Sarr                 4423.0  \n",
       "2  O. Mandanda                    NaN  "
      ]
     },
     "execution_count": 109,
     "metadata": {},
     "output_type": "execute_result"
    }
   ],
   "source": [
    "\n",
    "\n",
    "# Load the players file into a DataFrame\n",
    "players = pd.read_csv('data/players.csv')\n",
    "\n",
    "# Display the first few rows of the DataFrame\n",
    "players.head(3)"
   ]
  },
  {
   "cell_type": "code",
   "execution_count": 110,
   "id": "29b1ed17-2611-419a-b6e7-1f3fed788429",
   "metadata": {},
   "outputs": [
    {
     "data": {
      "text/plain": [
       "(3603, 14)"
      ]
     },
     "execution_count": 110,
     "metadata": {},
     "output_type": "execute_result"
    }
   ],
   "source": [
    "players.shape"
   ]
  },
  {
   "cell_type": "code",
   "execution_count": null,
   "id": "e8d097f0-aadd-4200-97e5-dd43de555372",
   "metadata": {},
   "outputs": [],
   "source": [
    "\n",
    "# Convert the birthDate column to datetime \n",
    "players['birthDate'] = pd.to_datetime(players['birthDate'], errors='coerce')\n"
   ]
  },
  {
   "cell_type": "code",
   "execution_count": 241,
   "id": "76f90f55-e633-42df-8cc1-fbc43e668ad1",
   "metadata": {},
   "outputs": [
    {
     "name": "stdout",
     "output_type": "stream",
     "text": [
      "<class 'pandas.core.frame.DataFrame'>\n",
      "RangeIndex: 3603 entries, 0 to 3602\n",
      "Data columns (total 23 columns):\n",
      " #   Column                   Non-Null Count  Dtype         \n",
      "---  ------                   --------------  -----         \n",
      " 0   weight                   3603 non-null   int64         \n",
      " 1   firstName                3603 non-null   object        \n",
      " 2   lastName                 3603 non-null   object        \n",
      " 3   currentTeamId            3468 non-null   float64       \n",
      " 4   birthDate                3603 non-null   datetime64[ns]\n",
      " 5   height                   3603 non-null   int64         \n",
      " 6   wyId                     3603 non-null   int64         \n",
      " 7   foot                     3551 non-null   object        \n",
      " 8   shortName                3603 non-null   object        \n",
      " 9   currentNationalTeamId    1357 non-null   float64       \n",
      " 10  passportArea_name        3603 non-null   object        \n",
      " 11  passportArea_id          3603 non-null   object        \n",
      " 12  passportArea_alpha3code  3603 non-null   object        \n",
      " 13  passportArea_alpha2code  3603 non-null   object        \n",
      " 14  birthArea_name           3603 non-null   object        \n",
      " 15  birthArea_id             3603 non-null   object        \n",
      " 16  birthArea_alpha3code     3603 non-null   object        \n",
      " 17  birthArea_alpha2code     3603 non-null   object        \n",
      " 18  role_code2               3603 non-null   object        \n",
      " 19  role_code3               3603 non-null   object        \n",
      " 20  role_name                3603 non-null   object        \n",
      " 21  age                      3603 non-null   int64         \n",
      " 22  birthMonth               3603 non-null   int32         \n",
      "dtypes: datetime64[ns](1), float64(2), int32(1), int64(4), object(15)\n",
      "memory usage: 633.5+ KB\n"
     ]
    }
   ],
   "source": [
    "players.info()"
   ]
  },
  {
   "cell_type": "code",
   "execution_count": 112,
   "id": "c0ea7d1f-8430-4fa9-a2fc-8555e9f2f3c2",
   "metadata": {},
   "outputs": [],
   "source": [
    "#middleName is all null, so im just going to drop it now so it doesnt take up space on my screen\n",
    "players.drop(['middleName'],axis=1, inplace=True)"
   ]
  },
  {
   "cell_type": "markdown",
   "id": "7f253845-ee0f-4a81-b591-25eebe71921a",
   "metadata": {},
   "source": [
    "currentTeamId, foot and currentNationalTeamId has nulls but I will leave them there for now"
   ]
  },
  {
   "cell_type": "code",
   "execution_count": 156,
   "id": "546f09ea-a27c-452c-992f-787c65d28c71",
   "metadata": {},
   "outputs": [
    {
     "data": {
      "text/plain": [
       "foot\n",
       "right    2708\n",
       "left      838\n",
       "both        5\n",
       "Name: count, dtype: int64"
      ]
     },
     "execution_count": 156,
     "metadata": {},
     "output_type": "execute_result"
    }
   ],
   "source": [
    "players['foot'].value_counts()"
   ]
  },
  {
   "cell_type": "code",
   "execution_count": 113,
   "id": "8587e70f-ae54-4e0c-bbfa-e05e2cd376e1",
   "metadata": {},
   "outputs": [
    {
     "data": {
      "text/html": [
       "<div>\n",
       "<style scoped>\n",
       "    .dataframe tbody tr th:only-of-type {\n",
       "        vertical-align: middle;\n",
       "    }\n",
       "\n",
       "    .dataframe tbody tr th {\n",
       "        vertical-align: top;\n",
       "    }\n",
       "\n",
       "    .dataframe thead th {\n",
       "        text-align: right;\n",
       "    }\n",
       "</style>\n",
       "<table border=\"1\" class=\"dataframe\">\n",
       "  <thead>\n",
       "    <tr style=\"text-align: right;\">\n",
       "      <th></th>\n",
       "      <th>weight</th>\n",
       "      <th>currentTeamId</th>\n",
       "      <th>height</th>\n",
       "      <th>wyId</th>\n",
       "      <th>currentNationalTeamId</th>\n",
       "    </tr>\n",
       "  </thead>\n",
       "  <tbody>\n",
       "    <tr>\n",
       "      <th>count</th>\n",
       "      <td>3603.000000</td>\n",
       "      <td>3468.000000</td>\n",
       "      <td>3603.000000</td>\n",
       "      <td>3603.000000</td>\n",
       "      <td>1357.000000</td>\n",
       "    </tr>\n",
       "    <tr>\n",
       "      <th>mean</th>\n",
       "      <td>74.357757</td>\n",
       "      <td>4634.977797</td>\n",
       "      <td>178.494033</td>\n",
       "      <td>142407.543991</td>\n",
       "      <td>10435.886514</td>\n",
       "    </tr>\n",
       "    <tr>\n",
       "      <th>std</th>\n",
       "      <td>13.920990</td>\n",
       "      <td>6289.428109</td>\n",
       "      <td>27.172882</td>\n",
       "      <td>153687.689153</td>\n",
       "      <td>5732.018077</td>\n",
       "    </tr>\n",
       "    <tr>\n",
       "      <th>min</th>\n",
       "      <td>0.000000</td>\n",
       "      <td>8.000000</td>\n",
       "      <td>0.000000</td>\n",
       "      <td>12.000000</td>\n",
       "      <td>664.000000</td>\n",
       "    </tr>\n",
       "    <tr>\n",
       "      <th>25%</th>\n",
       "      <td>71.000000</td>\n",
       "      <td>1628.000000</td>\n",
       "      <td>178.000000</td>\n",
       "      <td>15981.000000</td>\n",
       "      <td>5629.000000</td>\n",
       "    </tr>\n",
       "    <tr>\n",
       "      <th>50%</th>\n",
       "      <td>76.000000</td>\n",
       "      <td>3162.000000</td>\n",
       "      <td>183.000000</td>\n",
       "      <td>70096.000000</td>\n",
       "      <td>10451.000000</td>\n",
       "    </tr>\n",
       "    <tr>\n",
       "      <th>75%</th>\n",
       "      <td>81.000000</td>\n",
       "      <td>3787.000000</td>\n",
       "      <td>187.000000</td>\n",
       "      <td>264883.500000</td>\n",
       "      <td>15594.000000</td>\n",
       "    </tr>\n",
       "    <tr>\n",
       "      <th>max</th>\n",
       "      <td>101.000000</td>\n",
       "      <td>63189.000000</td>\n",
       "      <td>203.000000</td>\n",
       "      <td>568583.000000</td>\n",
       "      <td>34101.000000</td>\n",
       "    </tr>\n",
       "  </tbody>\n",
       "</table>\n",
       "</div>"
      ],
      "text/plain": [
       "            weight  currentTeamId       height           wyId  \\\n",
       "count  3603.000000    3468.000000  3603.000000    3603.000000   \n",
       "mean     74.357757    4634.977797   178.494033  142407.543991   \n",
       "std      13.920990    6289.428109    27.172882  153687.689153   \n",
       "min       0.000000       8.000000     0.000000      12.000000   \n",
       "25%      71.000000    1628.000000   178.000000   15981.000000   \n",
       "50%      76.000000    3162.000000   183.000000   70096.000000   \n",
       "75%      81.000000    3787.000000   187.000000  264883.500000   \n",
       "max     101.000000   63189.000000   203.000000  568583.000000   \n",
       "\n",
       "       currentNationalTeamId  \n",
       "count            1357.000000  \n",
       "mean            10435.886514  \n",
       "std              5732.018077  \n",
       "min               664.000000  \n",
       "25%              5629.000000  \n",
       "50%             10451.000000  \n",
       "75%             15594.000000  \n",
       "max             34101.000000  "
      ]
     },
     "execution_count": 113,
     "metadata": {},
     "output_type": "execute_result"
    }
   ],
   "source": [
    "players.describe()"
   ]
  },
  {
   "cell_type": "markdown",
   "id": "1ba6001c-03fa-400e-b172-ddd703fa21f9",
   "metadata": {},
   "source": [
    "There are missing values where weight and height are zero."
   ]
  },
  {
   "cell_type": "code",
   "execution_count": 114,
   "id": "ae490315-dad0-4a8e-b88c-0bdd54947d4c",
   "metadata": {},
   "outputs": [
    {
     "data": {
      "text/plain": [
       "weight\n",
       "False    3510\n",
       "True       93\n",
       "Name: count, dtype: int64"
      ]
     },
     "execution_count": 114,
     "metadata": {},
     "output_type": "execute_result"
    }
   ],
   "source": [
    "(players['weight'] == 0).value_counts()"
   ]
  },
  {
   "cell_type": "code",
   "execution_count": 115,
   "id": "975ab7c9-ba84-4977-a2d2-e37e3db7bfbf",
   "metadata": {},
   "outputs": [
    {
     "data": {
      "text/plain": [
       "height\n",
       "False    3526\n",
       "True       77\n",
       "Name: count, dtype: int64"
      ]
     },
     "execution_count": 115,
     "metadata": {},
     "output_type": "execute_result"
    }
   ],
   "source": [
    "(players['height'] == 0).value_counts()"
   ]
  },
  {
   "cell_type": "code",
   "execution_count": 116,
   "id": "dc391381-cff3-436b-a214-537e4107bd1a",
   "metadata": {},
   "outputs": [
    {
     "data": {
      "text/plain": [
       "True"
      ]
     },
     "execution_count": 116,
     "metadata": {},
     "output_type": "execute_result"
    }
   ],
   "source": [
    "players[players['weight'] == 0].equals(players[(players['height'] == 0) | (players['weight'] == 0)])\n"
   ]
  },
  {
   "cell_type": "markdown",
   "id": "67c2050a-f26f-461d-81e2-205060eb06b0",
   "metadata": {},
   "source": [
    "I can see that there are 93 players with no weight data. And 77 players with no height data. At least i can confirm that the players with no height data are a subset of the players with no weight data. I will leave them in for now. Maybe the players wont be that important to my research and i can remove them. But maybe weight and height wont be that important. Maybe I can impute the data. Maybe there are some important players in that list and I can find their height and information online and hardcode in the values."
   ]
  },
  {
   "cell_type": "code",
   "execution_count": 154,
   "id": "82727212-ffe9-4907-951b-091ddbe4c507",
   "metadata": {},
   "outputs": [
    {
     "data": {
      "text/plain": [
       "(77, 21)"
      ]
     },
     "execution_count": 154,
     "metadata": {},
     "output_type": "execute_result"
    }
   ],
   "source": [
    "(players[players['height']==0]).shape"
   ]
  },
  {
   "cell_type": "code",
   "execution_count": 155,
   "id": "e0885e31-ea0e-4d3b-a25b-53993e361458",
   "metadata": {},
   "outputs": [
    {
     "data": {
      "text/plain": [
       "(93, 21)"
      ]
     },
     "execution_count": 155,
     "metadata": {},
     "output_type": "execute_result"
    }
   ],
   "source": [
    "(players[players['weight']==0]).shape"
   ]
  },
  {
   "cell_type": "code",
   "execution_count": null,
   "id": "98de395c-298b-4538-93d7-846dd420055d",
   "metadata": {},
   "outputs": [],
   "source": []
  },
  {
   "cell_type": "code",
   "execution_count": 119,
   "id": "d8a98bf6-2481-4ac3-b906-d70419bbf22f",
   "metadata": {},
   "outputs": [
    {
     "data": {
      "image/png": "[encoded data removed]",
      "text/plain": [
       "<Figure size 1000x600 with 1 Axes>"
      ]
     },
     "metadata": {},
     "output_type": "display_data"
    }
   ],
   "source": [
    "plt.figure(figsize=(10, 6))\n",
    "plt.hist(players[players['weight']!=0]['weight'], bins=30, color='skyblue', edgecolor='black')\n",
    "plt.title('Distribution of Player Weights')\n",
    "plt.xlabel('Weight (kg)')\n",
    "plt.ylabel('Frequency')\n",
    "plt.show()"
   ]
  },
  {
   "cell_type": "markdown",
   "id": "e690cc1c-6b50-4067-b4ab-b9d417db2ff2",
   "metadata": {},
   "source": [
    "values seem to be discrete. Which makes sense because weights fluctuate a fair amount, so rounding to the closes kilogram makes sense."
   ]
  },
  {
   "cell_type": "code",
   "execution_count": 120,
   "id": "d17edfe5-3ef8-41cd-93e9-816cd6213736",
   "metadata": {},
   "outputs": [
    {
     "data": {
      "text/plain": [
       "Series([], Name: weight, dtype: int64)"
      ]
     },
     "execution_count": 120,
     "metadata": {},
     "output_type": "execute_result"
    }
   ],
   "source": [
    "#only whole numbers\n",
    "players[(players['weight']>73)&(players['weight']<74)]['weight']"
   ]
  },
  {
   "cell_type": "markdown",
   "id": "7ad5487a-daac-4f65-9b5a-1b6620b9e7d5",
   "metadata": {},
   "source": [
    "The histogram above looks a bit jagged. But that is just because the values are not exactly continuous. They are all whole numbers. So I can use a violin plot that estimates the probability density using a combination of KDE (kernel density estimation) and box plot. The plot belows confirms that. "
   ]
  },
  {
   "cell_type": "code",
   "execution_count": 121,
   "id": "94e2c2b2-fe30-4876-bd28-d6e89ada9e7b",
   "metadata": {},
   "outputs": [
    {
     "data": {
      "image/png": "[encoded data removed]",
      "text/plain": [
       "<Figure size 1000x600 with 1 Axes>"
      ]
     },
     "metadata": {},
     "output_type": "display_data"
    }
   ],
   "source": [
    "plt.figure(figsize=(10, 6))\n",
    "sns.violinplot(x=players[players['weight']!=0]['weight'], color='lightblue')\n",
    "plt.title('Violin Plot of Player Weights')\n",
    "plt.xlabel('Weight (kg)')\n",
    "plt.show()"
   ]
  },
  {
   "cell_type": "code",
   "execution_count": 122,
   "id": "8dc8bb60-06cd-4008-88e9-7157a07def3c",
   "metadata": {},
   "outputs": [
    {
     "data": {
      "image/png": "[encoded data removed]",
      "text/plain": [
       "<Figure size 1000x600 with 1 Axes>"
      ]
     },
     "metadata": {},
     "output_type": "display_data"
    }
   ],
   "source": [
    "plt.figure(figsize=(10, 6))\n",
    "plt.hist(players[players['height']!=0]['height'], bins=30, color='skyblue', edgecolor='black')\n",
    "plt.title('Distribution of Player Heights')\n",
    "plt.xlabel('Height (cm)')\n",
    "plt.ylabel('Frequency')\n",
    "plt.show()"
   ]
  },
  {
   "cell_type": "code",
   "execution_count": 123,
   "id": "5fc283b2-960b-4ce6-b946-54d06329e8e1",
   "metadata": {},
   "outputs": [
    {
     "data": {
      "image/png": "[encoded data removed]",
      "text/plain": [
       "<Figure size 1000x600 with 1 Axes>"
      ]
     },
     "metadata": {},
     "output_type": "display_data"
    }
   ],
   "source": [
    "plt.figure(figsize=(10, 6))\n",
    "sns.violinplot(x=players[players['height']!=0]['height'], color='lightblue')\n",
    "plt.title('Violin Plot of Player Heights')\n",
    "plt.xlabel('Height (cm)')\n",
    "plt.show()"
   ]
  },
  {
   "cell_type": "markdown",
   "id": "202d0fc0-c725-477d-a418-89828b69007e",
   "metadata": {},
   "source": [
    "Similar the weights, the heights are also rounded. but the violin plot shows a plot that makes sense with no unrealistic outliers. I find it interesting that it seems skewed to the right. A lot of players are around 185cm. I wonder if it is because defensive players and goalkeepers are often quite tall, so that skew is due to that."
   ]
  },
  {
   "cell_type": "code",
   "execution_count": 124,
   "id": "09fc09d4-2bbb-4746-87fb-546b736f4fd5",
   "metadata": {},
   "outputs": [
    {
     "name": "stdout",
     "output_type": "stream",
     "text": [
      "Regression Line Formula: weight = 0.82 * height + -73.31\n"
     ]
    }
   ],
   "source": [
    "#adding a regression line to check that weight and height make sense.\n",
    "slope, intercept, r_value, p_value, std_err = linregress(players[players['weight']!=0]['height'], players[players['weight']!=0]['weight'])\n",
    "\n",
    "# Formula for the regression line: weight = slope * height + intercept\n",
    "print(f\"Regression Line Formula: weight = {slope:.2f} * height + {intercept:.2f}\")\n"
   ]
  },
  {
   "cell_type": "code",
   "execution_count": 125,
   "id": "2a9f22e9-e1ed-4ef6-998c-8bfacab8cfe8",
   "metadata": {},
   "outputs": [
    {
     "data": {
      "image/png": "[encoded data removed]",
      "text/plain": [
       "<Figure size 1000x600 with 1 Axes>"
      ]
     },
     "metadata": {},
     "output_type": "display_data"
    }
   ],
   "source": [
    "\n",
    "plt.figure(figsize=(10, 6))\n",
    "plt.scatter(players[players['weight']!=0]['height'], players[players['weight']!=0]['weight'], color='skyblue', edgecolor='black', alpha=0.7)\n",
    "plt.title('Weight vs. Height of Players')\n",
    "plt.xlabel('Height (cm)')\n",
    "plt.ylabel('Weight (kg)')\n",
    "\n",
    "# Generate values for the regression line\n",
    "x_values = np.array(players[players['weight']!=0]['height'])\n",
    "y_values = slope * x_values + intercept\n",
    "\n",
    "# Plot the regression line in red\n",
    "plt.plot(x_values, y_values, color='red', label=f\"y = {slope:.2f} * x + {intercept:.2f}\")\n",
    "plt.legend()\n",
    "plt.show()"
   ]
  },
  {
   "cell_type": "code",
   "execution_count": 126,
   "id": "0a4c277c-01ba-4e3c-a1ae-41772734eed5",
   "metadata": {},
   "outputs": [
    {
     "data": {
      "text/html": [
       "<div>\n",
       "<style scoped>\n",
       "    .dataframe tbody tr th:only-of-type {\n",
       "        vertical-align: middle;\n",
       "    }\n",
       "\n",
       "    .dataframe tbody tr th {\n",
       "        vertical-align: top;\n",
       "    }\n",
       "\n",
       "    .dataframe thead th {\n",
       "        text-align: right;\n",
       "    }\n",
       "</style>\n",
       "<table border=\"1\" class=\"dataframe\">\n",
       "  <thead>\n",
       "    <tr style=\"text-align: right;\">\n",
       "      <th></th>\n",
       "      <th>passportArea</th>\n",
       "      <th>weight</th>\n",
       "      <th>firstName</th>\n",
       "      <th>lastName</th>\n",
       "      <th>currentTeamId</th>\n",
       "      <th>birthDate</th>\n",
       "      <th>height</th>\n",
       "      <th>role</th>\n",
       "      <th>birthArea</th>\n",
       "      <th>wyId</th>\n",
       "      <th>foot</th>\n",
       "      <th>shortName</th>\n",
       "      <th>currentNationalTeamId</th>\n",
       "    </tr>\n",
       "  </thead>\n",
       "  <tbody>\n",
       "    <tr>\n",
       "      <th>2249</th>\n",
       "      <td>{'name': 'Germany', 'id': '276', 'alpha3code':...</td>\n",
       "      <td>0</td>\n",
       "      <td>Florian</td>\n",
       "      <td>Mayer</td>\n",
       "      <td>2454.0</td>\n",
       "      <td>1998-03-04</td>\n",
       "      <td>190</td>\n",
       "      <td>{'code2': 'DF', 'code3': 'DEF', 'name': 'Defen...</td>\n",
       "      <td>{'name': 'Germany', 'id': '276', 'alpha3code':...</td>\n",
       "      <td>391551</td>\n",
       "      <td>right</td>\n",
       "      <td>F. Mayer</td>\n",
       "      <td>NaN</td>\n",
       "    </tr>\n",
       "    <tr>\n",
       "      <th>3191</th>\n",
       "      <td>{'name': 'England', 'id': 0, 'alpha3code': 'XE...</td>\n",
       "      <td>64</td>\n",
       "      <td>Rekeem</td>\n",
       "      <td>Harper</td>\n",
       "      <td>1627.0</td>\n",
       "      <td>2000-03-08</td>\n",
       "      <td>188</td>\n",
       "      <td>{'code2': 'MD', 'code3': 'MID', 'name': 'Midfi...</td>\n",
       "      <td>{'name': 'England', 'id': 0, 'alpha3code': 'XE...</td>\n",
       "      <td>447254</td>\n",
       "      <td>right</td>\n",
       "      <td>R. Harper</td>\n",
       "      <td>2417.0</td>\n",
       "    </tr>\n",
       "  </tbody>\n",
       "</table>\n",
       "</div>"
      ],
      "text/plain": [
       "                                           passportArea  weight firstName  \\\n",
       "2249  {'name': 'Germany', 'id': '276', 'alpha3code':...       0   Florian   \n",
       "3191  {'name': 'England', 'id': 0, 'alpha3code': 'XE...      64    Rekeem   \n",
       "\n",
       "     lastName  currentTeamId   birthDate  height  \\\n",
       "2249    Mayer         2454.0  1998-03-04     190   \n",
       "3191   Harper         1627.0  2000-03-08     188   \n",
       "\n",
       "                                                   role  \\\n",
       "2249  {'code2': 'DF', 'code3': 'DEF', 'name': 'Defen...   \n",
       "3191  {'code2': 'MD', 'code3': 'MID', 'name': 'Midfi...   \n",
       "\n",
       "                                              birthArea    wyId   foot  \\\n",
       "2249  {'name': 'Germany', 'id': '276', 'alpha3code':...  391551  right   \n",
       "3191  {'name': 'England', 'id': 0, 'alpha3code': 'XE...  447254  right   \n",
       "\n",
       "      shortName  currentNationalTeamId  \n",
       "2249   F. Mayer                    NaN  \n",
       "3191  R. Harper                 2417.0  "
      ]
     },
     "execution_count": 126,
     "metadata": {},
     "output_type": "execute_result"
    }
   ],
   "source": [
    "players[(players['height']>187)&(players['weight']<65)]"
   ]
  },
  {
   "cell_type": "markdown",
   "id": "a6c10429-67d9-4ac1-a3aa-8dee6fb1d672",
   "metadata": {},
   "source": [
    "I checked Rekeem Harper's stats online because he looked a little bit of an extreme height to weight ratio compared to the rest of the data set. His height was confirmed, and i guess it is possible he was much younger at the time (this data refers to the 2017/2018 season so he would have been only 17 or 18 years old."
   ]
  },
  {
   "cell_type": "code",
   "execution_count": null,
   "id": "9d1c21ab-fb0d-4c5f-982a-5ccd35862510",
   "metadata": {},
   "outputs": [],
   "source": []
  },
  {
   "cell_type": "code",
   "execution_count": 127,
   "id": "f2d5e04e-3bf8-4305-b227-529e021b9784",
   "metadata": {},
   "outputs": [
    {
     "data": {
      "text/html": [
       "<div>\n",
       "<style scoped>\n",
       "    .dataframe tbody tr th:only-of-type {\n",
       "        vertical-align: middle;\n",
       "    }\n",
       "\n",
       "    .dataframe tbody tr th {\n",
       "        vertical-align: top;\n",
       "    }\n",
       "\n",
       "    .dataframe thead th {\n",
       "        text-align: right;\n",
       "    }\n",
       "</style>\n",
       "<table border=\"1\" class=\"dataframe\">\n",
       "  <thead>\n",
       "    <tr style=\"text-align: right;\">\n",
       "      <th></th>\n",
       "      <th>passportArea</th>\n",
       "      <th>weight</th>\n",
       "      <th>firstName</th>\n",
       "      <th>lastName</th>\n",
       "      <th>currentTeamId</th>\n",
       "      <th>birthDate</th>\n",
       "      <th>height</th>\n",
       "      <th>role</th>\n",
       "      <th>birthArea</th>\n",
       "      <th>wyId</th>\n",
       "      <th>foot</th>\n",
       "      <th>shortName</th>\n",
       "      <th>currentNationalTeamId</th>\n",
       "    </tr>\n",
       "  </thead>\n",
       "  <tbody>\n",
       "    <tr>\n",
       "      <th>0</th>\n",
       "      <td>{'name': 'Turkey', 'id': '792', 'alpha3code': ...</td>\n",
       "      <td>78</td>\n",
       "      <td>Harun</td>\n",
       "      <td>Tekin</td>\n",
       "      <td>4502.0</td>\n",
       "      <td>1989-06-17</td>\n",
       "      <td>187</td>\n",
       "      <td>{'code2': 'GK', 'code3': 'GKP', 'name': 'Goalk...</td>\n",
       "      <td>{'name': 'Turkey', 'id': '792', 'alpha3code': ...</td>\n",
       "      <td>32777</td>\n",
       "      <td>right</td>\n",
       "      <td>H. Tekin</td>\n",
       "      <td>4687.0</td>\n",
       "    </tr>\n",
       "    <tr>\n",
       "      <th>1</th>\n",
       "      <td>{'name': 'Senegal', 'id': '686', 'alpha3code':...</td>\n",
       "      <td>73</td>\n",
       "      <td>Malang</td>\n",
       "      <td>Sarr</td>\n",
       "      <td>3775.0</td>\n",
       "      <td>1999-01-23</td>\n",
       "      <td>182</td>\n",
       "      <td>{'code2': 'DF', 'code3': 'DEF', 'name': 'Defen...</td>\n",
       "      <td>{'name': 'France', 'id': '250', 'alpha3code': ...</td>\n",
       "      <td>393228</td>\n",
       "      <td>left</td>\n",
       "      <td>M. Sarr</td>\n",
       "      <td>4423.0</td>\n",
       "    </tr>\n",
       "    <tr>\n",
       "      <th>2</th>\n",
       "      <td>{'name': 'France', 'id': '250', 'alpha3code': ...</td>\n",
       "      <td>72</td>\n",
       "      <td>Over</td>\n",
       "      <td>Mandanda</td>\n",
       "      <td>3772.0</td>\n",
       "      <td>1998-10-26</td>\n",
       "      <td>176</td>\n",
       "      <td>{'code2': 'GK', 'code3': 'GKP', 'name': 'Goalk...</td>\n",
       "      <td>{'name': 'France', 'id': '250', 'alpha3code': ...</td>\n",
       "      <td>393230</td>\n",
       "      <td>NaN</td>\n",
       "      <td>O. Mandanda</td>\n",
       "      <td>NaN</td>\n",
       "    </tr>\n",
       "    <tr>\n",
       "      <th>3</th>\n",
       "      <td>{'name': 'Senegal', 'id': '686', 'alpha3code':...</td>\n",
       "      <td>82</td>\n",
       "      <td>Alfred John Momar</td>\n",
       "      <td>N'Diaye</td>\n",
       "      <td>683.0</td>\n",
       "      <td>1990-03-06</td>\n",
       "      <td>187</td>\n",
       "      <td>{'code2': 'MD', 'code3': 'MID', 'name': 'Midfi...</td>\n",
       "      <td>{'name': 'France', 'id': '250', 'alpha3code': ...</td>\n",
       "      <td>32793</td>\n",
       "      <td>right</td>\n",
       "      <td>A. N'Diaye</td>\n",
       "      <td>19314.0</td>\n",
       "    </tr>\n",
       "    <tr>\n",
       "      <th>4</th>\n",
       "      <td>{'name': 'France', 'id': '250', 'alpha3code': ...</td>\n",
       "      <td>84</td>\n",
       "      <td>Ibrahima</td>\n",
       "      <td>Konat\\u00e9</td>\n",
       "      <td>2975.0</td>\n",
       "      <td>1999-05-25</td>\n",
       "      <td>192</td>\n",
       "      <td>{'code2': 'DF', 'code3': 'DEF', 'name': 'Defen...</td>\n",
       "      <td>{'name': 'France', 'id': '250', 'alpha3code': ...</td>\n",
       "      <td>393247</td>\n",
       "      <td>right</td>\n",
       "      <td>I. Konat\\u00e9</td>\n",
       "      <td>NaN</td>\n",
       "    </tr>\n",
       "  </tbody>\n",
       "</table>\n",
       "</div>"
      ],
      "text/plain": [
       "                                        passportArea  weight  \\\n",
       "0  {'name': 'Turkey', 'id': '792', 'alpha3code': ...      78   \n",
       "1  {'name': 'Senegal', 'id': '686', 'alpha3code':...      73   \n",
       "2  {'name': 'France', 'id': '250', 'alpha3code': ...      72   \n",
       "3  {'name': 'Senegal', 'id': '686', 'alpha3code':...      82   \n",
       "4  {'name': 'France', 'id': '250', 'alpha3code': ...      84   \n",
       "\n",
       "           firstName     lastName  currentTeamId   birthDate  height  \\\n",
       "0              Harun        Tekin         4502.0  1989-06-17     187   \n",
       "1             Malang         Sarr         3775.0  1999-01-23     182   \n",
       "2               Over     Mandanda         3772.0  1998-10-26     176   \n",
       "3  Alfred John Momar      N'Diaye          683.0  1990-03-06     187   \n",
       "4           Ibrahima  Konat\\u00e9         2975.0  1999-05-25     192   \n",
       "\n",
       "                                                role  \\\n",
       "0  {'code2': 'GK', 'code3': 'GKP', 'name': 'Goalk...   \n",
       "1  {'code2': 'DF', 'code3': 'DEF', 'name': 'Defen...   \n",
       "2  {'code2': 'GK', 'code3': 'GKP', 'name': 'Goalk...   \n",
       "3  {'code2': 'MD', 'code3': 'MID', 'name': 'Midfi...   \n",
       "4  {'code2': 'DF', 'code3': 'DEF', 'name': 'Defen...   \n",
       "\n",
       "                                           birthArea    wyId   foot  \\\n",
       "0  {'name': 'Turkey', 'id': '792', 'alpha3code': ...   32777  right   \n",
       "1  {'name': 'France', 'id': '250', 'alpha3code': ...  393228   left   \n",
       "2  {'name': 'France', 'id': '250', 'alpha3code': ...  393230    NaN   \n",
       "3  {'name': 'France', 'id': '250', 'alpha3code': ...   32793  right   \n",
       "4  {'name': 'France', 'id': '250', 'alpha3code': ...  393247  right   \n",
       "\n",
       "        shortName  currentNationalTeamId  \n",
       "0        H. Tekin                 4687.0  \n",
       "1         M. Sarr                 4423.0  \n",
       "2     O. Mandanda                    NaN  \n",
       "3      A. N'Diaye                19314.0  \n",
       "4  I. Konat\\u00e9                    NaN  "
      ]
     },
     "execution_count": 127,
     "metadata": {},
     "output_type": "execute_result"
    }
   ],
   "source": [
    "players.head()"
   ]
  },
  {
   "cell_type": "markdown",
   "id": "ff168a84-289a-48e8-a488-80e8a3c90283",
   "metadata": {},
   "source": [
    "Need to extract the info from the passportArea, birthArea and role dictionary columns"
   ]
  },
  {
   "cell_type": "code",
   "execution_count": 128,
   "id": "e5a0ec6d-c983-48ea-b07a-c5d5008ae3e9",
   "metadata": {},
   "outputs": [
    {
     "data": {
      "text/plain": [
       "\"{'name': 'Turkey', 'id': '792', 'alpha3code': 'TUR', 'alpha2code': 'TR'}\""
      ]
     },
     "execution_count": 128,
     "metadata": {},
     "output_type": "execute_result"
    }
   ],
   "source": [
    "players['passportArea'][0]"
   ]
  },
  {
   "cell_type": "code",
   "execution_count": 129,
   "id": "04f02260-5831-461c-bbbb-a095d483ceca",
   "metadata": {},
   "outputs": [],
   "source": [
    "import ast\n",
    "\n",
    "def convert_to_dict(value):\n",
    "    if isinstance(value, str):\n",
    "        try:\n",
    "            return ast.literal_eval(value)  # Safely evaluate the string to a dict\n",
    "        except (ValueError, SyntaxError):\n",
    "            return {}  # Return an empty dict if conversion fails\n",
    "    elif isinstance(value, dict):\n",
    "        return value  # Already a dict\n",
    "    return {}  # Return an empty dict for any other type\n",
    "\n"
   ]
  },
  {
   "cell_type": "code",
   "execution_count": 130,
   "id": "1cac402c-613d-4959-8c7c-0c7a25b43a3d",
   "metadata": {},
   "outputs": [],
   "source": [
    "# Apply the conversion function to the passportArea column\n",
    "players['passportArea'] = players['passportArea'].apply(convert_to_dict)"
   ]
  },
  {
   "cell_type": "code",
   "execution_count": 131,
   "id": "ebbc57e2-8cf5-4924-897a-52148d976845",
   "metadata": {},
   "outputs": [],
   "source": [
    "# Use pd.json_normalize to expand the passportArea column\n",
    "passport_area_expanded = pd.json_normalize(players['passportArea'])\n",
    "\n",
    "# Rename columns to avoid conflicts (optional)\n",
    "passport_area_expanded.columns = [f\"passportArea_{col}\" for col in passport_area_expanded.columns]\n",
    "\n",
    "# Concatenate the expanded columns back with the original DataFrame\n",
    "players = pd.concat([players, passport_area_expanded], axis=1)\n",
    "\n",
    "# Drop the original 'passportArea' column if you no longer need it\n",
    "players = players.drop(columns=['passportArea'])"
   ]
  },
  {
   "cell_type": "code",
   "execution_count": null,
   "id": "13f098a7-1298-4d71-a000-281b6cd589d9",
   "metadata": {},
   "outputs": [],
   "source": []
  },
  {
   "cell_type": "code",
   "execution_count": 136,
   "id": "727473c7-18ec-4b12-ad49-acbe0fb01573",
   "metadata": {},
   "outputs": [
    {
     "data": {
      "text/plain": [
       "{'name': 'Turkey', 'id': '792', 'alpha3code': 'TUR', 'alpha2code': 'TR'}"
      ]
     },
     "execution_count": 136,
     "metadata": {},
     "output_type": "execute_result"
    }
   ],
   "source": [
    "players['birthArea'][0]"
   ]
  },
  {
   "cell_type": "code",
   "execution_count": 137,
   "id": "70b1f3b6-e806-405a-8b1e-44be6321dca4",
   "metadata": {},
   "outputs": [],
   "source": [
    "# Apply the conversion function to the passportArea column\n",
    "players['birthArea'] = players['birthArea'].apply(convert_to_dict)"
   ]
  },
  {
   "cell_type": "code",
   "execution_count": 139,
   "id": "d923a3ff-65d7-4bc1-9071-5f8efb8e3d73",
   "metadata": {
    "scrolled": true
   },
   "outputs": [
    {
     "data": {
      "text/html": [
       "<div>\n",
       "<style scoped>\n",
       "    .dataframe tbody tr th:only-of-type {\n",
       "        vertical-align: middle;\n",
       "    }\n",
       "\n",
       "    .dataframe tbody tr th {\n",
       "        vertical-align: top;\n",
       "    }\n",
       "\n",
       "    .dataframe thead th {\n",
       "        text-align: right;\n",
       "    }\n",
       "</style>\n",
       "<table border=\"1\" class=\"dataframe\">\n",
       "  <thead>\n",
       "    <tr style=\"text-align: right;\">\n",
       "      <th></th>\n",
       "      <th>weight</th>\n",
       "      <th>firstName</th>\n",
       "      <th>lastName</th>\n",
       "      <th>currentTeamId</th>\n",
       "      <th>birthDate</th>\n",
       "      <th>height</th>\n",
       "      <th>role</th>\n",
       "      <th>wyId</th>\n",
       "      <th>foot</th>\n",
       "      <th>shortName</th>\n",
       "      <th>currentNationalTeamId</th>\n",
       "      <th>passportArea_name</th>\n",
       "      <th>passportArea_id</th>\n",
       "      <th>passportArea_alpha3code</th>\n",
       "      <th>passportArea_alpha2code</th>\n",
       "      <th>birthArea_name</th>\n",
       "      <th>birthArea_id</th>\n",
       "      <th>birthArea_alpha3code</th>\n",
       "      <th>birthArea_alpha2code</th>\n",
       "    </tr>\n",
       "  </thead>\n",
       "  <tbody>\n",
       "    <tr>\n",
       "      <th>0</th>\n",
       "      <td>78</td>\n",
       "      <td>Harun</td>\n",
       "      <td>Tekin</td>\n",
       "      <td>4502.0</td>\n",
       "      <td>1989-06-17</td>\n",
       "      <td>187</td>\n",
       "      <td>{'code2': 'GK', 'code3': 'GKP', 'name': 'Goalk...</td>\n",
       "      <td>32777</td>\n",
       "      <td>right</td>\n",
       "      <td>H. Tekin</td>\n",
       "      <td>4687.0</td>\n",
       "      <td>Turkey</td>\n",
       "      <td>792</td>\n",
       "      <td>TUR</td>\n",
       "      <td>TR</td>\n",
       "      <td>Turkey</td>\n",
       "      <td>792</td>\n",
       "      <td>TUR</td>\n",
       "      <td>TR</td>\n",
       "    </tr>\n",
       "    <tr>\n",
       "      <th>1</th>\n",
       "      <td>73</td>\n",
       "      <td>Malang</td>\n",
       "      <td>Sarr</td>\n",
       "      <td>3775.0</td>\n",
       "      <td>1999-01-23</td>\n",
       "      <td>182</td>\n",
       "      <td>{'code2': 'DF', 'code3': 'DEF', 'name': 'Defen...</td>\n",
       "      <td>393228</td>\n",
       "      <td>left</td>\n",
       "      <td>M. Sarr</td>\n",
       "      <td>4423.0</td>\n",
       "      <td>Senegal</td>\n",
       "      <td>686</td>\n",
       "      <td>SEN</td>\n",
       "      <td>SN</td>\n",
       "      <td>France</td>\n",
       "      <td>250</td>\n",
       "      <td>FRA</td>\n",
       "      <td>FR</td>\n",
       "    </tr>\n",
       "    <tr>\n",
       "      <th>2</th>\n",
       "      <td>72</td>\n",
       "      <td>Over</td>\n",
       "      <td>Mandanda</td>\n",
       "      <td>3772.0</td>\n",
       "      <td>1998-10-26</td>\n",
       "      <td>176</td>\n",
       "      <td>{'code2': 'GK', 'code3': 'GKP', 'name': 'Goalk...</td>\n",
       "      <td>393230</td>\n",
       "      <td>NaN</td>\n",
       "      <td>O. Mandanda</td>\n",
       "      <td>NaN</td>\n",
       "      <td>France</td>\n",
       "      <td>250</td>\n",
       "      <td>FRA</td>\n",
       "      <td>FR</td>\n",
       "      <td>France</td>\n",
       "      <td>250</td>\n",
       "      <td>FRA</td>\n",
       "      <td>FR</td>\n",
       "    </tr>\n",
       "    <tr>\n",
       "      <th>3</th>\n",
       "      <td>82</td>\n",
       "      <td>Alfred John Momar</td>\n",
       "      <td>N'Diaye</td>\n",
       "      <td>683.0</td>\n",
       "      <td>1990-03-06</td>\n",
       "      <td>187</td>\n",
       "      <td>{'code2': 'MD', 'code3': 'MID', 'name': 'Midfi...</td>\n",
       "      <td>32793</td>\n",
       "      <td>right</td>\n",
       "      <td>A. N'Diaye</td>\n",
       "      <td>19314.0</td>\n",
       "      <td>Senegal</td>\n",
       "      <td>686</td>\n",
       "      <td>SEN</td>\n",
       "      <td>SN</td>\n",
       "      <td>France</td>\n",
       "      <td>250</td>\n",
       "      <td>FRA</td>\n",
       "      <td>FR</td>\n",
       "    </tr>\n",
       "    <tr>\n",
       "      <th>4</th>\n",
       "      <td>84</td>\n",
       "      <td>Ibrahima</td>\n",
       "      <td>Konat\\u00e9</td>\n",
       "      <td>2975.0</td>\n",
       "      <td>1999-05-25</td>\n",
       "      <td>192</td>\n",
       "      <td>{'code2': 'DF', 'code3': 'DEF', 'name': 'Defen...</td>\n",
       "      <td>393247</td>\n",
       "      <td>right</td>\n",
       "      <td>I. Konat\\u00e9</td>\n",
       "      <td>NaN</td>\n",
       "      <td>France</td>\n",
       "      <td>250</td>\n",
       "      <td>FRA</td>\n",
       "      <td>FR</td>\n",
       "      <td>France</td>\n",
       "      <td>250</td>\n",
       "      <td>FRA</td>\n",
       "      <td>FR</td>\n",
       "    </tr>\n",
       "  </tbody>\n",
       "</table>\n",
       "</div>"
      ],
      "text/plain": [
       "   weight          firstName     lastName  currentTeamId   birthDate  height  \\\n",
       "0      78              Harun        Tekin         4502.0  1989-06-17     187   \n",
       "1      73             Malang         Sarr         3775.0  1999-01-23     182   \n",
       "2      72               Over     Mandanda         3772.0  1998-10-26     176   \n",
       "3      82  Alfred John Momar      N'Diaye          683.0  1990-03-06     187   \n",
       "4      84           Ibrahima  Konat\\u00e9         2975.0  1999-05-25     192   \n",
       "\n",
       "                                                role    wyId   foot  \\\n",
       "0  {'code2': 'GK', 'code3': 'GKP', 'name': 'Goalk...   32777  right   \n",
       "1  {'code2': 'DF', 'code3': 'DEF', 'name': 'Defen...  393228   left   \n",
       "2  {'code2': 'GK', 'code3': 'GKP', 'name': 'Goalk...  393230    NaN   \n",
       "3  {'code2': 'MD', 'code3': 'MID', 'name': 'Midfi...   32793  right   \n",
       "4  {'code2': 'DF', 'code3': 'DEF', 'name': 'Defen...  393247  right   \n",
       "\n",
       "        shortName  currentNationalTeamId passportArea_name passportArea_id  \\\n",
       "0        H. Tekin                 4687.0            Turkey             792   \n",
       "1         M. Sarr                 4423.0           Senegal             686   \n",
       "2     O. Mandanda                    NaN            France             250   \n",
       "3      A. N'Diaye                19314.0           Senegal             686   \n",
       "4  I. Konat\\u00e9                    NaN            France             250   \n",
       "\n",
       "  passportArea_alpha3code passportArea_alpha2code birthArea_name birthArea_id  \\\n",
       "0                     TUR                      TR         Turkey          792   \n",
       "1                     SEN                      SN         France          250   \n",
       "2                     FRA                      FR         France          250   \n",
       "3                     SEN                      SN         France          250   \n",
       "4                     FRA                      FR         France          250   \n",
       "\n",
       "  birthArea_alpha3code birthArea_alpha2code  \n",
       "0                  TUR                   TR  \n",
       "1                  FRA                   FR  \n",
       "2                  FRA                   FR  \n",
       "3                  FRA                   FR  \n",
       "4                  FRA                   FR  "
      ]
     },
     "execution_count": 139,
     "metadata": {},
     "output_type": "execute_result"
    }
   ],
   "source": [
    "# Expand the 'passportArea' column\n",
    "birth_area_expanded = pd.json_normalize(players['birthArea'])\n",
    "\n",
    "# Rename columns to avoid conflicts (optional)\n",
    "birth_area_expanded.columns = [f\"birthArea_{col}\" for col in birth_area_expanded.columns]\n",
    "\n",
    "# Concatenate the expanded columns back with the original DataFrame\n",
    "players = pd.concat([players, birth_area_expanded], axis=1)\n",
    "\n",
    "# Drop the original 'passportArea' column if you no longer need it\n",
    "players = players.drop(columns=['birthArea'])\n",
    "\n"
   ]
  },
  {
   "cell_type": "code",
   "execution_count": 84,
   "id": "681fa338-c780-4222-8890-02277552ab93",
   "metadata": {},
   "outputs": [
    {
     "data": {
      "text/plain": [
       "\"{'code2': 'GK', 'code3': 'GKP', 'name': 'Goalkeeper'}\""
      ]
     },
     "execution_count": 84,
     "metadata": {},
     "output_type": "execute_result"
    }
   ],
   "source": [
    "players['role'][0]"
   ]
  },
  {
   "cell_type": "code",
   "execution_count": 141,
   "id": "8a4b317e-2822-411f-943b-e6c9120c197b",
   "metadata": {},
   "outputs": [],
   "source": [
    "# Apply the conversion function to the passportArea column\n",
    "players['role'] = players['role'].apply(convert_to_dict)"
   ]
  },
  {
   "cell_type": "code",
   "execution_count": 142,
   "id": "5358f0b5-f169-43c4-bb61-44f51bc92339",
   "metadata": {},
   "outputs": [],
   "source": [
    "# Expand the 'passportArea' column\n",
    "role_expanded = pd.json_normalize(players['role'])\n",
    "\n",
    "# Rename columns to avoid conflicts (optional)\n",
    "role_expanded.columns = [f\"role_{col}\" for col in role_expanded.columns]\n",
    "\n",
    "# Concatenate the expanded columns back with the original DataFrame\n",
    "players = pd.concat([players, role_expanded], axis=1)\n",
    "\n",
    "# Drop the original 'passportArea' column if you no longer need it\n",
    "players = players.drop(columns=['role'])"
   ]
  },
  {
   "cell_type": "code",
   "execution_count": 143,
   "id": "15b86ff6-dae7-4983-9397-83e5b9a42d6c",
   "metadata": {},
   "outputs": [
    {
     "data": {
      "text/html": [
       "<div>\n",
       "<style scoped>\n",
       "    .dataframe tbody tr th:only-of-type {\n",
       "        vertical-align: middle;\n",
       "    }\n",
       "\n",
       "    .dataframe tbody tr th {\n",
       "        vertical-align: top;\n",
       "    }\n",
       "\n",
       "    .dataframe thead th {\n",
       "        text-align: right;\n",
       "    }\n",
       "</style>\n",
       "<table border=\"1\" class=\"dataframe\">\n",
       "  <thead>\n",
       "    <tr style=\"text-align: right;\">\n",
       "      <th></th>\n",
       "      <th>weight</th>\n",
       "      <th>firstName</th>\n",
       "      <th>lastName</th>\n",
       "      <th>currentTeamId</th>\n",
       "      <th>birthDate</th>\n",
       "      <th>height</th>\n",
       "      <th>wyId</th>\n",
       "      <th>foot</th>\n",
       "      <th>shortName</th>\n",
       "      <th>currentNationalTeamId</th>\n",
       "      <th>...</th>\n",
       "      <th>passportArea_id</th>\n",
       "      <th>passportArea_alpha3code</th>\n",
       "      <th>passportArea_alpha2code</th>\n",
       "      <th>birthArea_name</th>\n",
       "      <th>birthArea_id</th>\n",
       "      <th>birthArea_alpha3code</th>\n",
       "      <th>birthArea_alpha2code</th>\n",
       "      <th>role_code2</th>\n",
       "      <th>role_code3</th>\n",
       "      <th>role_name</th>\n",
       "    </tr>\n",
       "  </thead>\n",
       "  <tbody>\n",
       "    <tr>\n",
       "      <th>0</th>\n",
       "      <td>78</td>\n",
       "      <td>Harun</td>\n",
       "      <td>Tekin</td>\n",
       "      <td>4502.0</td>\n",
       "      <td>1989-06-17</td>\n",
       "      <td>187</td>\n",
       "      <td>32777</td>\n",
       "      <td>right</td>\n",
       "      <td>H. Tekin</td>\n",
       "      <td>4687.0</td>\n",
       "      <td>...</td>\n",
       "      <td>792</td>\n",
       "      <td>TUR</td>\n",
       "      <td>TR</td>\n",
       "      <td>Turkey</td>\n",
       "      <td>792</td>\n",
       "      <td>TUR</td>\n",
       "      <td>TR</td>\n",
       "      <td>GK</td>\n",
       "      <td>GKP</td>\n",
       "      <td>Goalkeeper</td>\n",
       "    </tr>\n",
       "    <tr>\n",
       "      <th>1</th>\n",
       "      <td>73</td>\n",
       "      <td>Malang</td>\n",
       "      <td>Sarr</td>\n",
       "      <td>3775.0</td>\n",
       "      <td>1999-01-23</td>\n",
       "      <td>182</td>\n",
       "      <td>393228</td>\n",
       "      <td>left</td>\n",
       "      <td>M. Sarr</td>\n",
       "      <td>4423.0</td>\n",
       "      <td>...</td>\n",
       "      <td>686</td>\n",
       "      <td>SEN</td>\n",
       "      <td>SN</td>\n",
       "      <td>France</td>\n",
       "      <td>250</td>\n",
       "      <td>FRA</td>\n",
       "      <td>FR</td>\n",
       "      <td>DF</td>\n",
       "      <td>DEF</td>\n",
       "      <td>Defender</td>\n",
       "    </tr>\n",
       "    <tr>\n",
       "      <th>2</th>\n",
       "      <td>72</td>\n",
       "      <td>Over</td>\n",
       "      <td>Mandanda</td>\n",
       "      <td>3772.0</td>\n",
       "      <td>1998-10-26</td>\n",
       "      <td>176</td>\n",
       "      <td>393230</td>\n",
       "      <td>NaN</td>\n",
       "      <td>O. Mandanda</td>\n",
       "      <td>NaN</td>\n",
       "      <td>...</td>\n",
       "      <td>250</td>\n",
       "      <td>FRA</td>\n",
       "      <td>FR</td>\n",
       "      <td>France</td>\n",
       "      <td>250</td>\n",
       "      <td>FRA</td>\n",
       "      <td>FR</td>\n",
       "      <td>GK</td>\n",
       "      <td>GKP</td>\n",
       "      <td>Goalkeeper</td>\n",
       "    </tr>\n",
       "    <tr>\n",
       "      <th>3</th>\n",
       "      <td>82</td>\n",
       "      <td>Alfred John Momar</td>\n",
       "      <td>N'Diaye</td>\n",
       "      <td>683.0</td>\n",
       "      <td>1990-03-06</td>\n",
       "      <td>187</td>\n",
       "      <td>32793</td>\n",
       "      <td>right</td>\n",
       "      <td>A. N'Diaye</td>\n",
       "      <td>19314.0</td>\n",
       "      <td>...</td>\n",
       "      <td>686</td>\n",
       "      <td>SEN</td>\n",
       "      <td>SN</td>\n",
       "      <td>France</td>\n",
       "      <td>250</td>\n",
       "      <td>FRA</td>\n",
       "      <td>FR</td>\n",
       "      <td>MD</td>\n",
       "      <td>MID</td>\n",
       "      <td>Midfielder</td>\n",
       "    </tr>\n",
       "    <tr>\n",
       "      <th>4</th>\n",
       "      <td>84</td>\n",
       "      <td>Ibrahima</td>\n",
       "      <td>Konat\\u00e9</td>\n",
       "      <td>2975.0</td>\n",
       "      <td>1999-05-25</td>\n",
       "      <td>192</td>\n",
       "      <td>393247</td>\n",
       "      <td>right</td>\n",
       "      <td>I. Konat\\u00e9</td>\n",
       "      <td>NaN</td>\n",
       "      <td>...</td>\n",
       "      <td>250</td>\n",
       "      <td>FRA</td>\n",
       "      <td>FR</td>\n",
       "      <td>France</td>\n",
       "      <td>250</td>\n",
       "      <td>FRA</td>\n",
       "      <td>FR</td>\n",
       "      <td>DF</td>\n",
       "      <td>DEF</td>\n",
       "      <td>Defender</td>\n",
       "    </tr>\n",
       "  </tbody>\n",
       "</table>\n",
       "<p>5 rows × 21 columns</p>\n",
       "</div>"
      ],
      "text/plain": [
       "   weight          firstName     lastName  currentTeamId   birthDate  height  \\\n",
       "0      78              Harun        Tekin         4502.0  1989-06-17     187   \n",
       "1      73             Malang         Sarr         3775.0  1999-01-23     182   \n",
       "2      72               Over     Mandanda         3772.0  1998-10-26     176   \n",
       "3      82  Alfred John Momar      N'Diaye          683.0  1990-03-06     187   \n",
       "4      84           Ibrahima  Konat\\u00e9         2975.0  1999-05-25     192   \n",
       "\n",
       "     wyId   foot       shortName  currentNationalTeamId  ... passportArea_id  \\\n",
       "0   32777  right        H. Tekin                 4687.0  ...             792   \n",
       "1  393228   left         M. Sarr                 4423.0  ...             686   \n",
       "2  393230    NaN     O. Mandanda                    NaN  ...             250   \n",
       "3   32793  right      A. N'Diaye                19314.0  ...             686   \n",
       "4  393247  right  I. Konat\\u00e9                    NaN  ...             250   \n",
       "\n",
       "  passportArea_alpha3code passportArea_alpha2code birthArea_name birthArea_id  \\\n",
       "0                     TUR                      TR         Turkey          792   \n",
       "1                     SEN                      SN         France          250   \n",
       "2                     FRA                      FR         France          250   \n",
       "3                     SEN                      SN         France          250   \n",
       "4                     FRA                      FR         France          250   \n",
       "\n",
       "  birthArea_alpha3code birthArea_alpha2code role_code2 role_code3   role_name  \n",
       "0                  TUR                   TR         GK        GKP  Goalkeeper  \n",
       "1                  FRA                   FR         DF        DEF    Defender  \n",
       "2                  FRA                   FR         GK        GKP  Goalkeeper  \n",
       "3                  FRA                   FR         MD        MID  Midfielder  \n",
       "4                  FRA                   FR         DF        DEF    Defender  \n",
       "\n",
       "[5 rows x 21 columns]"
      ]
     },
     "execution_count": 143,
     "metadata": {},
     "output_type": "execute_result"
    }
   ],
   "source": [
    "players.head()"
   ]
  },
  {
   "cell_type": "code",
   "execution_count": 163,
   "id": "e17934cb-77ce-45b3-9f0d-0f04f7affbe3",
   "metadata": {},
   "outputs": [
    {
     "data": {
      "text/plain": [
       "role_name\n",
       "Midfielder    1257\n",
       "Defender      1200\n",
       "Forward        720\n",
       "Goalkeeper     426\n",
       "Name: count, dtype: int64"
      ]
     },
     "execution_count": 163,
     "metadata": {},
     "output_type": "execute_result"
    }
   ],
   "source": [
    "players['role_name'].value_counts()"
   ]
  },
  {
   "cell_type": "code",
   "execution_count": 165,
   "id": "b54da0dc-2eef-4e8d-bd11-537c4341450a",
   "metadata": {},
   "outputs": [
    {
     "data": {
      "application/vnd.plotly.v1+json": {
       "config": {
        "plotlyServerURL": "https://plot.ly"
       },
       "data": [
        {
         "customdata": [
          [
           "Midfielder"
          ],
          [
           "Defender"
          ],
          [
           "Forward"
          ],
          [
           "Goalkeeper"
          ]
         ],
         "domain": {
          "x": [
           0,
           1
          ],
          "y": [
           0,
           1
          ]
         },
         "hovertemplate": "Role Name=%{customdata[0]}<br>Count=%{value}<extra></extra>",
         "labels": [
          "Midfielder",
          "Defender",
          "Forward",
          "Goalkeeper"
         ],
         "legendgroup": "",
         "marker": {
          "colors": [
           "rgb(228,26,28)",
           "rgb(55,126,184)",
           "rgb(77,175,74)",
           "rgb(152,78,163)"
          ]
         },
         "name": "",
         "showlegend": true,
         "type": "pie",
         "values": [
          1257,
          1200,
          720,
          426
         ]
        }
       ],
       "layout": {
        "autosize": true,
        "legend": {
         "tracegroupgap": 0
        },
        "piecolorway": [
         "rgb(228,26,28)",
         "rgb(55,126,184)",
         "rgb(77,175,74)",
         "rgb(152,78,163)",
         "rgb(255,127,0)",
         "rgb(255,255,51)",
         "rgb(166,86,40)",
         "rgb(247,129,191)",
         "rgb(153,153,153)"
        ],
        "template": {
         "data": {
          "bar": [
           {
            "error_x": {
             "color": "#2a3f5f"
            },
            "error_y": {
             "color": "#2a3f5f"
            },
            "marker": {
             "line": {
              "color": "#E5ECF6",
              "width": 0.5
             },
             "pattern": {
              "fillmode": "overlay",
              "size": 10,
              "solidity": 0.2
             }
            },
            "type": "bar"
           }
          ],
          "barpolar": [
           {
            "marker": {
             "line": {
              "color": "#E5ECF6",
              "width": 0.5
             },
             "pattern": {
              "fillmode": "overlay",
              "size": 10,
              "solidity": 0.2
             }
            },
            "type": "barpolar"
           }
          ],
          "carpet": [
           {
            "aaxis": {
             "endlinecolor": "#2a3f5f",
             "gridcolor": "white",
             "linecolor": "white",
             "minorgridcolor": "white",
             "startlinecolor": "#2a3f5f"
            },
            "baxis": {
             "endlinecolor": "#2a3f5f",
             "gridcolor": "white",
             "linecolor": "white",
             "minorgridcolor": "white",
             "startlinecolor": "#2a3f5f"
            },
            "type": "carpet"
           }
          ],
          "choropleth": [
           {
            "colorbar": {
             "outlinewidth": 0,
             "ticks": ""
            },
            "type": "choropleth"
           }
          ],
          "contour": [
           {
            "colorbar": {
             "outlinewidth": 0,
             "ticks": ""
            },
            "colorscale": [
             [
              0,
              "#0d0887"
             ],
             [
              0.1111111111111111,
              "#46039f"
             ],
             [
              0.2222222222222222,
              "#7201a8"
             ],
             [
              0.3333333333333333,
              "#9c179e"
             ],
             [
              0.4444444444444444,
              "#bd3786"
             ],
             [
              0.5555555555555556,
              "#d8576b"
             ],
             [
              0.6666666666666666,
              "#ed7953"
             ],
             [
              0.7777777777777778,
              "#fb9f3a"
             ],
             [
              0.8888888888888888,
              "#fdca26"
             ],
             [
              1,
              "#f0f921"
             ]
            ],
            "type": "contour"
           }
          ],
          "contourcarpet": [
           {
            "colorbar": {
             "outlinewidth": 0,
             "ticks": ""
            },
            "type": "contourcarpet"
           }
          ],
          "heatmap": [
           {
            "colorbar": {
             "outlinewidth": 0,
             "ticks": ""
            },
            "colorscale": [
             [
              0,
              "#0d0887"
             ],
             [
              0.1111111111111111,
              "#46039f"
             ],
             [
              0.2222222222222222,
              "#7201a8"
             ],
             [
              0.3333333333333333,
              "#9c179e"
             ],
             [
              0.4444444444444444,
              "#bd3786"
             ],
             [
              0.5555555555555556,
              "#d8576b"
             ],
             [
              0.6666666666666666,
              "#ed7953"
             ],
             [
              0.7777777777777778,
              "#fb9f3a"
             ],
             [
              0.8888888888888888,
              "#fdca26"
             ],
             [
              1,
              "#f0f921"
             ]
            ],
            "type": "heatmap"
           }
          ],
          "heatmapgl": [
           {
            "colorbar": {
             "outlinewidth": 0,
             "ticks": ""
            },
            "colorscale": [
             [
              0,
              "#0d0887"
             ],
             [
              0.1111111111111111,
              "#46039f"
             ],
             [
              0.2222222222222222,
              "#7201a8"
             ],
             [
              0.3333333333333333,
              "#9c179e"
             ],
             [
              0.4444444444444444,
              "#bd3786"
             ],
             [
              0.5555555555555556,
              "#d8576b"
             ],
             [
              0.6666666666666666,
              "#ed7953"
             ],
             [
              0.7777777777777778,
              "#fb9f3a"
             ],
             [
              0.8888888888888888,
              "#fdca26"
             ],
             [
              1,
              "#f0f921"
             ]
            ],
            "type": "heatmapgl"
           }
          ],
          "histogram": [
           {
            "marker": {
             "pattern": {
              "fillmode": "overlay",
              "size": 10,
              "solidity": 0.2
             }
            },
            "type": "histogram"
           }
          ],
          "histogram2d": [
           {
            "colorbar": {
             "outlinewidth": 0,
             "ticks": ""
            },
            "colorscale": [
             [
              0,
              "#0d0887"
             ],
             [
              0.1111111111111111,
              "#46039f"
             ],
             [
              0.2222222222222222,
              "#7201a8"
             ],
             [
              0.3333333333333333,
              "#9c179e"
             ],
             [
              0.4444444444444444,
              "#bd3786"
             ],
             [
              0.5555555555555556,
              "#d8576b"
             ],
             [
              0.6666666666666666,
              "#ed7953"
             ],
             [
              0.7777777777777778,
              "#fb9f3a"
             ],
             [
              0.8888888888888888,
              "#fdca26"
             ],
             [
              1,
              "#f0f921"
             ]
            ],
            "type": "histogram2d"
           }
          ],
          "histogram2dcontour": [
           {
            "colorbar": {
             "outlinewidth": 0,
             "ticks": ""
            },
            "colorscale": [
             [
              0,
              "#0d0887"
             ],
             [
              0.1111111111111111,
              "#46039f"
             ],
             [
              0.2222222222222222,
              "#7201a8"
             ],
             [
              0.3333333333333333,
              "#9c179e"
             ],
             [
              0.4444444444444444,
              "#bd3786"
             ],
             [
              0.5555555555555556,
              "#d8576b"
             ],
             [
              0.6666666666666666,
              "#ed7953"
             ],
             [
              0.7777777777777778,
              "#fb9f3a"
             ],
             [
              0.8888888888888888,
              "#fdca26"
             ],
             [
              1,
              "#f0f921"
             ]
            ],
            "type": "histogram2dcontour"
           }
          ],
          "mesh3d": [
           {
            "colorbar": {
             "outlinewidth": 0,
             "ticks": ""
            },
            "type": "mesh3d"
           }
          ],
          "parcoords": [
           {
            "line": {
             "colorbar": {
              "outlinewidth": 0,
              "ticks": ""
             }
            },
            "type": "parcoords"
           }
          ],
          "pie": [
           {
            "automargin": true,
            "type": "pie"
           }
          ],
          "scatter": [
           {
            "fillpattern": {
             "fillmode": "overlay",
             "size": 10,
             "solidity": 0.2
            },
            "type": "scatter"
           }
          ],
          "scatter3d": [
           {
            "line": {
             "colorbar": {
              "outlinewidth": 0,
              "ticks": ""
             }
            },
            "marker": {
             "colorbar": {
              "outlinewidth": 0,
              "ticks": ""
             }
            },
            "type": "scatter3d"
           }
          ],
          "scattercarpet": [
           {
            "marker": {
             "colorbar": {
              "outlinewidth": 0,
              "ticks": ""
             }
            },
            "type": "scattercarpet"
           }
          ],
          "scattergeo": [
           {
            "marker": {
             "colorbar": {
              "outlinewidth": 0,
              "ticks": ""
             }
            },
            "type": "scattergeo"
           }
          ],
          "scattergl": [
           {
            "marker": {
             "colorbar": {
              "outlinewidth": 0,
              "ticks": ""
             }
            },
            "type": "scattergl"
           }
          ],
          "scattermapbox": [
           {
            "marker": {
             "colorbar": {
              "outlinewidth": 0,
              "ticks": ""
             }
            },
            "type": "scattermapbox"
           }
          ],
          "scatterpolar": [
           {
            "marker": {
             "colorbar": {
              "outlinewidth": 0,
              "ticks": ""
             }
            },
            "type": "scatterpolar"
           }
          ],
          "scatterpolargl": [
           {
            "marker": {
             "colorbar": {
              "outlinewidth": 0,
              "ticks": ""
             }
            },
            "type": "scatterpolargl"
           }
          ],
          "scatterternary": [
           {
            "marker": {
             "colorbar": {
              "outlinewidth": 0,
              "ticks": ""
             }
            },
            "type": "scatterternary"
           }
          ],
          "surface": [
           {
            "colorbar": {
             "outlinewidth": 0,
             "ticks": ""
            },
            "colorscale": [
             [
              0,
              "#0d0887"
             ],
             [
              0.1111111111111111,
              "#46039f"
             ],
             [
              0.2222222222222222,
              "#7201a8"
             ],
             [
              0.3333333333333333,
              "#9c179e"
             ],
             [
              0.4444444444444444,
              "#bd3786"
             ],
             [
              0.5555555555555556,
              "#d8576b"
             ],
             [
              0.6666666666666666,
              "#ed7953"
             ],
             [
              0.7777777777777778,
              "#fb9f3a"
             ],
             [
              0.8888888888888888,
              "#fdca26"
             ],
             [
              1,
              "#f0f921"
             ]
            ],
            "type": "surface"
           }
          ],
          "table": [
           {
            "cells": {
             "fill": {
              "color": "#EBF0F8"
             },
             "line": {
              "color": "white"
             }
            },
            "header": {
             "fill": {
              "color": "#C8D4E3"
             },
             "line": {
              "color": "white"
             }
            },
            "type": "table"
           }
          ]
         },
         "layout": {
          "annotationdefaults": {
           "arrowcolor": "#2a3f5f",
           "arrowhead": 0,
           "arrowwidth": 1
          },
          "autotypenumbers": "strict",
          "coloraxis": {
           "colorbar": {
            "outlinewidth": 0,
            "ticks": ""
           }
          },
          "colorscale": {
           "diverging": [
            [
             0,
             "#8e0152"
            ],
            [
             0.1,
             "#c51b7d"
            ],
            [
             0.2,
             "#de77ae"
            ],
            [
             0.3,
             "#f1b6da"
            ],
            [
             0.4,
             "#fde0ef"
            ],
            [
             0.5,
             "#f7f7f7"
            ],
            [
             0.6,
             "#e6f5d0"
            ],
            [
             0.7,
             "#b8e186"
            ],
            [
             0.8,
             "#7fbc41"
            ],
            [
             0.9,
             "#4d9221"
            ],
            [
             1,
             "#276419"
            ]
           ],
           "sequential": [
            [
             0,
             "#0d0887"
            ],
            [
             0.1111111111111111,
             "#46039f"
            ],
            [
             0.2222222222222222,
             "#7201a8"
            ],
            [
             0.3333333333333333,
             "#9c179e"
            ],
            [
             0.4444444444444444,
             "#bd3786"
            ],
            [
             0.5555555555555556,
             "#d8576b"
            ],
            [
             0.6666666666666666,
             "#ed7953"
            ],
            [
             0.7777777777777778,
             "#fb9f3a"
            ],
            [
             0.8888888888888888,
             "#fdca26"
            ],
            [
             1,
             "#f0f921"
            ]
           ],
           "sequentialminus": [
            [
             0,
             "#0d0887"
            ],
            [
             0.1111111111111111,
             "#46039f"
            ],
            [
             0.2222222222222222,
             "#7201a8"
            ],
            [
             0.3333333333333333,
             "#9c179e"
            ],
            [
             0.4444444444444444,
             "#bd3786"
            ],
            [
             0.5555555555555556,
             "#d8576b"
            ],
            [
             0.6666666666666666,
             "#ed7953"
            ],
            [
             0.7777777777777778,
             "#fb9f3a"
            ],
            [
             0.8888888888888888,
             "#fdca26"
            ],
            [
             1,
             "#f0f921"
            ]
           ]
          },
          "colorway": [
           "#636efa",
           "#EF553B",
           "#00cc96",
           "#ab63fa",
           "#FFA15A",
           "#19d3f3",
           "#FF6692",
           "#B6E880",
           "#FF97FF",
           "#FECB52"
          ],
          "font": {
           "color": "#2a3f5f"
          },
          "geo": {
           "bgcolor": "white",
           "lakecolor": "white",
           "landcolor": "#E5ECF6",
           "showlakes": true,
           "showland": true,
           "subunitcolor": "white"
          },
          "hoverlabel": {
           "align": "left"
          },
          "hovermode": "closest",
          "mapbox": {
           "style": "light"
          },
          "paper_bgcolor": "white",
          "plot_bgcolor": "#E5ECF6",
          "polar": {
           "angularaxis": {
            "gridcolor": "white",
            "linecolor": "white",
            "ticks": ""
           },
           "bgcolor": "#E5ECF6",
           "radialaxis": {
            "gridcolor": "white",
            "linecolor": "white",
            "ticks": ""
           }
          },
          "scene": {
           "xaxis": {
            "backgroundcolor": "#E5ECF6",
            "gridcolor": "white",
            "gridwidth": 2,
            "linecolor": "white",
            "showbackground": true,
            "ticks": "",
            "zerolinecolor": "white"
           },
           "yaxis": {
            "backgroundcolor": "#E5ECF6",
            "gridcolor": "white",
            "gridwidth": 2,
            "linecolor": "white",
            "showbackground": true,
            "ticks": "",
            "zerolinecolor": "white"
           },
           "zaxis": {
            "backgroundcolor": "#E5ECF6",
            "gridcolor": "white",
            "gridwidth": 2,
            "linecolor": "white",
            "showbackground": true,
            "ticks": "",
            "zerolinecolor": "white"
           }
          },
          "shapedefaults": {
           "line": {
            "color": "#2a3f5f"
           }
          },
          "ternary": {
           "aaxis": {
            "gridcolor": "white",
            "linecolor": "white",
            "ticks": ""
           },
           "baxis": {
            "gridcolor": "white",
            "linecolor": "white",
            "ticks": ""
           },
           "bgcolor": "#E5ECF6",
           "caxis": {
            "gridcolor": "white",
            "linecolor": "white",
            "ticks": ""
           }
          },
          "title": {
           "x": 0.05
          },
          "xaxis": {
           "automargin": true,
           "gridcolor": "white",
           "linecolor": "white",
           "ticks": "",
           "title": {
            "standoff": 15
           },
           "zerolinecolor": "white",
           "zerolinewidth": 2
          },
          "yaxis": {
           "automargin": true,
           "gridcolor": "white",
           "linecolor": "white",
           "ticks": "",
           "title": {
            "standoff": 15
           },
           "zerolinecolor": "white",
           "zerolinewidth": 2
          }
         }
        },
        "title": {
         "text": "Distribution of Player Roles"
        }
       }
      },
      "image/png": "[encoded data removed]",
      "text/html": [
       "<div>                            <div id=\"87f26fd6-5778-43a3-9700-3a9510df55cd\" class=\"plotly-graph-div\" style=\"height:525px; width:100%;\"></div>            <script type=\"text/javascript\">                require([\"plotly\"], function(Plotly) {                    window.PLOTLYENV=window.PLOTLYENV || {};                                    if (document.getElementById(\"87f26fd6-5778-43a3-9700-3a9510df55cd\")) {                    Plotly.newPlot(                        \"87f26fd6-5778-43a3-9700-3a9510df55cd\",                        [{\"customdata\":[[\"Midfielder\"],[\"Defender\"],[\"Forward\"],[\"Goalkeeper\"]],\"domain\":{\"x\":[0.0,1.0],\"y\":[0.0,1.0]},\"hovertemplate\":\"Role Name=%{customdata[0]}\\u003cbr\\u003eCount=%{value}\\u003cextra\\u003e\\u003c\\u002fextra\\u003e\",\"labels\":[\"Midfielder\",\"Defender\",\"Forward\",\"Goalkeeper\"],\"legendgroup\":\"\",\"marker\":{\"colors\":[\"rgb(228,26,28)\",\"rgb(55,126,184)\",\"rgb(77,175,74)\",\"rgb(152,78,163)\"]},\"name\":\"\",\"showlegend\":true,\"values\":[1257,1200,720,426],\"type\":\"pie\"}],                        {\"template\":{\"data\":{\"histogram2dcontour\":[{\"type\":\"histogram2dcontour\",\"colorbar\":{\"outlinewidth\":0,\"ticks\":\"\"},\"colorscale\":[[0.0,\"#0d0887\"],[0.1111111111111111,\"#46039f\"],[0.2222222222222222,\"#7201a8\"],[0.3333333333333333,\"#9c179e\"],[0.4444444444444444,\"#bd3786\"],[0.5555555555555556,\"#d8576b\"],[0.6666666666666666,\"#ed7953\"],[0.7777777777777778,\"#fb9f3a\"],[0.8888888888888888,\"#fdca26\"],[1.0,\"#f0f921\"]]}],\"choropleth\":[{\"type\":\"choropleth\",\"colorbar\":{\"outlinewidth\":0,\"ticks\":\"\"}}],\"histogram2d\":[{\"type\":\"histogram2d\",\"colorbar\":{\"outlinewidth\":0,\"ticks\":\"\"},\"colorscale\":[[0.0,\"#0d0887\"],[0.1111111111111111,\"#46039f\"],[0.2222222222222222,\"#7201a8\"],[0.3333333333333333,\"#9c179e\"],[0.4444444444444444,\"#bd3786\"],[0.5555555555555556,\"#d8576b\"],[0.6666666666666666,\"#ed7953\"],[0.7777777777777778,\"#fb9f3a\"],[0.8888888888888888,\"#fdca26\"],[1.0,\"#f0f921\"]]}],\"heatmap\":[{\"type\":\"heatmap\",\"colorbar\":{\"outlinewidth\":0,\"ticks\":\"\"},\"colorscale\":[[0.0,\"#0d0887\"],[0.1111111111111111,\"#46039f\"],[0.2222222222222222,\"#7201a8\"],[0.3333333333333333,\"#9c179e\"],[0.4444444444444444,\"#bd3786\"],[0.5555555555555556,\"#d8576b\"],[0.6666666666666666,\"#ed7953\"],[0.7777777777777778,\"#fb9f3a\"],[0.8888888888888888,\"#fdca26\"],[1.0,\"#f0f921\"]]}],\"heatmapgl\":[{\"type\":\"heatmapgl\",\"colorbar\":{\"outlinewidth\":0,\"ticks\":\"\"},\"colorscale\":[[0.0,\"#0d0887\"],[0.1111111111111111,\"#46039f\"],[0.2222222222222222,\"#7201a8\"],[0.3333333333333333,\"#9c179e\"],[0.4444444444444444,\"#bd3786\"],[0.5555555555555556,\"#d8576b\"],[0.6666666666666666,\"#ed7953\"],[0.7777777777777778,\"#fb9f3a\"],[0.8888888888888888,\"#fdca26\"],[1.0,\"#f0f921\"]]}],\"contourcarpet\":[{\"type\":\"contourcarpet\",\"colorbar\":{\"outlinewidth\":0,\"ticks\":\"\"}}],\"contour\":[{\"type\":\"contour\",\"colorbar\":{\"outlinewidth\":0,\"ticks\":\"\"},\"colorscale\":[[0.0,\"#0d0887\"],[0.1111111111111111,\"#46039f\"],[0.2222222222222222,\"#7201a8\"],[0.3333333333333333,\"#9c179e\"],[0.4444444444444444,\"#bd3786\"],[0.5555555555555556,\"#d8576b\"],[0.6666666666666666,\"#ed7953\"],[0.7777777777777778,\"#fb9f3a\"],[0.8888888888888888,\"#fdca26\"],[1.0,\"#f0f921\"]]}],\"surface\":[{\"type\":\"surface\",\"colorbar\":{\"outlinewidth\":0,\"ticks\":\"\"},\"colorscale\":[[0.0,\"#0d0887\"],[0.1111111111111111,\"#46039f\"],[0.2222222222222222,\"#7201a8\"],[0.3333333333333333,\"#9c179e\"],[0.4444444444444444,\"#bd3786\"],[0.5555555555555556,\"#d8576b\"],[0.6666666666666666,\"#ed7953\"],[0.7777777777777778,\"#fb9f3a\"],[0.8888888888888888,\"#fdca26\"],[1.0,\"#f0f921\"]]}],\"mesh3d\":[{\"type\":\"mesh3d\",\"colorbar\":{\"outlinewidth\":0,\"ticks\":\"\"}}],\"scatter\":[{\"fillpattern\":{\"fillmode\":\"overlay\",\"size\":10,\"solidity\":0.2},\"type\":\"scatter\"}],\"parcoords\":[{\"type\":\"parcoords\",\"line\":{\"colorbar\":{\"outlinewidth\":0,\"ticks\":\"\"}}}],\"scatterpolargl\":[{\"type\":\"scatterpolargl\",\"marker\":{\"colorbar\":{\"outlinewidth\":0,\"ticks\":\"\"}}}],\"bar\":[{\"error_x\":{\"color\":\"#2a3f5f\"},\"error_y\":{\"color\":\"#2a3f5f\"},\"marker\":{\"line\":{\"color\":\"#E5ECF6\",\"width\":0.5},\"pattern\":{\"fillmode\":\"overlay\",\"size\":10,\"solidity\":0.2}},\"type\":\"bar\"}],\"scattergeo\":[{\"type\":\"scattergeo\",\"marker\":{\"colorbar\":{\"outlinewidth\":0,\"ticks\":\"\"}}}],\"scatterpolar\":[{\"type\":\"scatterpolar\",\"marker\":{\"colorbar\":{\"outlinewidth\":0,\"ticks\":\"\"}}}],\"histogram\":[{\"marker\":{\"pattern\":{\"fillmode\":\"overlay\",\"size\":10,\"solidity\":0.2}},\"type\":\"histogram\"}],\"scattergl\":[{\"type\":\"scattergl\",\"marker\":{\"colorbar\":{\"outlinewidth\":0,\"ticks\":\"\"}}}],\"scatter3d\":[{\"type\":\"scatter3d\",\"line\":{\"colorbar\":{\"outlinewidth\":0,\"ticks\":\"\"}},\"marker\":{\"colorbar\":{\"outlinewidth\":0,\"ticks\":\"\"}}}],\"scattermapbox\":[{\"type\":\"scattermapbox\",\"marker\":{\"colorbar\":{\"outlinewidth\":0,\"ticks\":\"\"}}}],\"scatterternary\":[{\"type\":\"scatterternary\",\"marker\":{\"colorbar\":{\"outlinewidth\":0,\"ticks\":\"\"}}}],\"scattercarpet\":[{\"type\":\"scattercarpet\",\"marker\":{\"colorbar\":{\"outlinewidth\":0,\"ticks\":\"\"}}}],\"carpet\":[{\"aaxis\":{\"endlinecolor\":\"#2a3f5f\",\"gridcolor\":\"white\",\"linecolor\":\"white\",\"minorgridcolor\":\"white\",\"startlinecolor\":\"#2a3f5f\"},\"baxis\":{\"endlinecolor\":\"#2a3f5f\",\"gridcolor\":\"white\",\"linecolor\":\"white\",\"minorgridcolor\":\"white\",\"startlinecolor\":\"#2a3f5f\"},\"type\":\"carpet\"}],\"table\":[{\"cells\":{\"fill\":{\"color\":\"#EBF0F8\"},\"line\":{\"color\":\"white\"}},\"header\":{\"fill\":{\"color\":\"#C8D4E3\"},\"line\":{\"color\":\"white\"}},\"type\":\"table\"}],\"barpolar\":[{\"marker\":{\"line\":{\"color\":\"#E5ECF6\",\"width\":0.5},\"pattern\":{\"fillmode\":\"overlay\",\"size\":10,\"solidity\":0.2}},\"type\":\"barpolar\"}],\"pie\":[{\"automargin\":true,\"type\":\"pie\"}]},\"layout\":{\"autotypenumbers\":\"strict\",\"colorway\":[\"#636efa\",\"#EF553B\",\"#00cc96\",\"#ab63fa\",\"#FFA15A\",\"#19d3f3\",\"#FF6692\",\"#B6E880\",\"#FF97FF\",\"#FECB52\"],\"font\":{\"color\":\"#2a3f5f\"},\"hovermode\":\"closest\",\"hoverlabel\":{\"align\":\"left\"},\"paper_bgcolor\":\"white\",\"plot_bgcolor\":\"#E5ECF6\",\"polar\":{\"bgcolor\":\"#E5ECF6\",\"angularaxis\":{\"gridcolor\":\"white\",\"linecolor\":\"white\",\"ticks\":\"\"},\"radialaxis\":{\"gridcolor\":\"white\",\"linecolor\":\"white\",\"ticks\":\"\"}},\"ternary\":{\"bgcolor\":\"#E5ECF6\",\"aaxis\":{\"gridcolor\":\"white\",\"linecolor\":\"white\",\"ticks\":\"\"},\"baxis\":{\"gridcolor\":\"white\",\"linecolor\":\"white\",\"ticks\":\"\"},\"caxis\":{\"gridcolor\":\"white\",\"linecolor\":\"white\",\"ticks\":\"\"}},\"coloraxis\":{\"colorbar\":{\"outlinewidth\":0,\"ticks\":\"\"}},\"colorscale\":{\"sequential\":[[0.0,\"#0d0887\"],[0.1111111111111111,\"#46039f\"],[0.2222222222222222,\"#7201a8\"],[0.3333333333333333,\"#9c179e\"],[0.4444444444444444,\"#bd3786\"],[0.5555555555555556,\"#d8576b\"],[0.6666666666666666,\"#ed7953\"],[0.7777777777777778,\"#fb9f3a\"],[0.8888888888888888,\"#fdca26\"],[1.0,\"#f0f921\"]],\"sequentialminus\":[[0.0,\"#0d0887\"],[0.1111111111111111,\"#46039f\"],[0.2222222222222222,\"#7201a8\"],[0.3333333333333333,\"#9c179e\"],[0.4444444444444444,\"#bd3786\"],[0.5555555555555556,\"#d8576b\"],[0.6666666666666666,\"#ed7953\"],[0.7777777777777778,\"#fb9f3a\"],[0.8888888888888888,\"#fdca26\"],[1.0,\"#f0f921\"]],\"diverging\":[[0,\"#8e0152\"],[0.1,\"#c51b7d\"],[0.2,\"#de77ae\"],[0.3,\"#f1b6da\"],[0.4,\"#fde0ef\"],[0.5,\"#f7f7f7\"],[0.6,\"#e6f5d0\"],[0.7,\"#b8e186\"],[0.8,\"#7fbc41\"],[0.9,\"#4d9221\"],[1,\"#276419\"]]},\"xaxis\":{\"gridcolor\":\"white\",\"linecolor\":\"white\",\"ticks\":\"\",\"title\":{\"standoff\":15},\"zerolinecolor\":\"white\",\"automargin\":true,\"zerolinewidth\":2},\"yaxis\":{\"gridcolor\":\"white\",\"linecolor\":\"white\",\"ticks\":\"\",\"title\":{\"standoff\":15},\"zerolinecolor\":\"white\",\"automargin\":true,\"zerolinewidth\":2},\"scene\":{\"xaxis\":{\"backgroundcolor\":\"#E5ECF6\",\"gridcolor\":\"white\",\"linecolor\":\"white\",\"showbackground\":true,\"ticks\":\"\",\"zerolinecolor\":\"white\",\"gridwidth\":2},\"yaxis\":{\"backgroundcolor\":\"#E5ECF6\",\"gridcolor\":\"white\",\"linecolor\":\"white\",\"showbackground\":true,\"ticks\":\"\",\"zerolinecolor\":\"white\",\"gridwidth\":2},\"zaxis\":{\"backgroundcolor\":\"#E5ECF6\",\"gridcolor\":\"white\",\"linecolor\":\"white\",\"showbackground\":true,\"ticks\":\"\",\"zerolinecolor\":\"white\",\"gridwidth\":2}},\"shapedefaults\":{\"line\":{\"color\":\"#2a3f5f\"}},\"annotationdefaults\":{\"arrowcolor\":\"#2a3f5f\",\"arrowhead\":0,\"arrowwidth\":1},\"geo\":{\"bgcolor\":\"white\",\"landcolor\":\"#E5ECF6\",\"subunitcolor\":\"white\",\"showland\":true,\"showlakes\":true,\"lakecolor\":\"white\"},\"title\":{\"x\":0.05},\"mapbox\":{\"style\":\"light\"}}},\"legend\":{\"tracegroupgap\":0},\"title\":{\"text\":\"Distribution of Player Roles\"},\"piecolorway\":[\"rgb(228,26,28)\",\"rgb(55,126,184)\",\"rgb(77,175,74)\",\"rgb(152,78,163)\",\"rgb(255,127,0)\",\"rgb(255,255,51)\",\"rgb(166,86,40)\",\"rgb(247,129,191)\",\"rgb(153,153,153)\"]},                        {\"responsive\": true}                    ).then(function(){\n",
       "                            \n",
       "var gd = document.getElementById('87f26fd6-5778-43a3-9700-3a9510df55cd');\n",
       "var x = new MutationObserver(function (mutations, observer) {{\n",
       "        var display = window.getComputedStyle(gd).display;\n",
       "        if (!display || display === 'none') {{\n",
       "            console.log([gd, 'removed!']);\n",
       "            Plotly.purge(gd);\n",
       "            observer.disconnect();\n",
       "        }}\n",
       "}});\n",
       "\n",
       "// Listen for the removal of the full notebook cells\n",
       "var notebookContainer = gd.closest('#notebook-container');\n",
       "if (notebookContainer) {{\n",
       "    x.observe(notebookContainer, {childList: true});\n",
       "}}\n",
       "\n",
       "// Listen for the clearing of the current output cell\n",
       "var outputEl = gd.closest('.output');\n",
       "if (outputEl) {{\n",
       "    x.observe(outputEl, {childList: true});\n",
       "}}\n",
       "\n",
       "                        })                };                });            </script>        </div>"
      ]
     },
     "metadata": {},
     "output_type": "display_data"
    }
   ],
   "source": [
    "\n",
    "# Get the value counts for role_name\n",
    "role_counts = players['role_name'].value_counts().reset_index()\n",
    "role_counts.columns = ['Role Name', 'Count']  # Rename columns for clarity\n",
    "\n",
    "# Create a pie chart\n",
    "fig = px.pie(role_counts, names='Role Name', values='Count', \n",
    "             title='Distribution of Player Roles', \n",
    "             color='Role Name', \n",
    "             color_discrete_sequence=px.colors.qualitative.Set1)\n",
    "\n",
    "# Show the figure\n",
    "fig.show()"
   ]
  },
  {
   "cell_type": "markdown",
   "id": "ea905f3c-42f3-4315-9928-7b6dc7339423",
   "metadata": {},
   "source": [
    "makes sense to have mostly defenders and midfielders"
   ]
  },
  {
   "cell_type": "markdown",
   "id": "5c827ed1-a33e-47d8-8b24-5d7f1bfe1c4a",
   "metadata": {},
   "source": [
    "### Birth Area"
   ]
  },
  {
   "cell_type": "code",
   "execution_count": 167,
   "id": "131838a0-3218-4854-ba3b-085baa58697a",
   "metadata": {},
   "outputs": [
    {
     "data": {
      "text/plain": [
       "birthArea_name\n",
       "France          500\n",
       "Spain           421\n",
       "Italy           337\n",
       "Germany         308\n",
       "England         254\n",
       "               ... \n",
       "Uganda            1\n",
       "Uzbekistan        1\n",
       "Moldova           1\n",
       "Cura\\u00e7ao      1\n",
       "Iraq              1\n",
       "Name: count, Length: 115, dtype: int64"
      ]
     },
     "execution_count": 167,
     "metadata": {},
     "output_type": "execute_result"
    }
   ],
   "source": [
    "players['birthArea_name'].value_counts().sort_values(ascending=False)"
   ]
  },
  {
   "cell_type": "code",
   "execution_count": 198,
   "id": "60381617-2055-4ada-847a-68ba858312a5",
   "metadata": {},
   "outputs": [
    {
     "data": {
      "text/plain": [
       "birthArea_alpha3code\n",
       "FRA    500\n",
       "ESP    421\n",
       "ITA    337\n",
       "DEU    308\n",
       "XEN    254\n",
       "      ... \n",
       "UGA      1\n",
       "UZB      1\n",
       "MHL      1\n",
       "CUW      1\n",
       "IRQ      1\n",
       "Name: count, Length: 115, dtype: int64"
      ]
     },
     "execution_count": 198,
     "metadata": {},
     "output_type": "execute_result"
    }
   ],
   "source": [
    "players['birthArea_alpha3code'].value_counts().sort_values(ascending=False)"
   ]
  },
  {
   "cell_type": "code",
   "execution_count": 178,
   "id": "ebacf4c6-6671-4970-b2a8-c9522a0b790d",
   "metadata": {},
   "outputs": [
    {
     "data": {
      "text/plain": [
       "birthArea_alpha2code\n",
       "FR    500\n",
       "ES    421\n",
       "IT    337\n",
       "      311\n",
       "DE    308\n",
       "     ... \n",
       "NC      1\n",
       "MH      1\n",
       "SS      1\n",
       "AE      1\n",
       "PK      1\n",
       "Name: count, Length: 111, dtype: int64"
      ]
     },
     "execution_count": 178,
     "metadata": {},
     "output_type": "execute_result"
    }
   ],
   "source": [
    "players['birthArea_alpha2code'].value_counts().sort_values(ascending=False)"
   ]
  },
  {
   "cell_type": "code",
   "execution_count": 183,
   "id": "43a1df72-91fe-49a7-9cdb-f0ecf7715bde",
   "metadata": {},
   "outputs": [
    {
     "data": {
      "text/plain": [
       "0"
      ]
     },
     "execution_count": 183,
     "metadata": {},
     "output_type": "execute_result"
    }
   ],
   "source": [
    "len(players[players['birthArea_alpha3code']==''])"
   ]
  },
  {
   "cell_type": "code",
   "execution_count": 184,
   "id": "1bf9a017-9bc4-42df-a003-3b1c8b3e5dd9",
   "metadata": {},
   "outputs": [
    {
     "data": {
      "text/plain": [
       "311"
      ]
     },
     "execution_count": 184,
     "metadata": {},
     "output_type": "execute_result"
    }
   ],
   "source": [
    "len(players[players['birthArea_alpha2code']==''])"
   ]
  },
  {
   "cell_type": "code",
   "execution_count": 186,
   "id": "0dfea593-e81f-466a-917c-87ccb4e0f288",
   "metadata": {},
   "outputs": [
    {
     "data": {
      "text/plain": [
       "birthArea_alpha3code\n",
       "XEN    254\n",
       "XNI     21\n",
       "XWA     16\n",
       "XSC     13\n",
       "XKS      7\n",
       "Name: count, dtype: int64"
      ]
     },
     "execution_count": 186,
     "metadata": {},
     "output_type": "execute_result"
    }
   ],
   "source": [
    "(players[players['birthArea_alpha2code']==''])['birthArea_alpha3code'].value_counts()"
   ]
  },
  {
   "cell_type": "code",
   "execution_count": 187,
   "id": "5a5bf567-e636-4aba-b343-082e58a8e145",
   "metadata": {},
   "outputs": [
    {
     "data": {
      "text/plain": [
       "birthArea_name\n",
       "England             254\n",
       "Northern Ireland     21\n",
       "Wales                16\n",
       "Scotland             13\n",
       "Kosovo                7\n",
       "Name: count, dtype: int64"
      ]
     },
     "execution_count": 187,
     "metadata": {},
     "output_type": "execute_result"
    }
   ],
   "source": [
    "(players[players['birthArea_alpha2code']==''])['birthArea_name'].value_counts()"
   ]
  },
  {
   "cell_type": "markdown",
   "id": "0ae87af4-f282-4fd6-a860-3f70ed95545a",
   "metadata": {},
   "source": [
    "Seems the alpha3code is more reliable than  alpha2code. but i will leave it in for now in case I need it for joins. I can populate it with information from alpha3code or name if i need."
   ]
  },
  {
   "cell_type": "markdown",
   "id": "23e14e7e-86a8-434d-8749-8ceb07ef8c1f",
   "metadata": {},
   "source": [
    "### passport info"
   ]
  },
  {
   "cell_type": "code",
   "execution_count": 188,
   "id": "000b5787-9009-4fe0-bb31-fc5339645331",
   "metadata": {},
   "outputs": [
    {
     "data": {
      "text/plain": [
       "passportArea_alpha3code\n",
       "ESP    473\n",
       "ITA    450\n",
       "FRA    307\n",
       "DEU    245\n",
       "XEN    171\n",
       "      ... \n",
       "TZA      1\n",
       "SDN      1\n",
       "IRQ      1\n",
       "LAO      1\n",
       "BGD      1\n",
       "Name: count, Length: 137, dtype: int64"
      ]
     },
     "execution_count": 188,
     "metadata": {},
     "output_type": "execute_result"
    }
   ],
   "source": [
    "players['passportArea_alpha3code'].value_counts().sort_values(ascending=False)"
   ]
  },
  {
   "cell_type": "code",
   "execution_count": 189,
   "id": "ebb6989f-f6c1-4833-8442-5411762900d0",
   "metadata": {},
   "outputs": [
    {
     "data": {
      "text/plain": [
       "passportArea_alpha2code\n",
       "ES    473\n",
       "IT    450\n",
       "FR    307\n",
       "      246\n",
       "DE    245\n",
       "     ... \n",
       "BD      1\n",
       "PH      1\n",
       "RW      1\n",
       "LA      1\n",
       "KZ      1\n",
       "Name: count, Length: 133, dtype: int64"
      ]
     },
     "execution_count": 189,
     "metadata": {},
     "output_type": "execute_result"
    }
   ],
   "source": [
    "players['passportArea_alpha2code'].value_counts().sort_values(ascending=False)"
   ]
  },
  {
   "cell_type": "code",
   "execution_count": 191,
   "id": "67e98e3f-3ef8-4601-b404-411fae2cf7c4",
   "metadata": {},
   "outputs": [
    {
     "data": {
      "text/plain": [
       "passportArea_alpha3code\n",
       "XEN    171\n",
       "XWA     32\n",
       "XNI     24\n",
       "XSC     17\n",
       "XKS      2\n",
       "Name: count, dtype: int64"
      ]
     },
     "execution_count": 191,
     "metadata": {},
     "output_type": "execute_result"
    }
   ],
   "source": [
    "(players[players['passportArea_alpha2code']==''])['passportArea_alpha3code'].value_counts()"
   ]
  },
  {
   "cell_type": "markdown",
   "id": "7f9755e4-1e3f-4fa9-a65d-67342c024541",
   "metadata": {},
   "source": [
    "Similar situation with the passport alpha codes."
   ]
  },
  {
   "cell_type": "code",
   "execution_count": 199,
   "id": "4befeef3-60f2-476c-b0f0-24ac530f1c10",
   "metadata": {},
   "outputs": [],
   "source": [
    "#pd.set_option('display.max_rows', None)\n",
    "#players['birthArea_name'].value_counts().sort_values(ascending=False)\n",
    "\n",
    "#eyeballed all the countries and dont seem to be any obvious typos\n"
   ]
  },
  {
   "cell_type": "code",
   "execution_count": 197,
   "id": "93c2a001-ac13-4acc-afb7-6015482d9678",
   "metadata": {},
   "outputs": [],
   "source": [
    "pd.reset_option('display.max_rows')"
   ]
  },
  {
   "cell_type": "markdown",
   "id": "0e4d95b0-c74f-4199-804f-ffbf7fd08ef7",
   "metadata": {},
   "source": [
    "### Age"
   ]
  },
  {
   "cell_type": "markdown",
   "id": "3bbb871e-3c21-43d0-a5dd-6c28aaa1f153",
   "metadata": {},
   "source": [
    "Now I want to get the age of each player based upon their DOB and the year that this data was based on. It was based on the 2017/2018 Season. So I think I will get the ages of all players on January 1st 2018 (mid way through the season)."
   ]
  },
  {
   "cell_type": "code",
   "execution_count": 203,
   "id": "0c23477e-0f53-4abb-bcd2-a8e8f9ad7aee",
   "metadata": {},
   "outputs": [
    {
     "data": {
      "text/plain": [
       "dtype('O')"
      ]
     },
     "execution_count": 203,
     "metadata": {},
     "output_type": "execute_result"
    }
   ],
   "source": [
    "players['birthDate'].dtype"
   ]
  },
  {
   "cell_type": "code",
   "execution_count": 205,
   "id": "c0ff69d7-f645-48c2-bfbc-8322ba66aa0a",
   "metadata": {},
   "outputs": [],
   "source": [
    "# Convert the birthDate column to datetime\n",
    "players['birthDate'] = pd.to_datetime(players['birthDate'])"
   ]
  },
  {
   "cell_type": "code",
   "execution_count": 206,
   "id": "02016206-2e54-400c-b54d-f045b4656c04",
   "metadata": {},
   "outputs": [],
   "source": [
    "# Define the reference date (2018-01-01)\n",
    "reference_date = pd.to_datetime('2018-01-01')"
   ]
  },
  {
   "cell_type": "code",
   "execution_count": 207,
   "id": "aec9dad1-66f9-45b0-b623-e0a015f261d5",
   "metadata": {},
   "outputs": [],
   "source": [
    "# Calculate the age\n",
    "players['age'] = (reference_date - players['birthDate']).dt.days // 365"
   ]
  },
  {
   "cell_type": "code",
   "execution_count": 208,
   "id": "7e7612a6-082b-469b-a950-2b9eeb17eb88",
   "metadata": {},
   "outputs": [
    {
     "data": {
      "text/html": [
       "<div>\n",
       "<style scoped>\n",
       "    .dataframe tbody tr th:only-of-type {\n",
       "        vertical-align: middle;\n",
       "    }\n",
       "\n",
       "    .dataframe tbody tr th {\n",
       "        vertical-align: top;\n",
       "    }\n",
       "\n",
       "    .dataframe thead th {\n",
       "        text-align: right;\n",
       "    }\n",
       "</style>\n",
       "<table border=\"1\" class=\"dataframe\">\n",
       "  <thead>\n",
       "    <tr style=\"text-align: right;\">\n",
       "      <th></th>\n",
       "      <th>weight</th>\n",
       "      <th>firstName</th>\n",
       "      <th>lastName</th>\n",
       "      <th>currentTeamId</th>\n",
       "      <th>birthDate</th>\n",
       "      <th>height</th>\n",
       "      <th>wyId</th>\n",
       "      <th>foot</th>\n",
       "      <th>shortName</th>\n",
       "      <th>currentNationalTeamId</th>\n",
       "      <th>...</th>\n",
       "      <th>passportArea_alpha3code</th>\n",
       "      <th>passportArea_alpha2code</th>\n",
       "      <th>birthArea_name</th>\n",
       "      <th>birthArea_id</th>\n",
       "      <th>birthArea_alpha3code</th>\n",
       "      <th>birthArea_alpha2code</th>\n",
       "      <th>role_code2</th>\n",
       "      <th>role_code3</th>\n",
       "      <th>role_name</th>\n",
       "      <th>age</th>\n",
       "    </tr>\n",
       "  </thead>\n",
       "  <tbody>\n",
       "    <tr>\n",
       "      <th>0</th>\n",
       "      <td>78</td>\n",
       "      <td>Harun</td>\n",
       "      <td>Tekin</td>\n",
       "      <td>4502.0</td>\n",
       "      <td>1989-06-17</td>\n",
       "      <td>187</td>\n",
       "      <td>32777</td>\n",
       "      <td>right</td>\n",
       "      <td>H. Tekin</td>\n",
       "      <td>4687.0</td>\n",
       "      <td>...</td>\n",
       "      <td>TUR</td>\n",
       "      <td>TR</td>\n",
       "      <td>Turkey</td>\n",
       "      <td>792</td>\n",
       "      <td>TUR</td>\n",
       "      <td>TR</td>\n",
       "      <td>GK</td>\n",
       "      <td>GKP</td>\n",
       "      <td>Goalkeeper</td>\n",
       "      <td>28</td>\n",
       "    </tr>\n",
       "    <tr>\n",
       "      <th>1</th>\n",
       "      <td>73</td>\n",
       "      <td>Malang</td>\n",
       "      <td>Sarr</td>\n",
       "      <td>3775.0</td>\n",
       "      <td>1999-01-23</td>\n",
       "      <td>182</td>\n",
       "      <td>393228</td>\n",
       "      <td>left</td>\n",
       "      <td>M. Sarr</td>\n",
       "      <td>4423.0</td>\n",
       "      <td>...</td>\n",
       "      <td>SEN</td>\n",
       "      <td>SN</td>\n",
       "      <td>France</td>\n",
       "      <td>250</td>\n",
       "      <td>FRA</td>\n",
       "      <td>FR</td>\n",
       "      <td>DF</td>\n",
       "      <td>DEF</td>\n",
       "      <td>Defender</td>\n",
       "      <td>18</td>\n",
       "    </tr>\n",
       "    <tr>\n",
       "      <th>2</th>\n",
       "      <td>72</td>\n",
       "      <td>Over</td>\n",
       "      <td>Mandanda</td>\n",
       "      <td>3772.0</td>\n",
       "      <td>1998-10-26</td>\n",
       "      <td>176</td>\n",
       "      <td>393230</td>\n",
       "      <td>NaN</td>\n",
       "      <td>O. Mandanda</td>\n",
       "      <td>NaN</td>\n",
       "      <td>...</td>\n",
       "      <td>FRA</td>\n",
       "      <td>FR</td>\n",
       "      <td>France</td>\n",
       "      <td>250</td>\n",
       "      <td>FRA</td>\n",
       "      <td>FR</td>\n",
       "      <td>GK</td>\n",
       "      <td>GKP</td>\n",
       "      <td>Goalkeeper</td>\n",
       "      <td>19</td>\n",
       "    </tr>\n",
       "    <tr>\n",
       "      <th>3</th>\n",
       "      <td>82</td>\n",
       "      <td>Alfred John Momar</td>\n",
       "      <td>N'Diaye</td>\n",
       "      <td>683.0</td>\n",
       "      <td>1990-03-06</td>\n",
       "      <td>187</td>\n",
       "      <td>32793</td>\n",
       "      <td>right</td>\n",
       "      <td>A. N'Diaye</td>\n",
       "      <td>19314.0</td>\n",
       "      <td>...</td>\n",
       "      <td>SEN</td>\n",
       "      <td>SN</td>\n",
       "      <td>France</td>\n",
       "      <td>250</td>\n",
       "      <td>FRA</td>\n",
       "      <td>FR</td>\n",
       "      <td>MD</td>\n",
       "      <td>MID</td>\n",
       "      <td>Midfielder</td>\n",
       "      <td>27</td>\n",
       "    </tr>\n",
       "    <tr>\n",
       "      <th>4</th>\n",
       "      <td>84</td>\n",
       "      <td>Ibrahima</td>\n",
       "      <td>Konat\\u00e9</td>\n",
       "      <td>2975.0</td>\n",
       "      <td>1999-05-25</td>\n",
       "      <td>192</td>\n",
       "      <td>393247</td>\n",
       "      <td>right</td>\n",
       "      <td>I. Konat\\u00e9</td>\n",
       "      <td>NaN</td>\n",
       "      <td>...</td>\n",
       "      <td>FRA</td>\n",
       "      <td>FR</td>\n",
       "      <td>France</td>\n",
       "      <td>250</td>\n",
       "      <td>FRA</td>\n",
       "      <td>FR</td>\n",
       "      <td>DF</td>\n",
       "      <td>DEF</td>\n",
       "      <td>Defender</td>\n",
       "      <td>18</td>\n",
       "    </tr>\n",
       "  </tbody>\n",
       "</table>\n",
       "<p>5 rows × 22 columns</p>\n",
       "</div>"
      ],
      "text/plain": [
       "   weight          firstName     lastName  currentTeamId  birthDate  height  \\\n",
       "0      78              Harun        Tekin         4502.0 1989-06-17     187   \n",
       "1      73             Malang         Sarr         3775.0 1999-01-23     182   \n",
       "2      72               Over     Mandanda         3772.0 1998-10-26     176   \n",
       "3      82  Alfred John Momar      N'Diaye          683.0 1990-03-06     187   \n",
       "4      84           Ibrahima  Konat\\u00e9         2975.0 1999-05-25     192   \n",
       "\n",
       "     wyId   foot       shortName  currentNationalTeamId  ...  \\\n",
       "0   32777  right        H. Tekin                 4687.0  ...   \n",
       "1  393228   left         M. Sarr                 4423.0  ...   \n",
       "2  393230    NaN     O. Mandanda                    NaN  ...   \n",
       "3   32793  right      A. N'Diaye                19314.0  ...   \n",
       "4  393247  right  I. Konat\\u00e9                    NaN  ...   \n",
       "\n",
       "  passportArea_alpha3code passportArea_alpha2code birthArea_name birthArea_id  \\\n",
       "0                     TUR                      TR         Turkey          792   \n",
       "1                     SEN                      SN         France          250   \n",
       "2                     FRA                      FR         France          250   \n",
       "3                     SEN                      SN         France          250   \n",
       "4                     FRA                      FR         France          250   \n",
       "\n",
       "  birthArea_alpha3code birthArea_alpha2code role_code2 role_code3   role_name  \\\n",
       "0                  TUR                   TR         GK        GKP  Goalkeeper   \n",
       "1                  FRA                   FR         DF        DEF    Defender   \n",
       "2                  FRA                   FR         GK        GKP  Goalkeeper   \n",
       "3                  FRA                   FR         MD        MID  Midfielder   \n",
       "4                  FRA                   FR         DF        DEF    Defender   \n",
       "\n",
       "  age  \n",
       "0  28  \n",
       "1  18  \n",
       "2  19  \n",
       "3  27  \n",
       "4  18  \n",
       "\n",
       "[5 rows x 22 columns]"
      ]
     },
     "execution_count": 208,
     "metadata": {},
     "output_type": "execute_result"
    }
   ],
   "source": [
    "players.head()"
   ]
  },
  {
   "cell_type": "code",
   "execution_count": 209,
   "id": "1177ab35-206a-421c-bb42-c4d95c8e1780",
   "metadata": {},
   "outputs": [
    {
     "data": {
      "image/png": "[encoded data removed]",
      "text/plain": [
       "<Figure size 1000x600 with 1 Axes>"
      ]
     },
     "metadata": {},
     "output_type": "display_data"
    }
   ],
   "source": [
    "\n",
    "# Extract the month from the birthDate\n",
    "players['birthMonth'] = players['birthDate'].dt.month\n",
    "\n",
    "# Count the occurrences of each month\n",
    "month_counts = players['birthMonth'].value_counts().sort_index()\n",
    "\n",
    "# Plotting\n",
    "plt.figure(figsize=(10, 6))\n",
    "plt.bar(month_counts.index, month_counts.values, color='skyblue', edgecolor='black')\n",
    "plt.title('Number of Players Born in Each Month')\n",
    "plt.xlabel('Month')\n",
    "plt.ylabel('Number of Players')\n",
    "plt.xticks(month_counts.index, ['Jan', 'Feb', 'Mar', 'Apr', 'May', 'Jun', 'Jul', 'Aug', 'Sep', 'Oct', 'Nov', 'Dec'])\n",
    "plt.grid(axis='y')\n",
    "plt.show()\n"
   ]
  },
  {
   "cell_type": "markdown",
   "id": "3810474e-a06d-42f5-882a-6dd233db6e9f",
   "metadata": {},
   "source": [
    "I decided to plot this out of curiousity. I wasnt expecting much. But this seems very odd to me. I cant think of a good explanation for this yet.\n",
    "I know birth rates can vary seasonally and i have read that conception rates are higher in winter months.\n",
    "\n",
    "Another possible explanation is that kids are affected by yearly cutoffs when it comes to what age group they play with. I remember this when I was playing sports too. You are often put in a certain age group based on what year you were born in. So kids born in January will be 10-12 months older than kids born in December in younger age groups. Potentiall putting them at an advantage when it comes to progressing in their career. Still seems odd to me though. I might investigate this further and see if theres any good hypotheses out there.\n",
    "\n",
    "I will plot age next, if it skews to include a lot of younger footballers then maybe that could affect the table result above. Maybe some of the youth players just recently got promoted to the senior teams and are therefore included in this data."
   ]
  },
  {
   "cell_type": "code",
   "execution_count": 211,
   "id": "c1d86c45-409b-40f7-8b83-35ac5ef69073",
   "metadata": {},
   "outputs": [
    {
     "data": {
      "text/html": [
       "<div>\n",
       "<style scoped>\n",
       "    .dataframe tbody tr th:only-of-type {\n",
       "        vertical-align: middle;\n",
       "    }\n",
       "\n",
       "    .dataframe tbody tr th {\n",
       "        vertical-align: top;\n",
       "    }\n",
       "\n",
       "    .dataframe thead th {\n",
       "        text-align: right;\n",
       "    }\n",
       "</style>\n",
       "<table border=\"1\" class=\"dataframe\">\n",
       "  <thead>\n",
       "    <tr style=\"text-align: right;\">\n",
       "      <th></th>\n",
       "      <th>age</th>\n",
       "    </tr>\n",
       "  </thead>\n",
       "  <tbody>\n",
       "    <tr>\n",
       "      <th>count</th>\n",
       "      <td>3603.000000</td>\n",
       "    </tr>\n",
       "    <tr>\n",
       "      <th>mean</th>\n",
       "      <td>25.645851</td>\n",
       "    </tr>\n",
       "    <tr>\n",
       "      <th>std</th>\n",
       "      <td>4.826821</td>\n",
       "    </tr>\n",
       "    <tr>\n",
       "      <th>min</th>\n",
       "      <td>15.000000</td>\n",
       "    </tr>\n",
       "    <tr>\n",
       "      <th>25%</th>\n",
       "      <td>22.000000</td>\n",
       "    </tr>\n",
       "    <tr>\n",
       "      <th>50%</th>\n",
       "      <td>25.000000</td>\n",
       "    </tr>\n",
       "    <tr>\n",
       "      <th>75%</th>\n",
       "      <td>29.000000</td>\n",
       "    </tr>\n",
       "    <tr>\n",
       "      <th>max</th>\n",
       "      <td>44.000000</td>\n",
       "    </tr>\n",
       "  </tbody>\n",
       "</table>\n",
       "</div>"
      ],
      "text/plain": [
       "               age\n",
       "count  3603.000000\n",
       "mean     25.645851\n",
       "std       4.826821\n",
       "min      15.000000\n",
       "25%      22.000000\n",
       "50%      25.000000\n",
       "75%      29.000000\n",
       "max      44.000000"
      ]
     },
     "execution_count": 211,
     "metadata": {},
     "output_type": "execute_result"
    }
   ],
   "source": [
    "players[['age']].describe()"
   ]
  },
  {
   "cell_type": "code",
   "execution_count": 218,
   "id": "f3708fb3-d5af-499d-889d-5eac9b73fd03",
   "metadata": {},
   "outputs": [
    {
     "data": {
      "image/png": "[encoded data removed]",
      "text/plain": [
       "<Figure size 1000x600 with 1 Axes>"
      ]
     },
     "metadata": {},
     "output_type": "display_data"
    }
   ],
   "source": [
    "plt.figure(figsize=(10, 6))\n",
    "sns.histplot(players['age'], bins=30, kde=True, color='skyblue')  # kde=True adds a kernel density estimate\n",
    "plt.title('Age Distribution of Players')\n",
    "plt.xlabel('Age')\n",
    "plt.ylabel('Frequency')\n",
    "plt.grid(axis='y')\n",
    "plt.show()"
   ]
  },
  {
   "cell_type": "markdown",
   "id": "cd5d5d3e-e499-49df-9547-27249342e6e1",
   "metadata": {},
   "source": [
    "There are 2 peaks here. I believe the bigger one is the more natural distribution. The smaller one to the left (around age 21) indicates to me that there is always a fresh batch of young players being promoted to the senior team. A lot of these younger players dont stay at their team and are often loaned out or sold to teams in lower leagues to get more experience. Lower leagues are not included in this data. "
   ]
  },
  {
   "cell_type": "code",
   "execution_count": 219,
   "id": "4fd095cc-5c9b-4163-a6d1-d5742164d169",
   "metadata": {},
   "outputs": [
    {
     "data": {
      "text/html": [
       "<div>\n",
       "<style scoped>\n",
       "    .dataframe tbody tr th:only-of-type {\n",
       "        vertical-align: middle;\n",
       "    }\n",
       "\n",
       "    .dataframe tbody tr th {\n",
       "        vertical-align: top;\n",
       "    }\n",
       "\n",
       "    .dataframe thead th {\n",
       "        text-align: right;\n",
       "    }\n",
       "</style>\n",
       "<table border=\"1\" class=\"dataframe\">\n",
       "  <thead>\n",
       "    <tr style=\"text-align: right;\">\n",
       "      <th></th>\n",
       "      <th>weight</th>\n",
       "      <th>firstName</th>\n",
       "      <th>lastName</th>\n",
       "      <th>currentTeamId</th>\n",
       "      <th>birthDate</th>\n",
       "      <th>height</th>\n",
       "      <th>wyId</th>\n",
       "      <th>foot</th>\n",
       "      <th>shortName</th>\n",
       "      <th>currentNationalTeamId</th>\n",
       "      <th>...</th>\n",
       "      <th>passportArea_alpha2code</th>\n",
       "      <th>birthArea_name</th>\n",
       "      <th>birthArea_id</th>\n",
       "      <th>birthArea_alpha3code</th>\n",
       "      <th>birthArea_alpha2code</th>\n",
       "      <th>role_code2</th>\n",
       "      <th>role_code3</th>\n",
       "      <th>role_name</th>\n",
       "      <th>age</th>\n",
       "      <th>birthMonth</th>\n",
       "    </tr>\n",
       "  </thead>\n",
       "  <tbody>\n",
       "    <tr>\n",
       "      <th>0</th>\n",
       "      <td>78</td>\n",
       "      <td>Harun</td>\n",
       "      <td>Tekin</td>\n",
       "      <td>4502.0</td>\n",
       "      <td>1989-06-17</td>\n",
       "      <td>187</td>\n",
       "      <td>32777</td>\n",
       "      <td>right</td>\n",
       "      <td>H. Tekin</td>\n",
       "      <td>4687.0</td>\n",
       "      <td>...</td>\n",
       "      <td>TR</td>\n",
       "      <td>Turkey</td>\n",
       "      <td>792</td>\n",
       "      <td>TUR</td>\n",
       "      <td>TR</td>\n",
       "      <td>GK</td>\n",
       "      <td>GKP</td>\n",
       "      <td>Goalkeeper</td>\n",
       "      <td>28</td>\n",
       "      <td>6</td>\n",
       "    </tr>\n",
       "    <tr>\n",
       "      <th>1</th>\n",
       "      <td>73</td>\n",
       "      <td>Malang</td>\n",
       "      <td>Sarr</td>\n",
       "      <td>3775.0</td>\n",
       "      <td>1999-01-23</td>\n",
       "      <td>182</td>\n",
       "      <td>393228</td>\n",
       "      <td>left</td>\n",
       "      <td>M. Sarr</td>\n",
       "      <td>4423.0</td>\n",
       "      <td>...</td>\n",
       "      <td>SN</td>\n",
       "      <td>France</td>\n",
       "      <td>250</td>\n",
       "      <td>FRA</td>\n",
       "      <td>FR</td>\n",
       "      <td>DF</td>\n",
       "      <td>DEF</td>\n",
       "      <td>Defender</td>\n",
       "      <td>18</td>\n",
       "      <td>1</td>\n",
       "    </tr>\n",
       "    <tr>\n",
       "      <th>2</th>\n",
       "      <td>72</td>\n",
       "      <td>Over</td>\n",
       "      <td>Mandanda</td>\n",
       "      <td>3772.0</td>\n",
       "      <td>1998-10-26</td>\n",
       "      <td>176</td>\n",
       "      <td>393230</td>\n",
       "      <td>NaN</td>\n",
       "      <td>O. Mandanda</td>\n",
       "      <td>NaN</td>\n",
       "      <td>...</td>\n",
       "      <td>FR</td>\n",
       "      <td>France</td>\n",
       "      <td>250</td>\n",
       "      <td>FRA</td>\n",
       "      <td>FR</td>\n",
       "      <td>GK</td>\n",
       "      <td>GKP</td>\n",
       "      <td>Goalkeeper</td>\n",
       "      <td>19</td>\n",
       "      <td>10</td>\n",
       "    </tr>\n",
       "    <tr>\n",
       "      <th>3</th>\n",
       "      <td>82</td>\n",
       "      <td>Alfred John Momar</td>\n",
       "      <td>N'Diaye</td>\n",
       "      <td>683.0</td>\n",
       "      <td>1990-03-06</td>\n",
       "      <td>187</td>\n",
       "      <td>32793</td>\n",
       "      <td>right</td>\n",
       "      <td>A. N'Diaye</td>\n",
       "      <td>19314.0</td>\n",
       "      <td>...</td>\n",
       "      <td>SN</td>\n",
       "      <td>France</td>\n",
       "      <td>250</td>\n",
       "      <td>FRA</td>\n",
       "      <td>FR</td>\n",
       "      <td>MD</td>\n",
       "      <td>MID</td>\n",
       "      <td>Midfielder</td>\n",
       "      <td>27</td>\n",
       "      <td>3</td>\n",
       "    </tr>\n",
       "    <tr>\n",
       "      <th>4</th>\n",
       "      <td>84</td>\n",
       "      <td>Ibrahima</td>\n",
       "      <td>Konat\\u00e9</td>\n",
       "      <td>2975.0</td>\n",
       "      <td>1999-05-25</td>\n",
       "      <td>192</td>\n",
       "      <td>393247</td>\n",
       "      <td>right</td>\n",
       "      <td>I. Konat\\u00e9</td>\n",
       "      <td>NaN</td>\n",
       "      <td>...</td>\n",
       "      <td>FR</td>\n",
       "      <td>France</td>\n",
       "      <td>250</td>\n",
       "      <td>FRA</td>\n",
       "      <td>FR</td>\n",
       "      <td>DF</td>\n",
       "      <td>DEF</td>\n",
       "      <td>Defender</td>\n",
       "      <td>18</td>\n",
       "      <td>5</td>\n",
       "    </tr>\n",
       "  </tbody>\n",
       "</table>\n",
       "<p>5 rows × 23 columns</p>\n",
       "</div>"
      ],
      "text/plain": [
       "   weight          firstName     lastName  currentTeamId  birthDate  height  \\\n",
       "0      78              Harun        Tekin         4502.0 1989-06-17     187   \n",
       "1      73             Malang         Sarr         3775.0 1999-01-23     182   \n",
       "2      72               Over     Mandanda         3772.0 1998-10-26     176   \n",
       "3      82  Alfred John Momar      N'Diaye          683.0 1990-03-06     187   \n",
       "4      84           Ibrahima  Konat\\u00e9         2975.0 1999-05-25     192   \n",
       "\n",
       "     wyId   foot       shortName  currentNationalTeamId  ...  \\\n",
       "0   32777  right        H. Tekin                 4687.0  ...   \n",
       "1  393228   left         M. Sarr                 4423.0  ...   \n",
       "2  393230    NaN     O. Mandanda                    NaN  ...   \n",
       "3   32793  right      A. N'Diaye                19314.0  ...   \n",
       "4  393247  right  I. Konat\\u00e9                    NaN  ...   \n",
       "\n",
       "  passportArea_alpha2code birthArea_name birthArea_id birthArea_alpha3code  \\\n",
       "0                      TR         Turkey          792                  TUR   \n",
       "1                      SN         France          250                  FRA   \n",
       "2                      FR         France          250                  FRA   \n",
       "3                      SN         France          250                  FRA   \n",
       "4                      FR         France          250                  FRA   \n",
       "\n",
       "  birthArea_alpha2code role_code2 role_code3   role_name age birthMonth  \n",
       "0                   TR         GK        GKP  Goalkeeper  28          6  \n",
       "1                   FR         DF        DEF    Defender  18          1  \n",
       "2                   FR         GK        GKP  Goalkeeper  19         10  \n",
       "3                   FR         MD        MID  Midfielder  27          3  \n",
       "4                   FR         DF        DEF    Defender  18          5  \n",
       "\n",
       "[5 rows x 23 columns]"
      ]
     },
     "execution_count": 219,
     "metadata": {},
     "output_type": "execute_result"
    }
   ],
   "source": [
    "players.head()"
   ]
  },
  {
   "cell_type": "markdown",
   "id": "73740d30-b7a8-4bd9-bec8-2673337656f1",
   "metadata": {},
   "source": [
    "## Team's data"
   ]
  },
  {
   "cell_type": "code",
   "execution_count": 7,
   "id": "1f30767b-2c1c-41ea-b6b8-ef212429aaa4",
   "metadata": {},
   "outputs": [
    {
     "data": {
      "text/html": [
       "<div>\n",
       "<style scoped>\n",
       "    .dataframe tbody tr th:only-of-type {\n",
       "        vertical-align: middle;\n",
       "    }\n",
       "\n",
       "    .dataframe tbody tr th {\n",
       "        vertical-align: top;\n",
       "    }\n",
       "\n",
       "    .dataframe thead th {\n",
       "        text-align: right;\n",
       "    }\n",
       "</style>\n",
       "<table border=\"1\" class=\"dataframe\">\n",
       "  <thead>\n",
       "    <tr style=\"text-align: right;\">\n",
       "      <th></th>\n",
       "      <th>city</th>\n",
       "      <th>name</th>\n",
       "      <th>wyId</th>\n",
       "      <th>officialName</th>\n",
       "      <th>area</th>\n",
       "      <th>type</th>\n",
       "    </tr>\n",
       "  </thead>\n",
       "  <tbody>\n",
       "    <tr>\n",
       "      <th>0</th>\n",
       "      <td>Newcastle upon Tyne</td>\n",
       "      <td>Newcastle United</td>\n",
       "      <td>1613</td>\n",
       "      <td>Newcastle United FC</td>\n",
       "      <td>{'name': 'England', 'id': '0', 'alpha3code': '...</td>\n",
       "      <td>club</td>\n",
       "    </tr>\n",
       "    <tr>\n",
       "      <th>1</th>\n",
       "      <td>Vigo</td>\n",
       "      <td>Celta de Vigo</td>\n",
       "      <td>692</td>\n",
       "      <td>Real Club Celta de Vigo</td>\n",
       "      <td>{'name': 'Spain', 'id': '724', 'alpha3code': '...</td>\n",
       "      <td>club</td>\n",
       "    </tr>\n",
       "    <tr>\n",
       "      <th>2</th>\n",
       "      <td>Barcelona</td>\n",
       "      <td>Espanyol</td>\n",
       "      <td>691</td>\n",
       "      <td>Reial Club Deportiu Espanyol</td>\n",
       "      <td>{'name': 'Spain', 'id': '724', 'alpha3code': '...</td>\n",
       "      <td>club</td>\n",
       "    </tr>\n",
       "    <tr>\n",
       "      <th>3</th>\n",
       "      <td>Vitoria-Gasteiz</td>\n",
       "      <td>Deportivo Alav\\u00e9s</td>\n",
       "      <td>696</td>\n",
       "      <td>Deportivo Alav\\u00e9s</td>\n",
       "      <td>{'name': 'Spain', 'id': '724', 'alpha3code': '...</td>\n",
       "      <td>club</td>\n",
       "    </tr>\n",
       "    <tr>\n",
       "      <th>4</th>\n",
       "      <td>Valencia</td>\n",
       "      <td>Levante</td>\n",
       "      <td>695</td>\n",
       "      <td>Levante UD</td>\n",
       "      <td>{'name': 'Spain', 'id': '724', 'alpha3code': '...</td>\n",
       "      <td>club</td>\n",
       "    </tr>\n",
       "  </tbody>\n",
       "</table>\n",
       "</div>"
      ],
      "text/plain": [
       "                  city                   name  wyId  \\\n",
       "0  Newcastle upon Tyne       Newcastle United  1613   \n",
       "1                 Vigo          Celta de Vigo   692   \n",
       "2            Barcelona               Espanyol   691   \n",
       "3      Vitoria-Gasteiz  Deportivo Alav\\u00e9s   696   \n",
       "4             Valencia                Levante   695   \n",
       "\n",
       "                   officialName  \\\n",
       "0           Newcastle United FC   \n",
       "1       Real Club Celta de Vigo   \n",
       "2  Reial Club Deportiu Espanyol   \n",
       "3         Deportivo Alav\\u00e9s   \n",
       "4                    Levante UD   \n",
       "\n",
       "                                                area  type  \n",
       "0  {'name': 'England', 'id': '0', 'alpha3code': '...  club  \n",
       "1  {'name': 'Spain', 'id': '724', 'alpha3code': '...  club  \n",
       "2  {'name': 'Spain', 'id': '724', 'alpha3code': '...  club  \n",
       "3  {'name': 'Spain', 'id': '724', 'alpha3code': '...  club  \n",
       "4  {'name': 'Spain', 'id': '724', 'alpha3code': '...  club  "
      ]
     },
     "execution_count": 7,
     "metadata": {},
     "output_type": "execute_result"
    }
   ],
   "source": [
    "teams=pd.read_csv('data/teams.csv')\n",
    "teams.head()"
   ]
  },
  {
   "cell_type": "code",
   "execution_count": 267,
   "id": "740f39a1-d11b-4eae-8e6f-cd8189c4fd19",
   "metadata": {},
   "outputs": [],
   "source": [
    "# Apply the conversion function to the passportArea column\n",
    "teams['area'] = teams['area'].apply(convert_to_dict)"
   ]
  },
  {
   "cell_type": "code",
   "execution_count": 268,
   "id": "65a87e1d-2240-4aff-83ae-36795925e944",
   "metadata": {},
   "outputs": [],
   "source": [
    "# Expand the 'passportArea' column\n",
    "area_expanded = pd.json_normalize(teams['area'])\n",
    "\n",
    "# Rename columns to avoid conflicts (optional)\n",
    "area_expanded.columns = [f\"area_{col}\" for col in area_expanded.columns]\n",
    "\n",
    "# Concatenate the expanded columns back with the original DataFrame\n",
    "teams = pd.concat([teams, area_expanded], axis=1)\n",
    "\n",
    "# Drop the original 'passportArea' column if you no longer need it\n",
    "teams = teams.drop(columns=['area'])"
   ]
  },
  {
   "cell_type": "code",
   "execution_count": 272,
   "id": "55558209-0e69-4148-b039-ec0942f72f9b",
   "metadata": {},
   "outputs": [
    {
     "data": {
      "text/html": [
       "<div>\n",
       "<style scoped>\n",
       "    .dataframe tbody tr th:only-of-type {\n",
       "        vertical-align: middle;\n",
       "    }\n",
       "\n",
       "    .dataframe tbody tr th {\n",
       "        vertical-align: top;\n",
       "    }\n",
       "\n",
       "    .dataframe thead th {\n",
       "        text-align: right;\n",
       "    }\n",
       "</style>\n",
       "<table border=\"1\" class=\"dataframe\">\n",
       "  <thead>\n",
       "    <tr style=\"text-align: right;\">\n",
       "      <th></th>\n",
       "      <th>city</th>\n",
       "      <th>name</th>\n",
       "      <th>wyId</th>\n",
       "      <th>officialName</th>\n",
       "      <th>type</th>\n",
       "      <th>area_name</th>\n",
       "      <th>area_id</th>\n",
       "      <th>area_alpha3code</th>\n",
       "      <th>area_alpha2code</th>\n",
       "    </tr>\n",
       "  </thead>\n",
       "  <tbody>\n",
       "    <tr>\n",
       "      <th>0</th>\n",
       "      <td>Newcastle upon Tyne</td>\n",
       "      <td>Newcastle United</td>\n",
       "      <td>1613</td>\n",
       "      <td>Newcastle United FC</td>\n",
       "      <td>club</td>\n",
       "      <td>England</td>\n",
       "      <td>0</td>\n",
       "      <td>XEN</td>\n",
       "      <td></td>\n",
       "    </tr>\n",
       "    <tr>\n",
       "      <th>1</th>\n",
       "      <td>Vigo</td>\n",
       "      <td>Celta de Vigo</td>\n",
       "      <td>692</td>\n",
       "      <td>Real Club Celta de Vigo</td>\n",
       "      <td>club</td>\n",
       "      <td>Spain</td>\n",
       "      <td>724</td>\n",
       "      <td>ESP</td>\n",
       "      <td>ES</td>\n",
       "    </tr>\n",
       "    <tr>\n",
       "      <th>2</th>\n",
       "      <td>Barcelona</td>\n",
       "      <td>Espanyol</td>\n",
       "      <td>691</td>\n",
       "      <td>Reial Club Deportiu Espanyol</td>\n",
       "      <td>club</td>\n",
       "      <td>Spain</td>\n",
       "      <td>724</td>\n",
       "      <td>ESP</td>\n",
       "      <td>ES</td>\n",
       "    </tr>\n",
       "    <tr>\n",
       "      <th>3</th>\n",
       "      <td>Vitoria-Gasteiz</td>\n",
       "      <td>Deportivo Alav\\u00e9s</td>\n",
       "      <td>696</td>\n",
       "      <td>Deportivo Alav\\u00e9s</td>\n",
       "      <td>club</td>\n",
       "      <td>Spain</td>\n",
       "      <td>724</td>\n",
       "      <td>ESP</td>\n",
       "      <td>ES</td>\n",
       "    </tr>\n",
       "    <tr>\n",
       "      <th>4</th>\n",
       "      <td>Valencia</td>\n",
       "      <td>Levante</td>\n",
       "      <td>695</td>\n",
       "      <td>Levante UD</td>\n",
       "      <td>club</td>\n",
       "      <td>Spain</td>\n",
       "      <td>724</td>\n",
       "      <td>ESP</td>\n",
       "      <td>ES</td>\n",
       "    </tr>\n",
       "  </tbody>\n",
       "</table>\n",
       "</div>"
      ],
      "text/plain": [
       "                  city                   name  wyId  \\\n",
       "0  Newcastle upon Tyne       Newcastle United  1613   \n",
       "1                 Vigo          Celta de Vigo   692   \n",
       "2            Barcelona               Espanyol   691   \n",
       "3      Vitoria-Gasteiz  Deportivo Alav\\u00e9s   696   \n",
       "4             Valencia                Levante   695   \n",
       "\n",
       "                   officialName  type area_name area_id area_alpha3code  \\\n",
       "0           Newcastle United FC  club   England       0             XEN   \n",
       "1       Real Club Celta de Vigo  club     Spain     724             ESP   \n",
       "2  Reial Club Deportiu Espanyol  club     Spain     724             ESP   \n",
       "3         Deportivo Alav\\u00e9s  club     Spain     724             ESP   \n",
       "4                    Levante UD  club     Spain     724             ESP   \n",
       "\n",
       "  area_alpha2code  \n",
       "0                  \n",
       "1              ES  \n",
       "2              ES  \n",
       "3              ES  \n",
       "4              ES  "
      ]
     },
     "execution_count": 272,
     "metadata": {},
     "output_type": "execute_result"
    }
   ],
   "source": [
    "teams.head()"
   ]
  },
  {
   "cell_type": "code",
   "execution_count": 287,
   "id": "22062005-3274-4f41-84e4-ab0d3a8e620a",
   "metadata": {},
   "outputs": [
    {
     "data": {
      "text/html": [
       "<div>\n",
       "<style scoped>\n",
       "    .dataframe tbody tr th:only-of-type {\n",
       "        vertical-align: middle;\n",
       "    }\n",
       "\n",
       "    .dataframe tbody tr th {\n",
       "        vertical-align: top;\n",
       "    }\n",
       "\n",
       "    .dataframe thead th {\n",
       "        text-align: right;\n",
       "    }\n",
       "</style>\n",
       "<table border=\"1\" class=\"dataframe\">\n",
       "  <thead>\n",
       "    <tr style=\"text-align: right;\">\n",
       "      <th></th>\n",
       "      <th>area_alpha3code</th>\n",
       "      <th>area_alpha2code</th>\n",
       "      <th>area_name</th>\n",
       "      <th>count</th>\n",
       "    </tr>\n",
       "  </thead>\n",
       "  <tbody>\n",
       "    <tr>\n",
       "      <th>44</th>\n",
       "      <td>XNI</td>\n",
       "      <td></td>\n",
       "      <td>Northern Ireland</td>\n",
       "      <td>1</td>\n",
       "    </tr>\n",
       "    <tr>\n",
       "      <th>3</th>\n",
       "      <td>XEN</td>\n",
       "      <td></td>\n",
       "      <td>England</td>\n",
       "      <td>20</td>\n",
       "    </tr>\n",
       "    <tr>\n",
       "      <th>5</th>\n",
       "      <td>XWA</td>\n",
       "      <td></td>\n",
       "      <td>Wales</td>\n",
       "      <td>2</td>\n",
       "    </tr>\n",
       "    <tr>\n",
       "      <th>12</th>\n",
       "      <td>ALB</td>\n",
       "      <td>AL</td>\n",
       "      <td>Albania</td>\n",
       "      <td>1</td>\n",
       "    </tr>\n",
       "    <tr>\n",
       "      <th>9</th>\n",
       "      <td>ARG</td>\n",
       "      <td>AR</td>\n",
       "      <td>Argentina</td>\n",
       "      <td>1</td>\n",
       "    </tr>\n",
       "  </tbody>\n",
       "</table>\n",
       "</div>"
      ],
      "text/plain": [
       "   area_alpha3code area_alpha2code         area_name  count\n",
       "44             XNI                  Northern Ireland      1\n",
       "3              XEN                           England     20\n",
       "5              XWA                             Wales      2\n",
       "12             ALB              AL           Albania      1\n",
       "9              ARG              AR         Argentina      1"
      ]
     },
     "execution_count": 287,
     "metadata": {},
     "output_type": "execute_result"
    }
   ],
   "source": [
    "teams[['area_alpha3code','area_alpha2code','area_name']].value_counts().reset_index().sort_values(by=['area_alpha2code']).head()"
   ]
  },
  {
   "cell_type": "markdown",
   "id": "1d62a0c3-8dd7-4072-9c57-f0752dab80ac",
   "metadata": {},
   "source": [
    "I can see again that the aplha 2 code is null for nothern ireland, england and wales. So i still plan to use the alpha3code instead of the 2code."
   ]
  },
  {
   "cell_type": "markdown",
   "id": "ec9e6e68-f017-4b6d-8900-acee5981c8fb",
   "metadata": {},
   "source": [
    "I was wondering what northern ireland team would be involved...then i checked and realised that national teams are also included here. Nice! I was wondering about that, because i find that more interesting than the country of birth or their passport. Knowing if they play internationally feels more interesting to me"
   ]
  },
  {
   "cell_type": "code",
   "execution_count": 290,
   "id": "789b586b-b10f-46f1-a733-05df2912eff9",
   "metadata": {},
   "outputs": [
    {
     "data": {
      "text/plain": [
       "type\n",
       "club        98\n",
       "national    44\n",
       "Name: count, dtype: int64"
      ]
     },
     "execution_count": 290,
     "metadata": {},
     "output_type": "execute_result"
    }
   ],
   "source": [
    "teams['type'].value_counts()"
   ]
  },
  {
   "cell_type": "code",
   "execution_count": 293,
   "id": "cb30581e-cee9-40e7-b302-89c2e7924e74",
   "metadata": {},
   "outputs": [],
   "source": [
    "#teams[teams['type']=='national']"
   ]
  },
  {
   "cell_type": "code",
   "execution_count": 296,
   "id": "b32b0684-60eb-4c4b-9f8f-5b0c9d184730",
   "metadata": {},
   "outputs": [
    {
     "data": {
      "text/plain": [
       "weight                                      78\n",
       "firstName                                Harun\n",
       "lastName                                 Tekin\n",
       "currentTeamId                           4502.0\n",
       "birthDate                  1989-06-17 00:00:00\n",
       "height                                     187\n",
       "wyId                                     32777\n",
       "foot                                     right\n",
       "shortName                             H. Tekin\n",
       "currentNationalTeamId                   4687.0\n",
       "passportArea_name                       Turkey\n",
       "passportArea_id                            792\n",
       "passportArea_alpha3code                    TUR\n",
       "passportArea_alpha2code                     TR\n",
       "birthArea_name                          Turkey\n",
       "birthArea_id                               792\n",
       "birthArea_alpha3code                       TUR\n",
       "birthArea_alpha2code                        TR\n",
       "role_code2                                  GK\n",
       "role_code3                                 GKP\n",
       "role_name                           Goalkeeper\n",
       "age                                         28\n",
       "birthMonth                                   6\n",
       "Name: 0, dtype: object"
      ]
     },
     "execution_count": 296,
     "metadata": {},
     "output_type": "execute_result"
    }
   ],
   "source": [
    "players.iloc[0]"
   ]
  },
  {
   "cell_type": "code",
   "execution_count": 298,
   "id": "fb109faf-0b6a-49ca-9e65-dfc5e526c62f",
   "metadata": {},
   "outputs": [
    {
     "data": {
      "text/plain": [
       "city               Newcastle upon Tyne\n",
       "name                  Newcastle United\n",
       "wyId                              1613\n",
       "officialName       Newcastle United FC\n",
       "type                              club\n",
       "area_name                      England\n",
       "area_id                              0\n",
       "area_alpha3code                    XEN\n",
       "area_alpha2code                       \n",
       "Name: 0, dtype: object"
      ]
     },
     "execution_count": 298,
     "metadata": {},
     "output_type": "execute_result"
    }
   ],
   "source": [
    "teams.iloc[0]"
   ]
  },
  {
   "cell_type": "markdown",
   "id": "859bf337-eb9e-46b5-860c-484204d569fc",
   "metadata": {},
   "source": [
    "I know from reading the documentation of the dataset that the players(currentTeamId and currentNationalTeamId) will link to teams (wyId)\n",
    "I will do some joins there to make sure its working nicely and most the data joins successfully"
   ]
  },
  {
   "cell_type": "code",
   "execution_count": 306,
   "id": "cebcd770-76da-4908-9fd0-c6ce487cb5cc",
   "metadata": {},
   "outputs": [
    {
     "data": {
      "text/plain": [
       "Index(['wyId'], dtype='object')"
      ]
     },
     "execution_count": 306,
     "metadata": {},
     "output_type": "execute_result"
    }
   ],
   "source": [
    "teams.columns.intersection(players.columns)"
   ]
  },
  {
   "cell_type": "code",
   "execution_count": 305,
   "id": "b3b3d49e-3b81-44fc-8c9c-05b4ee981323",
   "metadata": {},
   "outputs": [],
   "source": [
    "#left join the teams table (it contains all the football teams across other leagues that im not currently interested in) to the players data\n",
    "\n",
    "players_teams=players.merge(teams, how='left', left_on='currentTeamId', right_on='wyId')\n"
   ]
  },
  {
   "cell_type": "code",
   "execution_count": 312,
   "id": "6fa8a0a3-aceb-4f33-b2cc-b077b1b12119",
   "metadata": {},
   "outputs": [
    {
     "data": {
      "text/plain": [
       "officialName\n",
       "False    2439\n",
       "True     1164\n",
       "Name: count, dtype: int64"
      ]
     },
     "execution_count": 312,
     "metadata": {},
     "output_type": "execute_result"
    }
   ],
   "source": [
    "players_teams['officialName'].isna().value_counts()"
   ]
  },
  {
   "cell_type": "code",
   "execution_count": 321,
   "id": "36d47a78-b8e6-48ae-87e9-924abec776d3",
   "metadata": {},
   "outputs": [
    {
     "data": {
      "text/html": [
       "<div>\n",
       "<style scoped>\n",
       "    .dataframe tbody tr th:only-of-type {\n",
       "        vertical-align: middle;\n",
       "    }\n",
       "\n",
       "    .dataframe tbody tr th {\n",
       "        vertical-align: top;\n",
       "    }\n",
       "\n",
       "    .dataframe thead th {\n",
       "        text-align: right;\n",
       "    }\n",
       "</style>\n",
       "<table border=\"1\" class=\"dataframe\">\n",
       "  <thead>\n",
       "    <tr style=\"text-align: right;\">\n",
       "      <th></th>\n",
       "      <th>weight</th>\n",
       "      <th>firstName</th>\n",
       "      <th>lastName</th>\n",
       "      <th>currentTeamId</th>\n",
       "      <th>birthDate</th>\n",
       "      <th>height</th>\n",
       "      <th>wyId_x</th>\n",
       "      <th>foot</th>\n",
       "      <th>shortName</th>\n",
       "      <th>currentNationalTeamId</th>\n",
       "      <th>...</th>\n",
       "      <th>birthMonth</th>\n",
       "      <th>city</th>\n",
       "      <th>name</th>\n",
       "      <th>wyId_y</th>\n",
       "      <th>officialName</th>\n",
       "      <th>type</th>\n",
       "      <th>area_name</th>\n",
       "      <th>area_id</th>\n",
       "      <th>area_alpha3code</th>\n",
       "      <th>area_alpha2code</th>\n",
       "    </tr>\n",
       "  </thead>\n",
       "  <tbody>\n",
       "    <tr>\n",
       "      <th>0</th>\n",
       "      <td>78</td>\n",
       "      <td>Harun</td>\n",
       "      <td>Tekin</td>\n",
       "      <td>4502.0</td>\n",
       "      <td>1989-06-17</td>\n",
       "      <td>187</td>\n",
       "      <td>32777</td>\n",
       "      <td>right</td>\n",
       "      <td>H. Tekin</td>\n",
       "      <td>4687.0</td>\n",
       "      <td>...</td>\n",
       "      <td>6</td>\n",
       "      <td>NaN</td>\n",
       "      <td>NaN</td>\n",
       "      <td>NaN</td>\n",
       "      <td>NaN</td>\n",
       "      <td>NaN</td>\n",
       "      <td>NaN</td>\n",
       "      <td>NaN</td>\n",
       "      <td>NaN</td>\n",
       "      <td>NaN</td>\n",
       "    </tr>\n",
       "    <tr>\n",
       "      <th>25</th>\n",
       "      <td>78</td>\n",
       "      <td>Karim</td>\n",
       "      <td>El Ahmadi Al Aroos</td>\n",
       "      <td>16469.0</td>\n",
       "      <td>1985-01-27</td>\n",
       "      <td>179</td>\n",
       "      <td>142</td>\n",
       "      <td>right</td>\n",
       "      <td>K. El Ahmadi</td>\n",
       "      <td>16216.0</td>\n",
       "      <td>...</td>\n",
       "      <td>1</td>\n",
       "      <td>NaN</td>\n",
       "      <td>NaN</td>\n",
       "      <td>NaN</td>\n",
       "      <td>NaN</td>\n",
       "      <td>NaN</td>\n",
       "      <td>NaN</td>\n",
       "      <td>NaN</td>\n",
       "      <td>NaN</td>\n",
       "      <td>NaN</td>\n",
       "    </tr>\n",
       "    <tr>\n",
       "      <th>27</th>\n",
       "      <td>86</td>\n",
       "      <td>Volkan</td>\n",
       "      <td>Babacan</td>\n",
       "      <td>4535.0</td>\n",
       "      <td>1988-08-11</td>\n",
       "      <td>192</td>\n",
       "      <td>32923</td>\n",
       "      <td>right</td>\n",
       "      <td>V. Babacan</td>\n",
       "      <td>4687.0</td>\n",
       "      <td>...</td>\n",
       "      <td>8</td>\n",
       "      <td>NaN</td>\n",
       "      <td>NaN</td>\n",
       "      <td>NaN</td>\n",
       "      <td>NaN</td>\n",
       "      <td>NaN</td>\n",
       "      <td>NaN</td>\n",
       "      <td>NaN</td>\n",
       "      <td>NaN</td>\n",
       "      <td>NaN</td>\n",
       "    </tr>\n",
       "    <tr>\n",
       "      <th>32</th>\n",
       "      <td>77</td>\n",
       "      <td>Nordin</td>\n",
       "      <td>Amrabat</td>\n",
       "      <td>16470.0</td>\n",
       "      <td>1987-03-31</td>\n",
       "      <td>178</td>\n",
       "      <td>32968</td>\n",
       "      <td>right</td>\n",
       "      <td>N. Amrabat</td>\n",
       "      <td>16216.0</td>\n",
       "      <td>...</td>\n",
       "      <td>3</td>\n",
       "      <td>NaN</td>\n",
       "      <td>NaN</td>\n",
       "      <td>NaN</td>\n",
       "      <td>NaN</td>\n",
       "      <td>NaN</td>\n",
       "      <td>NaN</td>\n",
       "      <td>NaN</td>\n",
       "      <td>NaN</td>\n",
       "      <td>NaN</td>\n",
       "    </tr>\n",
       "    <tr>\n",
       "      <th>39</th>\n",
       "      <td>78</td>\n",
       "      <td>Andr\\u00e9</td>\n",
       "      <td>Ramalho Silva</td>\n",
       "      <td>8743.0</td>\n",
       "      <td>1992-02-16</td>\n",
       "      <td>182</td>\n",
       "      <td>65880</td>\n",
       "      <td>right</td>\n",
       "      <td>Andr\\u00e9 Ramalho</td>\n",
       "      <td>NaN</td>\n",
       "      <td>...</td>\n",
       "      <td>2</td>\n",
       "      <td>NaN</td>\n",
       "      <td>NaN</td>\n",
       "      <td>NaN</td>\n",
       "      <td>NaN</td>\n",
       "      <td>NaN</td>\n",
       "      <td>NaN</td>\n",
       "      <td>NaN</td>\n",
       "      <td>NaN</td>\n",
       "      <td>NaN</td>\n",
       "    </tr>\n",
       "  </tbody>\n",
       "</table>\n",
       "<p>5 rows × 32 columns</p>\n",
       "</div>"
      ],
      "text/plain": [
       "    weight   firstName            lastName  currentTeamId  birthDate  height  \\\n",
       "0       78       Harun               Tekin         4502.0 1989-06-17     187   \n",
       "25      78       Karim  El Ahmadi Al Aroos        16469.0 1985-01-27     179   \n",
       "27      86      Volkan             Babacan         4535.0 1988-08-11     192   \n",
       "32      77      Nordin             Amrabat        16470.0 1987-03-31     178   \n",
       "39      78  Andr\\u00e9       Ramalho Silva         8743.0 1992-02-16     182   \n",
       "\n",
       "    wyId_x   foot           shortName  currentNationalTeamId  ... birthMonth  \\\n",
       "0    32777  right            H. Tekin                 4687.0  ...          6   \n",
       "25     142  right        K. El Ahmadi                16216.0  ...          1   \n",
       "27   32923  right          V. Babacan                 4687.0  ...          8   \n",
       "32   32968  right          N. Amrabat                16216.0  ...          3   \n",
       "39   65880  right  Andr\\u00e9 Ramalho                    NaN  ...          2   \n",
       "\n",
       "   city name wyId_y officialName type area_name area_id area_alpha3code  \\\n",
       "0   NaN  NaN    NaN          NaN  NaN       NaN     NaN             NaN   \n",
       "25  NaN  NaN    NaN          NaN  NaN       NaN     NaN             NaN   \n",
       "27  NaN  NaN    NaN          NaN  NaN       NaN     NaN             NaN   \n",
       "32  NaN  NaN    NaN          NaN  NaN       NaN     NaN             NaN   \n",
       "39  NaN  NaN    NaN          NaN  NaN       NaN     NaN             NaN   \n",
       "\n",
       "   area_alpha2code  \n",
       "0              NaN  \n",
       "25             NaN  \n",
       "27             NaN  \n",
       "32             NaN  \n",
       "39             NaN  \n",
       "\n",
       "[5 rows x 32 columns]"
      ]
     },
     "execution_count": 321,
     "metadata": {},
     "output_type": "execute_result"
    }
   ],
   "source": [
    "players_teams[players_teams['officialName'].isna()].head()"
   ]
  },
  {
   "cell_type": "code",
   "execution_count": 320,
   "id": "4d387358-10ea-4d06-a77b-f3a86ebca84e",
   "metadata": {},
   "outputs": [
    {
     "data": {
      "text/html": [
       "<div>\n",
       "<style scoped>\n",
       "    .dataframe tbody tr th:only-of-type {\n",
       "        vertical-align: middle;\n",
       "    }\n",
       "\n",
       "    .dataframe tbody tr th {\n",
       "        vertical-align: top;\n",
       "    }\n",
       "\n",
       "    .dataframe thead th {\n",
       "        text-align: right;\n",
       "    }\n",
       "</style>\n",
       "<table border=\"1\" class=\"dataframe\">\n",
       "  <thead>\n",
       "    <tr style=\"text-align: right;\">\n",
       "      <th></th>\n",
       "      <th>weight</th>\n",
       "      <th>firstName</th>\n",
       "      <th>lastName</th>\n",
       "      <th>currentTeamId</th>\n",
       "      <th>birthDate</th>\n",
       "      <th>height</th>\n",
       "      <th>wyId_x</th>\n",
       "      <th>foot</th>\n",
       "      <th>shortName</th>\n",
       "      <th>currentNationalTeamId</th>\n",
       "      <th>...</th>\n",
       "      <th>birthMonth</th>\n",
       "      <th>city</th>\n",
       "      <th>name</th>\n",
       "      <th>wyId_y</th>\n",
       "      <th>officialName</th>\n",
       "      <th>type</th>\n",
       "      <th>area_name</th>\n",
       "      <th>area_id</th>\n",
       "      <th>area_alpha3code</th>\n",
       "      <th>area_alpha2code</th>\n",
       "    </tr>\n",
       "  </thead>\n",
       "  <tbody>\n",
       "    <tr>\n",
       "      <th>52</th>\n",
       "      <td>75</td>\n",
       "      <td>Alex</td>\n",
       "      <td>Iwobi</td>\n",
       "      <td>1609.0</td>\n",
       "      <td>1996-05-03</td>\n",
       "      <td>180</td>\n",
       "      <td>230020</td>\n",
       "      <td>right</td>\n",
       "      <td>A. Iwobi</td>\n",
       "      <td>16823.0</td>\n",
       "      <td>...</td>\n",
       "      <td>5</td>\n",
       "      <td>London</td>\n",
       "      <td>Arsenal</td>\n",
       "      <td>1609.0</td>\n",
       "      <td>Arsenal FC</td>\n",
       "      <td>club</td>\n",
       "      <td>England</td>\n",
       "      <td>0</td>\n",
       "      <td>XEN</td>\n",
       "      <td></td>\n",
       "    </tr>\n",
       "    <tr>\n",
       "      <th>182</th>\n",
       "      <td>76</td>\n",
       "      <td>Mesut</td>\n",
       "      <td>\\u00d6zil</td>\n",
       "      <td>1609.0</td>\n",
       "      <td>1988-10-15</td>\n",
       "      <td>180</td>\n",
       "      <td>3319</td>\n",
       "      <td>left</td>\n",
       "      <td>M. \\u00d6zil</td>\n",
       "      <td>3148.0</td>\n",
       "      <td>...</td>\n",
       "      <td>10</td>\n",
       "      <td>London</td>\n",
       "      <td>Arsenal</td>\n",
       "      <td>1609.0</td>\n",
       "      <td>Arsenal FC</td>\n",
       "      <td>club</td>\n",
       "      <td>England</td>\n",
       "      <td>0</td>\n",
       "      <td>XEN</td>\n",
       "      <td></td>\n",
       "    </tr>\n",
       "    <tr>\n",
       "      <th>549</th>\n",
       "      <td>64</td>\n",
       "      <td>Lucas</td>\n",
       "      <td>Torreira Di Pascua</td>\n",
       "      <td>1609.0</td>\n",
       "      <td>1996-02-11</td>\n",
       "      <td>168</td>\n",
       "      <td>333571</td>\n",
       "      <td>right</td>\n",
       "      <td>L. Torreira</td>\n",
       "      <td>15670.0</td>\n",
       "      <td>...</td>\n",
       "      <td>2</td>\n",
       "      <td>London</td>\n",
       "      <td>Arsenal</td>\n",
       "      <td>1609.0</td>\n",
       "      <td>Arsenal FC</td>\n",
       "      <td>club</td>\n",
       "      <td>England</td>\n",
       "      <td>0</td>\n",
       "      <td>XEN</td>\n",
       "      <td></td>\n",
       "    </tr>\n",
       "    <tr>\n",
       "      <th>681</th>\n",
       "      <td>73</td>\n",
       "      <td>Daniel Nii</td>\n",
       "      <td>Tackie Mensah Welbeck</td>\n",
       "      <td>1609.0</td>\n",
       "      <td>1990-11-26</td>\n",
       "      <td>185</td>\n",
       "      <td>7945</td>\n",
       "      <td>right</td>\n",
       "      <td>D. Welbeck</td>\n",
       "      <td>2413.0</td>\n",
       "      <td>...</td>\n",
       "      <td>11</td>\n",
       "      <td>London</td>\n",
       "      <td>Arsenal</td>\n",
       "      <td>1609.0</td>\n",
       "      <td>Arsenal FC</td>\n",
       "      <td>club</td>\n",
       "      <td>England</td>\n",
       "      <td>0</td>\n",
       "      <td>XEN</td>\n",
       "      <td></td>\n",
       "    </tr>\n",
       "    <tr>\n",
       "      <th>1280</th>\n",
       "      <td>82</td>\n",
       "      <td>Granit</td>\n",
       "      <td>Xhaka</td>\n",
       "      <td>1609.0</td>\n",
       "      <td>1992-09-27</td>\n",
       "      <td>185</td>\n",
       "      <td>49876</td>\n",
       "      <td>left</td>\n",
       "      <td>G. Xhaka</td>\n",
       "      <td>6697.0</td>\n",
       "      <td>...</td>\n",
       "      <td>9</td>\n",
       "      <td>London</td>\n",
       "      <td>Arsenal</td>\n",
       "      <td>1609.0</td>\n",
       "      <td>Arsenal FC</td>\n",
       "      <td>club</td>\n",
       "      <td>England</td>\n",
       "      <td>0</td>\n",
       "      <td>XEN</td>\n",
       "      <td></td>\n",
       "    </tr>\n",
       "  </tbody>\n",
       "</table>\n",
       "<p>5 rows × 32 columns</p>\n",
       "</div>"
      ],
      "text/plain": [
       "      weight   firstName               lastName  currentTeamId  birthDate  \\\n",
       "52        75        Alex                  Iwobi         1609.0 1996-05-03   \n",
       "182       76       Mesut              \\u00d6zil         1609.0 1988-10-15   \n",
       "549       64       Lucas     Torreira Di Pascua         1609.0 1996-02-11   \n",
       "681       73  Daniel Nii  Tackie Mensah Welbeck         1609.0 1990-11-26   \n",
       "1280      82      Granit                  Xhaka         1609.0 1992-09-27   \n",
       "\n",
       "      height  wyId_x   foot     shortName  currentNationalTeamId  ...  \\\n",
       "52       180  230020  right      A. Iwobi                16823.0  ...   \n",
       "182      180    3319   left  M. \\u00d6zil                 3148.0  ...   \n",
       "549      168  333571  right   L. Torreira                15670.0  ...   \n",
       "681      185    7945  right    D. Welbeck                 2413.0  ...   \n",
       "1280     185   49876   left      G. Xhaka                 6697.0  ...   \n",
       "\n",
       "     birthMonth    city     name  wyId_y officialName  type area_name area_id  \\\n",
       "52            5  London  Arsenal  1609.0   Arsenal FC  club   England       0   \n",
       "182          10  London  Arsenal  1609.0   Arsenal FC  club   England       0   \n",
       "549           2  London  Arsenal  1609.0   Arsenal FC  club   England       0   \n",
       "681          11  London  Arsenal  1609.0   Arsenal FC  club   England       0   \n",
       "1280          9  London  Arsenal  1609.0   Arsenal FC  club   England       0   \n",
       "\n",
       "     area_alpha3code area_alpha2code  \n",
       "52               XEN                  \n",
       "182              XEN                  \n",
       "549              XEN                  \n",
       "681              XEN                  \n",
       "1280             XEN                  \n",
       "\n",
       "[5 rows x 32 columns]"
      ]
     },
     "execution_count": 320,
     "metadata": {},
     "output_type": "execute_result"
    }
   ],
   "source": [
    "players_teams[players_teams['officialName']=='Arsenal FC'].head()"
   ]
  },
  {
   "cell_type": "code",
   "execution_count": 326,
   "id": "6e1abe19-d5f8-49a6-8408-ca66b84b69e9",
   "metadata": {},
   "outputs": [
    {
     "data": {
      "text/plain": [
       "officialName\n",
       "Stoke City FC                26\n",
       "Tottenham Hotspur FC         25\n",
       "Leicester City FC            24\n",
       "Newcastle United FC          24\n",
       "Chelsea FC                   24\n",
       "Manchester City FC           24\n",
       "Manchester United FC         24\n",
       "Watford FC                   23\n",
       "AFC Bournemouth              23\n",
       "Crystal Palace FC            23\n",
       "Burnley FC                   22\n",
       "West Bromwich Albion FC      22\n",
       "Liverpool FC                 22\n",
       "Huddersfield Town FC         21\n",
       "Southampton FC               21\n",
       "Everton FC                   21\n",
       "Arsenal FC                   20\n",
       "Brighton & Hove Albion FC    18\n",
       "West Ham United FC           18\n",
       "Name: count, dtype: int64"
      ]
     },
     "execution_count": 326,
     "metadata": {},
     "output_type": "execute_result"
    }
   ],
   "source": [
    "players_teams[players_teams['area_name']=='England']['officialName'].value_counts()"
   ]
  },
  {
   "cell_type": "code",
   "execution_count": 327,
   "id": "b3317c2b-4d7c-4eea-b827-a9b57b88b596",
   "metadata": {},
   "outputs": [
    {
     "data": {
      "text/plain": [
       "officialName\n",
       "Swansea City AFC    17\n",
       "Name: count, dtype: int64"
      ]
     },
     "execution_count": 327,
     "metadata": {},
     "output_type": "execute_result"
    }
   ],
   "source": [
    "players_teams[players_teams['area_name']=='Wales']['officialName'].value_counts()"
   ]
  },
  {
   "cell_type": "markdown",
   "id": "8c344aa4-d1b6-47e3-8707-bde8b0727124",
   "metadata": {},
   "source": [
    "There are a lot of nulls, so i wanted to make sure that there was data for the teams I am interested in (the 20 premier league teams)\n",
    "I checked, and there were only 19 teams. So I wanted to see what team was missing. It was Swansea, and they are actually based in Wales. So I need to remember to include them when filtering. \n",
    "\n",
    "I have a good amount of data. but only 18 playeers for brighton and westham is low. I know they used more than 18 players that year. So I will see to see if i can find a player from West ham in the table and see why they werent included in the join."
   ]
  },
  {
   "cell_type": "code",
   "execution_count": 335,
   "id": "78b53d8a-14ee-4b54-aea8-95a56a77e67a",
   "metadata": {},
   "outputs": [
    {
     "data": {
      "text/html": [
       "<div>\n",
       "<style scoped>\n",
       "    .dataframe tbody tr th:only-of-type {\n",
       "        vertical-align: middle;\n",
       "    }\n",
       "\n",
       "    .dataframe tbody tr th {\n",
       "        vertical-align: top;\n",
       "    }\n",
       "\n",
       "    .dataframe thead th {\n",
       "        text-align: right;\n",
       "    }\n",
       "</style>\n",
       "<table border=\"1\" class=\"dataframe\">\n",
       "  <thead>\n",
       "    <tr style=\"text-align: right;\">\n",
       "      <th></th>\n",
       "      <th>weight</th>\n",
       "      <th>firstName</th>\n",
       "      <th>lastName</th>\n",
       "      <th>currentTeamId</th>\n",
       "      <th>birthDate</th>\n",
       "      <th>height</th>\n",
       "      <th>wyId_x</th>\n",
       "      <th>foot</th>\n",
       "      <th>shortName</th>\n",
       "      <th>currentNationalTeamId</th>\n",
       "      <th>...</th>\n",
       "      <th>birthMonth</th>\n",
       "      <th>city</th>\n",
       "      <th>name</th>\n",
       "      <th>wyId_y</th>\n",
       "      <th>officialName</th>\n",
       "      <th>type</th>\n",
       "      <th>area_name</th>\n",
       "      <th>area_id</th>\n",
       "      <th>area_alpha3code</th>\n",
       "      <th>area_alpha2code</th>\n",
       "    </tr>\n",
       "  </thead>\n",
       "  <tbody>\n",
       "    <tr>\n",
       "      <th>654</th>\n",
       "      <td>83</td>\n",
       "      <td>\\u0141ukasz</td>\n",
       "      <td>Fabia\\u0144ski</td>\n",
       "      <td>1633.0</td>\n",
       "      <td>1985-04-18</td>\n",
       "      <td>190</td>\n",
       "      <td>7847</td>\n",
       "      <td>right</td>\n",
       "      <td>\\u0141. Fabia\\u0144ski</td>\n",
       "      <td>13869.0</td>\n",
       "      <td>...</td>\n",
       "      <td>4</td>\n",
       "      <td>London</td>\n",
       "      <td>West Ham United</td>\n",
       "      <td>1633.0</td>\n",
       "      <td>West Ham United FC</td>\n",
       "      <td>club</td>\n",
       "      <td>England</td>\n",
       "      <td>0</td>\n",
       "      <td>XEN</td>\n",
       "      <td></td>\n",
       "    </tr>\n",
       "    <tr>\n",
       "      <th>680</th>\n",
       "      <td>73</td>\n",
       "      <td>Javier</td>\n",
       "      <td>Hern\\u00e1ndez Balc\\u00e1zar</td>\n",
       "      <td>1633.0</td>\n",
       "      <td>1988-06-01</td>\n",
       "      <td>175</td>\n",
       "      <td>7941</td>\n",
       "      <td>right</td>\n",
       "      <td>J. Hern\\u00e1ndez</td>\n",
       "      <td>15473.0</td>\n",
       "      <td>...</td>\n",
       "      <td>6</td>\n",
       "      <td>London</td>\n",
       "      <td>West Ham United</td>\n",
       "      <td>1633.0</td>\n",
       "      <td>West Ham United FC</td>\n",
       "      <td>club</td>\n",
       "      <td>England</td>\n",
       "      <td>0</td>\n",
       "      <td>XEN</td>\n",
       "      <td></td>\n",
       "    </tr>\n",
       "    <tr>\n",
       "      <th>2108</th>\n",
       "      <td>80</td>\n",
       "      <td>Carlos Alberto</td>\n",
       "      <td>S\\u00e1nchez Moreno</td>\n",
       "      <td>1633.0</td>\n",
       "      <td>1986-02-06</td>\n",
       "      <td>182</td>\n",
       "      <td>26518</td>\n",
       "      <td>right</td>\n",
       "      <td>C. S\\u00e1nchez</td>\n",
       "      <td>12430.0</td>\n",
       "      <td>...</td>\n",
       "      <td>2</td>\n",
       "      <td>London</td>\n",
       "      <td>West Ham United</td>\n",
       "      <td>1633.0</td>\n",
       "      <td>West Ham United FC</td>\n",
       "      <td>club</td>\n",
       "      <td>England</td>\n",
       "      <td>0</td>\n",
       "      <td>XEN</td>\n",
       "      <td></td>\n",
       "    </tr>\n",
       "    <tr>\n",
       "      <th>2477</th>\n",
       "      <td>83</td>\n",
       "      <td>Marko</td>\n",
       "      <td>Arnautovi\\u0107</td>\n",
       "      <td>1633.0</td>\n",
       "      <td>1989-04-19</td>\n",
       "      <td>192</td>\n",
       "      <td>14703</td>\n",
       "      <td>right</td>\n",
       "      <td>M. Arnautovi\\u0107</td>\n",
       "      <td>9109.0</td>\n",
       "      <td>...</td>\n",
       "      <td>4</td>\n",
       "      <td>London</td>\n",
       "      <td>West Ham United</td>\n",
       "      <td>1633.0</td>\n",
       "      <td>West Ham United FC</td>\n",
       "      <td>club</td>\n",
       "      <td>England</td>\n",
       "      <td>0</td>\n",
       "      <td>XEN</td>\n",
       "      <td></td>\n",
       "    </tr>\n",
       "    <tr>\n",
       "      <th>2818</th>\n",
       "      <td>86</td>\n",
       "      <td>Angelo</td>\n",
       "      <td>Obinze Ogbonna</td>\n",
       "      <td>1633.0</td>\n",
       "      <td>1988-05-23</td>\n",
       "      <td>191</td>\n",
       "      <td>21100</td>\n",
       "      <td>left</td>\n",
       "      <td>A. Ogbonna</td>\n",
       "      <td>NaN</td>\n",
       "      <td>...</td>\n",
       "      <td>5</td>\n",
       "      <td>London</td>\n",
       "      <td>West Ham United</td>\n",
       "      <td>1633.0</td>\n",
       "      <td>West Ham United FC</td>\n",
       "      <td>club</td>\n",
       "      <td>England</td>\n",
       "      <td>0</td>\n",
       "      <td>XEN</td>\n",
       "      <td></td>\n",
       "    </tr>\n",
       "  </tbody>\n",
       "</table>\n",
       "<p>5 rows × 32 columns</p>\n",
       "</div>"
      ],
      "text/plain": [
       "      weight       firstName                      lastName  currentTeamId  \\\n",
       "654       83     \\u0141ukasz                Fabia\\u0144ski         1633.0   \n",
       "680       73          Javier  Hern\\u00e1ndez Balc\\u00e1zar         1633.0   \n",
       "2108      80  Carlos Alberto           S\\u00e1nchez Moreno         1633.0   \n",
       "2477      83           Marko               Arnautovi\\u0107         1633.0   \n",
       "2818      86          Angelo                Obinze Ogbonna         1633.0   \n",
       "\n",
       "      birthDate  height  wyId_x   foot               shortName  \\\n",
       "654  1985-04-18     190    7847  right  \\u0141. Fabia\\u0144ski   \n",
       "680  1988-06-01     175    7941  right       J. Hern\\u00e1ndez   \n",
       "2108 1986-02-06     182   26518  right         C. S\\u00e1nchez   \n",
       "2477 1989-04-19     192   14703  right      M. Arnautovi\\u0107   \n",
       "2818 1988-05-23     191   21100   left              A. Ogbonna   \n",
       "\n",
       "      currentNationalTeamId  ... birthMonth    city             name  wyId_y  \\\n",
       "654                 13869.0  ...          4  London  West Ham United  1633.0   \n",
       "680                 15473.0  ...          6  London  West Ham United  1633.0   \n",
       "2108                12430.0  ...          2  London  West Ham United  1633.0   \n",
       "2477                 9109.0  ...          4  London  West Ham United  1633.0   \n",
       "2818                    NaN  ...          5  London  West Ham United  1633.0   \n",
       "\n",
       "            officialName  type area_name area_id area_alpha3code  \\\n",
       "654   West Ham United FC  club   England       0             XEN   \n",
       "680   West Ham United FC  club   England       0             XEN   \n",
       "2108  West Ham United FC  club   England       0             XEN   \n",
       "2477  West Ham United FC  club   England       0             XEN   \n",
       "2818  West Ham United FC  club   England       0             XEN   \n",
       "\n",
       "     area_alpha2code  \n",
       "654                   \n",
       "680                   \n",
       "2108                  \n",
       "2477                  \n",
       "2818                  \n",
       "\n",
       "[5 rows x 32 columns]"
      ]
     },
     "execution_count": 335,
     "metadata": {},
     "output_type": "execute_result"
    }
   ],
   "source": [
    "players_teams[players_teams['officialName']=='West Ham United FC'].head()"
   ]
  },
  {
   "cell_type": "code",
   "execution_count": 333,
   "id": "3bfa90a3-8f60-46ae-b073-d991d7f33c0e",
   "metadata": {},
   "outputs": [
    {
     "data": {
      "text/html": [
       "<div>\n",
       "<style scoped>\n",
       "    .dataframe tbody tr th:only-of-type {\n",
       "        vertical-align: middle;\n",
       "    }\n",
       "\n",
       "    .dataframe tbody tr th {\n",
       "        vertical-align: top;\n",
       "    }\n",
       "\n",
       "    .dataframe thead th {\n",
       "        text-align: right;\n",
       "    }\n",
       "</style>\n",
       "<table border=\"1\" class=\"dataframe\">\n",
       "  <thead>\n",
       "    <tr style=\"text-align: right;\">\n",
       "      <th></th>\n",
       "      <th>weight</th>\n",
       "      <th>firstName</th>\n",
       "      <th>lastName</th>\n",
       "      <th>currentTeamId</th>\n",
       "      <th>birthDate</th>\n",
       "      <th>height</th>\n",
       "      <th>wyId_x</th>\n",
       "      <th>foot</th>\n",
       "      <th>shortName</th>\n",
       "      <th>currentNationalTeamId</th>\n",
       "      <th>...</th>\n",
       "      <th>birthMonth</th>\n",
       "      <th>city</th>\n",
       "      <th>name</th>\n",
       "      <th>wyId_y</th>\n",
       "      <th>officialName</th>\n",
       "      <th>type</th>\n",
       "      <th>area_name</th>\n",
       "      <th>area_id</th>\n",
       "      <th>area_alpha3code</th>\n",
       "      <th>area_alpha2code</th>\n",
       "    </tr>\n",
       "  </thead>\n",
       "  <tbody>\n",
       "    <tr>\n",
       "      <th>2810</th>\n",
       "      <td>83</td>\n",
       "      <td>Joe</td>\n",
       "      <td>Hart</td>\n",
       "      <td>1646.0</td>\n",
       "      <td>1987-04-19</td>\n",
       "      <td>194</td>\n",
       "      <td>8301</td>\n",
       "      <td>right</td>\n",
       "      <td>J. Hart</td>\n",
       "      <td>NaN</td>\n",
       "      <td>...</td>\n",
       "      <td>4</td>\n",
       "      <td>Burnley, Lancashire</td>\n",
       "      <td>Burnley</td>\n",
       "      <td>1646.0</td>\n",
       "      <td>Burnley FC</td>\n",
       "      <td>club</td>\n",
       "      <td>England</td>\n",
       "      <td>0</td>\n",
       "      <td>XEN</td>\n",
       "      <td></td>\n",
       "    </tr>\n",
       "  </tbody>\n",
       "</table>\n",
       "<p>1 rows × 32 columns</p>\n",
       "</div>"
      ],
      "text/plain": [
       "      weight firstName lastName  currentTeamId  birthDate  height  wyId_x  \\\n",
       "2810      83       Joe     Hart         1646.0 1987-04-19     194    8301   \n",
       "\n",
       "       foot shortName  currentNationalTeamId  ... birthMonth  \\\n",
       "2810  right   J. Hart                    NaN  ...          4   \n",
       "\n",
       "                     city     name  wyId_y officialName  type area_name  \\\n",
       "2810  Burnley, Lancashire  Burnley  1646.0   Burnley FC  club   England   \n",
       "\n",
       "     area_id area_alpha3code area_alpha2code  \n",
       "2810       0             XEN                  \n",
       "\n",
       "[1 rows x 32 columns]"
      ]
     },
     "execution_count": 333,
     "metadata": {},
     "output_type": "execute_result"
    }
   ],
   "source": [
    "players_teams[players_teams['lastName']=='Hart']"
   ]
  },
  {
   "cell_type": "markdown",
   "id": "4b3c8d52-3e1f-4577-ad59-94405fb37b0f",
   "metadata": {},
   "source": [
    "I investigated and it didnt make sense that Łukasz Fabiański is playing for West Ham and this season. And it didnt make sense that Joe Hart is playing for Burnley either. So it seems that the players that changed clubs in August of 2018 are set to that new club. This data must have been generated after the summer of 2018 and the player's clubs may be different to who they played with that season. \n",
    "\n",
    "I may need to be aware of this later and do some filtering. And actually the events_England dataset has games with both players and teams wyId, so i will be able to figure out what player played at what team during the time frame I am interested in.\n",
    "\n",
    "On further reflection and examining the data, the Teams data doesnt seem it will be useful at all for getting the player's club information. But I can get their national team information from it. And I guess i can also use it to see if their club team changed in the summer after the season I am examining. A player leaving the club in the future could possibly have an impact on the result of the game. Players can leave for various reasons, perhaps they are deemed not good enough for the team, but perhaps they are playing so well that other teams want to sign that player."
   ]
  },
  {
   "cell_type": "code",
   "execution_count": null,
   "id": "4324749c-301c-4b4f-a67e-df22a70e067e",
   "metadata": {},
   "outputs": [],
   "source": []
  }
 ],
 "metadata": {
  "kernelspec": {
   "display_name": "Python 3 (ipykernel)",
   "language": "python",
   "name": "python3"
  },
  "language_info": {
   "codemirror_mode": {
    "name": "ipython",
    "version": 3
   },
   "file_extension": ".py",
   "mimetype": "text/x-python",
   "name": "python",
   "nbconvert_exporter": "python",
   "pygments_lexer": "ipython3",
   "version": "3.10.12"
  }
 },
 "nbformat": 4,
 "nbformat_minor": 5
}
