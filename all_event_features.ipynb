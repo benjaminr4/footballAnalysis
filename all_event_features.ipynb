{
 "cells": [
  {
   "cell_type": "code",
   "execution_count": 1,
   "id": "3def6c28-cfd7-46ae-8efb-9f8b223d7431",
   "metadata": {},
   "outputs": [],
   "source": [
    "# Data handling and manipulation\n",
    "import numpy as np\n",
    "import pandas as pd\n",
    "\n",
    "# Visualization libraries\n",
    "import matplotlib.pyplot as plt\n",
    "import seaborn as sns\n",
    "import plotly.express as px\n",
    "\n",
    "# Statistical tools\n",
    "from scipy.stats import linregress, uniform, randint\n",
    "import scipy.stats as st\n",
    "\n",
    "# Scikit-learn libraries\n",
    "from sklearn.model_selection import train_test_split, GridSearchCV, RandomizedSearchCV\n",
    "from sklearn.preprocessing import LabelEncoder, StandardScaler\n",
    "from sklearn.ensemble import RandomForestClassifier\n",
    "from sklearn.metrics import accuracy_score, confusion_matrix, classification_report, recall_score, f1_score, make_scorer\n",
    "\n",
    "# XGBoost\n",
    "import xgboost as xgb\n",
    "\n",
    "import ast\n"
   ]
  },
  {
   "cell_type": "markdown",
   "id": "7ffae088-5777-4ff5-b485-512f7917fe6e",
   "metadata": {},
   "source": [
    "#### tags2name"
   ]
  },
  {
   "cell_type": "code",
   "execution_count": 2,
   "id": "29389a7a-aa00-46a3-99e7-5b98f82e7127",
   "metadata": {},
   "outputs": [],
   "source": [
    "tags2name = pd.read_csv('data/tags2name.csv')"
   ]
  },
  {
   "cell_type": "code",
   "execution_count": 3,
   "id": "e9a5f25e-0bf1-41f1-82cb-44d7c3d5953b",
   "metadata": {},
   "outputs": [],
   "source": [
    "\n",
    "def process_event_tags(events, tags2name):\n",
    "    \"\"\"\n",
    "    Processes the 'tagsList' column in the events DataFrame, extracts labels from the tags table, and merges them back into the original events table.\n",
    "    \n",
    "    Parameters:\n",
    "    events (pd.DataFrame): DataFrame with event data, containing a 'tagsList' column.\n",
    "    tags2name (pd.DataFrame): DataFrame mapping tag IDs to label names, with 'Tag' and 'Label' columns.\n",
    "    \n",
    "    Returns:\n",
    "    pd.DataFrame: The events DataFrame with an added 'Label' column.\n",
    "    \"\"\"\n",
    "    \n",
    "    # Getting the list values out of the string values in the tagList column\n",
    "    events['tagsList'] = events['tagsList'].apply(lambda x: ast.literal_eval(x) if isinstance(x, str) else x)\n",
    "\n",
    "    # Exploding the tagsList column to get individual labels\n",
    "    exploded_events = events.explode('tagsList')\n",
    "\n",
    "    # Casting to int because the column in the tags table is int\n",
    "    exploded_events['tagsList'] = exploded_events['tagsList'].astype('Int64')\n",
    "\n",
    "    # Keeping the original index to preserve information in the merge\n",
    "    exploded_events['origIndex'] = exploded_events.index\n",
    "\n",
    "    # Merging with the tags2name DataFrame to get the corresponding label for each tag\n",
    "    exploded_merged_events = exploded_events.merge(tags2name[['Tag', 'Label']], left_on='tagsList', right_on='Tag', how='left')\n",
    "\n",
    "    # Grouping by original index to prepare for the join back to the events table\n",
    "    exploded_merged_events = exploded_merged_events.groupby('origIndex').agg({\n",
    "        'Label': list\n",
    "    }).reset_index()\n",
    "\n",
    "    # Joining back onto the original events table\n",
    "    events = pd.concat([events, exploded_merged_events['Label']], axis=1)\n",
    "    \n",
    "    return events\n"
   ]
  },
  {
   "cell_type": "code",
   "execution_count": 4,
   "id": "2d53b55d-7152-4651-8aa9-f543859285de",
   "metadata": {},
   "outputs": [],
   "source": [
    "events_England = pd.read_csv('data/events_England.csv')\n",
    "events_England=process_event_tags(events_England, tags2name)"
   ]
  },
  {
   "cell_type": "code",
   "execution_count": null,
   "id": "f6a398b6-d443-4bbe-8765-3b7672ffb6e5",
   "metadata": {},
   "outputs": [],
   "source": [
    "events_Spain = pd.read_csv('data/events_Spain.csv')\n",
    "events_Spain=process_event_tags(events_Spain, tags2name)"
   ]
  },
  {
   "cell_type": "code",
   "execution_count": null,
   "id": "2e596302-4246-4a73-808f-fe8886397b53",
   "metadata": {},
   "outputs": [],
   "source": [
    "events_France = pd.read_csv('data/events_France.csv')\n",
    "events_France=process_event_tags(events_France, tags2name)"
   ]
  },
  {
   "cell_type": "code",
   "execution_count": null,
   "id": "d8920cf2-0cca-4666-8636-85c2bc9cebb1",
   "metadata": {},
   "outputs": [],
   "source": [
    "events_Italy = pd.read_csv('data/events_Italy.csv')\n",
    "events_Italy=process_event_tags(events_Italy, tags2name)"
   ]
  },
  {
   "cell_type": "code",
   "execution_count": null,
   "id": "2ed98346-c008-473f-b2e9-a30be0c8b1e7",
   "metadata": {},
   "outputs": [],
   "source": [
    "events_Germany = pd.read_csv('data/events_Germany.csv')\n",
    "events_Germany=process_event_tags(events_Germany, tags2name)"
   ]
  },
  {
   "cell_type": "markdown",
   "id": "b75b9674-7997-4f8c-97df-74c03cb6c3cc",
   "metadata": {},
   "source": [
    "### Events table"
   ]
  },
  {
   "cell_type": "code",
   "execution_count": null,
   "id": "2ad74e1e-284c-4cc5-b9c7-ee53daaa1ad8",
   "metadata": {},
   "outputs": [],
   "source": [
    "events=pd.concat((events_England,events_Spain,events_France,events_Italy,events_Germany), axis=0)"
   ]
  },
  {
   "cell_type": "code",
   "execution_count": null,
   "id": "86bd554a-9de0-478e-ae62-9277c1e24cf7",
   "metadata": {},
   "outputs": [],
   "source": [
    "import gc\n",
    "\n",
    "# Deleting the DataFrame\n",
    "del events_England,events_Spain,events_France,events_Italy,events_Germany\n",
    "\n",
    "# Calling garbage collection to release memory\n",
    "gc.collect()"
   ]
  },
  {
   "cell_type": "markdown",
   "id": "6d6cb2d9-0028-4c98-9ee8-66ca21726983",
   "metadata": {},
   "source": [
    "## About this file\n",
    "\n",
    "This dataset describes all the events that occur during each match. Each event refers to a ball touch and contains the following information:\n",
    "\n",
    "- **eventId**: the identifier of the event's type. Each eventId is associated with an event name.\n",
    "- **eventName**: the name of the event's type (pass, foul, shot, duel, free kick, offside, or touch).\n",
    "- **subEventId**: the identifier of the subevent's type.\n",
    "- **subEventName**: the name of the subevent's type, associated with different event types.\n",
    "- **tags**: a list of event tags providing additional information about the event (e.g., accurate).\n",
    "- **eventSec**: the time the event occurs (in seconds since the beginning of the current half).\n",
    "- **id**: a unique identifier of the event.\n",
    "- **matchId**: the identifier of the match, linked to \"wyId\" in the match dataset.\n",
    "- **matchPeriod**: the period of the match (\"1H\", \"2H\", \"E1\", \"E2\", or \"P\").\n",
    "- **playerId**: the identifier of the player who generated the event, linked to \"wyId\" in a player dataset.\n",
    "- **positions**: positions: the origin and destination positions associated with the event. Each position is a pair of coordinates (x, y). The x and y coordinates are always in the range [0, 100] and indicate the percentage of the field from the perspective of the attacking team. In particular, the value of the x coordinate indicates the event's nearness (in percentage) to the opponent's goal, while the value of the y coordinates indicates the event's nearness (in percentage) to the right side of the field;\n",
    "- **teamId**: the identifier of the player's team, linked to \"wyId\" in the team dataset.\n",
    "- **tagsList**: same information as the tags column, except in list format.\n",
    "- **pos_orig_x**: from the positions column, origin in x-axis. (higher x means closer to opposition goal)\n",
    "- **pos_orig_y**: from the positions column, origin in y-axis.\n",
    "- **pos_dest_x**: from the positions column, destination in x-axis.\n",
    "- **pos_dest_y**: from the positions column, destination in y-axis.\n"
   ]
  },
  {
   "cell_type": "code",
   "execution_count": null,
   "id": "d735c1cf-9afc-4afe-8e44-bc2455461ddd",
   "metadata": {},
   "outputs": [],
   "source": [
    "events.drop(['tags', 'eventId', 'subEventId'], axis=1, inplace=True)"
   ]
  },
  {
   "cell_type": "code",
   "execution_count": null,
   "id": "77e9fcff-4520-4fb5-aeb2-098bd98d9f37",
   "metadata": {},
   "outputs": [],
   "source": [
    "#positional data isnt that reliable\n",
    "events.drop(['positions', 'pos_orig_x', 'pos_orig_y', 'pos_dest_x', 'pos_dest_y'], axis=1, inplace=True)"
   ]
  },
  {
   "cell_type": "code",
   "execution_count": null,
   "id": "91ca4119-c6d2-4fa3-b1c2-f77e283125b7",
   "metadata": {},
   "outputs": [],
   "source": [
    "events.drop(['tagsList'], axis=1, inplace=True)"
   ]
  },
  {
   "cell_type": "markdown",
   "id": "21139ec6-6300-425b-9711-73075cb088c2",
   "metadata": {},
   "source": [
    "Adding team and player and match mappings so i can spot check things against the actual event as I go along"
   ]
  },
  {
   "cell_type": "code",
   "execution_count": null,
   "id": "06b3ded8-5ce7-4fdf-9b7d-df41619ca60e",
   "metadata": {},
   "outputs": [],
   "source": [
    "teams=pd.read_csv('data/teams.csv')\n",
    "team_mapping=teams.set_index('wyId')['name'].to_dict()"
   ]
  },
  {
   "cell_type": "code",
   "execution_count": null,
   "id": "e4fb7463-d9ec-4530-b407-9ac7fc4290a7",
   "metadata": {},
   "outputs": [],
   "source": [
    "events['teamId']=events['teamId'].map(team_mapping)\n",
    "events.rename(columns={'teamId': 'teamName'}, inplace=True)"
   ]
  },
  {
   "cell_type": "code",
   "execution_count": null,
   "id": "f8b2623b-8f17-4968-ade6-6fc5f70e5f8d",
   "metadata": {},
   "outputs": [],
   "source": [
    "events.head()"
   ]
  },
  {
   "cell_type": "markdown",
   "id": "c3d0a3e6-8a10-4269-ad32-ba2609f87173",
   "metadata": {},
   "source": [
    "Some features I can generate:\n",
    "\n",
    "**Passes**\n",
    "- Number of passes\n",
    "- Successful pass rate\n",
    "- Number of Launches\n",
    "- Maybe I will do Pass type (Simple pass -v- High pass -v- Smart pass) \n",
    "  \n",
    "**Shots**\n",
    "- Number of Shots\n",
    "- Shots on target rate (accurate v not accurate)\n",
    "  \n",
    "**Saves**\n",
    "- Save attempts (accurate v not accurate) ... although this will be captured in the goalkeepers' player rating. So i might omit this.\n",
    "\n",
    "**Goals**\n",
    "- I think it could be interesting to get the number of late goals (say 75+ minutes) a team scores or concedes. Because that is often when a good team breaks through, or a lesser team cracks.\n"
   ]
  },
  {
   "cell_type": "markdown",
   "id": "91c42988-384e-4229-b5df-88b54e7e968c",
   "metadata": {},
   "source": [
    "So I will ignore Saves for now. I will filter events only on passes and shots."
   ]
  },
  {
   "cell_type": "markdown",
   "id": "1e190e03-cd60-4b28-a53e-1e497d8577ca",
   "metadata": {},
   "source": [
    "But actually from earlier I discovered (my feature_planning worksheet) the \"Save attempt\" column was most reliable way to track the goals. There was one discrepency with the actual scores I found. For the the West ham v watford match (2499988) it seems to think it was 3-0 instead of 2-0. But that is the only discrepency."
   ]
  },
  {
   "cell_type": "markdown",
   "id": "717ba171-1b88-4a1c-a8f2-492bdcb5b08a",
   "metadata": {},
   "source": [
    "I will filter events only on passes and shots and save attempts."
   ]
  },
  {
   "cell_type": "code",
   "execution_count": null,
   "id": "9ffb28d8-e861-47cb-aa7b-4a43abf7926d",
   "metadata": {},
   "outputs": [],
   "source": [
    "events=events[events['eventName'].isin(['Pass','Shot', 'Save attempt'])]"
   ]
  },
  {
   "cell_type": "code",
   "execution_count": null,
   "id": "b5f11f5a-9d2e-48e9-b68e-f498bda3f3ed",
   "metadata": {},
   "outputs": [],
   "source": []
  },
  {
   "cell_type": "markdown",
   "id": "a77a09c4-105b-46c7-b824-a94e038b8c46",
   "metadata": {},
   "source": [
    "So I will create 3 new columns from the Label column. `Accurate` `Inaccurate` `Goal`"
   ]
  },
  {
   "cell_type": "code",
   "execution_count": null,
   "id": "fcbd0cad-7ba8-4500-ba2b-b5893f522b8c",
   "metadata": {},
   "outputs": [],
   "source": [
    "events=events.copy()"
   ]
  },
  {
   "cell_type": "code",
   "execution_count": null,
   "id": "0c979189-1383-41a3-a7ec-61b59364fe26",
   "metadata": {},
   "outputs": [],
   "source": [
    "events.loc[:,'accurate']=events['Label'].apply(lambda x: 1 if 'accurate' in x else 0)"
   ]
  },
  {
   "cell_type": "code",
   "execution_count": null,
   "id": "4bd31cbb-69e4-4a20-b84f-1526aead5bb6",
   "metadata": {},
   "outputs": [],
   "source": [
    "events.loc[:,'inaccurate']=events['Label'].apply(lambda x: 1 if 'not accurate' in x else 0)"
   ]
  },
  {
   "cell_type": "code",
   "execution_count": null,
   "id": "8991baba-3f72-4312-b08c-ab4060fdc1f4",
   "metadata": {},
   "outputs": [],
   "source": [
    "events.loc[:,'goal']=events['Label'].apply(lambda x: 1 if 'Goal' in x else 0)"
   ]
  },
  {
   "cell_type": "code",
   "execution_count": null,
   "id": "3821e0a0-4e1f-491f-8e50-ffe3e4dcf706",
   "metadata": {},
   "outputs": [],
   "source": [
    "events[['accurate','inaccurate']].value_counts()"
   ]
  },
  {
   "cell_type": "markdown",
   "id": "a60a25d1-873a-4d03-9d4c-9e24f312df5c",
   "metadata": {},
   "source": [
    "Perfect, everything is either accurate or inaccurate. So I can just drop inaccurate."
   ]
  },
  {
   "cell_type": "code",
   "execution_count": null,
   "id": "7eb3e744-7552-4201-9f50-0a1e3b59b171",
   "metadata": {},
   "outputs": [],
   "source": [
    "events.drop('inaccurate', axis=1, inplace=True)"
   ]
  },
  {
   "cell_type": "markdown",
   "id": "6e7418fb-9646-45ab-af92-7dbcd3dfd63d",
   "metadata": {},
   "source": [
    "finding and removing the errant goal row."
   ]
  },
  {
   "cell_type": "code",
   "execution_count": null,
   "id": "9fadff71-00a1-4481-b454-10e8b9b0eae9",
   "metadata": {},
   "outputs": [],
   "source": [
    "events[(events['goal']==1) &\n",
    " (events['eventName']=='Save attempt') &\n",
    " (events['matchId']==2499988)\n",
    "  ]\n",
    "  "
   ]
  },
  {
   "cell_type": "markdown",
   "id": "9a822c62-3276-404b-b953-b99036f9c8a3",
   "metadata": {},
   "source": [
    "I can see from researching the game that the event associated with 227348124 didnt end in a recorded goal. The one less than a minute later (227348650) did. So I will just delete this row."
   ]
  },
  {
   "cell_type": "code",
   "execution_count": null,
   "id": "35a0e1ef-9aeb-4518-9361-1857448be064",
   "metadata": {},
   "outputs": [],
   "source": [
    "events=events[events['id']!=227348124]"
   ]
  },
  {
   "cell_type": "code",
   "execution_count": null,
   "id": "28f033d8-5da2-4ca9-b7ff-540e1d358b53",
   "metadata": {},
   "outputs": [],
   "source": [
    "events.drop(columns=['id'],inplace=True)"
   ]
  },
  {
   "cell_type": "markdown",
   "id": "798d1b41-9167-4a2f-ba7e-256c440f271e",
   "metadata": {},
   "source": [
    "#### Launches"
   ]
  },
  {
   "cell_type": "code",
   "execution_count": null,
   "id": "98beebdf-72f2-4fc4-b1a2-568b9f58d35d",
   "metadata": {},
   "outputs": [],
   "source": [
    "events['Launch']=(events['subEventName']=='Launch').astype(int)"
   ]
  },
  {
   "cell_type": "markdown",
   "id": "53f6bd5e-c80f-451d-af4e-31dbc929b212",
   "metadata": {},
   "source": [
    "Checking that my stats look good"
   ]
  },
  {
   "cell_type": "markdown",
   "id": "6e638056-1a9d-47cf-9746-bc17a699a7ed",
   "metadata": {},
   "source": [
    "#### Passes"
   ]
  },
  {
   "cell_type": "code",
   "execution_count": null,
   "id": "c742583c-c82b-406f-904d-74148b1187b0",
   "metadata": {},
   "outputs": [],
   "source": [
    "#I can see this nicely illustrates possession based teams\n",
    "events[(events['eventName']=='Pass')]['teamName'].value_counts().reset_index()"
   ]
  },
  {
   "cell_type": "markdown",
   "id": "7361cffe-c73c-442c-99a0-8882d6f74dfa",
   "metadata": {},
   "source": [
    "#### Pass Completion Rate"
   ]
  },
  {
   "cell_type": "code",
   "execution_count": null,
   "id": "aff835d3-a2f6-4399-9376-548050ee7700",
   "metadata": {},
   "outputs": [],
   "source": [
    "#I can see this nicely illustrates possession based teams\n",
    "events[events['eventName'] == 'Pass'] \\\n",
    "    .groupby('teamName')['accurate'] \\\n",
    "    .agg(lambda x: (x == 1).sum() / len(x)) \\\n",
    "    .reset_index(name='accurate_pass_ratio') \\\n",
    "    .sort_values(by='accurate_pass_ratio', ascending=False)"
   ]
  },
  {
   "cell_type": "code",
   "execution_count": null,
   "id": "59abe4cf-ac0c-45df-98d6-e381a4e0bc45",
   "metadata": {},
   "outputs": [],
   "source": [
    "pass_count = events[events['eventName'] == 'Pass'] \\\n",
    "    .groupby('teamName') \\\n",
    "    .size() \\\n",
    "    .reset_index(name='pass_count')\n",
    "\n",
    "\n",
    "# Accurate pass ratio as calculated\n",
    "accurate_pass_ratio = events[events['eventName'] == 'Pass'] \\\n",
    "    .groupby('teamName')['accurate'] \\\n",
    "    .agg(lambda x: (x == 1).sum() / len(x)) \\\n",
    "    .reset_index(name='accurate_pass_ratio')\n",
    "\n",
    "# Merge pass_count with accurate_pass_ratio on 'teamName'\n",
    "team_pass_data = pd.merge(accurate_pass_ratio, pass_count, on='teamName')\n",
    "\n",
    "\n",
    "\n",
    "correlation = team_pass_data[['pass_count', 'accurate_pass_ratio']].corr()\n",
    "print(correlation)\n"
   ]
  },
  {
   "cell_type": "code",
   "execution_count": null,
   "id": "c4b1cbe6-08e0-43ef-b871-b971cbda06d0",
   "metadata": {},
   "outputs": [],
   "source": [
    "#They seem very highly related, so I might not include both."
   ]
  },
  {
   "cell_type": "code",
   "execution_count": null,
   "id": "c5343ab6-c4f5-4197-ab52-61ef1d1978ee",
   "metadata": {},
   "outputs": [],
   "source": [
    "pass_count = events[events['eventName'] == 'Pass'] \\\n",
    "    .groupby(['teamName','matchId']) \\\n",
    "    .size() \\\n",
    "    .reset_index(name='pass_count')\n",
    "\n",
    "\n",
    "# Accurate pass ratio as calculated\n",
    "accurate_pass_ratio = events[events['eventName'] == 'Pass'] \\\n",
    "    .groupby(['teamName','matchId'])['accurate'] \\\n",
    "    .agg(lambda x: (x == 1).sum() / len(x)) \\\n",
    "    .reset_index(name='accurate_pass_ratio')\n",
    "\n",
    "# Merge pass_count with accurate_pass_ratio on 'teamName'\n",
    "team_pass_data = pd.merge(accurate_pass_ratio, pass_count, on=['teamName','matchId'])\n",
    "\n",
    "\n",
    "\n",
    "correlation = team_pass_data[['pass_count', 'accurate_pass_ratio']].corr()\n",
    "print(correlation)\n"
   ]
  },
  {
   "cell_type": "markdown",
   "id": "fc591513-faed-4b6b-af39-65e868ee8728",
   "metadata": {},
   "source": [
    "They are less correlated when I group by teamName and match though. "
   ]
  },
  {
   "cell_type": "markdown",
   "id": "714e5a03-a327-4cc9-a95d-18b16ea1a4d8",
   "metadata": {},
   "source": [
    "#### Launches"
   ]
  },
  {
   "cell_type": "code",
   "execution_count": null,
   "id": "62b55971-d70a-4bcf-bfc2-15765575dede",
   "metadata": {},
   "outputs": [],
   "source": [
    "#I can see this nicely illustrates non-possession or defensive teams \n",
    "events[(events['subEventName']=='Launch')]['teamName'].value_counts().reset_index()"
   ]
  },
  {
   "cell_type": "markdown",
   "id": "20b2ad22-d160-4f4a-847f-d671863ba701",
   "metadata": {},
   "source": [
    "#### Shots"
   ]
  },
  {
   "cell_type": "code",
   "execution_count": null,
   "id": "47c70dec-602b-43ab-8355-0295e27186f4",
   "metadata": {},
   "outputs": [],
   "source": [
    "#I can see this nicely illustrates attacking teams\n",
    "events[(events['eventName']=='Shot')]['teamName'].value_counts().reset_index()"
   ]
  },
  {
   "cell_type": "markdown",
   "id": "a6ed9c54-56fe-4616-9670-5bda0a6333ff",
   "metadata": {},
   "source": [
    "#### Shots on target ratio"
   ]
  },
  {
   "cell_type": "code",
   "execution_count": null,
   "id": "bce8b9df-40b7-46cd-b230-488b3ca2fbd7",
   "metadata": {},
   "outputs": [],
   "source": [
    "#I can see this nicely illustrates possession based teams\n",
    "events[events['eventName'] == 'Shot'] \\\n",
    "    .groupby('teamName')['accurate'] \\\n",
    "    .agg(lambda x: (x == 1).sum() / len(x)) \\\n",
    "    .reset_index(name='shots_on_target') \\\n",
    "    .sort_values(by='shots_on_target', ascending=False)"
   ]
  },
  {
   "cell_type": "markdown",
   "id": "05ff03b3-f6ef-41ac-a83c-7aa979289903",
   "metadata": {},
   "source": [
    "Total shots to shots on target are not as highly correlated as id expect"
   ]
  },
  {
   "cell_type": "code",
   "execution_count": null,
   "id": "25d06f95-05d0-4c46-96c2-d4771b41d8cc",
   "metadata": {},
   "outputs": [],
   "source": [
    "# Total shots per team\n",
    "total_shots = events[events['eventName'] == 'Shot']['teamName'] \\\n",
    "    .value_counts() \\\n",
    "    .reset_index(name='total_shots') \\\n",
    "    .rename(columns={'index': 'teamName'})\n",
    "\n",
    "# Shots on target ratio per team\n",
    "shots_on_target_ratio = events[events['eventName'] == 'Shot'] \\\n",
    "    .groupby('teamName')['accurate'] \\\n",
    "    .agg(lambda x: (x == 1).sum() / len(x)) \\\n",
    "    .reset_index(name='shots_on_target_ratio')\n",
    "\n",
    "# Merge the two metrics\n",
    "team_shot_data = pd.merge(total_shots, shots_on_target_ratio, on='teamName')\n",
    "\n",
    "# Calculate correlation\n",
    "correlation = team_shot_data[['total_shots', 'shots_on_target_ratio']].corr()\n",
    "print(correlation)\n"
   ]
  },
  {
   "cell_type": "markdown",
   "id": "9b370f23-446e-464d-a435-df8f85a97108",
   "metadata": {},
   "source": [
    "#### Now I want to get all the goals conceded per team after the 75th minute"
   ]
  },
  {
   "cell_type": "code",
   "execution_count": null,
   "id": "9f6f40bc-5d88-45f7-b210-7e6cd21a2d43",
   "metadata": {},
   "outputs": [],
   "source": [
    "events['concedeLate']=((events['goal']==1) & \n",
    "(events['matchPeriod']=='2H') & \n",
    "(events['eventName']=='Save attempt')  & \n",
    "(events['eventSec']>1800)).astype(int)"
   ]
  },
  {
   "cell_type": "code",
   "execution_count": null,
   "id": "b148c5f0-0607-44e4-9dc6-da6747726a3b",
   "metadata": {},
   "outputs": [],
   "source": [
    "#I think this nicely shows the strength of teams too. I will just need to some manipulation after joining to the matches table to get the teams that are scoring these late goals\n",
    "\n",
    "events[(events['concedeLate']==1)]['teamName'].value_counts().reset_index()"
   ]
  },
  {
   "cell_type": "markdown",
   "id": "5d85b1f6-eff8-42e0-a94b-f544a5a88268",
   "metadata": {},
   "source": [
    "### Gathering all these stats on a game level before joining to matches"
   ]
  },
  {
   "cell_type": "code",
   "execution_count": null,
   "id": "1a4343e2-ed7e-4eec-9dd3-aa16956f1473",
   "metadata": {},
   "outputs": [],
   "source": [
    "\n",
    "\n",
    "# 1. Calculate Pass Count per team and match\n",
    "pass_count = (\n",
    "    events[events['eventName'] == 'Pass']\n",
    "    .groupby(['teamName', 'matchId'])\n",
    "    .size()\n",
    "    .reset_index(name='pass_count')\n",
    ")\n",
    "\n",
    "# 2. Calculate Accurate Pass Ratio per team and match\n",
    "accurate_pass_ratio = (\n",
    "    events[events['eventName'] == 'Pass']\n",
    "    .groupby(['teamName', 'matchId'])['accurate']\n",
    "    .agg(lambda x: (x == 1).sum() / len(x))\n",
    "    .reset_index(name='accurate_pass_ratio')\n",
    ")\n",
    "\n",
    "# 3. Calculate Launch Count per team and match\n",
    "launch_count = (\n",
    "    events[events['subEventName'] == 'Launch']\n",
    "    .groupby(['teamName', 'matchId'])\n",
    "    .size()\n",
    "    .reset_index(name='launch_count')\n",
    ")\n",
    "\n",
    "# 4. Calculate Shot Count per team and match\n",
    "shot_count = (\n",
    "    events[events['eventName'] == 'Shot']\n",
    "    .groupby(['teamName', 'matchId'])\n",
    "    .size()\n",
    "    .reset_index(name='shot_count')\n",
    ")\n",
    "\n",
    "# 5. Calculate Shots on Target Ratio per team and match\n",
    "shots_on_target_ratio = (\n",
    "    events[events['eventName'] == 'Shot']\n",
    "    .groupby(['teamName', 'matchId'])['accurate']\n",
    "    .agg(lambda x: (x == 1).sum() / len(x))\n",
    "    .reset_index(name='shots_on_target_ratio')\n",
    ")\n",
    "\n",
    "# 6. Calculate Late Concede Count per team and match\n",
    "concede_late_count = (\n",
    "    events[events['concedeLate'] == 1]\n",
    "    .groupby(['teamName', 'matchId'])\n",
    "    .size()\n",
    "    .reset_index(name='concede_late_count')\n",
    ")\n",
    "\n",
    "# Merging all DataFrames into one\n",
    "team_match_stats = (\n",
    "    pass_count\n",
    "    .merge(accurate_pass_ratio, on=['teamName', 'matchId'], how='outer')\n",
    "    .merge(launch_count, on=['teamName', 'matchId'], how='outer')\n",
    "    .merge(shot_count, on=['teamName', 'matchId'], how='outer')\n",
    "    .merge(shots_on_target_ratio, on=['teamName', 'matchId'], how='outer')\n",
    "    .merge(concede_late_count, on=['teamName', 'matchId'], how='outer')\n",
    ")\n",
    "\n",
    "# Filling any NaN values with 0 for cases where a team may have no entries for a stat\n",
    "team_match_stats = team_match_stats.fillna(0)\n"
   ]
  },
  {
   "cell_type": "markdown",
   "id": "10a46c41-3303-4475-90dc-efb3d866592a",
   "metadata": {},
   "source": [
    "#three teams had no shots in an entire game that season."
   ]
  },
  {
   "cell_type": "code",
   "execution_count": null,
   "id": "f5c52b40-9dab-416c-ba4b-1b0ad90b652c",
   "metadata": {},
   "outputs": [],
   "source": [
    "team_match_stats[team_match_stats['shot_count']==0]"
   ]
  },
  {
   "cell_type": "markdown",
   "id": "d9c55e18-e4be-465c-b9cb-11e4b7895d0e",
   "metadata": {},
   "source": [
    " 11 teams collapsed and conceded 3 late goals in a match"
   ]
  },
  {
   "cell_type": "code",
   "execution_count": null,
   "id": "2e4e17c9-bacc-4105-89ea-6361d97fa285",
   "metadata": {},
   "outputs": [],
   "source": [
    "team_match_stats[team_match_stats['concede_late_count'] == team_match_stats['concede_late_count'].max()]"
   ]
  },
  {
   "cell_type": "code",
   "execution_count": null,
   "id": "6f909b41-8a89-4775-b370-b14607cfcbee",
   "metadata": {},
   "outputs": [],
   "source": [
    "team_match_stats.head()"
   ]
  },
  {
   "cell_type": "code",
   "execution_count": null,
   "id": "49a746c0-e3b5-4f43-8604-42cc1e34d193",
   "metadata": {},
   "outputs": [],
   "source": [
    "team_match_stats.to_csv('data/team_match_stats.csv', index=False)"
   ]
  },
  {
   "cell_type": "code",
   "execution_count": null,
   "id": "9a9ee7f5-6379-4bf0-9c6c-f6e1602562ec",
   "metadata": {},
   "outputs": [],
   "source": [
    "team_match_stats"
   ]
  },
  {
   "cell_type": "code",
   "execution_count": null,
   "id": "b6e7d6eb-8524-4d66-9cb6-9603c7f2727d",
   "metadata": {},
   "outputs": [],
   "source": []
  }
 ],
 "metadata": {
  "kernelspec": {
   "display_name": "Python 3 (ipykernel)",
   "language": "python",
   "name": "python3"
  },
  "language_info": {
   "codemirror_mode": {
    "name": "ipython",
    "version": 3
   },
   "file_extension": ".py",
   "mimetype": "text/x-python",
   "name": "python",
   "nbconvert_exporter": "python",
   "pygments_lexer": "ipython3",
   "version": "3.10.12"
  }
 },
 "nbformat": 4,
 "nbformat_minor": 5
}
